{
 "cells": [
  {
   "cell_type": "markdown",
   "source": "# Intro",
   "metadata": {
    "tags": [],
    "is_collapsed": false,
    "cell_id": "00000-0ada8376-f20a-4b36-abdf-0e38b1567f66",
    "deepnote_cell_type": "text-cell-h1"
   }
  },
  {
   "cell_type": "markdown",
   "source": "We are Shahar(19) and Ron(18), computer science students nearing the end of our degrees. We are both passionate about chess and are interested in the world of data science, and so we decided to combine the two in this project -  building a chess engine and analyzing chess games and players.",
   "metadata": {
    "tags": [],
    "is_collapsed": false,
    "cell_id": "00001-5c35f68c-5ef9-47c5-b127-e90acbbc602d",
    "deepnote_cell_type": "text-cell-p"
   }
  },
  {
   "cell_type": "markdown",
   "source": "# EDA",
   "metadata": {
    "tags": [],
    "is_collapsed": false,
    "cell_id": "00002-aba8271e-dfd6-437a-bf8f-fbc809d0e5a9",
    "deepnote_cell_type": "text-cell-h1"
   }
  },
  {
   "cell_type": "markdown",
   "source": "## Analysis of chess games",
   "metadata": {
    "tags": [],
    "is_collapsed": false,
    "cell_id": "00003-c6bc7be8-efd6-4095-a5ed-0d2b6849f5d3",
    "deepnote_cell_type": "text-cell-h2"
   }
  },
  {
   "cell_type": "markdown",
   "source": "In this part, we will analyze a database of chess games from Kaggle. The database holds 6.2 million chess games, and has 15 fields, which are:",
   "metadata": {
    "tags": [],
    "is_collapsed": false,
    "cell_id": "00003-5561e171-6b28-4148-860d-e0ff1ccb187e",
    "deepnote_cell_type": "text-cell-p"
   }
  },
  {
   "cell_type": "markdown",
   "source": "- Event: game type.",
   "metadata": {
    "tags": [],
    "is_collapsed": false,
    "cell_id": "00004-86b8a038-57b6-4126-bb26-bb039a5194ba",
    "deepnote_cell_type": "text-cell-p"
   }
  },
  {
   "cell_type": "markdown",
   "source": "- White: white's ID.",
   "metadata": {
    "tags": [],
    "is_collapsed": false,
    "cell_id": "00005-8e07184e-686d-4009-9678-d27a433e78a1",
    "deepnote_cell_type": "text-cell-p"
   }
  },
  {
   "cell_type": "markdown",
   "source": "- Black: black's ID.",
   "metadata": {
    "tags": [],
    "is_collapsed": false,
    "cell_id": "00006-e17c67e2-2a6e-4802-bd0f-405b08a9d259",
    "deepnote_cell_type": "text-cell-p"
   }
  },
  {
   "cell_type": "markdown",
   "source": "- Result: game result (1-0 white wins, 0-1 black wins, 1/2-1/2 draw or abandoned)",
   "metadata": {
    "tags": [],
    "is_collapsed": false,
    "cell_id": "00007-4de04675-1e85-455d-9352-7b3be5e732d9",
    "deepnote_cell_type": "text-cell-p"
   }
  },
  {
   "cell_type": "markdown",
   "source": "- UTCDate: UTC date.",
   "metadata": {
    "tags": [],
    "is_collapsed": false,
    "cell_id": "00008-c208d19a-8787-431a-9c87-ec2ebd1d4441",
    "deepnote_cell_type": "text-cell-p"
   }
  },
  {
   "cell_type": "markdown",
   "source": "- UTCTime: time in UTC.",
   "metadata": {
    "tags": [],
    "is_collapsed": false,
    "cell_id": "00009-0f722aaf-7279-4b7b-832e-da3b353354fe",
    "deepnote_cell_type": "text-cell-p"
   }
  },
  {
   "cell_type": "markdown",
   "source": "- White ELO: ELO rating of white.",
   "metadata": {
    "tags": [],
    "is_collapsed": false,
    "cell_id": "00010-d57e08a9-2433-4fe6-ba64-8146b841b31e",
    "deepnote_cell_type": "text-cell-p"
   }
  },
  {
   "cell_type": "markdown",
   "source": "- Black ELO: ELO rating of black.",
   "metadata": {
    "tags": [],
    "is_collapsed": false,
    "cell_id": "00011-5b651862-6360-4b02-adc5-667ecce3d38a",
    "deepnote_cell_type": "text-cell-p"
   }
  },
  {
   "cell_type": "markdown",
   "source": "- WhiteRatingDiff: white's rating points difference after the game.",
   "metadata": {
    "tags": [],
    "is_collapsed": false,
    "cell_id": "00012-fb137024-2708-40db-b9be-742d186d46be",
    "deepnote_cell_type": "text-cell-p"
   }
  },
  {
   "cell_type": "markdown",
   "source": "- BlackRatingDiff: black's rating points difference after the game.",
   "metadata": {
    "tags": [],
    "is_collapsed": false,
    "cell_id": "00013-216e40b0-fea3-4b31-8cee-403ed9d3a27e",
    "deepnote_cell_type": "text-cell-p"
   }
  },
  {
   "cell_type": "markdown",
   "source": "- ECO: the opening in ECO encoding.",
   "metadata": {
    "tags": [],
    "is_collapsed": false,
    "cell_id": "00014-ad338c20-d227-4e14-9166-6fe9643f69c8",
    "deepnote_cell_type": "text-cell-p"
   }
  },
  {
   "cell_type": "markdown",
   "source": "- Opening: opening name.",
   "metadata": {
    "tags": [],
    "is_collapsed": false,
    "cell_id": "00015-bed85806-afdc-4c12-99e5-da4eebbc130d",
    "deepnote_cell_type": "text-cell-p"
   }
  },
  {
   "cell_type": "markdown",
   "source": "- TimeControl: time of the game for each player in seconds. The number after the increment is the number of seconds before the player's cock starts ticking in each turn.",
   "metadata": {
    "tags": [],
    "is_collapsed": false,
    "cell_id": "00016-e14615d9-3842-498b-b75a-f2432e51b8ac",
    "deepnote_cell_type": "text-cell-p"
   }
  },
  {
   "cell_type": "markdown",
   "source": "- Termination: reason for the game's end.",
   "metadata": {
    "tags": [],
    "is_collapsed": false,
    "cell_id": "00017-29719ac9-959c-46c1-af94-e2fad779d40b",
    "deepnote_cell_type": "text-cell-p"
   }
  },
  {
   "cell_type": "markdown",
   "source": "- AN: movements in Movetext format.",
   "metadata": {
    "tags": [],
    "is_collapsed": false,
    "cell_id": "00018-bd6085a1-78d5-421d-b2fa-84239cbb1945",
    "deepnote_cell_type": "text-cell-p"
   }
  },
  {
   "cell_type": "markdown",
   "source": "Before we dive into analyzing the data, first we must pre-process it. For accurate analysis we need to ensure that moves made by the players are as good as possible. As such, we'll only analyze games held in standard format, as other formats such as blitz or bullet give players less time to think about moves, and the probability for a mistake or a blunder is higher. After removing those games we are left with ~1.5 million standard chess games. We should also get rid of fields that give no important information about the games, such as the event type (as all games are now standard), the time &amp; date, the players' ID's, the rating differences for each player, and the time control (again, as all games are standard). After browsing the data, we noticed that some games have a result value of \"abandoned\", we decided to remove those games as there is no result value, so it will hurt our analysis.",
   "metadata": {
    "tags": [],
    "is_collapsed": false,
    "cell_id": "00019-eb742752-5a75-43b8-8797-86f4ad09d8b2",
    "deepnote_cell_type": "text-cell-p"
   }
  },
  {
   "cell_type": "code",
   "metadata": {
    "tags": [],
    "deepnote_variable_name": "df_1",
    "sql_integration_id": "deepnote-dataframe-sql",
    "cell_id": "00020-f960b3be-6898-4e2a-b7ab-e47671d49f39",
    "deepnote_to_be_reexecuted": false,
    "source_hash": "73c643f2",
    "execution_start": 1636496123212,
    "execution_millis": 25212,
    "deepnote_sql_source": "SELECT *\nFROM 'filtered_games.csv'",
    "deepnote_cell_type": "sql"
   },
   "source": "\n\ndf_1 = _deepnote_execute_sql(\"\"\"SELECT *\nFROM 'filtered_games.csv'\n\"\"\", 'SQL_DEEPNOTE_DATAFRAME_SQL')\ndf_1",
   "execution_count": null,
   "outputs": [
    {
     "output_type": "execute_result",
     "execution_count": 1,
     "data": {
      "application/vnd.deepnote.dataframe.v2+json": {
       "row_count": 1676446,
       "column_count": 7,
       "columns": [
        {
         "name": "Result",
         "dtype": "object"
        },
        {
         "name": "White_ELO",
         "dtype": "int64"
        },
        {
         "name": "Black_ELO",
         "dtype": "int64"
        },
        {
         "name": "ECO",
         "dtype": "object"
        },
        {
         "name": "Opening",
         "dtype": "object"
        },
        {
         "name": "Termination",
         "dtype": "object"
        },
        {
         "name": "AN",
         "dtype": "object"
        },
        {
         "name": "_deepnote_index_column",
         "dtype": "int64"
        }
       ],
       "rows_top": [
        {
         "Result": "1-0",
         "White_ELO": 1901,
         "Black_ELO": 1896,
         "ECO": "D10",
         "Opening": "Slav Defense",
         "Termination": "Time forfeit",
         "AN": "1. d4 d5 2. c4 c6 3. e3 a6 4. Nf3 e5 5. cxd5 e4 6. Ne5 cxd5 7. Qa4+ Bd7 8. Nxd7 Nxd7 9. Nc3 Nf6 10.…",
         "_deepnote_index_column": 0
        },
        {
         "Result": "0-1",
         "White_ELO": 1649,
         "Black_ELO": 1638,
         "ECO": "C57",
         "Opening": "Italian Game: Two Knights Defense, Traxler Counterattack, Knight Sacrifice Line",
         "Termination": "Normal",
         "AN": "1. e4 e5 2. Nf3 Nc6 3. Bc4 Nf6 4. Ng5 Bc5 5. Nxf7 Bxf2+ 6. Kxf2 Nxe4+ 7. Kg1 Qh4 8. Qf3 Nd4 9. Qf1 …",
         "_deepnote_index_column": 1
        },
        {
         "Result": "1-0",
         "White_ELO": 1630,
         "Black_ELO": 1500,
         "ECO": "C41",
         "Opening": "Philidor Defense #3",
         "Termination": "Normal",
         "AN": "1. e4 e5 2. Nf3 d6 3. Bc4 Nc6 4. d3 Na5 5. Na3 Nxc4 6. Nxc4 a6 7. Ng5 h6 8. Nf3 Be6 9. Ne3 Be7 10. …",
         "_deepnote_index_column": 2
        },
        {
         "Result": "0-1",
         "White_ELO": 1891,
         "Black_ELO": 1930,
         "ECO": "C78",
         "Opening": "Ruy Lopez: Morphy Defense, Arkhangelsk Variation",
         "Termination": "Time forfeit",
         "AN": "1. e4 e5 2. Nf3 Nc6 3. Bb5 a6 4. Ba4 Nf6 5. O-O b5 6. Bb3 Bb7 7. Re1 d6 8. c3 Na5 9. Bc2 Be7 10. d4…",
         "_deepnote_index_column": 3
        },
        {
         "Result": "0-1",
         "White_ELO": 1747,
         "Black_ELO": 1731,
         "ECO": "C46",
         "Opening": "Three Knights Opening #2",
         "Termination": "Normal",
         "AN": "1. e4 e5 2. Nf3 Nc6 3. Nc3 Bb4 4. a3 Ba5 5. b4 Bb6 6. Bb2 Nf6 7. h3 d6 8. Bc4 O-O 9. O-O Nd4 10. d3…",
         "_deepnote_index_column": 4
        },
        {
         "Result": "1-0",
         "White_ELO": 1624,
         "Black_ELO": 1614,
         "ECO": "C42",
         "Opening": "Russian Game: Classical Attack",
         "Termination": "Normal",
         "AN": "1. e4 e5 2. Nf3 Nf6 3. Nxe5 d6 4. Nf3 Nxe4 5. d4 d5 6. c4 c6 7. Bd3 Bd6 8. c5 Bc7 9. Qe2 O-O 10. O-…",
         "_deepnote_index_column": 5
        },
        {
         "Result": "1-0",
         "White_ELO": 1408,
         "Black_ELO": 1405,
         "ECO": "C00",
         "Opening": "French Defense: Normal Variation",
         "Termination": "Normal",
         "AN": "1. e4 e6 2. d4 b6 3. Nc3 Bb4 4. Bd2 Bb7 5. Bd3 Be7 6. Qg4 g6 7. Nf3 h5 8. Qf4 g5 9. Nxg5 Bxg5 10. Q…",
         "_deepnote_index_column": 6
        },
        {
         "Result": "1-0",
         "White_ELO": 2215,
         "Black_ELO": 2072,
         "ECO": "C17",
         "Opening": "French Defense: Winawer Variation, Advance Variation",
         "Termination": "Normal",
         "AN": "1. e4 e6 2. d4 d5 3. Nc3 Bb4 4. e5 c5 5. a3 cxd4 6. Qxd4 Nc6 7. Bb5 Bxc3+ 8. Qxc3 Ne7 9. Bg5 O-O 10…",
         "_deepnote_index_column": 7
        },
        {
         "Result": "1-0",
         "White_ELO": 1580,
         "Black_ELO": 1571,
         "ECO": "D02",
         "Opening": "Queen's Pawn Game: Zukertort Variation",
         "Termination": "Normal",
         "AN": "1. d4 d5 2. Nf3 e5 3. dxe5 c6 4. h3 Nd7 5. e3 Qc7 6. Qd4 Bc5 7. Qc3 Bb6 8. Bd2 f6 9. exf6 Ndxf6 10.…",
         "_deepnote_index_column": 8
        },
        {
         "Result": "0-1",
         "White_ELO": 1787,
         "Black_ELO": 1842,
         "ECO": "A30",
         "Opening": "English Opening: Symmetrical Variation",
         "Termination": "Normal",
         "AN": "1. c4 c5 2. b3 Nc6 3. Bb2 d5 4. e3 d4 5. exd4 cxd4 6. Nf3 e5 7. d3 f6 8. Nh4 g6 9. g3 Be6 10. Nd2 B…",
         "_deepnote_index_column": 9
        },
        {
         "Result": "0-1",
         "White_ELO": 2053,
         "Black_ELO": 2056,
         "ECO": "D00",
         "Opening": "Queen's Pawn Game: Chigorin Variation",
         "Termination": "Normal",
         "AN": "1. d4 d5 2. Nc3 c6 3. Nf3 Nf6 4. Bg5 e6 5. e3 Be7 6. Bd3 Nbd7 7. O-O O-O 8. h3 h6 9. Bh4 Re8 10. Ne…",
         "_deepnote_index_column": 10
        },
        {
         "Result": "1-0",
         "White_ELO": 1868,
         "Black_ELO": 1861,
         "ECO": "C46",
         "Opening": "Three Knights Opening",
         "Termination": "Normal",
         "AN": "1. e4 e5 2. Nf3 Nc6 3. Nc3 d6 4. Bc4 h6 5. h3 Nf6 6. O-O Be6 7. Nd5 Be7 8. d3 O-O 9. Nh2 Nd4 10. f4…",
         "_deepnote_index_column": 11
        },
        {
         "Result": "1-0",
         "White_ELO": 1454,
         "Black_ELO": 1533,
         "ECO": "B00",
         "Opening": "King's Pawn",
         "Termination": "Abandoned",
         "AN": "1. e4 1-0",
         "_deepnote_index_column": 12
        },
        {
         "Result": "1-0",
         "White_ELO": 1734,
         "Black_ELO": 1770,
         "ECO": "A20",
         "Opening": "English Opening: King's English Variation",
         "Termination": "Normal",
         "AN": "1. c4 e5 2. g3 f5 3. Bg2 Nf6 4. Nc3 Be7 5. e3 O-O 6. Nge2 d5 7. cxd5 Nxd5 8. Nxd5 Bg5 9. f4 exf4 10…",
         "_deepnote_index_column": 13
        },
        {
         "Result": "0-1",
         "White_ELO": 1683,
         "Black_ELO": 1669,
         "ECO": "A41",
         "Opening": "Queen's Pawn",
         "Termination": "Normal",
         "AN": "1. d4 d6 2. Nf3 f6 3. e3 Bd7 4. a3 Nh6 5. b4 a6 6. c4 a5 7. Qb3 a4 8. Qa2 Na6 9. Nc3 c6 10. c5 d5 1…",
         "_deepnote_index_column": 14
        },
        {
         "Result": "0-1",
         "White_ELO": 1693,
         "Black_ELO": 1724,
         "ECO": "A00",
         "Opening": "Saragossa Opening",
         "Termination": "Normal",
         "AN": "1. c3 e6 2. e4 d5 3. exd5 exd5 4. Bd3 c6 5. Bc2 g6 6. h3 Bg7 7. Nf3 Nf6 8. d4 O-O 9. Be3 Re8 10. Nb…",
         "_deepnote_index_column": 15
        },
        {
         "Result": "0-1",
         "White_ELO": 1332,
         "Black_ELO": 1392,
         "ECO": "B07",
         "Opening": "King's Pawn Game: Maroczy Defense",
         "Termination": "Normal",
         "AN": "1. e4 e5 2. d4 d6 3. Nc3 Nc6 4. Nf3 Nf6 5. Bd3 Bg4 6. Be2 Be7 7. Qd3 O-O 8. Bd2 Re8 9. Nd5 Nxd5 10.…",
         "_deepnote_index_column": 16
        },
        {
         "Result": "0-1",
         "White_ELO": 1787,
         "Black_ELO": 1779,
         "ECO": "D00",
         "Opening": "Queen's Pawn Game: Stonewall Attack",
         "Termination": "Normal",
         "AN": "1. d4 Nf6 2. e3 d5 3. Bd3 c5 4. c4 Nc6 5. Nc3 e6 6. cxd5 exd5 7. dxc5 Bxc5 8. Nge2 Be6 9. O-O O-O 1…",
         "_deepnote_index_column": 17
        },
        {
         "Result": "1-0",
         "White_ELO": 1635,
         "Black_ELO": 1572,
         "ECO": "C54",
         "Opening": "Italian Game: Classical Variation, Greco Gambit, Traditional Line",
         "Termination": "Normal",
         "AN": "1. e4 e5 2. Bc4 Nc6 3. Nf3 Bc5 4. c3 Nf6 5. d4 exd4 6. cxd4 Nxe4 7. dxc5 Qe7 8. O-O Nxc5 9. Bg5 f6 …",
         "_deepnote_index_column": 18
        },
        {
         "Result": "1-0",
         "White_ELO": 1563,
         "Black_ELO": 1553,
         "ECO": "C22",
         "Opening": "Center Game: Paulsen Attack Variation",
         "Termination": "Normal",
         "AN": "1. e4 e5 2. d4 exd4 3. Qxd4 Nc6 4. Qe3 d6 5. Bb5 Ne7 6. Nf3 Bd7 7. e5 dxe5 8. Nxe5 Nxe5 9. Bxd7+ Qx…",
         "_deepnote_index_column": 19
        },
        {
         "Result": "0-1",
         "White_ELO": 1948,
         "Black_ELO": 2033,
         "ECO": "B53",
         "Opening": "Sicilian Defense: Chekhover Variation",
         "Termination": "Normal",
         "AN": "1. e4 c5 2. Nf3 d6 3. d4 cxd4 4. Qxd4 Nf6 5. e5 Nc6 6. Bb5 Ng4 7. exd6 Qxd6 8. Qxd6 exd6 9. O-O Be7…",
         "_deepnote_index_column": 20
        },
        {
         "Result": "0-1",
         "White_ELO": 1547,
         "Black_ELO": 1618,
         "ECO": "C46",
         "Opening": "Four Knights Game: Italian Variation",
         "Termination": "Normal",
         "AN": "1. e4 e5 2. Nf3 Nc6 3. Bc4 Nf6 4. Nc3 Bb4 5. Qe2 Bxc3 6. bxc3 O-O 7. d3 d6 8. Bb2 Bg4 9. O-O Nh5 10…",
         "_deepnote_index_column": 21
        },
        {
         "Result": "0-1",
         "White_ELO": 1587,
         "Black_ELO": 1614,
         "ECO": "C50",
         "Opening": "Italian Game: Giuoco Pianissimo, Normal",
         "Termination": "Time forfeit",
         "AN": "1. e4 e5 2. Bc4 Bc5 3. Nf3 Nc6 4. d3 Nf6 5. Ng5 O-O 6. Nc3 Nd4 7. Bxf7+ Rxf7 8. Nxf7 Kxf7 9. Bg5 h6…",
         "_deepnote_index_column": 22
        },
        {
         "Result": "0-1",
         "White_ELO": 1739,
         "Black_ELO": 1837,
         "ECO": "A41",
         "Opening": "Old Indian Defense",
         "Termination": "Normal",
         "AN": "1. d4 d6 2. c4 e6 3. Nc3 Bd7 4. Nf3 Be7 5. e4 Nc6 6. Bf4 Nf6 7. a3 Nh5 8. Be3 e5 9. dxe5 dxe5 10. B…",
         "_deepnote_index_column": 23
        },
        {
         "Result": "0-1",
         "White_ELO": 1597,
         "Black_ELO": 1761,
         "ECO": "C00",
         "Opening": "French Defense: La Bourdonnais Variation",
         "Termination": "Time forfeit",
         "AN": "1. e4 { [%eval 0.22] } 1... e6 { [%eval 0.41] } 2. f4?! { [%eval -0.13] } 2... d6 { [%eval 0.09] } …",
         "_deepnote_index_column": 24
        },
        {
         "Result": "0-1",
         "White_ELO": 1457,
         "Black_ELO": 1869,
         "ECO": "A84",
         "Opening": "Dutch Defense: Classical Variation",
         "Termination": "Normal",
         "AN": "1. d4 e6 2. c4 f5 3. Nf3 Be7 4. Nc3 Nf6 5. Bg5 Ne4 6. Bxe7 Qxe7 7. Nxe4 fxe4 8. Ne5 O-O 9. e3 d6 10…",
         "_deepnote_index_column": 25
        },
        {
         "Result": "0-1",
         "White_ELO": 1155,
         "Black_ELO": 1291,
         "ECO": "D01",
         "Opening": "Queen's Pawn Game: Chigorin Variation",
         "Termination": "Normal",
         "AN": "1. d4 d5 2. Nc3 Nf6 3. Nf3 e6 4. Bf4 Bb4 5. Bd2 Bd6 6. Nb5 Bd7 7. a4 a6 8. Nc3 Nc6 9. e3 e5 10. Bd3…",
         "_deepnote_index_column": 26
        },
        {
         "Result": "1-0",
         "White_ELO": 1751,
         "Black_ELO": 1467,
         "ECO": "C40",
         "Opening": "King's Pawn Game: Busch-Gass Gambit",
         "Termination": "Time forfeit",
         "AN": "1. e4 e5 2. Nf3 Bc5 3. Nc3 d6 4. h3 a6 5. d3 f6 6. a3 b5 7. b4 Bd4 8. Bb2 f5 9. Nh4 Qxh4 10. g3 Qf6…",
         "_deepnote_index_column": 27
        },
        {
         "Result": "1-0",
         "White_ELO": 1577,
         "Black_ELO": 1377,
         "ECO": "B40",
         "Opening": "Sicilian Defense: Paulsen-Basman Defense",
         "Termination": "Normal",
         "AN": "1. e4 { [%eval 0.23] } 1... e6 { [%eval 0.2] } 2. d4 { [%eval 0.24] } 2... c5 { [%eval 0.41] } 3. N…",
         "_deepnote_index_column": 28
        },
        {
         "Result": "0-1",
         "White_ELO": 1496,
         "Black_ELO": 1476,
         "ECO": "A45",
         "Opening": "Indian Game",
         "Termination": "Normal",
         "AN": "1. d4 Nf6 2. h4 Nd5 3. h5 h6 4. e3 c5 5. Qf3 e6 6. Bc4 d6 7. Bxd5 exd5 8. Qxd5 Qe7 9. dxc5 dxc5 10.…",
         "_deepnote_index_column": 29
        },
        {
         "Result": "1/2-1/2",
         "White_ELO": 1511,
         "Black_ELO": 1621,
         "ECO": "C23",
         "Opening": "Bishop's Opening",
         "Termination": "Normal",
         "AN": "1. e4 e5 2. Bc4 Nc6 3. d3 Nf6 4. a3 Be7 5. h3 h6 6. Bxf7+ Kxf7 7. Nf3 Re8 8. Nc3 Kg8 9. Nh4 d6 10. …",
         "_deepnote_index_column": 30
        },
        {
         "Result": "0-1",
         "White_ELO": 1721,
         "Black_ELO": 1733,
         "ECO": "C33",
         "Opening": "King's Gambit Accepted, Bishop's Gambit, Maurian Defense",
         "Termination": "Normal",
         "AN": "1. e4 e5 2. f4 exf4 3. Bc4 Nc6 4. Qh5 g6 5. Qd1 Bc5 6. Nf3 d6 7. d4 Bb6 8. d5 Na5 9. b3 Nxc4 10. bx…",
         "_deepnote_index_column": 31
        },
        {
         "Result": "0-1",
         "White_ELO": 1637,
         "Black_ELO": 1513,
         "ECO": "C27",
         "Opening": "Vienna Game",
         "Termination": "Normal",
         "AN": "1. e4 { [%eval 0.2] } 1... e5 { [%eval 0.35] } 2. Nc3 { [%eval 0.0] } 2... c6? { [%eval 1.06] } 3. …",
         "_deepnote_index_column": 32
        },
        {
         "Result": "1-0",
         "White_ELO": 1827,
         "Black_ELO": 1327,
         "ECO": "D00",
         "Opening": "Queen's Pawn Game: Chigorin Variation",
         "Termination": "Normal",
         "AN": "1. d4 d5 2. Nc3 e6 3. Nf3 Bd7 4. Bf4 Nc6 5. e3 Nf6 6. h3 g6 7. Bb5 Bg7 8. Ne5 Nxe5 9. Bxe5 O-O 10. …",
         "_deepnote_index_column": 33
        },
        {
         "Result": "0-1",
         "White_ELO": 1484,
         "Black_ELO": 1466,
         "ECO": "D01",
         "Opening": "Queen's Pawn Game: Chigorin Variation",
         "Termination": "Time forfeit",
         "AN": "1. d4 d5 2. Nc3 Nf6 3. Nf3 Nc6 4. e4 dxe4 5. Ne5 Bf5 6. Nxf7 Kxf7 7. Bc4+ Ke8 8. d5 Nb4 9. Bb5+ c6 …",
         "_deepnote_index_column": 34
        },
        {
         "Result": "1-0",
         "White_ELO": 1734,
         "Black_ELO": 1500,
         "ECO": "C20",
         "Opening": "Bishop's Opening: Boi Variation",
         "Termination": "Time forfeit",
         "AN": "1. e4 e5 2. Bc4 Bc5 3. Nc3 Qf6 4. Qf3 Nh6 5. Qxf6 gxf6 6. Nd5 Ng8 7. Nxc7+ Kd8 8. Nxa8 b6 9. Bxf7 N…",
         "_deepnote_index_column": 35
        },
        {
         "Result": "1-0",
         "White_ELO": 1537,
         "Black_ELO": 1433,
         "ECO": "B07",
         "Opening": "Pirc Defense #5",
         "Termination": "Time forfeit",
         "AN": "1. e4 d6 2. d4 c6 3. d5 c5 4. c4 Nf6 5. f3 g6 6. Bg5 Bg7 7. Qe2 O-O 8. f4 Nxe4 9. Qxe4 Bxb2 10. Bh6…",
         "_deepnote_index_column": 36
        },
        {
         "Result": "1-0",
         "White_ELO": 1903,
         "Black_ELO": 1951,
         "ECO": "C22",
         "Opening": "Center Game: Berger Variation",
         "Termination": "Normal",
         "AN": "1. e4 e5 2. d4 exd4 3. Qxd4 Nc6 4. Qe3 Nf6 5. Nc3 Nb4 6. Bd3 c6 7. a3 Nxd3+ 8. cxd3 Be7 9. f3 d5 10…",
         "_deepnote_index_column": 37
        },
        {
         "Result": "1-0",
         "White_ELO": 1621,
         "Black_ELO": 1281,
         "ECO": "C42",
         "Opening": "Russian Game: Three Knights Game",
         "Termination": "Normal",
         "AN": "1. e4 { [%eval 0.31] } 1... Nf6 { [%eval 0.56] } 2. Nc3?! { [%eval 0.06] } 2... e5 { [%eval 0.06] }…",
         "_deepnote_index_column": 38
        },
        {
         "Result": "1-0",
         "White_ELO": 1523,
         "Black_ELO": 1531,
         "ECO": "C00",
         "Opening": "French Defense: Normal Variation",
         "Termination": "Normal",
         "AN": "1. e4 e6 2. d4 Qh4 3. e5 d6 4. Nf3 Qe4+ 5. Be3 dxe5 6. Bd3 Qc6 7. O-O b6 8. Nxe5 Qd6 9. Nc3 Bd7 10.…",
         "_deepnote_index_column": 39
        },
        {
         "Result": "0-1",
         "White_ELO": 1384,
         "Black_ELO": 1400,
         "ECO": "B07",
         "Opening": "King's Pawn Game: Maroczy Defense",
         "Termination": "Time forfeit",
         "AN": "1. e4 e5 2. d4 d6 3. d5 Bd7 4. Nc3 Nf6 5. Nf3 Be7 6. Bc4 Bg4 7. h3 Bxf3 8. Qxf3 a6 9. Bg5 b5 10. Be…",
         "_deepnote_index_column": 40
        },
        {
         "Result": "1-0",
         "White_ELO": 1486,
         "Black_ELO": 1467,
         "ECO": "C00",
         "Opening": "French Defense: Normal Variation",
         "Termination": "Normal",
         "AN": "1. d4 e6 2. e4 Bb4+ 3. Nc3 Bxc3+ 4. bxc3 Nf6 5. e5 Nd5 6. Qd2 O-O 7. Bc4 d6 8. Nf3 dxe5 9. dxe5 c6 …",
         "_deepnote_index_column": 41
        },
        {
         "Result": "1/2-1/2",
         "White_ELO": 1270,
         "Black_ELO": 1101,
         "ECO": "A00",
         "Opening": "Hungarian Opening",
         "Termination": "Normal",
         "AN": "1. g3 { [%eval -0.25] } 1... e5 { [%eval -0.18] } 2. Bg2 { [%eval -0.46] } 2... c6?! { [%eval 0.04]…",
         "_deepnote_index_column": 42
        },
        {
         "Result": "0-1",
         "White_ELO": 1808,
         "Black_ELO": 2105,
         "ECO": "C44",
         "Opening": "King's Knight Opening: Normal Variation",
         "Termination": "Normal",
         "AN": "1. e4 e5 2. Nf3 Nc6 3. h3 Nf6 4. d3 d5 5. exd5 Nxd5 6. g3 Be7 7. Bg2 O-O 8. O-O f6 9. Nc3 Nxc3 10. …",
         "_deepnote_index_column": 43
        },
        {
         "Result": "1-0",
         "White_ELO": 1333,
         "Black_ELO": 1328,
         "ECO": "B01",
         "Opening": "Scandinavian Defense",
         "Termination": "Normal",
         "AN": "1. e4 d5 2. Nc3 e6 3. e5 Nc6 4. f4 Bb4 5. Nb5 Nge7 6. a3 Bc5 7. b4 Bb6 8. Nc3 Bd4 9. Qf3 O-O 10. Bb…",
         "_deepnote_index_column": 44
        },
        {
         "Result": "0-1",
         "White_ELO": 1313,
         "Black_ELO": 1616,
         "ECO": "A40",
         "Opening": "Horwitz Defense",
         "Termination": "Normal",
         "AN": "1. d4 e6 2. f3 Nc6 3. c3 d5 4. e4 dxe4 5. fxe4 Qh4+ 6. g3 Qxe4+ 7. Ne2 Qxh1 8. d5 exd5 9. Bf4 Bg4 1…",
         "_deepnote_index_column": 45
        },
        {
         "Result": "1-0",
         "White_ELO": 2090,
         "Black_ELO": 2032,
         "ECO": "B30",
         "Opening": "Sicilian Defense: Old Sicilian",
         "Termination": "Normal",
         "AN": "1. e4 c5 2. Nf3 Nc6 3. c3 e6 4. d4 cxd4 5. cxd4 d5 6. e5 Nge7 7. h3 Nf5 8. Bb5 Bd7 9. Bxc6 Bxc6 10.…",
         "_deepnote_index_column": 46
        },
        {
         "Result": "0-1",
         "White_ELO": 1168,
         "Black_ELO": 1381,
         "ECO": "A00",
         "Opening": "Polish Opening",
         "Termination": "Normal",
         "AN": "1. b4 e5 2. Ba3 Nc6 3. b5 Na5 4. Nc3 a6 5. Ne4 axb5 6. Rb1 Bxa3 7. Rxb5 c6 8. Nd6+ Kf8 9. Rxe5 Bxd6…",
         "_deepnote_index_column": 47
        },
        {
         "Result": "1-0",
         "White_ELO": 1761,
         "Black_ELO": 1665,
         "ECO": "B01",
         "Opening": "Scandinavian Defense: Mieses-Kotroc Variation",
         "Termination": "Time forfeit",
         "AN": "1. e4 d5 2. exd5 Qxd5 3. Nc3 Qe6+ 4. Qe2 Qxe2+ 5. Bxe2 Bd7 6. Nf3 Bc6 7. O-O e6 8. Re1 Bd6 9. Bb5 B…",
         "_deepnote_index_column": 48
        },
        {
         "Result": "0-1",
         "White_ELO": 1265,
         "Black_ELO": 1266,
         "ECO": "D00",
         "Opening": "Blackmar-Diemer Gambit: von Popiel Gambit",
         "Termination": "Time forfeit",
         "AN": "1. e4 d5 2. d4 dxe4 3. Nc3 Nf6 4. Bg5 Nd5 5. Nxe4 h6 6. Qh5 Bf5 7. Bd3 g6 8. Qh4 Bg7 9. Be3 g5 10. …",
         "_deepnote_index_column": 49
        },
        {
         "Result": "0-1",
         "White_ELO": 1559,
         "Black_ELO": 1754,
         "ECO": "C23",
         "Opening": "Bishop's Opening",
         "Termination": "Normal",
         "AN": "1. e4 e5 2. Bc4 h6 3. Nf3 Nf6 4. Nxe5 Qe7 5. Bxf7+ Kd8 6. Ng6 Qxf7 7. Nxh8 Qe7 8. O-O g5 9. d4 Qg7 …",
         "_deepnote_index_column": 50
        },
        {
         "Result": "0-1",
         "White_ELO": 1238,
         "Black_ELO": 1297,
         "ECO": "B20",
         "Opening": "Sicilian Defense: Mengarini Variation",
         "Termination": "Normal",
         "AN": "1. e4 c5 2. a3 d5 3. d3 b5 4. Be2 Bb7 5. Bh5 g6 6. Be2 Bg7 7. Bd2 Bxb2 8. Ra2 Be5 9. Nf3 Bg7 10. Bc…",
         "_deepnote_index_column": 51
        },
        {
         "Result": "0-1",
         "White_ELO": 1625,
         "Black_ELO": 1993,
         "ECO": "C34",
         "Opening": "King's Gambit Accepted, MacLeod Defense",
         "Termination": "Normal",
         "AN": "1. e4 e5 2. f4 exf4 3. Nf3 Nc6 4. Bc4 d6 5. O-O Nf6 6. Nc3 Be6 7. Bxe6 fxe6 8. d4 Be7 9. e5 dxe5 10…",
         "_deepnote_index_column": 52
        },
        {
         "Result": "0-1",
         "White_ELO": 1789,
         "Black_ELO": 1686,
         "ECO": "C42",
         "Opening": "Russian Game: Urusov Gambit",
         "Termination": "Normal",
         "AN": "1. e4 { [%eval 0.16] } 1... e5 { [%eval 0.2] } 2. Nf3 { [%eval 0.34] } 2... Nf6 { [%eval 0.34] } 3.…",
         "_deepnote_index_column": 53
        },
        {
         "Result": "0-1",
         "White_ELO": 1564,
         "Black_ELO": 1679,
         "ECO": "A22",
         "Opening": "English Opening: King's English Variation, Two Knights Variation",
         "Termination": "Normal",
         "AN": "1. c4 e5 2. Nc3 Nf6 3. e3 a6 4. d4 e4 5. a3 c6 6. b4 d5 7. c5 b5 8. cxb6 Qxb6 9. Bb2 Nbd7 10. Nge2 …",
         "_deepnote_index_column": 54
        },
        {
         "Result": "1-0",
         "White_ELO": 1534,
         "Black_ELO": 1069,
         "ECO": "C00",
         "Opening": "French Defense #2",
         "Termination": "Normal",
         "AN": "1. e4 e6 2. Bc4 Qg5 3. Nf3 Qxg2 4. Rg1 Qh3 5. Ng5 Nf6 6. Nxh3 Nxe4 7. Ng5 Nxg5 8. Rxg5 f6 9. Rg3 Bd…",
         "_deepnote_index_column": 55
        },
        {
         "Result": "0-1",
         "White_ELO": 2039,
         "Black_ELO": 1829,
         "ECO": "B24",
         "Opening": "Sicilian Defense: Closed",
         "Termination": "Time forfeit",
         "AN": "1. e4 c5 2. Nc3 Nc6 3. g3 g6 4. Bg2 e5 5. Nge2 Bg7 6. d3 Nf6 7. O-O O-O 8. h3 d6 9. Bg5 Qb6 10. Rb1…",
         "_deepnote_index_column": 56
        },
        {
         "Result": "1-0",
         "White_ELO": 1452,
         "Black_ELO": 1384,
         "ECO": "B01",
         "Opening": "Scandinavian Defense",
         "Termination": "Time forfeit",
         "AN": "1. e4 { [%eval 0.22] } 1... d5 { [%eval 0.5] } 2. f3?! { [%eval -0.48] } 2... e5 { [%eval -0.44] } …",
         "_deepnote_index_column": 57
        },
        {
         "Result": "0-1",
         "White_ELO": 1628,
         "Black_ELO": 1534,
         "ECO": "B01",
         "Opening": "Scandinavian Defense",
         "Termination": "Time forfeit",
         "AN": "1. e4 d5 2. d3 dxe4 3. f3 exf3 4. Nxf3 Bg4 5. Be2 Qd5 6. c4 Qc6 7. Ne5 Qxg2 8. Rf1 Be6 9. Qa4+ c6 1…",
         "_deepnote_index_column": 58
        },
        {
         "Result": "1-0",
         "White_ELO": 1910,
         "Black_ELO": 1925,
         "ECO": "C40",
         "Opening": "Latvian Gambit Accepted",
         "Termination": "Normal",
         "AN": "1. e4 e5 2. Nf3 f5 3. exf5 e4 4. Nd4 Nf6 5. d3 c5 6. Nb5 a6 7. N5c3 exd3 8. Qxd3 Be7 9. Bg5 O-O 10.…",
         "_deepnote_index_column": 59
        },
        {
         "Result": "0-1",
         "White_ELO": 1802,
         "Black_ELO": 1706,
         "ECO": "C34",
         "Opening": "King's Gambit Accepted, King's Knight Gambit",
         "Termination": "Normal",
         "AN": "1. e4 e5 2. f4 exf4 3. Nf3 g6 4. d4 Bg7 5. Bxf4 Nf6 6. e5 Nd5 7. Bg3 Ne3 8. Qe2 Nxf1 9. Rxf1 O-O 10…",
         "_deepnote_index_column": 60
        },
        {
         "Result": "0-1",
         "White_ELO": 1804,
         "Black_ELO": 2044,
         "ECO": "C01",
         "Opening": "French Defense: Winawer Variation, Delayed Exchange Variation",
         "Termination": "Time forfeit",
         "AN": "1. d4 d5 2. Nc3 e6 3. e4 Bb4 4. exd5 Bxc3+ 5. bxc3 Qxd5 6. c4 Qe4+ 7. Be3 Nf6 8. Bd3 Qxg2 9. f3 Qxh…",
         "_deepnote_index_column": 61
        },
        {
         "Result": "1-0",
         "White_ELO": 1455,
         "Black_ELO": 1489,
         "ECO": "C41",
         "Opening": "Philidor Defense #3",
         "Termination": "Normal",
         "AN": "1. e4 e5 2. Nf3 d6 3. Bc4 Bg4 4. h3 Bxf3 5. Qxf3 Nf6 6. d3 Nc6 7. Bg5 Be7 8. Bxf6 Bxf6 9. c3 O-O 10…",
         "_deepnote_index_column": 62
        },
        {
         "Result": "1-0",
         "White_ELO": 1303,
         "Black_ELO": 1321,
         "ECO": "A00",
         "Opening": "Saragossa Opening",
         "Termination": "Normal",
         "AN": "1. c3 d5 2. e3 Nf6 3. Nf3 Nc6 4. Bb5 Bg4 5. Bxc6+ bxc6 6. Qa4 Qd7 7. Nd4 c5 8. Qxd7+ Nxd7 9. Nb5 Kd…",
         "_deepnote_index_column": 63
        },
        {
         "Result": "1-0",
         "White_ELO": 1750,
         "Black_ELO": 1611,
         "ECO": "C00",
         "Opening": "French Defense: Queen's Knight",
         "Termination": "Normal",
         "AN": "1. e4 e6 2. Nc3 d6 3. d4 Be7 4. h3 Bd7 5. Qg4 g6 6. Qf3 Nf6 7. e5 Nd5 8. Nxd5 exd5 9. Qxd5 c6 10. Q…",
         "_deepnote_index_column": 64
        },
        {
         "Result": "1-0",
         "White_ELO": 1920,
         "Black_ELO": 1830,
         "ECO": "C30",
         "Opening": "King's Gambit Declined, Queen's Knight Defense",
         "Termination": "Normal",
         "AN": "1. e4 e5 2. f4 Nc6 3. Nf3 d6 4. d4 exf4 5. Bxf4 b6 6. Bb5 Bb7 7. d5 Ne7 8. Bxc6+ Nxc6 9. dxc6 Bxc6 …",
         "_deepnote_index_column": 65
        },
        {
         "Result": "0-1",
         "White_ELO": 1432,
         "Black_ELO": 1355,
         "ECO": "A00",
         "Opening": "Anderssen Opening",
         "Termination": "Normal",
         "AN": "1. a3 d5 2. b4 b5 3. Bb2 Nc6 4. e3 e5 5. d4 e4 6. f3 Bf5 7. g4 Qh4+ 8. Kd2 Qf2+ 9. Qe2 Qxf3 10. gxf…",
         "_deepnote_index_column": 66
        },
        {
         "Result": "1-0",
         "White_ELO": 1783,
         "Black_ELO": 1646,
         "ECO": "A00",
         "Opening": "Polish Opening",
         "Termination": "Normal",
         "AN": "1. b4 d5 2. Bb2 e6 3. Nf3 Bxb4 4. Bxg7 Ba3 1-0",
         "_deepnote_index_column": 67
        },
        {
         "Result": "1-0",
         "White_ELO": 1863,
         "Black_ELO": 1819,
         "ECO": "B07",
         "Opening": "Pirc Defense: Byrne Variation",
         "Termination": "Normal",
         "AN": "1. d4 d6 2. e4 Nf6 3. Nc3 g6 4. Bg5 Bg7 5. Qd2 O-O 6. Bh6 Bg4 7. Bxg7 Kxg7 8. h4 Nc6 9. f3 Bd7 10. …",
         "_deepnote_index_column": 68
        },
        {
         "Result": "1-0",
         "White_ELO": 1696,
         "Black_ELO": 1528,
         "ECO": "C55",
         "Opening": "Italian Game: Two Knights Defense, Modern Bishop's Opening",
         "Termination": "Normal",
         "AN": "1. e4 e5 2. Nf3 Nc6 3. Bc4 Nf6 4. d3 b6 5. Nc3 Bb7 6. Nd5 Nxd5 7. Bxd5 Bc5 8. Ng5 Rf8 9. Nxh7 Rh8 1…",
         "_deepnote_index_column": 69
        },
        {
         "Result": "0-1",
         "White_ELO": 1452,
         "Black_ELO": 1358,
         "ECO": "C55",
         "Opening": "Italian Game: Two Knights Defense, Modern Bishop's Opening",
         "Termination": "Normal",
         "AN": "1. e4 e5 2. Nf3 Nc6 3. Bc4 Nf6 4. d3 d6 5. Ng5 Be6 6. Bxe6 fxe6 7. Nxe6 Qe7 8. Nxf8 Qxf8 9. O-O Qf7…",
         "_deepnote_index_column": 70
        }
       ],
       "rows_bottom": [
        {
         "Result": "0-1",
         "White_ELO": 1848,
         "Black_ELO": 1642,
         "ECO": "A15",
         "Opening": "English Opening: Anglo-Indian Defense, King's Knight Variation",
         "Termination": "Normal",
         "AN": "1. Nf3 Nf6 2. c4 e5 3. d3 Bc5 4. Nc3 Ng4 5. e3 O-O 6. a3 a6 7. b4 Ba7 8. c5 d6 9. h3 Nf6 10. cxd6 c…",
         "_deepnote_index_column": 1676375
        },
        {
         "Result": "1-0",
         "White_ELO": 1632,
         "Black_ELO": 1646,
         "ECO": "D00",
         "Opening": "Queen's Pawn Game: Mason Attack",
         "Termination": "Normal",
         "AN": "1. d4 d5 2. Bf4 Nc6 3. e3 Bf5 4. Nf3 Nb4 5. Bd3 e6 6. a3 Nc6 7. Bxf5 exf5 8. Ne5 Nxe5 9. dxe5 Be7 1…",
         "_deepnote_index_column": 1676376
        },
        {
         "Result": "0-1",
         "White_ELO": 2046,
         "Black_ELO": 2041,
         "ECO": "D10",
         "Opening": "Slav Defense",
         "Termination": "Normal",
         "AN": "1. d4 d5 2. c4 c6 3. g3 Nf6 4. Bg2 dxc4 5. e4 e5 6. Ne2 exd4 7. Qxd4 Qxd4 8. Nxd4 Bb4+ 9. Bd2 Bxd2+…",
         "_deepnote_index_column": 1676377
        },
        {
         "Result": "0-1",
         "White_ELO": 1588,
         "Black_ELO": 1541,
         "ECO": "B00",
         "Opening": "Nimzowitsch Defense: Kennedy Variation, Linksspringer Variation",
         "Termination": "Normal",
         "AN": "1. e4 e5 2. d4 Nc6 3. d5 Nb8 4. Nc3 d6 5. Nf3 h6 6. h4 a6 7. a4 Bd7 8. Rg1 Ne7 9. g4 Nc8 10. g5 Be7…",
         "_deepnote_index_column": 1676378
        },
        {
         "Result": "1-0",
         "White_ELO": 2178,
         "Black_ELO": 2109,
         "ECO": "C30",
         "Opening": "King's Gambit",
         "Termination": "Normal",
         "AN": "1. e4 e5 2. f4 d6 3. Nf3 Nc6 4. Bb5 Bg4 5. O-O a6 6. Bxc6+ bxc6 7. h3 Bxf3 8. Qxf3 Nf6 9. d3 Be7 10…",
         "_deepnote_index_column": 1676379
        },
        {
         "Result": "1-0",
         "White_ELO": 1196,
         "Black_ELO": 1242,
         "ECO": "C42",
         "Opening": "Petrov's Defense",
         "Termination": "Normal",
         "AN": "1. e4 e5 2. Nf3 Nf6 3. d3 d5 4. d4 exd4 5. exd5 Nxd5 6. Qxd4 b6 7. Qe4+ Ne7 8. Qxa8 1-0",
         "_deepnote_index_column": 1676380
        },
        {
         "Result": "0-1",
         "White_ELO": 1856,
         "Black_ELO": 1904,
         "ECO": "A43",
         "Opening": "Benoni Defense: Benoni Gambit Accepted",
         "Termination": "Time forfeit",
         "AN": "1. d4 c5 2. dxc5 Qa5+ 3. Bd2 Qxc5 4. e3 d6 5. Nf3 Bg4 6. Be2 Nf6 7. O-O Nc6 8. c3 g6 9. b4 Qb6 10. …",
         "_deepnote_index_column": 1676381
        },
        {
         "Result": "1-0",
         "White_ELO": 1772,
         "Black_ELO": 1950,
         "ECO": "A54",
         "Opening": "Old Indian Defense: Tartakower-Indian",
         "Termination": "Normal",
         "AN": "1. Nf3 Nf6 2. d4 d6 3. c4 Bg4 4. Nc3 e6 5. e4 Be7 6. Qa4+ c6 7. d5 exd5 8. exd5 O-O 9. Be2 Bd7 10. …",
         "_deepnote_index_column": 1676382
        },
        {
         "Result": "1-0",
         "White_ELO": 1910,
         "Black_ELO": 1645,
         "ECO": "B30",
         "Opening": "Sicilian Defense: Old Sicilian",
         "Termination": "Normal",
         "AN": "1. e4 c5 2. Nf3 Nc6 3. Bc4 e6 4. d4 cxd4 5. Nxd4 Bc5 6. c3 Nf6 7. Nxc6 bxc6 8. Bg5 d5 9. Bb3 Ba6 10…",
         "_deepnote_index_column": 1676383
        },
        {
         "Result": "1-0",
         "White_ELO": 1753,
         "Black_ELO": 1897,
         "ECO": "B01",
         "Opening": "Scandinavian Defense: Modern Variation #2",
         "Termination": "Normal",
         "AN": "1. e4 { [%eval 0.24] } 1... d5 { [%eval 0.56] } 2. exd5 { [%eval 0.59] } 2... Nf6 { [%eval 0.55] } …",
         "_deepnote_index_column": 1676384
        },
        {
         "Result": "1-0",
         "White_ELO": 1785,
         "Black_ELO": 1731,
         "ECO": "C42",
         "Opening": "Russian Game: Urusov Gambit",
         "Termination": "Normal",
         "AN": "1. e4 e5 2. Nf3 Nf6 3. Bc4 d5 4. exd5 Nxd5 5. Nxe5 Qe7 6. O-O Nf4 7. d3 Qg5 8. g3 Bg4 1-0",
         "_deepnote_index_column": 1676385
        },
        {
         "Result": "0-1",
         "White_ELO": 1816,
         "Black_ELO": 1918,
         "ECO": "D00",
         "Opening": "Queen's Pawn Game #3",
         "Termination": "Time forfeit",
         "AN": "1. e3 d5 2. d4 Nf6 3. c4 e6 4. Nc3 Bb4 5. a3 Ba5 6. b4 Bb6 7. c5 Bxc5 8. bxc5 O-O 9. Nf3 Re8 10. Bd…",
         "_deepnote_index_column": 1676386
        },
        {
         "Result": "1-0",
         "White_ELO": 1774,
         "Black_ELO": 1849,
         "ECO": "A40",
         "Opening": "English Defense #2",
         "Termination": "Time forfeit",
         "AN": "1. d4 b6 2. g3 g6 3. Bg2 d5 4. Nc3 Nf6 5. Nf3 Bb7 6. O-O Bg7 7. Bg5 O-O 8. Re1 Ne4 9. Nxe4 dxe4 10.…",
         "_deepnote_index_column": 1676387
        },
        {
         "Result": "1-0",
         "White_ELO": 1976,
         "Black_ELO": 1925,
         "ECO": "A00",
         "Opening": "Polish Opening",
         "Termination": "Time forfeit",
         "AN": "1. b4?! { [%eval -0.53] } 1... e5 { [%eval -0.31] } 2. Bb2 { [%eval -0.36] } 2... f6 { [%eval -0.18…",
         "_deepnote_index_column": 1676388
        },
        {
         "Result": "0-1",
         "White_ELO": 1781,
         "Black_ELO": 1791,
         "ECO": "D00",
         "Opening": "Queen's Pawn Game: Mason Attack",
         "Termination": "Normal",
         "AN": "1. d4 { [%eval 0.12] } 1... d5 { [%eval 0.17] } 2. Bf4 { [%eval 0.1] } 2... Nc6 { [%eval 0.16] } 3.…",
         "_deepnote_index_column": 1676389
        },
        {
         "Result": "0-1",
         "White_ELO": 1727,
         "Black_ELO": 1695,
         "ECO": "C57",
         "Opening": "Italian Game: Two Knights Defense, Knight Attack, Normal Variation",
         "Termination": "Time forfeit",
         "AN": "1. e4 e5 2. Nf3 Nc6 3. Bc4 Nf6 4. Ng5 d5 5. exd5 Nxd5 6. d3 Be7 7. Nf3 O-O 8. h3 Nf6 9. O-O Bf5 10.…",
         "_deepnote_index_column": 1676390
        },
        {
         "Result": "0-1",
         "White_ELO": 1770,
         "Black_ELO": 1627,
         "ECO": "C41",
         "Opening": "Philidor Defense #2",
         "Termination": "Normal",
         "AN": "1. e4 e5 2. Nf3 d6 3. Nc3 c6 4. d4 exd4 5. Nxd4 Nf6 6. Bg5 h6 7. Bh4 g5 8. Bg3 Bg4 9. Be2 Bxe2 10. …",
         "_deepnote_index_column": 1676391
        },
        {
         "Result": "1-0",
         "White_ELO": 1699,
         "Black_ELO": 1548,
         "ECO": "B01",
         "Opening": "Scandinavian Defense: Mieses-Kotroc Variation",
         "Termination": "Normal",
         "AN": "1. e4 d5 2. exd5 Qxd5 3. Nc3 Qe5+ 4. Be2 Qg5 5. g3 Bd7 6. d4 Qf6 7. Nd5 Qd6 8. Nc3 Nc6 9. Nf3 Nf6 1…",
         "_deepnote_index_column": 1676392
        },
        {
         "Result": "0-1",
         "White_ELO": 1591,
         "Black_ELO": 1711,
         "ECO": "A00",
         "Opening": "Polish Opening",
         "Termination": "Time forfeit",
         "AN": "1. b4 e5 2. b5 d5 3. a4 Nf6 4. Bb2 Bd6 5. Nf3 e4 6. Nd4 O-O 7. g3 Nbd7 8. Bg2 Ne5 9. O-O c5 10. Nb3…",
         "_deepnote_index_column": 1676393
        },
        {
         "Result": "0-1",
         "White_ELO": 1657,
         "Black_ELO": 1663,
         "ECO": "B00",
         "Opening": "Owen Defense",
         "Termination": "Time forfeit",
         "AN": "1. e4 b6 2. Nf3 Bb7 3. Nc3 e6 4. d4 d5 5. Ne5 dxe4 6. f3 exf3 7. gxf3 f6 8. Nd3 Ne7 9. Bf4 Nf5 10. …",
         "_deepnote_index_column": 1676394
        },
        {
         "Result": "0-1",
         "White_ELO": 1942,
         "Black_ELO": 1909,
         "ECO": "C02",
         "Opening": "French Defense: Advance Variation, Paulsen Attack",
         "Termination": "Normal",
         "AN": "1. e4 c5 2. c3 Nc6 3. d4 e6 4. Nf3 d5 5. e5 cxd4 6. cxd4 Bb4+ 7. Bd2 Bxd2+ 8. Qxd2 Nge7 9. Bb5 O-O …",
         "_deepnote_index_column": 1676395
        },
        {
         "Result": "0-1",
         "White_ELO": 1500,
         "Black_ELO": 1707,
         "ECO": "C20",
         "Opening": "King's Pawn Game: Napoleon Attack",
         "Termination": "Time forfeit",
         "AN": "1. e4 e5 2. Qf3 Nf6 3. Bc4 Bb4 4. c3 Bc5 5. d4 exd4 6. e5 Qe7 7. Ne2 Qxe5 8. cxd4 Bxd4 9. Bf4 Qe7 1…",
         "_deepnote_index_column": 1676396
        },
        {
         "Result": "0-1",
         "White_ELO": 1451,
         "Black_ELO": 1677,
         "ECO": "C57",
         "Opening": "Italian Game: Two Knights Defense, Polerio Defense",
         "Termination": "Time forfeit",
         "AN": "1. e4 e5 2. Nf3 Nc6 3. Bc4 Nf6 4. Ng5 d5 5. exd5 Na5 6. b3 Nxc4 7. bxc4 Bg4 8. f3 Bh5 9. g4 Bg6 10.…",
         "_deepnote_index_column": 1676397
        },
        {
         "Result": "0-1",
         "White_ELO": 1856,
         "Black_ELO": 1606,
         "ECO": "A02",
         "Opening": "System: Double Duck Formation",
         "Termination": "Normal",
         "AN": "1. f4 d5 2. d4 f5 3. Nf3 e6 4. e3 Bd7 5. Be2 g6 6. O-O Bg7 7. c3 Nf6 8. Ng5 Ne4 9. Bf3 Nxg5 10. fxg…",
         "_deepnote_index_column": 1676398
        },
        {
         "Result": "0-1",
         "White_ELO": 1894,
         "Black_ELO": 2016,
         "ECO": "C00",
         "Opening": "French Defense: Knight Variation",
         "Termination": "Normal",
         "AN": "1. e4 e6 2. Nf3 Nf6 3. d3 d5 4. exd5 Nxd5 5. Bd2 c5 6. Nc3 Nf6 7. Qe2 Be7 8. O-O-O Nc6 9. Kb1 O-O 1…",
         "_deepnote_index_column": 1676399
        },
        {
         "Result": "0-1",
         "White_ELO": 1672,
         "Black_ELO": 1776,
         "ECO": "A00",
         "Opening": "Van't Kruijs Opening",
         "Termination": "Normal",
         "AN": "1. e3 e5 2. Qh5 Qf6 3. Nf3 e4 4. Qe5+ Qxe5 5. Nxe5 d6 6. Nc4 b5 7. Nca3 a6 8. c3 d5 9. Nc2 Nf6 10. …",
         "_deepnote_index_column": 1676400
        },
        {
         "Result": "1-0",
         "White_ELO": 2033,
         "Black_ELO": 1978,
         "ECO": "D04",
         "Opening": "Queen's Pawn Game: Colle System",
         "Termination": "Time forfeit",
         "AN": "1. d4 Nf6 2. e3 d5 3. Nf3 Nbd7 4. c4 c6 5. Bd3 Qc7 6. O-O e5 7. dxe5 Nxe5 8. Nxe5 Qxe5 9. cxd5 Nxd5…",
         "_deepnote_index_column": 1676401
        },
        {
         "Result": "0-1",
         "White_ELO": 1982,
         "Black_ELO": 1782,
         "ECO": "C42",
         "Opening": "Russian Game: Three Knights Game",
         "Termination": "Time forfeit",
         "AN": "1. e4 e5 2. Nf3 Nf6 3. Nc3 Bc5 4. Nxe5 Qe7 5. d4 Bb4 6. Bc4 O-O 7. Bg5 d6 8. Nd3 Qxe4+ 9. Kf1 Qxd4 …",
         "_deepnote_index_column": 1676402
        },
        {
         "Result": "1-0",
         "White_ELO": 1640,
         "Black_ELO": 1524,
         "ECO": "C50",
         "Opening": "Italian Game: Giuoco Pianissimo, Normal",
         "Termination": "Normal",
         "AN": "1. e4 e5 2. Nf3 Bc5 3. Bc4 Nc6 4. d3 Nf6 5. Ng5 d5 6. exd5 Nd4 7. c3 Bg4 8. f3 Bd7 9. cxd4 Bxd4 10.…",
         "_deepnote_index_column": 1676403
        },
        {
         "Result": "1-0",
         "White_ELO": 1686,
         "Black_ELO": 1738,
         "ECO": "A40",
         "Opening": "Horwitz Defense",
         "Termination": "Normal",
         "AN": "1. d4 { [%eval 0.17] } 1... e6 { [%eval 0.27] } 2. d5?! { [%eval -0.48] } 2... exd5 { [%eval -0.48]…",
         "_deepnote_index_column": 1676404
        },
        {
         "Result": "1-0",
         "White_ELO": 2136,
         "Black_ELO": 2185,
         "ECO": "D51",
         "Opening": "Queen's Gambit Declined: Modern, Knight Defense",
         "Termination": "Normal",
         "AN": "1. d4 { [%eval 0.16] } 1... d5 { [%eval 0.2] } 2. c4 { [%eval 0.15] } 2... e6 { [%eval 0.08] } 3. N…",
         "_deepnote_index_column": 1676405
        },
        {
         "Result": "1-0",
         "White_ELO": 1734,
         "Black_ELO": 1765,
         "ECO": "C20",
         "Opening": "King's Pawn Game",
         "Termination": "Time forfeit",
         "AN": "1. e4 e5 2. g3 Nf6 3. Bg2 Nc6 4. Nc3 a6 5. Nd5 Bd6 6. d3 h6 7. f4 Nb4 8. fxe5 Nbxd5 9. exf6 Nxf6 10…",
         "_deepnote_index_column": 1676406
        },
        {
         "Result": "1-0",
         "White_ELO": 2131,
         "Black_ELO": 1755,
         "ECO": "E61",
         "Opening": "King's Indian Defense",
         "Termination": "Time forfeit",
         "AN": "1. d4 { [%eval 0.25] } 1... Nf6 { [%eval 0.17] } 2. c4 { [%eval 0.22] } 2... g6 { [%eval 0.46] } 3.…",
         "_deepnote_index_column": 1676407
        },
        {
         "Result": "1-0",
         "White_ELO": 1508,
         "Black_ELO": 1151,
         "ECO": "C55",
         "Opening": "Italian Game: Two Knights Defense, Modern Bishop's Opening",
         "Termination": "Time forfeit",
         "AN": "1. e4 e5 2. Nf3 Nc6 3. Bc4 Nf6 4. d3 Bb4+ 5. c3 Be7 6. Ng5 O-O 7. O-O h6 8. Nf3 d6 9. d4 exd4 10. c…",
         "_deepnote_index_column": 1676408
        },
        {
         "Result": "1-0",
         "White_ELO": 2306,
         "Black_ELO": 1883,
         "ECO": "B00",
         "Opening": "Owen Defense",
         "Termination": "Normal",
         "AN": "1. e4 b6 2. d4 Bb7 3. Bd3 Nf6 4. Nc3 d6 5. f4 e6 6. Nf3 Nbd7 7. O-O Be7 8. e5 dxe5 9. fxe5 Nd5 10. …",
         "_deepnote_index_column": 1676409
        },
        {
         "Result": "0-1",
         "White_ELO": 1822,
         "Black_ELO": 1791,
         "ECO": "B90",
         "Opening": "Sicilian Defense: Najdorf Variation",
         "Termination": "Normal",
         "AN": "1. e4 c5 2. Nf3 d6 3. d4 cxd4 4. Nxd4 Nf6 5. Nc3 a6 6. Bd3 e6 7. h3 Be7 8. O-O O-O 9. Re1 b5 10. Nf…",
         "_deepnote_index_column": 1676410
        },
        {
         "Result": "1-0",
         "White_ELO": 1511,
         "Black_ELO": 1489,
         "ECO": "D00",
         "Opening": "Blackmar-Diemer Gambit: Netherlands Variation",
         "Termination": "Normal",
         "AN": "1. e4 d5 2. d4 dxe4 3. Nc3 f5 4. Bc4 e6 5. f3 Bb4 6. fxe4 Bxc3+ 7. bxc3 fxe4 8. Qh5+ g6 9. Qe5 Nf6 …",
         "_deepnote_index_column": 1676411
        },
        {
         "Result": "0-1",
         "White_ELO": 1782,
         "Black_ELO": 1606,
         "ECO": "B00",
         "Opening": "Nimzowitsch Defense, Declined Variation",
         "Termination": "Normal",
         "AN": "1. e4 Nc6 2. Nf3 g6 3. d4 b6 4. Bd3 e6 5. O-O h6 6. c3 Bb7 7. d5 Nce7 8. dxe6 dxe6 9. Qc2 g5 10. h3…",
         "_deepnote_index_column": 1676412
        },
        {
         "Result": "1-0",
         "White_ELO": 1309,
         "Black_ELO": 1365,
         "ECO": "C22",
         "Opening": "Center Game: Normal Variation",
         "Termination": "Normal",
         "AN": "1. e4 e5 2. d4 exd4 3. Qxd4 Nc6 4. Qa4 Bb4+ 5. Bd2 Bxd2+ 6. Nxd2 Nf6 7. Ngf3 d5 8. exd5 Nxd5 9. Qe4…",
         "_deepnote_index_column": 1676413
        },
        {
         "Result": "0-1",
         "White_ELO": 1258,
         "Black_ELO": 1459,
         "ECO": "B01",
         "Opening": "Scandinavian Defense",
         "Termination": "Time forfeit",
         "AN": "1. e4 d5 2. Qh5 g6 3. Qxd5 Nf6 4. Qd4 Nc6 5. Qc3 Nxe4 6. Qxh8 Nf6 7. d4 Nxd4 8. Bh6 Nxc2+ 9. Ke2 Nx…",
         "_deepnote_index_column": 1676414
        },
        {
         "Result": "1-0",
         "White_ELO": 1722,
         "Black_ELO": 1424,
         "ECO": "C20",
         "Opening": "King's Pawn Game: Wayward Queen Attack, Kiddie Countergambit",
         "Termination": "Normal",
         "AN": "1. e4 e5 2. Qh5 Nf6 3. Qxe5+ Be7 4. d3 Nc6 5. Qg3 O-O 6. Bh6 Nh5 7. Qg4 Bb4+ 8. c3 Qf6 9. Bg5 Qg6 1…",
         "_deepnote_index_column": 1676415
        },
        {
         "Result": "0-1",
         "White_ELO": 1793,
         "Black_ELO": 2192,
         "ECO": "B50",
         "Opening": "Sicilian Defense",
         "Termination": "Normal",
         "AN": "1. e4 c5 2. Nf3 d6 3. Bc4 e6 4. O-O Nf6 5. Nc3 a6 6. Be2 Be7 7. e5 dxe5 8. Nxe5 Nbd7 9. Ng4 O-O 10.…",
         "_deepnote_index_column": 1676416
        },
        {
         "Result": "1-0",
         "White_ELO": 1650,
         "Black_ELO": 1968,
         "ECO": "C50",
         "Opening": "Italian Game: Schilling-Kostic Gambit",
         "Termination": "Time forfeit",
         "AN": "1. e4 e5 2. Nf3 Nc6 3. Bc4 Nd4 4. O-O Nxf3+ 5. Qxf3 Qf6 6. Qb3 c6 7. Nc3 b5 8. Bxb5 cxb5 9. Qxb5 a6…",
         "_deepnote_index_column": 1676417
        },
        {
         "Result": "0-1",
         "White_ELO": 2151,
         "Black_ELO": 1945,
         "ECO": "B23",
         "Opening": "Sicilian Defense: Closed Variation, Korchnoi Defense",
         "Termination": "Normal",
         "AN": "1. e4 { [%eval 0.32] } 1... c5 { [%eval 0.35] } 2. Nc3 { [%eval 0.25] } 2... e6 { [%eval 0.31] } 3.…",
         "_deepnote_index_column": 1676418
        },
        {
         "Result": "0-1",
         "White_ELO": 1852,
         "Black_ELO": 1947,
         "ECO": "A40",
         "Opening": "Horwitz Defense",
         "Termination": "Normal",
         "AN": "1. d4 e6 2. c4 c5 3. e3 Qb6 4. Nf3 Nc6 5. d5 exd5 6. Qxd5 Nb4 7. Qd1 d6 8. Nc3 Bg4 9. Be2 Bxf3 10. …",
         "_deepnote_index_column": 1676419
        },
        {
         "Result": "1-0",
         "White_ELO": 1666,
         "Black_ELO": 1729,
         "ECO": "C45",
         "Opening": "Scotch Game: Classical Variation",
         "Termination": "Normal",
         "AN": "1. e4 e5 2. Nf3 Bc5 3. d4 exd4 4. Nxd4 Nc6 5. Nxc6 Bxf2+ 6. Kxf2 Qf6+ 7. Qf3 Qxc6 8. Nc3 a6 9. Be3 …",
         "_deepnote_index_column": 1676420
        },
        {
         "Result": "1-0",
         "White_ELO": 1028,
         "Black_ELO": 1286,
         "ECO": "C00",
         "Opening": "French Defense: Normal Variation",
         "Termination": "Normal",
         "AN": "1. e4 e6 2. d4 b6 3. c3 Bb7 4. Nd2 Nf6 5. e5 Nd5 6. Ngf3 Nf4 7. b3 Ba6 8. Ne4 Bxf1 9. Rxf1 Nxg2+ 10…",
         "_deepnote_index_column": 1676421
        },
        {
         "Result": "0-1",
         "White_ELO": 1645,
         "Black_ELO": 1696,
         "ECO": "C01",
         "Opening": "French Defense: Exchange Variation",
         "Termination": "Normal",
         "AN": "1. e4 e6 2. d4 d5 3. exd5 exd5 4. Qe2+ Qe7 5. Qxe7+ Bxe7 6. Nc3 Nf6 7. Bg5 Nc6 8. Bxf6 Bxf6 9. Nxd5…",
         "_deepnote_index_column": 1676422
        },
        {
         "Result": "0-1",
         "White_ELO": 1551,
         "Black_ELO": 1425,
         "ECO": "C41",
         "Opening": "Philidor Defense #3",
         "Termination": "Normal",
         "AN": "1. e4 e5 2. Nf3 d6 3. Bc4 h6 4. O-O Nf6 5. Re1 d5 6. exd5 Bg4 7. Rxe5+ Be7 8. Bb5+ c6 9. dxc6 bxc6 …",
         "_deepnote_index_column": 1676423
        },
        {
         "Result": "1-0",
         "White_ELO": 1728,
         "Black_ELO": 1686,
         "ECO": "C42",
         "Opening": "Russian Game: Urusov Gambit",
         "Termination": "Normal",
         "AN": "1. e4 e5 2. Bc4 Nf6 3. Nf3 Nxe4 4. Nxe5 Qe7 5. Bxf7+ Kd8 6. Qe2 Nd6 7. Bb3 g6 8. d4 Bg7 9. Bf4 Re8 …",
         "_deepnote_index_column": 1676424
        },
        {
         "Result": "0-1",
         "White_ELO": 990,
         "Black_ELO": 1868,
         "ECO": "B23",
         "Opening": "Sicilian Defense: Closed",
         "Termination": "Time forfeit",
         "AN": "1. e4 c5 2. Nc3 e6 3. Nf3 Be7 4. Bc4 a6 5. d3 b5 6. Bd5 exd5 7. exd5 Nf6 8. Bg5 O-O 9. Bxf6 Bxf6 10…",
         "_deepnote_index_column": 1676425
        },
        {
         "Result": "1-0",
         "White_ELO": 1916,
         "Black_ELO": 1865,
         "ECO": "B07",
         "Opening": "Pirc Defense #4",
         "Termination": "Time forfeit",
         "AN": "1. e4 d6 2. Nf3 Nf6 3. Bc4 g6 4. O-O Bg7 5. Bxf7+ Kxf7 6. Ng5+ Ke8 7. d4 h6 8. Nf3 Nxe4 9. Re1 d5 1…",
         "_deepnote_index_column": 1676426
        },
        {
         "Result": "1-0",
         "White_ELO": 1843,
         "Black_ELO": 1878,
         "ECO": "B00",
         "Opening": "King's Pawn",
         "Termination": "Abandoned",
         "AN": "1. e4 1-0",
         "_deepnote_index_column": 1676427
        },
        {
         "Result": "1-0",
         "White_ELO": 1581,
         "Black_ELO": 1517,
         "ECO": "E20",
         "Opening": "Nimzo-Indian Defense",
         "Termination": "Time forfeit",
         "AN": "1. d4 Nf6 2. c4 e6 3. Nc3 Bb4 4. Bd2 O-O 5. e3 Bxc3 6. Bxc3 Ne4 7. Bb4 d6 8. Qd3 Nc6 9. Ba3 Nf6 10.…",
         "_deepnote_index_column": 1676428
        },
        {
         "Result": "0-1",
         "White_ELO": 1518,
         "Black_ELO": 1577,
         "ECO": "B06",
         "Opening": "Robatsch (Modern) Defense",
         "Termination": "Time forfeit",
         "AN": "1. e4 g6 2. d4 Bg7 3. e5 e6 4. Nf3 d5 5. exd6 Qxd6 6. Ng5 e5 7. Qf3 Nh6 8. dxe5 Qxe5+ 9. Ne4 O-O 10…",
         "_deepnote_index_column": 1676429
        },
        {
         "Result": "0-1",
         "White_ELO": 1630,
         "Black_ELO": 2195,
         "ECO": "C21",
         "Opening": "Danish Gambit",
         "Termination": "Normal",
         "AN": "1. e4 e5 2. d4 exd4 3. c3 dxc3 4. Nxc3 Bb4 5. Nf3 Bxc3+ 6. bxc3 d6 7. Bc4 Nf6 8. Ne5 dxe5 9. Bxf7+ …",
         "_deepnote_index_column": 1676430
        },
        {
         "Result": "0-1",
         "White_ELO": 1065,
         "Black_ELO": 1351,
         "ECO": "C20",
         "Opening": "King's Pawn Opening: 2.b3",
         "Termination": "Normal",
         "AN": "1. e4 e5 2. b3 Bb4 3. c3 Bc5 4. Bb2 d5 5. f3 dxe4 6. fxe4 Bxg1 7. Rxg1 Qh4+ 8. g3 Qxh2 9. Rg2 Qh1 1…",
         "_deepnote_index_column": 1676431
        },
        {
         "Result": "1-0",
         "White_ELO": 2134,
         "Black_ELO": 1794,
         "ECO": "C26",
         "Opening": "Bishop's Opening: Vienna Hybrid, Spielmann Attack",
         "Termination": "Normal",
         "AN": "1. e4 e5 2. Nc3 Nf6 3. Bc4 Bc5 4. d3 h6 5. Nge2 O-O 6. O-O a6 7. a3 b5 8. Ba2 Nc6 9. b4 Bb6 10. Bb2…",
         "_deepnote_index_column": 1676432
        },
        {
         "Result": "1-0",
         "White_ELO": 1630,
         "Black_ELO": 1537,
         "ECO": "B07",
         "Opening": "Pirc Defense #4",
         "Termination": "Normal",
         "AN": "1. e4 d6 2. Bc4 Be6 3. Bxe6 fxe6 4. Qh5+ g6 5. Qb5+ c6 6. Qxb7 Nd7 7. Qxc6 d5 8. exd5 exd5 9. Qxd5 …",
         "_deepnote_index_column": 1676433
        },
        {
         "Result": "1-0",
         "White_ELO": 1527,
         "Black_ELO": 1517,
         "ECO": "B01",
         "Opening": "Scandinavian Defense",
         "Termination": "Normal",
         "AN": "1. e4 d5 2. e5 d4 3. Be2 Nc6 4. f4 f6 5. exf6 gxf6 6. Nf3 Bf5 7. d3 Qd6 8. g3 Qb4+ 9. c3 dxc3 10. N…",
         "_deepnote_index_column": 1676434
        },
        {
         "Result": "0-1",
         "White_ELO": 2032,
         "Black_ELO": 1996,
         "ECO": "A40",
         "Opening": "Modern Defense",
         "Termination": "Normal",
         "AN": "1. d4 g6 2. c4 Bg7 3. Nc3 Nc6 4. Nf3 a6 5. Bf4 d6 6. Qd2 Bg4 7. Ng5 Nxd4 8. h3 Bf5 9. e4 Bd7 10. O-…",
         "_deepnote_index_column": 1676435
        },
        {
         "Result": "0-1",
         "White_ELO": 2177,
         "Black_ELO": 1972,
         "ECO": "C44",
         "Opening": "Scotch Game: Benima Defense",
         "Termination": "Normal",
         "AN": "1. e4 e5 2. Nf3 Nc6 3. d4 exd4 4. Bc4 Be7 5. Nxd4 Nxd4 6. Qxd4 Bf6 7. e5 Qe7 8. Bf4 d6 9. O-O dxe5 …",
         "_deepnote_index_column": 1676436
        },
        {
         "Result": "1-0",
         "White_ELO": 1480,
         "Black_ELO": 1504,
         "ECO": "C55",
         "Opening": "Italian Game: Anti-Fried Liver Defense",
         "Termination": "Normal",
         "AN": "1. e4 e5 2. Nf3 Nc6 3. Bc4 h6 4. d4 f6 5. d5 Nd4 6. Nxd4 exd4 7. Qxd4 c5 8. dxc6 dxc6 9. Qxd8+ Kxd8…",
         "_deepnote_index_column": 1676437
        },
        {
         "Result": "0-1",
         "White_ELO": 1794,
         "Black_ELO": 1814,
         "ECO": "C00",
         "Opening": "French Defense: Knight Variation",
         "Termination": "Normal",
         "AN": "1. e4 { [%eval 0.15] } 1... e6 { [%eval 0.23] } 2. Nf3 { [%eval 0.16] } 2... d5 { [%eval 0.11] } 3.…",
         "_deepnote_index_column": 1676438
        },
        {
         "Result": "1-0",
         "White_ELO": 1583,
         "Black_ELO": 1387,
         "ECO": "C40",
         "Opening": "King's Pawn Game: Busch-Gass Gambit",
         "Termination": "Normal",
         "AN": "1. e4 { [%eval 0.19] } 1... e5 { [%eval 0.26] } 2. Nf3 { [%eval 0.29] } 2... Bc5?! { [%eval 1.13] }…",
         "_deepnote_index_column": 1676439
        },
        {
         "Result": "1-0",
         "White_ELO": 1573,
         "Black_ELO": 1563,
         "ECO": "C00",
         "Opening": "French Defense: Steinitz Attack",
         "Termination": "Normal",
         "AN": "1. e4 e6 2. e5 d6 3. d4 dxe5 4. dxe5 Qxd1+ 5. Kxd1 Nc6 6. f4 b6 7. Bb5 Bb7 8. Nc3 Ne7 9. Be3 O-O-O+…",
         "_deepnote_index_column": 1676440
        },
        {
         "Result": "0-1",
         "White_ELO": 1245,
         "Black_ELO": 1868,
         "ECO": "C20",
         "Opening": "King's Pawn Game",
         "Termination": "Time forfeit",
         "AN": "1. e4 e5 0-1",
         "_deepnote_index_column": 1676441
        },
        {
         "Result": "1-0",
         "White_ELO": 1229,
         "Black_ELO": 1216,
         "ECO": "C44",
         "Opening": "Scotch Game",
         "Termination": "Time forfeit",
         "AN": "1. e4 e5 2. Nf3 Nc6 3. d4 d6 4. d5 Nce7 5. Bc4 Bg4 6. Bb5+ Bd7 7. Bc4 b5 8. Bd3 Bg4 9. Bxb5+ Bd7 10…",
         "_deepnote_index_column": 1676442
        },
        {
         "Result": "1-0",
         "White_ELO": 1744,
         "Black_ELO": 1337,
         "ECO": "A40",
         "Opening": "Modern Defense",
         "Termination": "Normal",
         "AN": "1. d4 g6 2. b3 c6 3. Bb2 Bg7 4. Nf3 d6 5. e3 h6 6. Nbd2 b5 7. Bd3 Bb7 8. O-O Na6 9. a3 c5 10. Rb1 c…",
         "_deepnote_index_column": 1676443
        },
        {
         "Result": "1-0",
         "White_ELO": 1328,
         "Black_ELO": 1292,
         "ECO": "C40",
         "Opening": "King's Knight Opening",
         "Termination": "Normal",
         "AN": "1. e4 e5 2. Nf3 h6 3. Nc3 d6 4. Bc4 Qf6 5. Nd5 Qd8 6. O-O c6 7. Nb4 c5 8. Nd5 Be6 9. d3 Nf6 10. Nxf…",
         "_deepnote_index_column": 1676444
        },
        {
         "Result": "0-1",
         "White_ELO": 1948,
         "Black_ELO": 1992,
         "ECO": "C00",
         "Opening": "Rat Defense: Small Center Defense",
         "Termination": "Normal",
         "AN": "1. e4 e6 2. d4 d6 3. Nc3 c6 4. Nf3 Be7 5. Bc4 Nd7 6. O-O Ngf6 7. Bg5 O-O 8. Qd2 h6 9. Bh4 Nh7 10. B…",
         "_deepnote_index_column": 1676445
        }
       ]
      },
      "text/plain": "        Result  White_ELO  Black_ELO  ECO  \\\n0          1-0       1901       1896  D10   \n1          0-1       1649       1638  C57   \n2          1-0       1630       1500  C41   \n3          0-1       1891       1930  C78   \n4          0-1       1747       1731  C46   \n...        ...        ...        ...  ...   \n1676441    0-1       1245       1868  C20   \n1676442    1-0       1229       1216  C44   \n1676443    1-0       1744       1337  A40   \n1676444    1-0       1328       1292  C40   \n1676445    0-1       1948       1992  C00   \n\n                                                   Opening   Termination  \\\n0                                             Slav Defense  Time forfeit   \n1        Italian Game: Two Knights Defense, Traxler Cou...        Normal   \n2                                      Philidor Defense #3        Normal   \n3         Ruy Lopez: Morphy Defense, Arkhangelsk Variation  Time forfeit   \n4                                 Three Knights Opening #2        Normal   \n...                                                    ...           ...   \n1676441                                   King's Pawn Game  Time forfeit   \n1676442                                        Scotch Game  Time forfeit   \n1676443                                     Modern Defense        Normal   \n1676444                              King's Knight Opening        Normal   \n1676445                  Rat Defense: Small Center Defense        Normal   \n\n                                                        AN  \n0        1. d4 d5 2. c4 c6 3. e3 a6 4. Nf3 e5 5. cxd5 e...  \n1        1. e4 e5 2. Nf3 Nc6 3. Bc4 Nf6 4. Ng5 Bc5 5. N...  \n2        1. e4 e5 2. Nf3 d6 3. Bc4 Nc6 4. d3 Na5 5. Na3...  \n3        1. e4 e5 2. Nf3 Nc6 3. Bb5 a6 4. Ba4 Nf6 5. O-...  \n4        1. e4 e5 2. Nf3 Nc6 3. Nc3 Bb4 4. a3 Ba5 5. b4...  \n...                                                    ...  \n1676441                                       1. e4 e5 0-1  \n1676442  1. e4 e5 2. Nf3 Nc6 3. d4 d6 4. d5 Nce7 5. Bc4...  \n1676443  1. d4 g6 2. b3 c6 3. Bb2 Bg7 4. Nf3 d6 5. e3 h...  \n1676444  1. e4 e5 2. Nf3 h6 3. Nc3 d6 4. Bc4 Qf6 5. Nd5...  \n1676445  1. e4 e6 2. d4 d6 3. Nc3 c6 4. Nf3 Be7 5. Bc4 ...  \n\n[1676446 rows x 7 columns]",
      "text/html": "<div>\n<style scoped>\n    .dataframe tbody tr th:only-of-type {\n        vertical-align: middle;\n    }\n\n    .dataframe tbody tr th {\n        vertical-align: top;\n    }\n\n    .dataframe thead th {\n        text-align: right;\n    }\n</style>\n<table border=\"1\" class=\"dataframe\">\n  <thead>\n    <tr style=\"text-align: right;\">\n      <th></th>\n      <th>Result</th>\n      <th>White_ELO</th>\n      <th>Black_ELO</th>\n      <th>ECO</th>\n      <th>Opening</th>\n      <th>Termination</th>\n      <th>AN</th>\n    </tr>\n  </thead>\n  <tbody>\n    <tr>\n      <th>0</th>\n      <td>1-0</td>\n      <td>1901</td>\n      <td>1896</td>\n      <td>D10</td>\n      <td>Slav Defense</td>\n      <td>Time forfeit</td>\n      <td>1. d4 d5 2. c4 c6 3. e3 a6 4. Nf3 e5 5. cxd5 e...</td>\n    </tr>\n    <tr>\n      <th>1</th>\n      <td>0-1</td>\n      <td>1649</td>\n      <td>1638</td>\n      <td>C57</td>\n      <td>Italian Game: Two Knights Defense, Traxler Cou...</td>\n      <td>Normal</td>\n      <td>1. e4 e5 2. Nf3 Nc6 3. Bc4 Nf6 4. Ng5 Bc5 5. N...</td>\n    </tr>\n    <tr>\n      <th>2</th>\n      <td>1-0</td>\n      <td>1630</td>\n      <td>1500</td>\n      <td>C41</td>\n      <td>Philidor Defense #3</td>\n      <td>Normal</td>\n      <td>1. e4 e5 2. Nf3 d6 3. Bc4 Nc6 4. d3 Na5 5. Na3...</td>\n    </tr>\n    <tr>\n      <th>3</th>\n      <td>0-1</td>\n      <td>1891</td>\n      <td>1930</td>\n      <td>C78</td>\n      <td>Ruy Lopez: Morphy Defense, Arkhangelsk Variation</td>\n      <td>Time forfeit</td>\n      <td>1. e4 e5 2. Nf3 Nc6 3. Bb5 a6 4. Ba4 Nf6 5. O-...</td>\n    </tr>\n    <tr>\n      <th>4</th>\n      <td>0-1</td>\n      <td>1747</td>\n      <td>1731</td>\n      <td>C46</td>\n      <td>Three Knights Opening #2</td>\n      <td>Normal</td>\n      <td>1. e4 e5 2. Nf3 Nc6 3. Nc3 Bb4 4. a3 Ba5 5. b4...</td>\n    </tr>\n    <tr>\n      <th>...</th>\n      <td>...</td>\n      <td>...</td>\n      <td>...</td>\n      <td>...</td>\n      <td>...</td>\n      <td>...</td>\n      <td>...</td>\n    </tr>\n    <tr>\n      <th>1676441</th>\n      <td>0-1</td>\n      <td>1245</td>\n      <td>1868</td>\n      <td>C20</td>\n      <td>King's Pawn Game</td>\n      <td>Time forfeit</td>\n      <td>1. e4 e5 0-1</td>\n    </tr>\n    <tr>\n      <th>1676442</th>\n      <td>1-0</td>\n      <td>1229</td>\n      <td>1216</td>\n      <td>C44</td>\n      <td>Scotch Game</td>\n      <td>Time forfeit</td>\n      <td>1. e4 e5 2. Nf3 Nc6 3. d4 d6 4. d5 Nce7 5. Bc4...</td>\n    </tr>\n    <tr>\n      <th>1676443</th>\n      <td>1-0</td>\n      <td>1744</td>\n      <td>1337</td>\n      <td>A40</td>\n      <td>Modern Defense</td>\n      <td>Normal</td>\n      <td>1. d4 g6 2. b3 c6 3. Bb2 Bg7 4. Nf3 d6 5. e3 h...</td>\n    </tr>\n    <tr>\n      <th>1676444</th>\n      <td>1-0</td>\n      <td>1328</td>\n      <td>1292</td>\n      <td>C40</td>\n      <td>King's Knight Opening</td>\n      <td>Normal</td>\n      <td>1. e4 e5 2. Nf3 h6 3. Nc3 d6 4. Bc4 Qf6 5. Nd5...</td>\n    </tr>\n    <tr>\n      <th>1676445</th>\n      <td>0-1</td>\n      <td>1948</td>\n      <td>1992</td>\n      <td>C00</td>\n      <td>Rat Defense: Small Center Defense</td>\n      <td>Normal</td>\n      <td>1. e4 e6 2. d4 d6 3. Nc3 c6 4. Nf3 Be7 5. Bc4 ...</td>\n    </tr>\n  </tbody>\n</table>\n<p>1676446 rows × 7 columns</p>\n</div>"
     },
     "metadata": {}
    }
   ]
  },
  {
   "cell_type": "markdown",
   "source": "First, we wanted to check if any side, black or white, has any inherent advantage, meaning whether one side wins more than the other. ",
   "metadata": {
    "tags": [],
    "is_collapsed": false,
    "cell_id": "00021-dda9aa2d-8257-4a6f-b7b9-655ea3d028b2",
    "deepnote_cell_type": "text-cell-p"
   }
  },
  {
   "cell_type": "markdown",
   "source": "### Setup",
   "metadata": {
    "tags": [],
    "is_collapsed": false,
    "cell_id": "00023-649545f8-c8ce-47cf-9e52-77018d880fed",
    "deepnote_cell_type": "text-cell-h3"
   }
  },
  {
   "cell_type": "code",
   "metadata": {
    "tags": [],
    "cell_id": "00023-5c55cd0b-da95-4ef9-b82f-c428a15e7eef",
    "deepnote_to_be_reexecuted": false,
    "source_hash": "d9b79723",
    "execution_start": 1636496148425,
    "execution_millis": 1205,
    "deepnote_cell_type": "code"
   },
   "source": "import pandas as pd\nimport numpy as np\nimport matplotlib.pyplot as plt\n",
   "execution_count": null,
   "outputs": []
  },
  {
   "cell_type": "markdown",
   "source": "### Results in all games",
   "metadata": {
    "tags": [],
    "is_collapsed": false,
    "cell_id": "00023-9c233e39-8c02-4650-b5eb-f53e2ac92552",
    "deepnote_cell_type": "text-cell-h3"
   }
  },
  {
   "cell_type": "code",
   "metadata": {
    "tags": [],
    "cell_id": "00022-9f47a7a4-c13a-4b4c-b441-9d9d4703d89c",
    "deepnote_to_be_reexecuted": false,
    "source_hash": "ee2b255e",
    "execution_start": 1636496149641,
    "execution_millis": 335,
    "deepnote_output_heights": [
     233
    ],
    "deepnote_cell_type": "code"
   },
   "source": "y = np.array([49.94, 45.95, 4.11])\nmylabels = [\"White wins\", \"Black wins\", \"Draws\"]\n\nplt.pie(y, labels = mylabels)\nplt.show()",
   "execution_count": null,
   "outputs": [
    {
     "data": {
      "text/plain": "<Figure size 432x288 with 1 Axes>",
      "image/png": "[encoded data removed]"
     },
     "metadata": {
      "image/png": {
       "width": 249,
       "height": 231
      }
     },
     "output_type": "display_data"
    }
   ]
  },
  {
   "cell_type": "markdown",
   "source": "The results have shown that white indeed has an inherent advantage, albeit a marginal one. The white side won 49.94% of the matches, while the black side only won 45.95%, and the reminder, 4.11% of the games, were concluded as draws. This advantage is known as the first-move advantage in the chess world. We wanted to see if the same holds in high elo rated games.",
   "metadata": {
    "tags": [],
    "is_collapsed": false,
    "cell_id": "00022-12312f46-c956-4ef8-a0b7-0a5813de567b",
    "deepnote_cell_type": "text-cell-p"
   }
  },
  {
   "cell_type": "markdown",
   "source": "### Results in high ELO games",
   "metadata": {
    "tags": [],
    "is_collapsed": false,
    "cell_id": "00026-0c8ad862-bf44-43c4-8bb6-175f9dced313",
    "deepnote_cell_type": "text-cell-h3"
   }
  },
  {
   "cell_type": "code",
   "metadata": {
    "tags": [],
    "cell_id": "00025-c078f3ba-a08d-48e5-822c-e3b8422cfcf8",
    "deepnote_to_be_reexecuted": false,
    "source_hash": "834353a2",
    "execution_start": 1636496149839,
    "execution_millis": 144,
    "deepnote_output_heights": [
     233
    ],
    "deepnote_cell_type": "code"
   },
   "source": "y = np.array([49.13, 45.81, 5.05])\nmylabels = [\"White wins\", \"Black wins\", \"Draws\"]\n\nplt.pie(y, labels = mylabels)\nplt.show()",
   "execution_count": null,
   "outputs": [
    {
     "data": {
      "text/plain": "<Figure size 432x288 with 1 Axes>",
      "image/png": "[encoded data removed]"
     },
     "metadata": {
      "image/png": {
       "width": 248,
       "height": 231
      }
     },
     "output_type": "display_data"
    }
   ]
  },
  {
   "cell_type": "markdown",
   "source": "An interesting difference is that the amount of draws has gone up, by a whopping 1%. We can also see that the ratio between white wins and black wins went down, although marginally (from 1.09 to 1.07).",
   "metadata": {
    "tags": [],
    "is_collapsed": false,
    "cell_id": "00026-fe2d8386-910c-4af0-a1f1-f0e7e6e8a45d",
    "deepnote_cell_type": "text-cell-p"
   }
  },
  {
   "cell_type": "markdown",
   "source": "We took an additional step in our analysis and analyzed games of 12 different grandmasters, both from pre-computer era and from post-computer era:",
   "metadata": {
    "tags": [],
    "is_collapsed": false,
    "cell_id": "00031-eebfe928-fc9f-4b51-ad93-497410593b2a",
    "deepnote_cell_type": "text-cell-p"
   }
  },
  {
   "cell_type": "markdown",
   "source": "### Results in grandmaster games",
   "metadata": {
    "tags": [],
    "is_collapsed": false,
    "cell_id": "00030-08f997b6-98ed-437b-90f7-aac42a278acf",
    "deepnote_cell_type": "text-cell-h3"
   }
  },
  {
   "cell_type": "code",
   "metadata": {
    "tags": [],
    "cell_id": "00026-0a5343aa-5c05-45fb-8e03-bd6f21721b4e",
    "deepnote_to_be_reexecuted": false,
    "source_hash": "f52a6b38",
    "execution_start": 1636496149923,
    "execution_millis": 139,
    "deepnote_output_heights": [
     233
    ],
    "deepnote_cell_type": "code"
   },
   "source": "y = np.array([35.16, 23.87, 59])\nmylabels = [\"White wins\", \"Black wins\", \"Draws\"]\n\nplt.pie(y, labels = mylabels)\nplt.show()",
   "execution_count": null,
   "outputs": [
    {
     "data": {
      "text/plain": "<Figure size 432x288 with 1 Axes>",
      "image/png": "[encoded data removed]"
     },
     "metadata": {
      "image/png": {
       "width": 255,
       "height": 231
      }
     },
     "output_type": "display_data"
    }
   ]
  },
  {
   "cell_type": "markdown",
   "source": "It can be seen that the ratio between white wins and black wins has drastically gone up to 1.47, which suggests that the first move advantage only becomes apparent at the highest level of games. Additionally, the trend in the increase of draws percentage continued and jumped drastically as well. ",
   "metadata": {
    "tags": [],
    "is_collapsed": false,
    "cell_id": "00026-546c8883-2612-4779-a417-ed9db509c66e",
    "deepnote_cell_type": "text-cell-p"
   }
  },
  {
   "cell_type": "markdown",
   "source": "### Analyzing chess openings",
   "metadata": {
    "tags": [],
    "is_collapsed": false,
    "cell_id": "00022-2feb72ea-96c0-45d6-80c4-81414d1590e5",
    "deepnote_cell_type": "text-cell-h3"
   }
  },
  {
   "cell_type": "markdown",
   "source": "A useful way to encode opening types in chess is called ECO (Encyclopaedia of Chess Openings). The openings are divided into 5 types: flank openings (A), semi-open games (B), open games (C), closed games and semi-closed games (D) and indian defences (E). We wanted to see which opening type is the most popular in chess, and so we created the following graph which shows the top 20 most popular ECO code openings.",
   "metadata": {
    "tags": [],
    "is_collapsed": false,
    "cell_id": "00023-c2bbbc13-5c7a-481c-bf69-f36f5324ff08",
    "deepnote_cell_type": "text-cell-p"
   }
  },
  {
   "cell_type": "code",
   "metadata": {
    "tags": [],
    "cell_id": "00024-0aae8fef-0ade-4a37-9d2a-214076ccd040",
    "deepnote_to_be_reexecuted": false,
    "source_hash": "44ee78c9",
    "execution_start": 1636496150112,
    "execution_millis": 1,
    "deepnote_cell_type": "code"
   },
   "source": "df=pd.read_csv('ECO_counts.csv')\n\nfiltered_df = df.head(20)\n\nfiltered_df = filtered_df.rename(columns={'mycount' : 'total times played'})",
   "execution_count": null,
   "outputs": []
  },
  {
   "cell_type": "markdown",
   "source": "### ECO vs total times played in all games",
   "metadata": {
    "tags": [],
    "is_collapsed": false,
    "cell_id": "00026-c40ef7b3-771c-42d1-a5a9-51e5e2d83b04",
    "deepnote_cell_type": "text-cell-h3"
   }
  },
  {
   "cell_type": "code",
   "source": "_deepnote_run_altair(filtered_df, \"\"\"{\"$schema\":\"https://vega.github.io/schema/vega-lite/v4.json\",\"mark\":{\"type\":\"bar\",\"tooltip\":{\"content\":\"data\"}},\"height\":220,\"autosize\":{\"type\":\"fit\"},\"data\":{\"name\":\"placeholder\"},\"encoding\":{\"x\":{\"field\":\"ECO\",\"type\":\"nominal\",\"sort\":null,\"scale\":{\"type\":\"linear\",\"zero\":false}},\"y\":{\"field\":\"total times played\",\"type\":\"quantitative\",\"sort\":null,\"scale\":{\"type\":\"linear\",\"zero\":true}},\"color\":{\"field\":\"\",\"type\":\"nominal\",\"sort\":null,\"scale\":{\"type\":\"linear\",\"zero\":false}}}}\"\"\")",
   "metadata": {
    "cell_id": "00025-202f63e1-7bdf-4a35-8d4e-ce0b9c97d3d3",
    "deepnote_variable_name": "filtered_df",
    "deepnote_visualization_spec": {
     "$schema": "https://vega.github.io/schema/vega-lite/v4.json",
     "mark": {
      "type": "bar",
      "tooltip": {
       "content": "data"
      }
     },
     "height": 220,
     "autosize": {
      "type": "fit"
     },
     "data": {
      "name": "placeholder"
     },
     "encoding": {
      "x": {
       "field": "ECO",
       "type": "nominal",
       "sort": null,
       "scale": {
        "type": "linear",
        "zero": false
       }
      },
      "y": {
       "field": "total times played",
       "type": "quantitative",
       "sort": null,
       "scale": {
        "type": "linear",
        "zero": true
       }
      },
      "color": {
       "field": "",
       "type": "nominal",
       "sort": null,
       "scale": {
        "type": "linear",
        "zero": false
       }
      }
     }
    },
    "deepnote_to_be_reexecuted": false,
    "source_hash": "5826c026",
    "execution_start": 1636496150113,
    "execution_millis": 320,
    "deepnote_output_heights": [
     314
    ],
    "deepnote_cell_type": "visualization"
   },
   "execution_count": null,
   "outputs": [
    {
     "output_type": "execute_result",
     "execution_count": 7,
     "data": {
      "text/html": "\n<div id=\"altair-viz-b7119f8b397d4eacb037b6a3b91ed335\"></div>\n<script type=\"text/javascript\">\n  (function(spec, embedOpt){\n    let outputDiv = document.currentScript.previousElementSibling;\n    if (outputDiv.id !== \"altair-viz-b7119f8b397d4eacb037b6a3b91ed335\") {\n      outputDiv = document.getElementById(\"altair-viz-b7119f8b397d4eacb037b6a3b91ed335\");\n    }\n    const paths = {\n      \"vega\": \"https://cdn.jsdelivr.net/npm//vega@5?noext\",\n      \"vega-lib\": \"https://cdn.jsdelivr.net/npm//vega-lib?noext\",\n      \"vega-lite\": \"https://cdn.jsdelivr.net/npm//vega-lite@4.8.1?noext\",\n      \"vega-embed\": \"https://cdn.jsdelivr.net/npm//vega-embed@6?noext\",\n    };\n\n    function loadScript(lib) {\n      return new Promise(function(resolve, reject) {\n        var s = document.createElement('script');\n        s.src = paths[lib];\n        s.async = true;\n        s.onload = () => resolve(paths[lib]);\n        s.onerror = () => reject(`Error loading script: ${paths[lib]}`);\n        document.getElementsByTagName(\"head\")[0].appendChild(s);\n      });\n    }\n\n    function showError(err) {\n      outputDiv.innerHTML = `<div class=\"error\" style=\"color:red;\">${err}</div>`;\n      throw err;\n    }\n\n    function displayChart(vegaEmbed) {\n      vegaEmbed(outputDiv, spec, embedOpt)\n        .catch(err => showError(`Javascript Error: ${err.message}<br>This usually means there's a typo in your chart specification. See the javascript console for the full traceback.`));\n    }\n\n    if(typeof define === \"function\" && define.amd) {\n      requirejs.config({paths});\n      require([\"vega-embed\"], displayChart, err => showError(`Error loading script: ${err.message}`));\n    } else if (typeof vegaEmbed === \"function\") {\n      displayChart(vegaEmbed);\n    } else {\n      loadScript(\"vega\")\n        .then(() => loadScript(\"vega-lite\"))\n        .then(() => loadScript(\"vega-embed\"))\n        .catch(showError)\n        .then(() => displayChart(vegaEmbed));\n    }\n  })({\"config\": {\"view\": {\"continuousWidth\": 400, \"continuousHeight\": 300}, \"area\": {\"fill\": \"#51C0E9\"}, \"axis\": {\"labelFont\": \"Inter, sans-serif\", \"labelFontSize\": 12, \"labelFontWeight\": \"normal\", \"labelLimit\": 60, \"labelOverlap\": \"greedy\", \"titleFont\": \"Inter, sans-serif\", \"titleFontSize\": 12, \"titleFontWeight\": \"bold\"}, \"background\": \"#ffffff\", \"legend\": {\"labelFont\": \"Inter, sans-serif\", \"labelFontSize\": 12, \"titleFont\": \"Inter, sans-serif\", \"titleFontSize\": 12, \"titleFontWeight\": \"bold\"}, \"line\": {\"stroke\": \"#51C0E9\", \"strokeWidth\": 2}, \"rect\": {\"fill\": \"#51C0E9\"}, \"title\": {\"anchor\": \"start\", \"color\": \"#000000\", \"font\": \"Inter, sans-serif\", \"fontSize\": 22, \"fontWeight\": \"normal\"}}, \"data\": {\"name\": \"data-ae663c4907cb1a2917ade57dabe6a153\"}, \"mark\": {\"type\": \"bar\", \"tooltip\": {\"content\": \"data\"}}, \"autosize\": {\"type\": \"fit\"}, \"encoding\": {\"color\": {\"type\": \"nominal\", \"field\": \"\", \"scale\": {\"type\": \"linear\", \"zero\": false}, \"sort\": null}, \"x\": {\"type\": \"nominal\", \"field\": \"ECO\", \"scale\": {\"type\": \"linear\", \"zero\": false}, \"sort\": null}, \"y\": {\"type\": \"quantitative\", \"field\": \"total times played\", \"scale\": {\"type\": \"linear\", \"zero\": true}, \"sort\": null}}, \"height\": 300, \"width\": \"container\", \"$schema\": \"https://vega.github.io/schema/vega-lite/v4.json\", \"datasets\": {\"data-ae663c4907cb1a2917ade57dabe6a153\": [{\"ECO\": \"A00\", \"total times played\": 91665}, {\"ECO\": \"C20\", \"total times played\": 83006}, {\"ECO\": \"C41\", \"total times played\": 79858}, {\"ECO\": \"C00\", \"total times played\": 75999}, {\"ECO\": \"D00\", \"total times played\": 75501}, {\"ECO\": \"B01\", \"total times played\": 74779}, {\"ECO\": \"B00\", \"total times played\": 65595}, {\"ECO\": \"A40\", \"total times played\": 56863}, {\"ECO\": \"B20\", \"total times played\": 53149}, {\"ECO\": \"C40\", \"total times played\": 42116}, {\"ECO\": \"C50\", \"total times played\": 38493}, {\"ECO\": \"D02\", \"total times played\": 35443}, {\"ECO\": \"C44\", \"total times played\": 30394}, {\"ECO\": \"C42\", \"total times played\": 30182}, {\"ECO\": \"C55\", \"total times played\": 28159}, {\"ECO\": \"C23\", \"total times played\": 26142}, {\"ECO\": \"B07\", \"total times played\": 24964}, {\"ECO\": \"C46\", \"total times played\": 23447}, {\"ECO\": \"B06\", \"total times played\": 22943}, {\"ECO\": \"C02\", \"total times played\": 20872}]}}, {\"actions\": false, \"mode\": \"vega-lite\"});\n</script>",
      "text/plain": "alt.Chart(...)"
     },
     "metadata": {}
    }
   ]
  },
  {
   "cell_type": "markdown",
   "source": "The most common opening is the irregular opening (A00), which is every opening that doesn't start with the moves e4, d4. Following it is the King's Pawn Game (C20) at second place, and the Philidor Defence (C41) at third.",
   "metadata": {
    "tags": [],
    "is_collapsed": false,
    "cell_id": "00024-bbbe6647-c4cd-4643-bb2e-df8a7cb39f36",
    "deepnote_cell_type": "text-cell-p"
   }
  },
  {
   "cell_type": "markdown",
   "source": "As for opening types, the most popular opening type is the open category (C), which represents half of the most popular openings, which shows that the majority of players prefer open games. An interesting detail is that there are no openings of the indian defence category.",
   "metadata": {
    "tags": [],
    "is_collapsed": false,
    "cell_id": "00041-59c9f815-a8a3-49a4-b308-4624bb670adf",
    "deepnote_cell_type": "text-cell-p"
   }
  },
  {
   "cell_type": "markdown",
   "source": "We wanted to see if the results will change when we look at higher ELO (rating) games. We calculated the average ELO rating for each match, and then calculated the average ELO rating for matches. The average is 1695.43. We chose to look at games with an average ELO rating higher than 1800. A rating of 1800 was chosen as it's higher from our average rating and it leaves us with enough games for a detailed analysis.",
   "metadata": {
    "tags": [],
    "is_collapsed": false,
    "cell_id": "00029-12ce00d2-aee4-4ee8-af31-c7c395cfced5",
    "deepnote_cell_type": "text-cell-p"
   }
  },
  {
   "cell_type": "code",
   "metadata": {
    "tags": [],
    "cell_id": "00029-b780f4bf-eba1-46a7-bda4-9fab727ad3ff",
    "deepnote_to_be_reexecuted": false,
    "source_hash": "d5315fc9",
    "execution_start": 1636496150443,
    "execution_millis": 8,
    "deepnote_cell_type": "code"
   },
   "source": "df2=pd.read_csv('POP_ECO_HIGH_ELO.csv')\n\nfiltered_df2 = df2.head(20)\n\nfiltered_df2 = filtered_df2.rename(columns={'mycount' : 'total times played'})",
   "execution_count": null,
   "outputs": []
  },
  {
   "cell_type": "markdown",
   "source": "### ECO vs total times played in high ELO games",
   "metadata": {
    "tags": [],
    "is_collapsed": false,
    "cell_id": "00031-ce40aa07-9523-4106-aa1f-a939180fd964",
    "deepnote_cell_type": "text-cell-h3"
   }
  },
  {
   "cell_type": "code",
   "source": "_deepnote_run_altair(filtered_df2, \"\"\"{\"$schema\":\"https://vega.github.io/schema/vega-lite/v4.json\",\"mark\":{\"type\":\"bar\",\"tooltip\":{\"content\":\"data\"}},\"height\":220,\"autosize\":{\"type\":\"fit\"},\"data\":{\"name\":\"placeholder\"},\"encoding\":{\"x\":{\"field\":\"ECO\",\"type\":\"nominal\",\"sort\":null,\"scale\":{\"type\":\"linear\",\"zero\":false}},\"y\":{\"field\":\"total times played\",\"type\":\"quantitative\",\"sort\":null,\"scale\":{\"type\":\"linear\",\"zero\":true}},\"color\":{\"field\":\"\",\"type\":\"nominal\",\"sort\":null,\"scale\":{\"type\":\"linear\",\"zero\":false}}}}\"\"\")",
   "metadata": {
    "cell_id": "00030-7dd17161-2cd8-490f-adf6-3fd71d07cffc",
    "deepnote_variable_name": "filtered_df2",
    "deepnote_visualization_spec": {
     "$schema": "https://vega.github.io/schema/vega-lite/v4.json",
     "mark": {
      "type": "bar",
      "tooltip": {
       "content": "data"
      }
     },
     "height": 220,
     "autosize": {
      "type": "fit"
     },
     "data": {
      "name": "placeholder"
     },
     "encoding": {
      "x": {
       "field": "ECO",
       "type": "nominal",
       "sort": null,
       "scale": {
        "type": "linear",
        "zero": false
       }
      },
      "y": {
       "field": "total times played",
       "type": "quantitative",
       "sort": null,
       "scale": {
        "type": "linear",
        "zero": true
       }
      },
      "color": {
       "field": "",
       "type": "nominal",
       "sort": null,
       "scale": {
        "type": "linear",
        "zero": false
       }
      }
     }
    },
    "deepnote_to_be_reexecuted": false,
    "source_hash": "f2b6bd72",
    "execution_start": 1636496150457,
    "execution_millis": 97,
    "deepnote_output_heights": [
     2
    ],
    "deepnote_cell_type": "visualization"
   },
   "execution_count": null,
   "outputs": [
    {
     "output_type": "execute_result",
     "execution_count": 9,
     "data": {
      "text/html": "\n<div id=\"altair-viz-fa6bfb5bcc9144f498409b917c563da3\"></div>\n<script type=\"text/javascript\">\n  (function(spec, embedOpt){\n    let outputDiv = document.currentScript.previousElementSibling;\n    if (outputDiv.id !== \"altair-viz-fa6bfb5bcc9144f498409b917c563da3\") {\n      outputDiv = document.getElementById(\"altair-viz-fa6bfb5bcc9144f498409b917c563da3\");\n    }\n    const paths = {\n      \"vega\": \"https://cdn.jsdelivr.net/npm//vega@5?noext\",\n      \"vega-lib\": \"https://cdn.jsdelivr.net/npm//vega-lib?noext\",\n      \"vega-lite\": \"https://cdn.jsdelivr.net/npm//vega-lite@4.8.1?noext\",\n      \"vega-embed\": \"https://cdn.jsdelivr.net/npm//vega-embed@6?noext\",\n    };\n\n    function loadScript(lib) {\n      return new Promise(function(resolve, reject) {\n        var s = document.createElement('script');\n        s.src = paths[lib];\n        s.async = true;\n        s.onload = () => resolve(paths[lib]);\n        s.onerror = () => reject(`Error loading script: ${paths[lib]}`);\n        document.getElementsByTagName(\"head\")[0].appendChild(s);\n      });\n    }\n\n    function showError(err) {\n      outputDiv.innerHTML = `<div class=\"error\" style=\"color:red;\">${err}</div>`;\n      throw err;\n    }\n\n    function displayChart(vegaEmbed) {\n      vegaEmbed(outputDiv, spec, embedOpt)\n        .catch(err => showError(`Javascript Error: ${err.message}<br>This usually means there's a typo in your chart specification. See the javascript console for the full traceback.`));\n    }\n\n    if(typeof define === \"function\" && define.amd) {\n      requirejs.config({paths});\n      require([\"vega-embed\"], displayChart, err => showError(`Error loading script: ${err.message}`));\n    } else if (typeof vegaEmbed === \"function\") {\n      displayChart(vegaEmbed);\n    } else {\n      loadScript(\"vega\")\n        .then(() => loadScript(\"vega-lite\"))\n        .then(() => loadScript(\"vega-embed\"))\n        .catch(showError)\n        .then(() => displayChart(vegaEmbed));\n    }\n  })({\"config\": {\"view\": {\"continuousWidth\": 400, \"continuousHeight\": 300}, \"area\": {\"fill\": \"#51C0E9\"}, \"axis\": {\"labelFont\": \"Inter, sans-serif\", \"labelFontSize\": 12, \"labelFontWeight\": \"normal\", \"labelLimit\": 60, \"labelOverlap\": \"greedy\", \"titleFont\": \"Inter, sans-serif\", \"titleFontSize\": 12, \"titleFontWeight\": \"bold\"}, \"background\": \"#ffffff\", \"legend\": {\"labelFont\": \"Inter, sans-serif\", \"labelFontSize\": 12, \"titleFont\": \"Inter, sans-serif\", \"titleFontSize\": 12, \"titleFontWeight\": \"bold\"}, \"line\": {\"stroke\": \"#51C0E9\", \"strokeWidth\": 2}, \"rect\": {\"fill\": \"#51C0E9\"}, \"title\": {\"anchor\": \"start\", \"color\": \"#000000\", \"font\": \"Inter, sans-serif\", \"fontSize\": 22, \"fontWeight\": \"normal\"}}, \"data\": {\"name\": \"data-b94671161735c6f0bb95173600262062\"}, \"mark\": {\"type\": \"bar\", \"tooltip\": {\"content\": \"data\"}}, \"autosize\": {\"type\": \"fit\"}, \"encoding\": {\"color\": {\"type\": \"nominal\", \"field\": \"\", \"scale\": {\"type\": \"linear\", \"zero\": false}, \"sort\": null}, \"x\": {\"type\": \"nominal\", \"field\": \"ECO\", \"scale\": {\"type\": \"linear\", \"zero\": false}, \"sort\": null}, \"y\": {\"type\": \"quantitative\", \"field\": \"total times played\", \"scale\": {\"type\": \"linear\", \"zero\": true}, \"sort\": null}}, \"height\": 300, \"width\": \"container\", \"$schema\": \"https://vega.github.io/schema/vega-lite/v4.json\", \"datasets\": {\"data-b94671161735c6f0bb95173600262062\": [{\"avg_elo\": 1823.51393404552, \"ECO\": \"B32\", \"total times played\": 8612}, {\"avg_elo\": 1812.57241569928, \"ECO\": \"B22\", \"total times played\": 7236}, {\"avg_elo\": 1806.85047677014, \"ECO\": \"C53\", \"total times played\": 4929}, {\"avg_elo\": 1837.91813277035, \"ECO\": \"D35\", \"total times played\": 4263}, {\"avg_elo\": 1828.43223549985, \"ECO\": \"E20\", \"total times played\": 3431}, {\"avg_elo\": 1849.89001536098, \"ECO\": \"B13\", \"total times played\": 3255}, {\"avg_elo\": 1899.32460243218, \"ECO\": \"B90\", \"total times played\": 3207}, {\"avg_elo\": 1812.23201770564, \"ECO\": \"B08\", \"total times played\": 2711}, {\"avg_elo\": 1835.25673652695, \"ECO\": \"B03\", \"total times played\": 2672}, {\"avg_elo\": 1829.2839600921, \"ECO\": \"E61\", \"total times played\": 2606}, {\"avg_elo\": 1826.28770595691, \"ECO\": \"D11\", \"total times played\": 2367}, {\"avg_elo\": 1830.5246832678, \"ECO\": \"A15\", \"total times played\": 2289}, {\"avg_elo\": 1885.05424200278, \"ECO\": \"B33\", \"total times played\": 2157}, {\"avg_elo\": 1810.38934229477, \"ECO\": \"C36\", \"total times played\": 2083}, {\"avg_elo\": 1849.06429615197, \"ECO\": \"D15\", \"total times played\": 2053}, {\"avg_elo\": 1807.85205343889, \"ECO\": \"C58\", \"total times played\": 2021}, {\"avg_elo\": 1815.11149653122, \"ECO\": \"C11\", \"total times played\": 2018}, {\"avg_elo\": 1834.56682769726, \"ECO\": \"C37\", \"total times played\": 1863}, {\"avg_elo\": 1877.92059966685, \"ECO\": \"B45\", \"total times played\": 1801}, {\"avg_elo\": 1868.56375071469, \"ECO\": \"C35\", \"total times played\": 1749}]}}, {\"actions\": false, \"mode\": \"vega-lite\"});\n</script>",
      "text/plain": "alt.Chart(...)"
     },
     "metadata": {}
    }
   ]
  },
  {
   "cell_type": "markdown",
   "source": "The chart above shows us the top 20 most popular ECO code openings among high ELO players. Expectedly, while the irregular opening was the most common opening overall, among better players it isn't even in the top 20 as it is a bad opening that worsens white's position immediately. In fact, none of the top 20 most played ECO codes in our high ELO games overlap with the top 20 in the overall games, which is rather surprising, and probably means lower rated players have a very limited knowledge in openings. The top 3 most popular openings played by high rated players are the Sicilian Defence (B32), Sicilian, Alapin's variation (B22) and Giuoco Piano (C53). Overall, Sicilian Defence variations appear 5 times in the chart (25%: B32, B22, B90, B33, B45), showcasing how popular the opening is in high rated games.",
   "metadata": {
    "tags": [],
    "is_collapsed": false,
    "cell_id": "00031-1ad503de-6238-4a73-86d7-bed2516b36d1",
    "deepnote_cell_type": "text-cell-p"
   }
  },
  {
   "cell_type": "markdown",
   "source": "There was also shift when it came to opening types. The most popular category among the high rated players is the semi-open games (B). Unlike the general population of players, an opening of the indian defence category is present, with E20, the Nimzo-Indian, and E61, the King's Indian.",
   "metadata": {
    "tags": [],
    "is_collapsed": false,
    "cell_id": "00047-ba7be803-b01f-4f09-aa72-91ccf9a85bf3",
    "deepnote_cell_type": "text-cell-p"
   }
  },
  {
   "cell_type": "markdown",
   "source": "Next, we wanted to check the white odds, the ratio between white wins and black wins and the black odds, the ratio between black wins and white wins, for each opening, for both all games and high ELO rated games, and comparing the results to the most common openings. To avoid repetition, we calculated only the white odds for each opening. To get the black odds, we simply need to invert the white odds.",
   "metadata": {
    "tags": [],
    "is_collapsed": false,
    "cell_id": "00032-05b8086c-e206-47c8-9936-ac19dc18b15c",
    "deepnote_cell_type": "text-cell-p"
   }
  },
  {
   "cell_type": "markdown",
   "source": "The following 2 charts showcase the 20 most effective openings for white, and the 20 most effective openings for black across all games.",
   "metadata": {
    "tags": [],
    "is_collapsed": false,
    "cell_id": "00035-dcc30786-4586-4f82-bd5d-5a5a233bff85",
    "deepnote_cell_type": "text-cell-p"
   }
  },
  {
   "cell_type": "code",
   "metadata": {
    "tags": [],
    "cell_id": "00032-c96a3ff5-1e50-4e50-9367-27740243673d",
    "deepnote_to_be_reexecuted": false,
    "source_hash": "5ff3f40b",
    "execution_start": 1636496150556,
    "execution_millis": 11,
    "deepnote_cell_type": "code"
   },
   "source": "df3=pd.read_csv('WHITE_ODDS_DESC.csv')\n\nfiltered_df3 = df3.head(20)\nfiltered_df4 = df3.tail(20).sort_values(by=['white_odds'])\nfor i in filtered_df4.index:\n    filtered_df4.at[i, 'white_odds'] = 1 / filtered_df4.at[i, 'white_odds']\n\nfiltered_df4 = filtered_df4.rename(columns={'white_odds' : 'black_odds'})",
   "execution_count": null,
   "outputs": []
  },
  {
   "cell_type": "markdown",
   "source": "### ECO vs white odds in all games",
   "metadata": {
    "tags": [],
    "is_collapsed": false,
    "cell_id": "00037-c850ff37-1a33-44b9-a46d-b260d99f59fb",
    "deepnote_cell_type": "text-cell-h3"
   }
  },
  {
   "cell_type": "code",
   "source": "_deepnote_run_altair(filtered_df3, \"\"\"{\"$schema\":\"https://vega.github.io/schema/vega-lite/v4.json\",\"mark\":{\"type\":\"bar\",\"tooltip\":{\"content\":\"data\"}},\"height\":220,\"autosize\":{\"type\":\"fit\"},\"data\":{\"name\":\"placeholder\"},\"encoding\":{\"x\":{\"field\":\"ECO\",\"type\":\"nominal\",\"sort\":null,\"scale\":{\"type\":\"linear\",\"zero\":false}},\"y\":{\"field\":\"white_odds\",\"type\":\"quantitative\",\"sort\":null,\"scale\":{\"type\":\"linear\",\"zero\":true}},\"color\":{\"field\":\"\",\"type\":\"nominal\",\"sort\":null,\"scale\":{\"type\":\"linear\",\"zero\":false}}}}\"\"\")",
   "metadata": {
    "cell_id": "00033-84641f54-e68d-4059-bf7e-8b5bcc8e406a",
    "deepnote_variable_name": "filtered_df3",
    "deepnote_visualization_spec": {
     "$schema": "https://vega.github.io/schema/vega-lite/v4.json",
     "mark": {
      "type": "bar",
      "tooltip": {
       "content": "data"
      }
     },
     "height": 220,
     "autosize": {
      "type": "fit"
     },
     "data": {
      "name": "placeholder"
     },
     "encoding": {
      "x": {
       "field": "ECO",
       "type": "nominal",
       "sort": null,
       "scale": {
        "type": "linear",
        "zero": false
       }
      },
      "y": {
       "field": "white_odds",
       "type": "quantitative",
       "sort": null,
       "scale": {
        "type": "linear",
        "zero": true
       }
      },
      "color": {
       "field": "",
       "type": "nominal",
       "sort": null,
       "scale": {
        "type": "linear",
        "zero": false
       }
      }
     }
    },
    "deepnote_to_be_reexecuted": false,
    "source_hash": "b7299b20",
    "execution_start": 1636496150587,
    "execution_millis": 93,
    "deepnote_output_heights": [
     2
    ],
    "deepnote_cell_type": "visualization"
   },
   "execution_count": null,
   "outputs": [
    {
     "output_type": "execute_result",
     "execution_count": 11,
     "data": {
      "text/html": "\n<div id=\"altair-viz-b1b5f10413204c26a07766fc7a39cebb\"></div>\n<script type=\"text/javascript\">\n  (function(spec, embedOpt){\n    let outputDiv = document.currentScript.previousElementSibling;\n    if (outputDiv.id !== \"altair-viz-b1b5f10413204c26a07766fc7a39cebb\") {\n      outputDiv = document.getElementById(\"altair-viz-b1b5f10413204c26a07766fc7a39cebb\");\n    }\n    const paths = {\n      \"vega\": \"https://cdn.jsdelivr.net/npm//vega@5?noext\",\n      \"vega-lib\": \"https://cdn.jsdelivr.net/npm//vega-lib?noext\",\n      \"vega-lite\": \"https://cdn.jsdelivr.net/npm//vega-lite@4.8.1?noext\",\n      \"vega-embed\": \"https://cdn.jsdelivr.net/npm//vega-embed@6?noext\",\n    };\n\n    function loadScript(lib) {\n      return new Promise(function(resolve, reject) {\n        var s = document.createElement('script');\n        s.src = paths[lib];\n        s.async = true;\n        s.onload = () => resolve(paths[lib]);\n        s.onerror = () => reject(`Error loading script: ${paths[lib]}`);\n        document.getElementsByTagName(\"head\")[0].appendChild(s);\n      });\n    }\n\n    function showError(err) {\n      outputDiv.innerHTML = `<div class=\"error\" style=\"color:red;\">${err}</div>`;\n      throw err;\n    }\n\n    function displayChart(vegaEmbed) {\n      vegaEmbed(outputDiv, spec, embedOpt)\n        .catch(err => showError(`Javascript Error: ${err.message}<br>This usually means there's a typo in your chart specification. See the javascript console for the full traceback.`));\n    }\n\n    if(typeof define === \"function\" && define.amd) {\n      requirejs.config({paths});\n      require([\"vega-embed\"], displayChart, err => showError(`Error loading script: ${err.message}`));\n    } else if (typeof vegaEmbed === \"function\") {\n      displayChart(vegaEmbed);\n    } else {\n      loadScript(\"vega\")\n        .then(() => loadScript(\"vega-lite\"))\n        .then(() => loadScript(\"vega-embed\"))\n        .catch(showError)\n        .then(() => displayChart(vegaEmbed));\n    }\n  })({\"config\": {\"view\": {\"continuousWidth\": 400, \"continuousHeight\": 300}, \"area\": {\"fill\": \"#51C0E9\"}, \"axis\": {\"labelFont\": \"Inter, sans-serif\", \"labelFontSize\": 12, \"labelFontWeight\": \"normal\", \"labelLimit\": 60, \"labelOverlap\": \"greedy\", \"titleFont\": \"Inter, sans-serif\", \"titleFontSize\": 12, \"titleFontWeight\": \"bold\"}, \"background\": \"#ffffff\", \"legend\": {\"labelFont\": \"Inter, sans-serif\", \"labelFontSize\": 12, \"titleFont\": \"Inter, sans-serif\", \"titleFontSize\": 12, \"titleFontWeight\": \"bold\"}, \"line\": {\"stroke\": \"#51C0E9\", \"strokeWidth\": 2}, \"rect\": {\"fill\": \"#51C0E9\"}, \"title\": {\"anchor\": \"start\", \"color\": \"#000000\", \"font\": \"Inter, sans-serif\", \"fontSize\": 22, \"fontWeight\": \"normal\"}}, \"data\": {\"name\": \"data-901fb0e49f4be29d726a05d055c6889c\"}, \"mark\": {\"type\": \"bar\", \"tooltip\": {\"content\": \"data\"}}, \"autosize\": {\"type\": \"fit\"}, \"encoding\": {\"color\": {\"type\": \"nominal\", \"field\": \"\", \"scale\": {\"type\": \"linear\", \"zero\": false}, \"sort\": null}, \"x\": {\"type\": \"nominal\", \"field\": \"ECO\", \"scale\": {\"type\": \"linear\", \"zero\": false}, \"sort\": null}, \"y\": {\"type\": \"quantitative\", \"field\": \"white_odds\", \"scale\": {\"type\": \"linear\", \"zero\": true}, \"sort\": null}}, \"height\": 300, \"width\": \"container\", \"$schema\": \"https://vega.github.io/schema/vega-lite/v4.json\", \"datasets\": {\"data-901fb0e49f4be29d726a05d055c6889c\": [{\"ECO\": \"D16\", \"white_wins\": 72, \"black_wins\": 33, \"white_odds\": 2.18181818181818, \"draws\": 3}, {\"ECO\": \"D21\", \"white_wins\": 1343, \"black_wins\": 664, \"white_odds\": 2.02259036144578, \"draws\": 95}, {\"ECO\": \"A82\", \"white_wins\": 65, \"black_wins\": 34, \"white_odds\": 1.91176470588235, \"draws\": 2}, {\"ECO\": \"E06\", \"white_wins\": 82, \"black_wins\": 45, \"white_odds\": 1.82222222222222, \"draws\": 7}, {\"ECO\": \"D07\", \"white_wins\": 1805, \"black_wins\": 1006, \"white_odds\": 1.79423459244533, \"draws\": 117}, {\"ECO\": \"C67\", \"white_wins\": 486, \"black_wins\": 274, \"white_odds\": 1.77372262773723, \"draws\": 33}, {\"ECO\": \"C03\", \"white_wins\": 386, \"black_wins\": 220, \"white_odds\": 1.75454545454545, \"draws\": 35}, {\"ECO\": \"C80\", \"white_wins\": 167, \"black_wins\": 96, \"white_odds\": 1.73958333333333, \"draws\": 6}, {\"ECO\": \"A90\", \"white_wins\": 59, \"black_wins\": 34, \"white_odds\": 1.73529411764706, \"draws\": 8}, {\"ECO\": \"E80\", \"white_wins\": 64, \"black_wins\": 38, \"white_odds\": 1.68421052631579, \"draws\": 4}, {\"ECO\": \"C34\", \"white_wins\": 7114, \"black_wins\": 4276, \"white_odds\": 1.66370439663237, \"draws\": 372}, {\"ECO\": \"D24\", \"white_wins\": 198, \"black_wins\": 120, \"white_odds\": 1.65, \"draws\": 8}, {\"ECO\": \"D20\", \"white_wins\": 12033, \"black_wins\": 7309, \"white_odds\": 1.64632644684635, \"draws\": 765}, {\"ECO\": \"B77\", \"white_wins\": 100, \"black_wins\": 61, \"white_odds\": 1.63934426229508, \"draws\": 11}, {\"ECO\": \"A27\", \"white_wins\": 174, \"black_wins\": 107, \"white_odds\": 1.62616822429907, \"draws\": 16}, {\"ECO\": \"C30\", \"white_wins\": 6900, \"black_wins\": 4260, \"white_odds\": 1.61971830985916, \"draws\": 364}, {\"ECO\": \"C40\", \"white_wins\": 25107, \"black_wins\": 15599, \"white_odds\": 1.6095262516828, \"draws\": 1407}, {\"ECO\": \"D25\", \"white_wins\": 358, \"black_wins\": 225, \"white_odds\": 1.59111111111111, \"draws\": 26}, {\"ECO\": \"D06\", \"white_wins\": 7564, \"black_wins\": 4762, \"white_odds\": 1.58840823183536, \"draws\": 510}, {\"ECO\": \"B76\", \"white_wins\": 236, \"black_wins\": 149, \"white_odds\": 1.58389261744966, \"draws\": 29}]}}, {\"actions\": false, \"mode\": \"vega-lite\"});\n</script>",
      "text/plain": "alt.Chart(...)"
     },
     "metadata": {}
    }
   ]
  },
  {
   "cell_type": "markdown",
   "source": "The chart above shows that the opening with the highest white odds value is the Queen's Gambit, Slav Accepted, Alapin (D16), with a white odds ratio of 2.18. At second place is a variation of the Queen's Pawn Game (D21) and at third place is a variation of the Dutch Defence opening (A82). ",
   "metadata": {
    "tags": [],
    "is_collapsed": false,
    "cell_id": "00036-6b8d6bce-567f-42d3-bfaa-bb9e3e8c264f",
    "deepnote_cell_type": "text-cell-p"
   }
  },
  {
   "cell_type": "markdown",
   "source": "The most effective opening type overall for white is the closed and semi-closed games (D).",
   "metadata": {
    "tags": [],
    "is_collapsed": false,
    "cell_id": "00054-0e1bc36f-6dac-4314-9096-2ad989acfe24",
    "deepnote_cell_type": "text-cell-p"
   }
  },
  {
   "cell_type": "markdown",
   "source": "### ECO vs black odds in all games",
   "metadata": {
    "tags": [],
    "is_collapsed": false,
    "cell_id": "00041-83de8d39-54f6-4d05-8181-cbe5b9cb3fee",
    "deepnote_cell_type": "text-cell-h3"
   }
  },
  {
   "cell_type": "code",
   "source": "_deepnote_run_altair(filtered_df4, \"\"\"{\"$schema\":\"https://vega.github.io/schema/vega-lite/v4.json\",\"mark\":{\"type\":\"bar\",\"tooltip\":{\"content\":\"data\"}},\"height\":220,\"autosize\":{\"type\":\"fit\"},\"data\":{\"name\":\"placeholder\"},\"encoding\":{\"x\":{\"field\":\"ECO\",\"type\":\"nominal\",\"sort\":null,\"scale\":{\"type\":\"linear\",\"zero\":false}},\"y\":{\"field\":\"black_odds\",\"type\":\"quantitative\",\"sort\":null,\"scale\":{\"type\":\"linear\",\"zero\":true}},\"color\":{\"field\":\"\",\"type\":\"nominal\",\"sort\":null,\"scale\":{\"type\":\"linear\",\"zero\":false}}}}\"\"\")",
   "metadata": {
    "cell_id": "00034-05423651-3a6f-4f9d-8ef2-972da58a56b5",
    "deepnote_variable_name": "filtered_df4",
    "deepnote_visualization_spec": {
     "$schema": "https://vega.github.io/schema/vega-lite/v4.json",
     "mark": {
      "type": "bar",
      "tooltip": {
       "content": "data"
      }
     },
     "height": 220,
     "autosize": {
      "type": "fit"
     },
     "data": {
      "name": "placeholder"
     },
     "encoding": {
      "x": {
       "field": "ECO",
       "type": "nominal",
       "sort": null,
       "scale": {
        "type": "linear",
        "zero": false
       }
      },
      "y": {
       "field": "black_odds",
       "type": "quantitative",
       "sort": null,
       "scale": {
        "type": "linear",
        "zero": true
       }
      },
      "color": {
       "field": "",
       "type": "nominal",
       "sort": null,
       "scale": {
        "type": "linear",
        "zero": false
       }
      }
     }
    },
    "deepnote_to_be_reexecuted": false,
    "source_hash": "87d1ff02",
    "execution_start": 1636496150699,
    "execution_millis": 114,
    "deepnote_output_heights": [
     2
    ],
    "deepnote_cell_type": "visualization"
   },
   "execution_count": null,
   "outputs": [
    {
     "output_type": "execute_result",
     "execution_count": 12,
     "data": {
      "text/html": "\n<div id=\"altair-viz-a0c82c3cc3054809979936e77b222ce3\"></div>\n<script type=\"text/javascript\">\n  (function(spec, embedOpt){\n    let outputDiv = document.currentScript.previousElementSibling;\n    if (outputDiv.id !== \"altair-viz-a0c82c3cc3054809979936e77b222ce3\") {\n      outputDiv = document.getElementById(\"altair-viz-a0c82c3cc3054809979936e77b222ce3\");\n    }\n    const paths = {\n      \"vega\": \"https://cdn.jsdelivr.net/npm//vega@5?noext\",\n      \"vega-lib\": \"https://cdn.jsdelivr.net/npm//vega-lib?noext\",\n      \"vega-lite\": \"https://cdn.jsdelivr.net/npm//vega-lite@4.8.1?noext\",\n      \"vega-embed\": \"https://cdn.jsdelivr.net/npm//vega-embed@6?noext\",\n    };\n\n    function loadScript(lib) {\n      return new Promise(function(resolve, reject) {\n        var s = document.createElement('script');\n        s.src = paths[lib];\n        s.async = true;\n        s.onload = () => resolve(paths[lib]);\n        s.onerror = () => reject(`Error loading script: ${paths[lib]}`);\n        document.getElementsByTagName(\"head\")[0].appendChild(s);\n      });\n    }\n\n    function showError(err) {\n      outputDiv.innerHTML = `<div class=\"error\" style=\"color:red;\">${err}</div>`;\n      throw err;\n    }\n\n    function displayChart(vegaEmbed) {\n      vegaEmbed(outputDiv, spec, embedOpt)\n        .catch(err => showError(`Javascript Error: ${err.message}<br>This usually means there's a typo in your chart specification. See the javascript console for the full traceback.`));\n    }\n\n    if(typeof define === \"function\" && define.amd) {\n      requirejs.config({paths});\n      require([\"vega-embed\"], displayChart, err => showError(`Error loading script: ${err.message}`));\n    } else if (typeof vegaEmbed === \"function\") {\n      displayChart(vegaEmbed);\n    } else {\n      loadScript(\"vega\")\n        .then(() => loadScript(\"vega-lite\"))\n        .then(() => loadScript(\"vega-embed\"))\n        .catch(showError)\n        .then(() => displayChart(vegaEmbed));\n    }\n  })({\"config\": {\"view\": {\"continuousWidth\": 400, \"continuousHeight\": 300}, \"area\": {\"fill\": \"#51C0E9\"}, \"axis\": {\"labelFont\": \"Inter, sans-serif\", \"labelFontSize\": 12, \"labelFontWeight\": \"normal\", \"labelLimit\": 60, \"labelOverlap\": \"greedy\", \"titleFont\": \"Inter, sans-serif\", \"titleFontSize\": 12, \"titleFontWeight\": \"bold\"}, \"background\": \"#ffffff\", \"legend\": {\"labelFont\": \"Inter, sans-serif\", \"labelFontSize\": 12, \"titleFont\": \"Inter, sans-serif\", \"titleFontSize\": 12, \"titleFontWeight\": \"bold\"}, \"line\": {\"stroke\": \"#51C0E9\", \"strokeWidth\": 2}, \"rect\": {\"fill\": \"#51C0E9\"}, \"title\": {\"anchor\": \"start\", \"color\": \"#000000\", \"font\": \"Inter, sans-serif\", \"fontSize\": 22, \"fontWeight\": \"normal\"}}, \"data\": {\"name\": \"data-ea56672a1406ce8e17cb51fed37bab73\"}, \"mark\": {\"type\": \"bar\", \"tooltip\": {\"content\": \"data\"}}, \"autosize\": {\"type\": \"fit\"}, \"encoding\": {\"color\": {\"type\": \"nominal\", \"field\": \"\", \"scale\": {\"type\": \"linear\", \"zero\": false}, \"sort\": null}, \"x\": {\"type\": \"nominal\", \"field\": \"ECO\", \"scale\": {\"type\": \"linear\", \"zero\": false}, \"sort\": null}, \"y\": {\"type\": \"quantitative\", \"field\": \"black_odds\", \"scale\": {\"type\": \"linear\", \"zero\": true}, \"sort\": null}}, \"height\": 300, \"width\": \"container\", \"$schema\": \"https://vega.github.io/schema/vega-lite/v4.json\", \"datasets\": {\"data-ea56672a1406ce8e17cb51fed37bab73\": [{\"ECO\": \"B47\", \"white_wins\": 41, \"black_wins\": 74, \"black_odds\": 1.804878048780488, \"draws\": 1}, {\"ECO\": \"C59\", \"white_wins\": 89, \"black_wins\": 155, \"black_odds\": 1.7415730337078643, \"draws\": 11}, {\"ECO\": \"C22\", \"white_wins\": 3738, \"black_wins\": 6250, \"black_odds\": 1.6720171214553239, \"draws\": 333}, {\"ECO\": \"C89\", \"white_wins\": 74, \"black_wins\": 116, \"black_odds\": 1.5675675675675667, \"draws\": 16}, {\"ECO\": \"C91\", \"white_wins\": 48, \"black_wins\": 72, \"black_odds\": 1.4999999999999993, \"draws\": 10}, {\"ECO\": \"B11\", \"white_wins\": 514, \"black_wins\": 748, \"black_odds\": 1.4552529182879366, \"draws\": 54}, {\"ECO\": \"D80\", \"white_wins\": 156, \"black_wins\": 218, \"black_odds\": 1.3974358974358982, \"draws\": 22}, {\"ECO\": \"A51\", \"white_wins\": 375, \"black_wins\": 524, \"black_odds\": 1.3973333333333335, \"draws\": 35}, {\"ECO\": \"B20\", \"white_wins\": 21439, \"black_wins\": 29647, \"black_odds\": 1.3828536778767673, \"draws\": 2057}, {\"ECO\": \"C29\", \"white_wins\": 55, \"black_wins\": 75, \"black_odds\": 1.3636363636363644, \"draws\": 8}, {\"ECO\": \"B41\", \"white_wins\": 286, \"black_wins\": 388, \"black_odds\": 1.356643356643356, \"draws\": 34}, {\"ECO\": \"B43\", \"white_wins\": 476, \"black_wins\": 633, \"black_odds\": 1.3298319327731085, \"draws\": 49}, {\"ECO\": \"B88\", \"white_wins\": 93, \"black_wins\": 123, \"black_odds\": 1.3225806451612898, \"draws\": 9}, {\"ECO\": \"C38\", \"white_wins\": 94, \"black_wins\": 123, \"black_odds\": 1.308510638297872, \"draws\": 14}, {\"ECO\": \"A45\", \"white_wins\": 7716, \"black_wins\": 9965, \"black_odds\": 1.2914722654224986, \"draws\": 816}, {\"ECO\": \"C84\", \"white_wins\": 59, \"black_wins\": 76, \"black_odds\": 1.2881355932203393, \"draws\": 9}, {\"ECO\": \"B25\", \"white_wins\": 1263, \"black_wins\": 1604, \"black_odds\": 1.2699920823436257, \"draws\": 127}, {\"ECO\": \"B57\", \"white_wins\": 499, \"black_wins\": 632, \"black_odds\": 1.2665330661322654, \"draws\": 51}, {\"ECO\": \"A49\", \"white_wins\": 677, \"black_wins\": 852, \"black_odds\": 1.2584933530280653, \"draws\": 87}, {\"ECO\": \"B95\", \"white_wins\": 208, \"black_wins\": 259, \"black_odds\": 1.2451923076923077, \"draws\": 30}]}}, {\"actions\": false, \"mode\": \"vega-lite\"});\n</script>",
      "text/plain": "alt.Chart(...)"
     },
     "metadata": {}
    }
   ]
  },
  {
   "cell_type": "markdown",
   "source": "As per the chart above, the most effective openings for the black side are Sicillian, Taimanov variation (B47), the Two Knights Defence (C59) and the Center Game opening (C22).",
   "metadata": {
    "tags": [],
    "is_collapsed": false,
    "cell_id": "00043-c5708242-d4d9-4d53-b7ed-17c12deb7daa",
    "deepnote_cell_type": "text-cell-p"
   }
  },
  {
   "cell_type": "markdown",
   "source": "For high rated games, the most effective opening type for black is the open game category.",
   "metadata": {
    "tags": [],
    "is_collapsed": false,
    "cell_id": "00058-78d9d7c9-af97-4a77-8295-8af0d7aed6b4",
    "deepnote_cell_type": "text-cell-p"
   }
  },
  {
   "cell_type": "markdown",
   "source": "There are only 3 overlaps between the most common openings and the most effective openings for each side. The 1st is the King's Knight opening for white side (C40), with over 42,000 games played, and the Sicillian Defense opening for the black side (B20). The 2nd overlap is the most successful opening type for black is also the most popular type across the general populace of players, and the 3rd being that the indian defence opening type is absent in both the most popular openings and most successful openings for black. A reason for there being very little overlap between the two datasets is that common openings aren't necessarily the most effective.",
   "metadata": {
    "tags": [],
    "is_collapsed": false,
    "cell_id": "00043-e284c311-2ac1-497d-93be-7743f349caa1",
    "deepnote_cell_type": "text-cell-p"
   }
  },
  {
   "cell_type": "code",
   "metadata": {
    "tags": [],
    "cell_id": "00033-68119bc4-f22d-4487-a1e8-b80f439ece8d",
    "deepnote_to_be_reexecuted": false,
    "source_hash": "11071488",
    "execution_start": 1636496150815,
    "execution_millis": 2826727,
    "deepnote_cell_type": "code"
   },
   "source": "df4=pd.read_csv('HIGH_ELO_WHITE_ODDS_DESCE.csv')\n\nfiltered_df5 = df4.head(20)\nfiltered_df6 = df4.tail(20).sort_values(by=['white_odds'])\nfor i in filtered_df6.index:\n    filtered_df6.at[i, 'white_odds'] = 1 / filtered_df6.at[i, 'white_odds']\n\nfiltered_df6 = filtered_df6.rename(columns={'white_odds' : 'black_odds'})",
   "execution_count": null,
   "outputs": []
  },
  {
   "cell_type": "markdown",
   "source": "The following 2 charts showcase the 20 most effective openings for white, and the 20 most effective openings for black in high ELO rated games.",
   "metadata": {
    "tags": [],
    "is_collapsed": false,
    "cell_id": "00041-f0ca96ab-3b58-42cb-8abb-01d0d10d3d28",
    "deepnote_cell_type": "text-cell-p"
   }
  },
  {
   "cell_type": "markdown",
   "source": "### ECO vs white odds in high rated games",
   "metadata": {
    "tags": [],
    "is_collapsed": false,
    "cell_id": "00045-6ac606a3-a857-49a8-8c13-d5aa927932f9",
    "deepnote_cell_type": "text-cell-h3"
   }
  },
  {
   "cell_type": "code",
   "source": "_deepnote_run_altair(filtered_df5, \"\"\"{\"$schema\":\"https://vega.github.io/schema/vega-lite/v4.json\",\"mark\":{\"type\":\"bar\",\"tooltip\":{\"content\":\"data\"}},\"height\":220,\"autosize\":{\"type\":\"fit\"},\"data\":{\"name\":\"placeholder\"},\"encoding\":{\"x\":{\"field\":\"ECO\",\"type\":\"nominal\",\"sort\":null,\"scale\":{\"type\":\"linear\",\"zero\":false}},\"y\":{\"field\":\"white_odds\",\"type\":\"quantitative\",\"sort\":null,\"scale\":{\"type\":\"linear\",\"zero\":true}},\"color\":{\"field\":\"\",\"type\":\"nominal\",\"sort\":null,\"scale\":{\"type\":\"linear\",\"zero\":false}}}}\"\"\")",
   "metadata": {
    "cell_id": "00036-d86eb6f3-52cf-4f56-b4d8-2114c4560a0a",
    "deepnote_variable_name": "filtered_df5",
    "deepnote_visualization_spec": {
     "$schema": "https://vega.github.io/schema/vega-lite/v4.json",
     "mark": {
      "type": "bar",
      "tooltip": {
       "content": "data"
      }
     },
     "height": 220,
     "autosize": {
      "type": "fit"
     },
     "data": {
      "name": "placeholder"
     },
     "encoding": {
      "x": {
       "field": "ECO",
       "type": "nominal",
       "sort": null,
       "scale": {
        "type": "linear",
        "zero": false
       }
      },
      "y": {
       "field": "white_odds",
       "type": "quantitative",
       "sort": null,
       "scale": {
        "type": "linear",
        "zero": true
       }
      },
      "color": {
       "field": "",
       "type": "nominal",
       "sort": null,
       "scale": {
        "type": "linear",
        "zero": false
       }
      }
     }
    },
    "deepnote_to_be_reexecuted": false,
    "source_hash": "7a9e20c2",
    "execution_start": 1636496150820,
    "execution_millis": 121,
    "deepnote_output_heights": [
     2
    ],
    "deepnote_cell_type": "visualization"
   },
   "execution_count": null,
   "outputs": [
    {
     "output_type": "execute_result",
     "execution_count": 14,
     "data": {
      "text/html": "\n<div id=\"altair-viz-fc56dea917354ef389117319b2558a81\"></div>\n<script type=\"text/javascript\">\n  (function(spec, embedOpt){\n    let outputDiv = document.currentScript.previousElementSibling;\n    if (outputDiv.id !== \"altair-viz-fc56dea917354ef389117319b2558a81\") {\n      outputDiv = document.getElementById(\"altair-viz-fc56dea917354ef389117319b2558a81\");\n    }\n    const paths = {\n      \"vega\": \"https://cdn.jsdelivr.net/npm//vega@5?noext\",\n      \"vega-lib\": \"https://cdn.jsdelivr.net/npm//vega-lib?noext\",\n      \"vega-lite\": \"https://cdn.jsdelivr.net/npm//vega-lite@4.8.1?noext\",\n      \"vega-embed\": \"https://cdn.jsdelivr.net/npm//vega-embed@6?noext\",\n    };\n\n    function loadScript(lib) {\n      return new Promise(function(resolve, reject) {\n        var s = document.createElement('script');\n        s.src = paths[lib];\n        s.async = true;\n        s.onload = () => resolve(paths[lib]);\n        s.onerror = () => reject(`Error loading script: ${paths[lib]}`);\n        document.getElementsByTagName(\"head\")[0].appendChild(s);\n      });\n    }\n\n    function showError(err) {\n      outputDiv.innerHTML = `<div class=\"error\" style=\"color:red;\">${err}</div>`;\n      throw err;\n    }\n\n    function displayChart(vegaEmbed) {\n      vegaEmbed(outputDiv, spec, embedOpt)\n        .catch(err => showError(`Javascript Error: ${err.message}<br>This usually means there's a typo in your chart specification. See the javascript console for the full traceback.`));\n    }\n\n    if(typeof define === \"function\" && define.amd) {\n      requirejs.config({paths});\n      require([\"vega-embed\"], displayChart, err => showError(`Error loading script: ${err.message}`));\n    } else if (typeof vegaEmbed === \"function\") {\n      displayChart(vegaEmbed);\n    } else {\n      loadScript(\"vega\")\n        .then(() => loadScript(\"vega-lite\"))\n        .then(() => loadScript(\"vega-embed\"))\n        .catch(showError)\n        .then(() => displayChart(vegaEmbed));\n    }\n  })({\"config\": {\"view\": {\"continuousWidth\": 400, \"continuousHeight\": 300}, \"area\": {\"fill\": \"#51C0E9\"}, \"axis\": {\"labelFont\": \"Inter, sans-serif\", \"labelFontSize\": 12, \"labelFontWeight\": \"normal\", \"labelLimit\": 60, \"labelOverlap\": \"greedy\", \"titleFont\": \"Inter, sans-serif\", \"titleFontSize\": 12, \"titleFontWeight\": \"bold\"}, \"background\": \"#ffffff\", \"legend\": {\"labelFont\": \"Inter, sans-serif\", \"labelFontSize\": 12, \"titleFont\": \"Inter, sans-serif\", \"titleFontSize\": 12, \"titleFontWeight\": \"bold\"}, \"line\": {\"stroke\": \"#51C0E9\", \"strokeWidth\": 2}, \"rect\": {\"fill\": \"#51C0E9\"}, \"title\": {\"anchor\": \"start\", \"color\": \"#000000\", \"font\": \"Inter, sans-serif\", \"fontSize\": 22, \"fontWeight\": \"normal\"}}, \"data\": {\"name\": \"data-6dce4faa28ce962a671e8fd827adfec7\"}, \"mark\": {\"type\": \"bar\", \"tooltip\": {\"content\": \"data\"}}, \"autosize\": {\"type\": \"fit\"}, \"encoding\": {\"color\": {\"type\": \"nominal\", \"field\": \"\", \"scale\": {\"type\": \"linear\", \"zero\": false}, \"sort\": null}, \"x\": {\"type\": \"nominal\", \"field\": \"ECO\", \"scale\": {\"type\": \"linear\", \"zero\": false}, \"sort\": null}, \"y\": {\"type\": \"quantitative\", \"field\": \"white_odds\", \"scale\": {\"type\": \"linear\", \"zero\": true}, \"sort\": null}}, \"height\": 300, \"width\": \"container\", \"$schema\": \"https://vega.github.io/schema/vega-lite/v4.json\", \"datasets\": {\"data-6dce4faa28ce962a671e8fd827adfec7\": [{\"ECO\": \"D16\", \"white_wins\": 60, \"black_wins\": 24, \"draws\": 3, \"white_odds\": 2.5}, {\"ECO\": \"A82\", \"white_wins\": 44, \"black_wins\": 21, \"draws\": 1, \"white_odds\": 2.0952380952381}, {\"ECO\": \"D21\", \"white_wins\": 490, \"black_wins\": 235, \"draws\": 42, \"white_odds\": 2.08510638297872}, {\"ECO\": \"E06\", \"white_wins\": 77, \"black_wins\": 38, \"draws\": 7, \"white_odds\": 2.02631578947368}, {\"ECO\": \"D07\", \"white_wins\": 525, \"black_wins\": 297, \"draws\": 40, \"white_odds\": 1.76767676767677}, {\"ECO\": \"C03\", \"white_wins\": 296, \"black_wins\": 172, \"draws\": 29, \"white_odds\": 1.72093023255814}, {\"ECO\": \"D06\", \"white_wins\": 2344, \"black_wins\": 1384, \"draws\": 199, \"white_odds\": 1.69364161849711}, {\"ECO\": \"E80\", \"white_wins\": 54, \"black_wins\": 32, \"draws\": 4, \"white_odds\": 1.6875}, {\"ECO\": \"D24\", \"white_wins\": 74, \"black_wins\": 44, \"draws\": 2, \"white_odds\": 1.68181818181818}, {\"ECO\": \"A81\", \"white_wins\": 104, \"black_wins\": 62, \"draws\": 7, \"white_odds\": 1.67741935483871}, {\"ECO\": \"C34\", \"white_wins\": 2766, \"black_wins\": 1653, \"draws\": 165, \"white_odds\": 1.67332123411978}, {\"ECO\": \"D26\", \"white_wins\": 91, \"black_wins\": 55, \"draws\": 11, \"white_odds\": 1.65454545454545}, {\"ECO\": \"D25\", \"white_wins\": 124, \"black_wins\": 75, \"draws\": 11, \"white_odds\": 1.65333333333333}, {\"ECO\": \"A27\", \"white_wins\": 82, \"black_wins\": 50, \"draws\": 12, \"white_odds\": 1.64}, {\"ECO\": \"E54\", \"white_wins\": 54, \"black_wins\": 33, \"draws\": 3, \"white_odds\": 1.63636363636364}, {\"ECO\": \"A21\", \"white_wins\": 1134, \"black_wins\": 706, \"draws\": 87, \"white_odds\": 1.60623229461756}, {\"ECO\": \"D20\", \"white_wins\": 3248, \"black_wins\": 2024, \"draws\": 249, \"white_odds\": 1.60474308300395}, {\"ECO\": \"A90\", \"white_wins\": 51, \"black_wins\": 32, \"draws\": 7, \"white_odds\": 1.59375}, {\"ECO\": \"C30\", \"white_wins\": 2822, \"black_wins\": 1782, \"draws\": 174, \"white_odds\": 1.58361391694725}, {\"ECO\": \"C33\", \"white_wins\": 567, \"black_wins\": 360, \"draws\": 39, \"white_odds\": 1.575}]}}, {\"actions\": false, \"mode\": \"vega-lite\"});\n</script>",
      "text/plain": "alt.Chart(...)"
     },
     "metadata": {}
    }
   ]
  },
  {
   "cell_type": "markdown",
   "source": "According to the chart, the opening with the highest white odds value is the Queen's Gambit, Slav Accepted, Alapin (D16), with a white odds ratio of 2.5. Following it is a variation of the Dutch Defence opening (A82) at second place, and a variation of a Queen's Pawn Game (D21) at third. We can see that D16 was played 108 times overall, and 87 times in high rated games, so it being 1st overall is mainly because of the high rated games (although while 2.5 in high rated, it achieved \"only\" 2.18 overall, with 1.33 white odds for games below 1800 ELO). The most common opening in the chart, which had been played 5,521 times is the Queen's Gambit Accepted (D20) with 1.6 white odds.",
   "metadata": {
    "tags": [],
    "is_collapsed": false,
    "cell_id": "00041-fc658131-8895-47b5-b74c-add23cf77eac",
    "deepnote_cell_type": "text-cell-p"
   }
  },
  {
   "cell_type": "markdown",
   "source": "The most effective opening type for white is yet again the semi-closed and closed games.",
   "metadata": {
    "tags": [],
    "is_collapsed": false,
    "cell_id": "00065-8761e4a9-bc57-4336-ad5c-93aa26ed45ea",
    "deepnote_cell_type": "text-cell-p"
   }
  },
  {
   "cell_type": "markdown",
   "source": "### ECO vs black odds in higher rated games",
   "metadata": {
    "tags": [],
    "is_collapsed": false,
    "cell_id": "00049-ec90156d-bca2-4822-9308-5578689a0790",
    "deepnote_cell_type": "text-cell-h3"
   }
  },
  {
   "cell_type": "code",
   "source": "_deepnote_run_altair(filtered_df6, \"\"\"{\"$schema\":\"https://vega.github.io/schema/vega-lite/v4.json\",\"mark\":{\"type\":\"bar\",\"tooltip\":{\"content\":\"data\"}},\"height\":220,\"autosize\":{\"type\":\"fit\"},\"data\":{\"name\":\"placeholder\"},\"encoding\":{\"x\":{\"field\":\"ECO\",\"type\":\"nominal\",\"sort\":null,\"scale\":{\"type\":\"linear\",\"zero\":false}},\"y\":{\"field\":\"black_odds\",\"type\":\"quantitative\",\"sort\":null,\"scale\":{\"type\":\"linear\",\"zero\":true}},\"color\":{\"field\":\"\",\"type\":\"nominal\",\"sort\":null,\"scale\":{\"type\":\"linear\",\"zero\":false}}}}\"\"\")",
   "metadata": {
    "cell_id": "00037-6cb9da21-d924-4e38-87b0-9768948df1f8",
    "deepnote_variable_name": "filtered_df6",
    "deepnote_visualization_spec": {
     "$schema": "https://vega.github.io/schema/vega-lite/v4.json",
     "mark": {
      "type": "bar",
      "tooltip": {
       "content": "data"
      }
     },
     "height": 220,
     "autosize": {
      "type": "fit"
     },
     "data": {
      "name": "placeholder"
     },
     "encoding": {
      "x": {
       "field": "ECO",
       "type": "nominal",
       "sort": null,
       "scale": {
        "type": "linear",
        "zero": false
       }
      },
      "y": {
       "field": "black_odds",
       "type": "quantitative",
       "sort": null,
       "scale": {
        "type": "linear",
        "zero": true
       }
      },
      "color": {
       "field": "",
       "type": "nominal",
       "sort": null,
       "scale": {
        "type": "linear",
        "zero": false
       }
      }
     }
    },
    "deepnote_to_be_reexecuted": false,
    "source_hash": "3b677fea",
    "execution_start": 1636496150943,
    "execution_millis": 110,
    "deepnote_output_heights": [
     1
    ],
    "deepnote_cell_type": "visualization"
   },
   "execution_count": null,
   "outputs": [
    {
     "output_type": "execute_result",
     "execution_count": 15,
     "data": {
      "text/html": "\n<div id=\"altair-viz-3c20193584dc4ef7a22bf974cd8b039e\"></div>\n<script type=\"text/javascript\">\n  (function(spec, embedOpt){\n    let outputDiv = document.currentScript.previousElementSibling;\n    if (outputDiv.id !== \"altair-viz-3c20193584dc4ef7a22bf974cd8b039e\") {\n      outputDiv = document.getElementById(\"altair-viz-3c20193584dc4ef7a22bf974cd8b039e\");\n    }\n    const paths = {\n      \"vega\": \"https://cdn.jsdelivr.net/npm//vega@5?noext\",\n      \"vega-lib\": \"https://cdn.jsdelivr.net/npm//vega-lib?noext\",\n      \"vega-lite\": \"https://cdn.jsdelivr.net/npm//vega-lite@4.8.1?noext\",\n      \"vega-embed\": \"https://cdn.jsdelivr.net/npm//vega-embed@6?noext\",\n    };\n\n    function loadScript(lib) {\n      return new Promise(function(resolve, reject) {\n        var s = document.createElement('script');\n        s.src = paths[lib];\n        s.async = true;\n        s.onload = () => resolve(paths[lib]);\n        s.onerror = () => reject(`Error loading script: ${paths[lib]}`);\n        document.getElementsByTagName(\"head\")[0].appendChild(s);\n      });\n    }\n\n    function showError(err) {\n      outputDiv.innerHTML = `<div class=\"error\" style=\"color:red;\">${err}</div>`;\n      throw err;\n    }\n\n    function displayChart(vegaEmbed) {\n      vegaEmbed(outputDiv, spec, embedOpt)\n        .catch(err => showError(`Javascript Error: ${err.message}<br>This usually means there's a typo in your chart specification. See the javascript console for the full traceback.`));\n    }\n\n    if(typeof define === \"function\" && define.amd) {\n      requirejs.config({paths});\n      require([\"vega-embed\"], displayChart, err => showError(`Error loading script: ${err.message}`));\n    } else if (typeof vegaEmbed === \"function\") {\n      displayChart(vegaEmbed);\n    } else {\n      loadScript(\"vega\")\n        .then(() => loadScript(\"vega-lite\"))\n        .then(() => loadScript(\"vega-embed\"))\n        .catch(showError)\n        .then(() => displayChart(vegaEmbed));\n    }\n  })({\"config\": {\"view\": {\"continuousWidth\": 400, \"continuousHeight\": 300}, \"area\": {\"fill\": \"#51C0E9\"}, \"axis\": {\"labelFont\": \"Inter, sans-serif\", \"labelFontSize\": 12, \"labelFontWeight\": \"normal\", \"labelLimit\": 60, \"labelOverlap\": \"greedy\", \"titleFont\": \"Inter, sans-serif\", \"titleFontSize\": 12, \"titleFontWeight\": \"bold\"}, \"background\": \"#ffffff\", \"legend\": {\"labelFont\": \"Inter, sans-serif\", \"labelFontSize\": 12, \"titleFont\": \"Inter, sans-serif\", \"titleFontSize\": 12, \"titleFontWeight\": \"bold\"}, \"line\": {\"stroke\": \"#51C0E9\", \"strokeWidth\": 2}, \"rect\": {\"fill\": \"#51C0E9\"}, \"title\": {\"anchor\": \"start\", \"color\": \"#000000\", \"font\": \"Inter, sans-serif\", \"fontSize\": 22, \"fontWeight\": \"normal\"}}, \"data\": {\"name\": \"data-d5d007627c66f2582849e5340a09b7ef\"}, \"mark\": {\"type\": \"bar\", \"tooltip\": {\"content\": \"data\"}}, \"autosize\": {\"type\": \"fit\"}, \"encoding\": {\"color\": {\"type\": \"nominal\", \"field\": \"\", \"scale\": {\"type\": \"linear\", \"zero\": false}, \"sort\": null}, \"x\": {\"type\": \"nominal\", \"field\": \"ECO\", \"scale\": {\"type\": \"linear\", \"zero\": false}, \"sort\": null}, \"y\": {\"type\": \"quantitative\", \"field\": \"black_odds\", \"scale\": {\"type\": \"linear\", \"zero\": true}, \"sort\": null}}, \"height\": 300, \"width\": \"container\", \"$schema\": \"https://vega.github.io/schema/vega-lite/v4.json\", \"datasets\": {\"data-d5d007627c66f2582849e5340a09b7ef\": [{\"ECO\": \"B47\", \"white_wins\": 28, \"black_wins\": 60, \"draws\": 1, \"black_odds\": 2.1428571428571415}, {\"ECO\": \"C59\", \"white_wins\": 62, \"black_wins\": 113, \"draws\": 11, \"black_odds\": 1.8225806451612916}, {\"ECO\": \"C29\", \"white_wins\": 34, \"black_wins\": 59, \"draws\": 6, \"black_odds\": 1.7352941176470589}, {\"ECO\": \"C91\", \"white_wins\": 37, \"black_wins\": 59, \"draws\": 9, \"black_odds\": 1.5945945945945934}, {\"ECO\": \"C89\", \"white_wins\": 67, \"black_wins\": 106, \"draws\": 15, \"black_odds\": 1.5820895522388065}, {\"ECO\": \"B11\", \"white_wins\": 211, \"black_wins\": 317, \"draws\": 24, \"black_odds\": 1.5023696682464454}, {\"ECO\": \"D80\", \"white_wins\": 107, \"black_wins\": 157, \"draws\": 18, \"black_odds\": 1.4672897196261685}, {\"ECO\": \"B20\", \"white_wins\": 6450, \"black_wins\": 9339, \"draws\": 762, \"black_odds\": 1.447906976744186}, {\"ECO\": \"A51\", \"white_wins\": 263, \"black_wins\": 373, \"draws\": 31, \"black_odds\": 1.418250950570342}, {\"ECO\": \"C84\", \"white_wins\": 41, \"black_wins\": 58, \"draws\": 7, \"black_odds\": 1.4146341463414633}, {\"ECO\": \"C22\", \"white_wins\": 546, \"black_wins\": 763, \"draws\": 36, \"black_odds\": 1.3974358974358982}, {\"ECO\": \"C02\", \"white_wins\": 3292, \"black_wins\": 4556, \"draws\": 384, \"black_odds\": 1.3839611178614828}, {\"ECO\": \"C63\", \"white_wins\": 137, \"black_wins\": 188, \"draws\": 13, \"black_odds\": 1.372262773722628}, {\"ECO\": \"B95\", \"white_wins\": 142, \"black_wins\": 192, \"draws\": 24, \"black_odds\": 1.3521126760563387}, {\"ECO\": \"E24\", \"white_wins\": 83, \"black_wins\": 112, \"draws\": 11, \"black_odds\": 1.349397590361445}, {\"ECO\": \"B43\", \"white_wins\": 361, \"black_wins\": 485, \"draws\": 40, \"black_odds\": 1.3434903047091404}, {\"ECO\": \"B41\", \"white_wins\": 224, \"black_wins\": 295, \"draws\": 29, \"black_odds\": 1.3169642857142858}, {\"ECO\": \"D01\", \"white_wins\": 723, \"black_wins\": 947, \"draws\": 77, \"black_odds\": 1.3098201936376206}, {\"ECO\": \"B02\", \"white_wins\": 1398, \"black_wins\": 1820, \"draws\": 184, \"black_odds\": 1.3018597997138772}, {\"ECO\": \"E61\", \"white_wins\": 627, \"black_wins\": 814, \"draws\": 72, \"black_odds\": 1.2982456140350882}]}}, {\"actions\": false, \"mode\": \"vega-lite\"});\n</script>",
      "text/plain": "alt.Chart(...)"
     },
     "metadata": {}
    }
   ]
  },
  {
   "cell_type": "markdown",
   "source": "The most effective openings for the black side are Sicillian, Taimanov variation (B47), the Two Knights Defence (C59) and the Vienna Gambit, Kaufmann variation (C29). Compared to the previous black odds chart, third-placed Center Game opening has dropped down to 11th place. The most common opening in the chart is yet again the Sicilian Defence (B20), showing its popularity and effectiveness among both high and low rated players.",
   "metadata": {
    "tags": [],
    "is_collapsed": false,
    "cell_id": "00051-9cdb11ee-305f-4d6a-bb8f-a575118e93d1",
    "deepnote_cell_type": "text-cell-p"
   }
  },
  {
   "cell_type": "markdown",
   "source": "As the same with white, the most effective opening type hasn't changed, and is still the open games category.",
   "metadata": {
    "tags": [],
    "is_collapsed": false,
    "cell_id": "00069-67fc9d1b-c25f-43bd-8bc4-495490be8f78",
    "deepnote_cell_type": "text-cell-p"
   }
  },
  {
   "cell_type": "markdown",
   "source": "While the datasets for white &amp; black odds for all rated games had little overlap, for high rated ELO games there is no overlap between the 20 most common openings and the 20 most effective openings for each side. Having no overlap this time only strengthens our hypothesis that common openings don't necessarily achieve good results.",
   "metadata": {
    "tags": [],
    "is_collapsed": false,
    "cell_id": "00052-35bd34f4-31cc-4e79-bb8f-addb8cbdf579",
    "deepnote_cell_type": "text-cell-p"
   }
  },
  {
   "cell_type": "markdown",
   "source": "An interesting observation is the consistency of effectiveness of opening types across the white &amp; black side, with the semi-closed and closed games and open games, respectively, across the ratings ladder.",
   "metadata": {
    "tags": [],
    "is_collapsed": false,
    "cell_id": "00069-5339bb9e-1ab9-4619-bae8-ff10351115ee",
    "deepnote_cell_type": "text-cell-p"
   }
  },
  {
   "cell_type": "markdown",
   "source": "### Game length and its correlation with ELO",
   "metadata": {
    "tags": [],
    "is_collapsed": false,
    "cell_id": "00057-8adb22b2-2272-46d7-b55f-98c6732314af",
    "deepnote_cell_type": "text-cell-h3"
   }
  },
  {
   "cell_type": "markdown",
   "source": "Chess games can vary in length a lot. Sometimes, an early blunder can finish the game immediately, and sometimes solid moves from both players can lead to a very long game, often resulting in a draw. We were curious to see how and whether the game length correlates with chess players' ELO.",
   "metadata": {
    "tags": [],
    "is_collapsed": false,
    "cell_id": "00073-e6cb5481-3545-442c-86c6-4bde638e6d23",
    "deepnote_cell_type": "text-cell-p"
   }
  },
  {
   "cell_type": "markdown",
   "source": "We analyzed the games of all ELOs, the games of high ELOs (+1800) and the games of grandmasters and we reached the following results:",
   "metadata": {
    "tags": [],
    "is_collapsed": false,
    "cell_id": "00074-d8ea8545-0082-45bc-8aee-876a877ec10a",
    "deepnote_cell_type": "text-cell-p"
   }
  },
  {
   "cell_type": "markdown",
   "source": "the average game length for all players is ~33 moves. For high rated games, however, the average game length is ~36 moves. Grandmaster games absolutely destroy those averages with an average of ~82 moves!. The median value is 30, 33 and ~80.5 respectively. It is clear that the stronger the players, the longer the games, and it isn't very surprising as stronger players make less blunders and play much better, so games don't end as quick as lower rated games tend to, where an early blunder can end the game on the spot.",
   "metadata": {
    "tags": [],
    "is_collapsed": false,
    "cell_id": "00075-7a711ba6-263d-432c-beab-f5f67e595a74",
    "deepnote_cell_type": "text-cell-p"
   }
  },
  {
   "cell_type": "markdown",
   "source": "Another interesting analysis we wanted to make is the average game length for each opening - seeing which openings usually lead to long games, and which openings usually lead to short games. We used the all ELOs database for it as it has the most data.",
   "metadata": {
    "tags": [],
    "is_collapsed": false,
    "cell_id": "00059-7bd433cc-5914-4535-beba-e6d7dd530c9e",
    "deepnote_cell_type": "text-cell-p"
   }
  },
  {
   "cell_type": "code",
   "metadata": {
    "tags": [],
    "cell_id": "00057-04364495-ea1a-4704-915e-725e5e2b15bf",
    "deepnote_to_be_reexecuted": false,
    "source_hash": "77873c03",
    "execution_start": 1636496151058,
    "execution_millis": 12,
    "deepnote_cell_type": "code"
   },
   "source": "df7=pd.read_csv('len_per_eco.csv')\nfiltered_df5 = df7.head(20)\nfiltered_df6 = df7.tail(20).sort_values(by=['average'])",
   "execution_count": null,
   "outputs": []
  },
  {
   "cell_type": "markdown",
   "source": "### ECO vs average game length (longest)",
   "metadata": {
    "tags": [],
    "is_collapsed": false,
    "cell_id": "00066-3e18068f-e64f-400a-b344-26dbac9fa256",
    "deepnote_cell_type": "text-cell-h3"
   }
  },
  {
   "cell_type": "code",
   "source": "_deepnote_run_altair(filtered_df5, \"\"\"{\"$schema\":\"https://vega.github.io/schema/vega-lite/v4.json\",\"mark\":{\"type\":\"bar\",\"tooltip\":{\"content\":\"data\"}},\"height\":220,\"autosize\":{\"type\":\"fit\"},\"data\":{\"name\":\"placeholder\"},\"encoding\":{\"x\":{\"field\":\"ECO\",\"type\":\"nominal\",\"sort\":null,\"scale\":{\"type\":\"linear\",\"zero\":false}},\"y\":{\"field\":\"average\",\"type\":\"quantitative\",\"sort\":null,\"scale\":{\"type\":\"linear\",\"zero\":true}},\"color\":{\"field\":\"\",\"type\":\"nominal\",\"sort\":null,\"scale\":{\"type\":\"linear\",\"zero\":false}}}}\"\"\")",
   "metadata": {
    "cell_id": "00060-1d1be7c9-32bf-4d22-a8cd-be076ca59992",
    "deepnote_variable_name": "filtered_df5",
    "deepnote_visualization_spec": {
     "$schema": "https://vega.github.io/schema/vega-lite/v4.json",
     "mark": {
      "type": "bar",
      "tooltip": {
       "content": "data"
      }
     },
     "height": 220,
     "autosize": {
      "type": "fit"
     },
     "data": {
      "name": "placeholder"
     },
     "encoding": {
      "x": {
       "field": "ECO",
       "type": "nominal",
       "sort": null,
       "scale": {
        "type": "linear",
        "zero": false
       }
      },
      "y": {
       "field": "average",
       "type": "quantitative",
       "sort": null,
       "scale": {
        "type": "linear",
        "zero": true
       }
      },
      "color": {
       "field": "",
       "type": "nominal",
       "sort": null,
       "scale": {
        "type": "linear",
        "zero": false
       }
      }
     }
    },
    "deepnote_to_be_reexecuted": false,
    "source_hash": "74c78db7",
    "execution_start": 1636496151076,
    "execution_millis": 93,
    "deepnote_output_heights": [
     1
    ],
    "deepnote_cell_type": "visualization"
   },
   "execution_count": null,
   "outputs": [
    {
     "output_type": "execute_result",
     "execution_count": 17,
     "data": {
      "text/html": "\n<div id=\"altair-viz-88a50eb90c67413e828dafa3784b6a89\"></div>\n<script type=\"text/javascript\">\n  (function(spec, embedOpt){\n    let outputDiv = document.currentScript.previousElementSibling;\n    if (outputDiv.id !== \"altair-viz-88a50eb90c67413e828dafa3784b6a89\") {\n      outputDiv = document.getElementById(\"altair-viz-88a50eb90c67413e828dafa3784b6a89\");\n    }\n    const paths = {\n      \"vega\": \"https://cdn.jsdelivr.net/npm//vega@5?noext\",\n      \"vega-lib\": \"https://cdn.jsdelivr.net/npm//vega-lib?noext\",\n      \"vega-lite\": \"https://cdn.jsdelivr.net/npm//vega-lite@4.8.1?noext\",\n      \"vega-embed\": \"https://cdn.jsdelivr.net/npm//vega-embed@6?noext\",\n    };\n\n    function loadScript(lib) {\n      return new Promise(function(resolve, reject) {\n        var s = document.createElement('script');\n        s.src = paths[lib];\n        s.async = true;\n        s.onload = () => resolve(paths[lib]);\n        s.onerror = () => reject(`Error loading script: ${paths[lib]}`);\n        document.getElementsByTagName(\"head\")[0].appendChild(s);\n      });\n    }\n\n    function showError(err) {\n      outputDiv.innerHTML = `<div class=\"error\" style=\"color:red;\">${err}</div>`;\n      throw err;\n    }\n\n    function displayChart(vegaEmbed) {\n      vegaEmbed(outputDiv, spec, embedOpt)\n        .catch(err => showError(`Javascript Error: ${err.message}<br>This usually means there's a typo in your chart specification. See the javascript console for the full traceback.`));\n    }\n\n    if(typeof define === \"function\" && define.amd) {\n      requirejs.config({paths});\n      require([\"vega-embed\"], displayChart, err => showError(`Error loading script: ${err.message}`));\n    } else if (typeof vegaEmbed === \"function\") {\n      displayChart(vegaEmbed);\n    } else {\n      loadScript(\"vega\")\n        .then(() => loadScript(\"vega-lite\"))\n        .then(() => loadScript(\"vega-embed\"))\n        .catch(showError)\n        .then(() => displayChart(vegaEmbed));\n    }\n  })({\"config\": {\"view\": {\"continuousWidth\": 400, \"continuousHeight\": 300}, \"area\": {\"fill\": \"#51C0E9\"}, \"axis\": {\"labelFont\": \"Inter, sans-serif\", \"labelFontSize\": 12, \"labelFontWeight\": \"normal\", \"labelLimit\": 60, \"labelOverlap\": \"greedy\", \"titleFont\": \"Inter, sans-serif\", \"titleFontSize\": 12, \"titleFontWeight\": \"bold\"}, \"background\": \"#ffffff\", \"legend\": {\"labelFont\": \"Inter, sans-serif\", \"labelFontSize\": 12, \"titleFont\": \"Inter, sans-serif\", \"titleFontSize\": 12, \"titleFontWeight\": \"bold\"}, \"line\": {\"stroke\": \"#51C0E9\", \"strokeWidth\": 2}, \"rect\": {\"fill\": \"#51C0E9\"}, \"title\": {\"anchor\": \"start\", \"color\": \"#000000\", \"font\": \"Inter, sans-serif\", \"fontSize\": 22, \"fontWeight\": \"normal\"}}, \"data\": {\"name\": \"data-399afee35edffd91906dbab905376c69\"}, \"mark\": {\"type\": \"bar\", \"tooltip\": {\"content\": \"data\"}}, \"autosize\": {\"type\": \"fit\"}, \"encoding\": {\"color\": {\"type\": \"nominal\", \"field\": \"\", \"scale\": {\"type\": \"linear\", \"zero\": false}, \"sort\": null}, \"x\": {\"type\": \"nominal\", \"field\": \"ECO\", \"scale\": {\"type\": \"linear\", \"zero\": false}, \"sort\": null}, \"y\": {\"type\": \"quantitative\", \"field\": \"average\", \"scale\": {\"type\": \"linear\", \"zero\": true}, \"sort\": null}}, \"height\": 300, \"width\": \"container\", \"$schema\": \"https://vega.github.io/schema/vega-lite/v4.json\", \"datasets\": {\"data-399afee35edffd91906dbab905376c69\": [{\"ECO\": \"A90\", \"average\": 39.2307692307692, \"game_count\": 101}, {\"ECO\": \"E06\", \"average\": 38.6979166666667, \"game_count\": 134}, {\"ECO\": \"A38\", \"average\": 37.3418803418803, \"game_count\": 170}, {\"ECO\": \"A23\", \"average\": 37.2866242038217, \"game_count\": 205}, {\"ECO\": \"E97\", \"average\": 37.2727272727273, \"game_count\": 116}, {\"ECO\": \"A36\", \"average\": 37.2577319587629, \"game_count\": 498}, {\"ECO\": \"E91\", \"average\": 37.1576470588235, \"game_count\": 603}, {\"ECO\": \"E81\", \"average\": 36.9411764705882, \"game_count\": 342}, {\"ECO\": \"C88\", \"average\": 36.9281767955801, \"game_count\": 290}, {\"ECO\": \"A81\", \"average\": 36.8952879581152, \"game_count\": 252}, {\"ECO\": \"E11\", \"average\": 36.797342192691, \"game_count\": 462}, {\"ECO\": \"E14\", \"average\": 36.7666666666667, \"game_count\": 135}, {\"ECO\": \"B19\", \"average\": 36.7226890756302, \"game_count\": 186}, {\"ECO\": \"A44\", \"average\": 36.6649350649351, \"game_count\": 471}, {\"ECO\": \"E94\", \"average\": 36.6274509803922, \"game_count\": 220}, {\"ECO\": \"D46\", \"average\": 36.5631067961165, \"game_count\": 267}, {\"ECO\": \"B24\", \"average\": 36.5422343324251, \"game_count\": 501}, {\"ECO\": \"E80\", \"average\": 36.5, \"game_count\": 106}, {\"ECO\": \"D45\", \"average\": 36.4924977934687, \"game_count\": 1513}, {\"ECO\": \"D47\", \"average\": 36.4603174603175, \"game_count\": 110}]}}, {\"actions\": false, \"mode\": \"vega-lite\"});\n</script>",
      "text/plain": "alt.Chart(...)"
     },
     "metadata": {}
    }
   ]
  },
  {
   "cell_type": "markdown",
   "source": "### ECO vs average game length (shortest)",
   "metadata": {
    "tags": [],
    "is_collapsed": false,
    "cell_id": "00068-ca681bf9-0679-40cc-958d-d86a41cc3590",
    "deepnote_cell_type": "text-cell-h3"
   }
  },
  {
   "cell_type": "code",
   "source": "_deepnote_run_altair(filtered_df6, \"\"\"{\"$schema\":\"https://vega.github.io/schema/vega-lite/v4.json\",\"mark\":{\"type\":\"bar\",\"tooltip\":{\"content\":\"data\"}},\"height\":220,\"autosize\":{\"type\":\"fit\"},\"data\":{\"name\":\"placeholder\"},\"encoding\":{\"x\":{\"field\":\"ECO\",\"type\":\"nominal\",\"sort\":null,\"scale\":{\"type\":\"linear\",\"zero\":false}},\"y\":{\"field\":\"average\",\"type\":\"quantitative\",\"sort\":null,\"scale\":{\"type\":\"linear\",\"zero\":true}},\"color\":{\"field\":\"\",\"type\":\"nominal\",\"sort\":null,\"scale\":{\"type\":\"linear\",\"zero\":false}}}}\"\"\")",
   "metadata": {
    "cell_id": "00062-f3f4b532-f060-40fa-91d6-724830e5a063",
    "deepnote_variable_name": "filtered_df6",
    "deepnote_visualization_spec": {
     "$schema": "https://vega.github.io/schema/vega-lite/v4.json",
     "mark": {
      "type": "bar",
      "tooltip": {
       "content": "data"
      }
     },
     "height": 220,
     "autosize": {
      "type": "fit"
     },
     "data": {
      "name": "placeholder"
     },
     "encoding": {
      "x": {
       "field": "ECO",
       "type": "nominal",
       "sort": null,
       "scale": {
        "type": "linear",
        "zero": false
       }
      },
      "y": {
       "field": "average",
       "type": "quantitative",
       "sort": null,
       "scale": {
        "type": "linear",
        "zero": true
       }
      },
      "color": {
       "field": "",
       "type": "nominal",
       "sort": null,
       "scale": {
        "type": "linear",
        "zero": false
       }
      }
     }
    },
    "deepnote_to_be_reexecuted": false,
    "source_hash": "e6350fcb",
    "execution_start": 1636496151181,
    "execution_millis": 83,
    "deepnote_output_heights": [
     2
    ],
    "deepnote_cell_type": "visualization"
   },
   "execution_count": null,
   "outputs": [
    {
     "output_type": "execute_result",
     "execution_count": 18,
     "data": {
      "text/html": "\n<div id=\"altair-viz-898efa8001b942aa99c9b9051a040c83\"></div>\n<script type=\"text/javascript\">\n  (function(spec, embedOpt){\n    let outputDiv = document.currentScript.previousElementSibling;\n    if (outputDiv.id !== \"altair-viz-898efa8001b942aa99c9b9051a040c83\") {\n      outputDiv = document.getElementById(\"altair-viz-898efa8001b942aa99c9b9051a040c83\");\n    }\n    const paths = {\n      \"vega\": \"https://cdn.jsdelivr.net/npm//vega@5?noext\",\n      \"vega-lib\": \"https://cdn.jsdelivr.net/npm//vega-lib?noext\",\n      \"vega-lite\": \"https://cdn.jsdelivr.net/npm//vega-lite@4.8.1?noext\",\n      \"vega-embed\": \"https://cdn.jsdelivr.net/npm//vega-embed@6?noext\",\n    };\n\n    function loadScript(lib) {\n      return new Promise(function(resolve, reject) {\n        var s = document.createElement('script');\n        s.src = paths[lib];\n        s.async = true;\n        s.onload = () => resolve(paths[lib]);\n        s.onerror = () => reject(`Error loading script: ${paths[lib]}`);\n        document.getElementsByTagName(\"head\")[0].appendChild(s);\n      });\n    }\n\n    function showError(err) {\n      outputDiv.innerHTML = `<div class=\"error\" style=\"color:red;\">${err}</div>`;\n      throw err;\n    }\n\n    function displayChart(vegaEmbed) {\n      vegaEmbed(outputDiv, spec, embedOpt)\n        .catch(err => showError(`Javascript Error: ${err.message}<br>This usually means there's a typo in your chart specification. See the javascript console for the full traceback.`));\n    }\n\n    if(typeof define === \"function\" && define.amd) {\n      requirejs.config({paths});\n      require([\"vega-embed\"], displayChart, err => showError(`Error loading script: ${err.message}`));\n    } else if (typeof vegaEmbed === \"function\") {\n      displayChart(vegaEmbed);\n    } else {\n      loadScript(\"vega\")\n        .then(() => loadScript(\"vega-lite\"))\n        .then(() => loadScript(\"vega-embed\"))\n        .catch(showError)\n        .then(() => displayChart(vegaEmbed));\n    }\n  })({\"config\": {\"view\": {\"continuousWidth\": 400, \"continuousHeight\": 300}, \"area\": {\"fill\": \"#51C0E9\"}, \"axis\": {\"labelFont\": \"Inter, sans-serif\", \"labelFontSize\": 12, \"labelFontWeight\": \"normal\", \"labelLimit\": 60, \"labelOverlap\": \"greedy\", \"titleFont\": \"Inter, sans-serif\", \"titleFontSize\": 12, \"titleFontWeight\": \"bold\"}, \"background\": \"#ffffff\", \"legend\": {\"labelFont\": \"Inter, sans-serif\", \"labelFontSize\": 12, \"titleFont\": \"Inter, sans-serif\", \"titleFontSize\": 12, \"titleFontWeight\": \"bold\"}, \"line\": {\"stroke\": \"#51C0E9\", \"strokeWidth\": 2}, \"rect\": {\"fill\": \"#51C0E9\"}, \"title\": {\"anchor\": \"start\", \"color\": \"#000000\", \"font\": \"Inter, sans-serif\", \"fontSize\": 22, \"fontWeight\": \"normal\"}}, \"data\": {\"name\": \"data-ca3b17ee1addc41226db3dba30a6ada1\"}, \"mark\": {\"type\": \"bar\", \"tooltip\": {\"content\": \"data\"}}, \"autosize\": {\"type\": \"fit\"}, \"encoding\": {\"color\": {\"type\": \"nominal\", \"field\": \"\", \"scale\": {\"type\": \"linear\", \"zero\": false}, \"sort\": null}, \"x\": {\"type\": \"nominal\", \"field\": \"ECO\", \"scale\": {\"type\": \"linear\", \"zero\": false}, \"sort\": null}, \"y\": {\"type\": \"quantitative\", \"field\": \"average\", \"scale\": {\"type\": \"linear\", \"zero\": true}, \"sort\": null}}, \"height\": 300, \"width\": \"container\", \"$schema\": \"https://vega.github.io/schema/vega-lite/v4.json\", \"datasets\": {\"data-ca3b17ee1addc41226db3dba30a6ada1\": [{\"ECO\": \"C57\", \"average\": 25.4797749799089, \"game_count\": 8853}, {\"ECO\": \"C29\", \"average\": 26.7127659574468, \"game_count\": 138}, {\"ECO\": \"C67\", \"average\": 27.7521815008726, \"game_count\": 793}, {\"ECO\": \"C52\", \"average\": 27.9702127659574, \"game_count\": 342}, {\"ECO\": \"C80\", \"average\": 28.3475935828877, \"game_count\": 269}, {\"ECO\": \"C56\", \"average\": 28.6915254237288, \"game_count\": 402}, {\"ECO\": \"C37\", \"average\": 28.795195954488, \"game_count\": 1862}, {\"ECO\": \"C39\", \"average\": 28.893899204244, \"game_count\": 482}, {\"ECO\": \"A82\", \"average\": 28.9875, \"game_count\": 101}, {\"ECO\": \"C32\", \"average\": 29.0127388535032, \"game_count\": 200}, {\"ECO\": \"C51\", \"average\": 29.1183673469388, \"game_count\": 1279}, {\"ECO\": \"C33\", \"average\": 29.2425231103861, \"game_count\": 2208}, {\"ECO\": \"C43\", \"average\": 29.3139453398739, \"game_count\": 1741}, {\"ECO\": \"C31\", \"average\": 29.4717557251908, \"game_count\": 1579}, {\"ECO\": \"C30\", \"average\": 29.855664925673, \"game_count\": 11524}, {\"ECO\": \"C21\", \"average\": 29.8610471458005, \"game_count\": 18700}, {\"ECO\": \"C63\", \"average\": 29.8908045977011, \"game_count\": 493}, {\"ECO\": \"C42\", \"average\": 30.0822226539732, \"game_count\": 30177}, {\"ECO\": \"B93\", \"average\": 30.1649484536082, \"game_count\": 137}, {\"ECO\": \"C40\", \"average\": 30.1681215130402, \"game_count\": 42113}]}}, {\"actions\": false, \"mode\": \"vega-lite\"});\n</script>",
      "text/plain": "alt.Chart(...)"
     },
     "metadata": {}
    }
   ]
  },
  {
   "cell_type": "markdown",
   "source": "As we can see, the opening that leads to the longest games is A90, also known as the Dutch Defense. The opening that leads to the shortest games is C57, the Two Knights Defense. This opening is a well known trap that often traps lower rated players to grant material advantage to its user, but if it fails, the position of its user is weakened. Therefore, it is no surprise that this opening leads to short games. Overall, a total dominance of type C openings can be seen in the shortest game length chart - 18 out of the 20 shortest openings are of type C - the open game openings. It is no shock that open games lead to shorter games, as piece exchanges happen more frequently and the game is overall more attacking and flowing. The longest games chart, however, is a lot more diverse, and topped by the E (indian defences) and A (flank openings) type openings with 8, 6 appearances respectively. ",
   "metadata": {
    "tags": [],
    "is_collapsed": false,
    "cell_id": "00063-79dbbaeb-1145-45cd-8830-1ffd92aaf054",
    "deepnote_cell_type": "text-cell-p"
   }
  },
  {
   "cell_type": "markdown",
   "source": "### Conclusions",
   "metadata": {
    "tags": [],
    "is_collapsed": false,
    "cell_id": "00020-108d349c-f1ed-4f53-84c3-a6b3e7393b15",
    "deepnote_cell_type": "text-cell-h3"
   }
  },
  {
   "cell_type": "markdown",
   "source": "We arrived to the conclusion that in chess, the white side has an inherent advantage and will win more games compared to the black side. ",
   "metadata": {
    "tags": [],
    "is_collapsed": false,
    "cell_id": "00021-f930dc8b-ced3-4e25-94d3-68d358c018e7",
    "deepnote_cell_type": "text-cell-p"
   }
  },
  {
   "cell_type": "markdown",
   "source": "According to the data, the best opening for white players is the Queen's Gambit, as both the declined and the accepted variations bring good results, with the declined variation being much more effective. However, it can only be used if the black side has played a specific move: d5. Alternatively, opening with the move d4 can be strong for white as it counters the most effective opening for black, the Sicilian Defense and its variations. The sicilian defense is not only effective but also popular among chess players of all ratings. While it can only be played if the white side has moved the pawn in front of the king , it is a popular move for white. ",
   "metadata": {
    "tags": [],
    "is_collapsed": false,
    "cell_id": "00055-b1b1cc3b-d898-43f9-9462-2c92d404c60f",
    "deepnote_cell_type": "text-cell-p"
   }
  },
  {
   "cell_type": "markdown",
   "source": "In general, open games lead to much shorter games, while the flank openings and the indian defences lead to overall longer games.  additionally, we can see that as the players' level rises, so does the length of the game.",
   "metadata": {
    "tags": [],
    "is_collapsed": false,
    "cell_id": "00086-a98afbdf-de4b-47ee-86a6-c85cbd3e05f3",
    "deepnote_cell_type": "text-cell-p"
   }
  },
  {
   "cell_type": "markdown",
   "source": "The most important conclusions that we gathered from our data is that prevalence doesn't equate to effectiveness in chess, and that prevalence of openings vary by rating.",
   "metadata": {
    "tags": [],
    "is_collapsed": false,
    "cell_id": "00056-f7ac7766-a5ad-4759-ade1-a4e890d76d45",
    "deepnote_cell_type": "text-cell-p"
   }
  },
  {
   "cell_type": "markdown",
   "source": "## Clustering grandmasters by their openings",
   "metadata": {
    "tags": [],
    "is_collapsed": false,
    "cell_id": "00059-b4b669ef-4a65-4857-8cc3-af6145e579ba",
    "deepnote_cell_type": "text-cell-h2"
   }
  },
  {
   "cell_type": "markdown",
   "source": "### Choosing the players",
   "metadata": {
    "tags": [],
    "is_collapsed": false,
    "cell_id": "00062-769b7d76-de32-4a78-b474-bab87d8f3789",
    "deepnote_cell_type": "text-cell-h3"
   }
  },
  {
   "cell_type": "markdown",
   "source": "We  put a lot of thought into what kind of data we want to cluster and check for similarities. After some failed attempts and second thoughts, we have decided to cluster the openings of grandmasters from different eras and check for interesting similarities (or differences). We chose a total of 20 players - including the current top 10 players (modern players in the computer era) and some players from the pre-computer era such as Kasparov, Fischer and Mikhail Tal. To do that, we collected thousands of games of each grandmaster, and we divided them into their ECO codes in a list of 500 values (each value for each ECO code).",
   "metadata": {
    "tags": [],
    "is_collapsed": false,
    "cell_id": "00058-901996b3-29fb-47da-a63e-452a879ddb47",
    "deepnote_cell_type": "text-cell-p"
   }
  },
  {
   "cell_type": "code",
   "metadata": {
    "tags": [],
    "cell_id": "00059-e0a49536-f437-4e2b-acd9-72b129a8dc87",
    "deepnote_to_be_reexecuted": false,
    "source_hash": "4dd70321",
    "execution_start": 1636496151273,
    "execution_millis": 620,
    "deepnote_cell_type": "code"
   },
   "source": "players_dict = {\"Alekhine\" : [0] * 500, \"Anand\" : [0] * 500, \"Carlsen\" : [0] * 500, \"Caruana\" : [0] * 500, \"Fischer\" : [0] * 500, \n                \"Giri\" : [0] * 500, \"Karpov\" : [0] * 500, \"Kasparov\" : [0] * 500, \"Morphy\" : [0] * 500, \"Nakamura\" : [0] * 500, \n                \"Nepomniachtchi\" : [0] * 500, \"Spassky\" : [0] * 500, \"Tal\" : [0] * 500, \"Ding\" : [0] * 500, \"So\" : [0] * 500,\n                \"Firouzja\" : [0] * 500, \"Aronian\" : [0] * 500, \"Grischuk\" : [0] * 500, \"Rapport\" : [0] * 500, \"Karjakin\" : [0] * 500}\nfor player in players_dict:\n    file_path = \"games/\" + player + \".pgn\"\n    f = open(file_path, \"r\", encoding = 'unicode_escape')\n    for line in f:\n        if \"ECO\" in line:\n            eco_code = line[6:9]\n            eco_pos = (ord(eco_code[0]) - ord('A')) * 100 + int(eco_code[1]) * 10 + int(eco_code[2])\n            players_dict[player][eco_pos] += 1\n\n\n\n",
   "execution_count": null,
   "outputs": []
  },
  {
   "cell_type": "markdown",
   "source": "Next, we normalized the values in the list, so each value represents the fraction of games played with its ECO code divided by the total amount of games played. This way, all the values in the list sum up to 1.",
   "metadata": {
    "tags": [],
    "is_collapsed": false,
    "cell_id": "00060-442ad74a-657e-4079-bd27-c18b2e8771a8",
    "deepnote_cell_type": "text-cell-p"
   }
  },
  {
   "cell_type": "code",
   "metadata": {
    "tags": [],
    "cell_id": "00060-1a677bdd-e1d6-49bc-84b5-fbedb8a95047",
    "deepnote_to_be_reexecuted": false,
    "source_hash": "da4eca77",
    "execution_start": 1636496151936,
    "execution_millis": 0,
    "deepnote_cell_type": "code"
   },
   "source": "for player in players_dict:\n    eco_lis = players_dict[player]\n    total_games = sum(eco_lis)\n    for i in range(0, len(eco_lis)):\n        eco_lis[i] /= total_games\n\n",
   "execution_count": null,
   "outputs": []
  },
  {
   "cell_type": "markdown",
   "source": "### Dimensionality reduction",
   "metadata": {
    "tags": [],
    "is_collapsed": false,
    "cell_id": "00067-b8caf8a1-3fe6-4b1c-88af-a32253ec035a",
    "deepnote_cell_type": "text-cell-h3"
   }
  },
  {
   "cell_type": "markdown",
   "source": "As we have a vector of size 500, and we want to visualize the data, we need to reduce dimensions. In order to do that, we are using PCA (Principal Component Analysis) and we take its first 2 components so we can show the data in a 2 dimensional graph.",
   "metadata": {
    "tags": [],
    "is_collapsed": false,
    "cell_id": "00062-00b53551-dbc8-4519-850b-55d5346ddbf8",
    "deepnote_cell_type": "text-cell-p"
   }
  },
  {
   "cell_type": "code",
   "metadata": {
    "tags": [],
    "cell_id": "00060-f598d799-c6d0-438c-80b1-35752f7ae9e9",
    "deepnote_to_be_reexecuted": false,
    "source_hash": "5c342e4f",
    "execution_start": 1636496151937,
    "execution_millis": 1100,
    "output_cleared": false,
    "deepnote_cell_type": "code"
   },
   "source": "from sklearn.decomposition import PCA\nimport random\n\npca = PCA(n_components=1)\nX = []\nfor player in players_dict:\n    eco_array = np.array(players_dict[player]).reshape(-1, 1)\n    clust_comp = pca.fit_transform(eco_array)[:2]\n    X.append((clust_comp[0][0], clust_comp[1][0]))\nshaped_x = np.array(X).reshape(-1,2)",
   "execution_count": null,
   "outputs": []
  },
  {
   "cell_type": "markdown",
   "source": "### Clustering with K-Means",
   "metadata": {
    "tags": [],
    "is_collapsed": false,
    "cell_id": "00070-5c599c31-9e21-489f-971f-3988cd37e6ae",
    "deepnote_cell_type": "text-cell-h3"
   }
  },
  {
   "cell_type": "markdown",
   "source": "Finally, after we plotted all of the grandmasters in the graph, it's time to cluster them. We decided to use the K-Means clustering algorithm, and here are the results:",
   "metadata": {
    "tags": [],
    "is_collapsed": false,
    "cell_id": "00065-1c637278-4236-4ec0-bf0e-e8ec8833802c",
    "deepnote_cell_type": "text-cell-p"
   }
  },
  {
   "cell_type": "code",
   "metadata": {
    "tags": [],
    "cell_id": "00062-a968f916-7688-4ce7-80a8-a103ac67b520",
    "deepnote_to_be_reexecuted": false,
    "source_hash": "7867bc5b",
    "execution_start": 1636496153056,
    "execution_millis": 803,
    "deepnote_output_heights": [
     611
    ],
    "deepnote_cell_type": "code"
   },
   "source": "from sklearn.cluster import KMeans\n\nplt.figure(figsize=(15, 15))\nplt.rcParams.update({'font.size': 8})\nkmeans = KMeans(init=\"k-means++\", n_clusters=7, n_init=4)\npred_y = kmeans.fit_predict(shaped_x)\nplt.scatter(kmeans.cluster_centers_[:, 0] * 1000, kmeans.cluster_centers_[:, 1] * 1000, s=10, c='red')\n\nfor player in players_dict:\n    eco_array = np.array(players_dict[player]).reshape(-1, 1)\n    clust_comp = pca.fit_transform(eco_array)[:2]\n    rgb = (random.random(), random.random(), random.random())\n    plt.annotate(player, (clust_comp[0]*1000, clust_comp[1]*1000), c=rgb)\n\nplt.grid(b=None)\nplt.xlim([-5, 15])\nplt.ylim([-5, 45])\nplt.show()",
   "execution_count": null,
   "outputs": [
    {
     "data": {
      "text/plain": "<Figure size 1080x1080 with 1 Axes>",
      "image/png": "[encoded data removed]"
     },
     "metadata": {
      "needs_background": "light",
      "image/png": {
       "width": 877,
       "height": 845
      }
     },
     "output_type": "display_data"
    }
   ]
  },
  {
   "cell_type": "markdown",
   "source": "### Conclusions",
   "metadata": {
    "tags": [],
    "is_collapsed": false,
    "cell_id": "00068-9f009055-7dc4-4902-8c51-18ce6cc40ddc",
    "deepnote_cell_type": "text-cell-h3"
   }
  },
  {
   "cell_type": "markdown",
   "source": "We can see that our data can be divided into 7 different clusters. The first cluster (left to right) is the biggest one, and interestingly, it contains all of the pre-computer era grandmasters except Bobby Fischer. Another interesting point about this cluster, is that it contains one computer era player as well - Ding Liren. The data suggests that Ding plays his openings like an old school player, unlike his fellow computer era players. The second cluster is the 2nd biggest one, and it contains 4 computer era players and one pre-computer era player - Bobby Fischer. Fischer was known to be ahead of his time, so the data suggests that there is indeed some truth to that. The next 5 clusters are rather small and isolated. Wesley So can be seen alone in the middle of the graph, while the 2 pairs of Nepo, Karjakin and Carlsen, Firoujza are distant from everyone else. Magnus Carlsen is the strongest computer era player at the moment, and the player most similar to him is surprisingly the young prodigy Alireza Firouzja, only 18 years old. Perhaps this means Alireza will reach the heights of Magnus, or perhaps not, but still - this piece of data is quite fascinating. The next 2 clusters are by far the biggest anomalies. First is Hikaru Nakamura, 5 times US chess champion. It seems like Hikaru has a very unique opening style that is very different to all other chess grandmasters, and maybe that is one of the things that make him so entertaining to the viewers!   At last, we have Richard Rapport at the top right, all by himself and far away from anyone else.  According to Wikipedia, \"Rapport often uses unusual openings even in official&nbsp;over-the-board&nbsp;tournaments.\", and it definitely checks out with our data.",
   "metadata": {
    "tags": [],
    "is_collapsed": false,
    "cell_id": "00069-3b03186e-fa43-4f7b-a873-3d6ddc7b1739",
    "deepnote_cell_type": "text-cell-p"
   }
  },
  {
   "cell_type": "markdown",
   "source": "# The Engine",
   "metadata": {
    "tags": [],
    "is_collapsed": false,
    "cell_id": "00004-25427ac1-34fe-4d37-bee7-880c72289044",
    "deepnote_cell_type": "text-cell-h1"
   }
  },
  {
   "cell_type": "markdown",
   "source": "## Imports &amp; Initialization",
   "metadata": {
    "tags": [],
    "is_collapsed": false,
    "cell_id": "00004-d00aa757-ab83-4f25-aa67-0b9432919b2e",
    "deepnote_cell_type": "text-cell-h2"
   }
  },
  {
   "cell_type": "markdown",
   "source": "We decided to use the python-chess api in our engine due to its flexibility and its helpful functions and GUI. This part contains all the imports needed to be able to play on a chess board and display it when needed.",
   "metadata": {
    "tags": [],
    "is_collapsed": false,
    "cell_id": "00002-52e8402e-021d-4238-9379-8fd6776768bb",
    "deepnote_cell_type": "text-cell-p"
   }
  },
  {
   "cell_type": "code",
   "metadata": {
    "tags": [],
    "deepnote_to_be_reexecuted": false,
    "source_hash": "b5f023b3",
    "execution_start": 1636496153869,
    "execution_millis": 5071,
    "cell_id": "00002-7262375b-65db-4795-a1dd-32719de6742c",
    "deepnote_cell_type": "code"
   },
   "source": "!pip install chess\nimport chess\nimport chess.svg\nimport chess.polyglot\nfrom IPython.display import display, Image\n",
   "execution_count": null,
   "outputs": [
    {
     "name": "stdout",
     "text": "Collecting chess\n  Downloading chess-1.7.0-py3-none-any.whl (147 kB)\n\u001b[K     |████████████████████████████████| 147 kB 34.9 MB/s \n\u001b[?25hInstalling collected packages: chess\nSuccessfully installed chess-1.7.0\n\u001b[33mWARNING: You are using pip version 21.2.4; however, version 21.3.1 is available.\nYou should consider upgrading via the '/root/venv/bin/python -m pip install --upgrade pip' command.\u001b[0m\n",
     "output_type": "stream"
    }
   ]
  },
  {
   "cell_type": "markdown",
   "source": "## Categorizing The Game Into Phases",
   "metadata": {
    "tags": [],
    "is_collapsed": false,
    "cell_id": "00008-7e3ea3bb-6e73-4fd6-bec1-19f67a077106",
    "deepnote_cell_type": "text-cell-h2"
   }
  },
  {
   "cell_type": "markdown",
   "source": "The game of chess is divided into 3 phases: opening, midgame and endgame. We decided to follow suit and divide the engine into thinking differently according to each phase.\n",
   "metadata": {
    "tags": [],
    "is_collapsed": false,
    "cell_id": "00005-f8306b77-85c9-4074-8d55-a745626a7a31",
    "deepnote_cell_type": "text-cell-p"
   }
  },
  {
   "cell_type": "markdown",
   "source": "### Opening",
   "metadata": {
    "tags": [],
    "is_collapsed": false,
    "cell_id": "00009-8caaea16-ff8a-4fa1-96be-ac5a1fc985ad",
    "deepnote_cell_type": "text-cell-h3"
   }
  },
  {
   "cell_type": "markdown",
   "source": "In chess, the opening refers to the initial moves of the game. Chess openings have been studied vastly and are quite absolute. There are dozens of different openings, and each one has dozens of variants. The opening decides the direction the game is going, but nonetheless it is the phase professional chess players spend the least time on since games are rarely decided by it. A move that is a part of the opening is called a \"book move\" and once players begin to deviate from the opening theory, they are said to be \"out of book\". Our engine uses a database of openings called an opening book. The book describes \"lines\", which are sequences of moves that give you a good position. The engine decides to play according to the book, and once it is out of the book, it will shift into the 2nd phase, the midgame. ",
   "metadata": {
    "tags": [],
    "is_collapsed": false,
    "cell_id": "00005-66bbc83b-af50-4201-82d4-c3e7de7cf5c1",
    "deepnote_cell_type": "text-cell-p"
   }
  },
  {
   "cell_type": "markdown",
   "source": "We chose to use an opening book because opening is an exact science, there is no need to calculate which position is best as it is already known. In addition, searching in an opening book is much more efficient than searching on our own using the evaluation function. ",
   "metadata": {
    "tags": [],
    "is_collapsed": false,
    "cell_id": "00012-e1dbde33-e8a7-4d9a-8f45-4d549ed2785e",
    "deepnote_cell_type": "text-cell-p"
   }
  },
  {
   "cell_type": "markdown",
   "source": "The algorithm to chose a move in the opening phase works as follows: the engine receives the current board position, and fetches the possible moves from the opening book. Each move has a weight to it, indicating how popular the move is. The engine then takes the 3 best possible moves, and out of those 3, the move to make is picked in by a weighted random choice.",
   "metadata": {
    "tags": [],
    "is_collapsed": false,
    "cell_id": "00013-81f72c3c-36b0-4fc2-8358-b702b4cc668e",
    "deepnote_cell_type": "text-cell-p"
   }
  },
  {
   "cell_type": "code",
   "metadata": {
    "tags": [],
    "cell_id": "00010-30ff8201-04d8-493a-a829-17a850db76ac",
    "deepnote_to_be_reexecuted": false,
    "source_hash": "26b5fba8",
    "execution_start": 1636496158949,
    "execution_millis": 8,
    "deepnote_cell_type": "code"
   },
   "source": "import random\ndef opening_move(board, reader):\n    moves_list = []\n    candidate_moves = []\n    raffle = 0\n    for entry in reader.find_all(board):\n        if entry.move in board.legal_moves:\n            moves_list.append((entry.move, entry.weight))\n        if not moves_list:\n            return None\n    candidate_moves = moves_list[:min(len(moves_list),3)] \n    for cand in candidate_moves:\n        raffle += cand[1]\n    winner = random.randint(0, raffle)\n    for cand in candidate_moves:\n        if winner <= cand[1]:\n            return cand[0]\n        winner -= cand[1]\n",
   "execution_count": null,
   "outputs": []
  },
  {
   "cell_type": "markdown",
   "source": "Here is an example of the engine playing the opening phase against itself:",
   "metadata": {
    "tags": [],
    "is_collapsed": false,
    "cell_id": "00011-6a98ccd0-2fb2-4950-962e-72b62173920c",
    "deepnote_cell_type": "text-cell-p"
   }
  },
  {
   "cell_type": "code",
   "metadata": {
    "tags": [],
    "cell_id": "00011-4d9bae20-87ae-4e43-8bf8-764682951ed5",
    "deepnote_to_be_reexecuted": false,
    "source_hash": "2d09f431",
    "execution_start": 1636496158963,
    "execution_millis": 99,
    "output_cleared": false,
    "deepnote_output_heights": [
     392,
     null,
     392
    ],
    "deepnote_cell_type": "code"
   },
   "source": "\nboard = chess.Board()\nreader = chess.polyglot.open_reader(\"Titans.bin\")\ndisplay(board)\nwhile(True):\n    move_to_make = opening_move(board, reader)\n    if move_to_make is None:\n        break\n    if board.turn:\n        print(\"White has played: \" + move_to_make.uci())\n    else:\n        print(\"Black has played: \" + move_to_make.uci())\n    board.push(move_to_make)\n\ndisplay(board)\nprint(\"Game has moved on to the midgame.\")",
   "execution_count": null,
   "outputs": [
    {
     "data": {
      "text/plain": "Board('rnbqkbnr/pppppppp/8/8/8/8/PPPPPPPP/RNBQKBNR w KQkq - 0 1')",
      "image/svg+xml": "<svg xmlns=\"http://www.w3.org/2000/svg\" xmlns:xlink=\"http://www.w3.org/1999/xlink\" version=\"1.2\" baseProfile=\"tiny\" viewBox=\"0 0 390 390\" width=\"390\" height=\"390\"><defs><g id=\"white-pawn\" class=\"white pawn\"><path d=\"M22.5 9c-2.21 0-4 1.79-4 4 0 .89.29 1.71.78 2.38C17.33 16.5 16 18.59 16 21c0 2.03.94 3.84 2.41 5.03-3 1.06-7.41 5.55-7.41 13.47h23c0-7.92-4.41-12.41-7.41-13.47 1.47-1.19 2.41-3 2.41-5.03 0-2.41-1.33-4.5-3.28-5.62.49-.67.78-1.49.78-2.38 0-2.21-1.79-4-4-4z\" fill=\"#fff\" stroke=\"#000\" stroke-width=\"1.5\" stroke-linecap=\"round\" /></g><g id=\"white-knight\" class=\"white knight\" fill=\"none\" fill-rule=\"evenodd\" stroke=\"#000\" stroke-width=\"1.5\" stroke-linecap=\"round\" stroke-linejoin=\"round\"><path d=\"M 22,10 C 32.5,11 38.5,18 38,39 L 15,39 C 15,30 25,32.5 23,18\" style=\"fill:#ffffff; stroke:#000000;\" /><path d=\"M 24,18 C 24.38,20.91 18.45,25.37 16,27 C 13,29 13.18,31.34 11,31 C 9.958,30.06 12.41,27.96 11,28 C 10,28 11.19,29.23 10,30 C 9,30 5.997,31 6,26 C 6,24 12,14 12,14 C 12,14 13.89,12.1 14,10.5 C 13.27,9.506 13.5,8.5 13.5,7.5 C 14.5,6.5 16.5,10 16.5,10 L 18.5,10 C 18.5,10 19.28,8.008 21,7 C 22,7 22,10 22,10\" style=\"fill:#ffffff; stroke:#000000;\" /><path d=\"M 9.5 25.5 A 0.5 0.5 0 1 1 8.5,25.5 A 0.5 0.5 0 1 1 9.5 25.5 z\" style=\"fill:#000000; stroke:#000000;\" /><path d=\"M 15 15.5 A 0.5 1.5 0 1 1 14,15.5 A 0.5 1.5 0 1 1 15 15.5 z\" transform=\"matrix(0.866,0.5,-0.5,0.866,9.693,-5.173)\" style=\"fill:#000000; stroke:#000000;\" /></g><g id=\"white-bishop\" class=\"white bishop\" fill=\"none\" fill-rule=\"evenodd\" stroke=\"#000\" stroke-width=\"1.5\" stroke-linecap=\"round\" stroke-linejoin=\"round\"><g fill=\"#fff\" stroke-linecap=\"butt\"><path d=\"M9 36c3.39-.97 10.11.43 13.5-2 3.39 2.43 10.11 1.03 13.5 2 0 0 1.65.54 3 2-.68.97-1.65.99-3 .5-3.39-.97-10.11.46-13.5-1-3.39 1.46-10.11.03-13.5 1-1.354.49-2.323.47-3-.5 1.354-1.94 3-2 3-2zM15 32c2.5 2.5 12.5 2.5 15 0 .5-1.5 0-2 0-2 0-2.5-2.5-4-2.5-4 5.5-1.5 6-11.5-5-15.5-11 4-10.5 14-5 15.5 0 0-2.5 1.5-2.5 4 0 0-.5.5 0 2zM25 8a2.5 2.5 0 1 1-5 0 2.5 2.5 0 1 1 5 0z\" /></g><path d=\"M17.5 26h10M15 30h15m-7.5-14.5v5M20 18h5\" stroke-linejoin=\"miter\" /></g><g id=\"white-rook\" class=\"white rook\" fill=\"#fff\" fill-rule=\"evenodd\" stroke=\"#000\" stroke-width=\"1.5\" stroke-linecap=\"round\" stroke-linejoin=\"round\"><path d=\"M9 39h27v-3H9v3zM12 36v-4h21v4H12zM11 14V9h4v2h5V9h5v2h5V9h4v5\" stroke-linecap=\"butt\" /><path d=\"M34 14l-3 3H14l-3-3\" /><path d=\"M31 17v12.5H14V17\" stroke-linecap=\"butt\" stroke-linejoin=\"miter\" /><path d=\"M31 29.5l1.5 2.5h-20l1.5-2.5\" /><path d=\"M11 14h23\" fill=\"none\" stroke-linejoin=\"miter\" /></g><g id=\"white-queen\" class=\"white queen\" fill=\"#fff\" fill-rule=\"evenodd\" stroke=\"#000\" stroke-width=\"1.5\" stroke-linecap=\"round\" stroke-linejoin=\"round\"><path d=\"M8 12a2 2 0 1 1-4 0 2 2 0 1 1 4 0zM24.5 7.5a2 2 0 1 1-4 0 2 2 0 1 1 4 0zM41 12a2 2 0 1 1-4 0 2 2 0 1 1 4 0zM16 8.5a2 2 0 1 1-4 0 2 2 0 1 1 4 0zM33 9a2 2 0 1 1-4 0 2 2 0 1 1 4 0z\" /><path d=\"M9 26c8.5-1.5 21-1.5 27 0l2-12-7 11V11l-5.5 13.5-3-15-3 15-5.5-14V25L7 14l2 12zM9 26c0 2 1.5 2 2.5 4 1 1.5 1 1 .5 3.5-1.5 1-1.5 2.5-1.5 2.5-1.5 1.5.5 2.5.5 2.5 6.5 1 16.5 1 23 0 0 0 1.5-1 0-2.5 0 0 .5-1.5-1-2.5-.5-2.5-.5-2 .5-3.5 1-2 2.5-2 2.5-4-8.5-1.5-18.5-1.5-27 0z\" stroke-linecap=\"butt\" /><path d=\"M11.5 30c3.5-1 18.5-1 22 0M12 33.5c6-1 15-1 21 0\" fill=\"none\" /></g><g id=\"white-king\" class=\"white king\" fill=\"none\" fill-rule=\"evenodd\" stroke=\"#000\" stroke-width=\"1.5\" stroke-linecap=\"round\" stroke-linejoin=\"round\"><path d=\"M22.5 11.63V6M20 8h5\" stroke-linejoin=\"miter\" /><path d=\"M22.5 25s4.5-7.5 3-10.5c0 0-1-2.5-3-2.5s-3 2.5-3 2.5c-1.5 3 3 10.5 3 10.5\" fill=\"#fff\" stroke-linecap=\"butt\" stroke-linejoin=\"miter\" /><path d=\"M11.5 37c5.5 3.5 15.5 3.5 21 0v-7s9-4.5 6-10.5c-4-6.5-13.5-3.5-16 4V27v-3.5c-3.5-7.5-13-10.5-16-4-3 6 5 10 5 10V37z\" fill=\"#fff\" /><path d=\"M11.5 30c5.5-3 15.5-3 21 0m-21 3.5c5.5-3 15.5-3 21 0m-21 3.5c5.5-3 15.5-3 21 0\" /></g><g id=\"black-pawn\" class=\"black pawn\"><path d=\"M22.5 9c-2.21 0-4 1.79-4 4 0 .89.29 1.71.78 2.38C17.33 16.5 16 18.59 16 21c0 2.03.94 3.84 2.41 5.03-3 1.06-7.41 5.55-7.41 13.47h23c0-7.92-4.41-12.41-7.41-13.47 1.47-1.19 2.41-3 2.41-5.03 0-2.41-1.33-4.5-3.28-5.62.49-.67.78-1.49.78-2.38 0-2.21-1.79-4-4-4z\" stroke=\"#000\" stroke-width=\"1.5\" stroke-linecap=\"round\" /></g><g id=\"black-knight\" class=\"black knight\" fill=\"none\" fill-rule=\"evenodd\" stroke=\"#000\" stroke-width=\"1.5\" stroke-linecap=\"round\" stroke-linejoin=\"round\"><path d=\"M 22,10 C 32.5,11 38.5,18 38,39 L 15,39 C 15,30 25,32.5 23,18\" style=\"fill:#000000; stroke:#000000;\" /><path d=\"M 24,18 C 24.38,20.91 18.45,25.37 16,27 C 13,29 13.18,31.34 11,31 C 9.958,30.06 12.41,27.96 11,28 C 10,28 11.19,29.23 10,30 C 9,30 5.997,31 6,26 C 6,24 12,14 12,14 C 12,14 13.89,12.1 14,10.5 C 13.27,9.506 13.5,8.5 13.5,7.5 C 14.5,6.5 16.5,10 16.5,10 L 18.5,10 C 18.5,10 19.28,8.008 21,7 C 22,7 22,10 22,10\" style=\"fill:#000000; stroke:#000000;\" /><path d=\"M 9.5 25.5 A 0.5 0.5 0 1 1 8.5,25.5 A 0.5 0.5 0 1 1 9.5 25.5 z\" style=\"fill:#ececec; stroke:#ececec;\" /><path d=\"M 15 15.5 A 0.5 1.5 0 1 1 14,15.5 A 0.5 1.5 0 1 1 15 15.5 z\" transform=\"matrix(0.866,0.5,-0.5,0.866,9.693,-5.173)\" style=\"fill:#ececec; stroke:#ececec;\" /><path d=\"M 24.55,10.4 L 24.1,11.85 L 24.6,12 C 27.75,13 30.25,14.49 32.5,18.75 C 34.75,23.01 35.75,29.06 35.25,39 L 35.2,39.5 L 37.45,39.5 L 37.5,39 C 38,28.94 36.62,22.15 34.25,17.66 C 31.88,13.17 28.46,11.02 25.06,10.5 L 24.55,10.4 z \" style=\"fill:#ececec; stroke:none;\" /></g><g id=\"black-bishop\" class=\"black bishop\" fill=\"none\" fill-rule=\"evenodd\" stroke=\"#000\" stroke-width=\"1.5\" stroke-linecap=\"round\" stroke-linejoin=\"round\"><path d=\"M9 36c3.39-.97 10.11.43 13.5-2 3.39 2.43 10.11 1.03 13.5 2 0 0 1.65.54 3 2-.68.97-1.65.99-3 .5-3.39-.97-10.11.46-13.5-1-3.39 1.46-10.11.03-13.5 1-1.354.49-2.323.47-3-.5 1.354-1.94 3-2 3-2zm6-4c2.5 2.5 12.5 2.5 15 0 .5-1.5 0-2 0-2 0-2.5-2.5-4-2.5-4 5.5-1.5 6-11.5-5-15.5-11 4-10.5 14-5 15.5 0 0-2.5 1.5-2.5 4 0 0-.5.5 0 2zM25 8a2.5 2.5 0 1 1-5 0 2.5 2.5 0 1 1 5 0z\" fill=\"#000\" stroke-linecap=\"butt\" /><path d=\"M17.5 26h10M15 30h15m-7.5-14.5v5M20 18h5\" stroke=\"#fff\" stroke-linejoin=\"miter\" /></g><g id=\"black-rook\" class=\"black rook\" fill=\"#000\" fill-rule=\"evenodd\" stroke=\"#000\" stroke-width=\"1.5\" stroke-linecap=\"round\" stroke-linejoin=\"round\"><path d=\"M9 39h27v-3H9v3zM12.5 32l1.5-2.5h17l1.5 2.5h-20zM12 36v-4h21v4H12z\" stroke-linecap=\"butt\" /><path d=\"M14 29.5v-13h17v13H14z\" stroke-linecap=\"butt\" stroke-linejoin=\"miter\" /><path d=\"M14 16.5L11 14h23l-3 2.5H14zM11 14V9h4v2h5V9h5v2h5V9h4v5H11z\" stroke-linecap=\"butt\" /><path d=\"M12 35.5h21M13 31.5h19M14 29.5h17M14 16.5h17M11 14h23\" fill=\"none\" stroke=\"#fff\" stroke-width=\"1\" stroke-linejoin=\"miter\" /></g><g id=\"black-queen\" class=\"black queen\" fill=\"#000\" fill-rule=\"evenodd\" stroke=\"#000\" stroke-width=\"1.5\" stroke-linecap=\"round\" stroke-linejoin=\"round\"><g fill=\"#000\" stroke=\"none\"><circle cx=\"6\" cy=\"12\" r=\"2.75\" /><circle cx=\"14\" cy=\"9\" r=\"2.75\" /><circle cx=\"22.5\" cy=\"8\" r=\"2.75\" /><circle cx=\"31\" cy=\"9\" r=\"2.75\" /><circle cx=\"39\" cy=\"12\" r=\"2.75\" /></g><path d=\"M9 26c8.5-1.5 21-1.5 27 0l2.5-12.5L31 25l-.3-14.1-5.2 13.6-3-14.5-3 14.5-5.2-13.6L14 25 6.5 13.5 9 26zM9 26c0 2 1.5 2 2.5 4 1 1.5 1 1 .5 3.5-1.5 1-1.5 2.5-1.5 2.5-1.5 1.5.5 2.5.5 2.5 6.5 1 16.5 1 23 0 0 0 1.5-1 0-2.5 0 0 .5-1.5-1-2.5-.5-2.5-.5-2 .5-3.5 1-2 2.5-2 2.5-4-8.5-1.5-18.5-1.5-27 0z\" stroke-linecap=\"butt\" /><path d=\"M11 38.5a35 35 1 0 0 23 0\" fill=\"none\" stroke-linecap=\"butt\" /><path d=\"M11 29a35 35 1 0 1 23 0M12.5 31.5h20M11.5 34.5a35 35 1 0 0 22 0M10.5 37.5a35 35 1 0 0 24 0\" fill=\"none\" stroke=\"#fff\" /></g><g id=\"black-king\" class=\"black king\" fill=\"none\" fill-rule=\"evenodd\" stroke=\"#000\" stroke-width=\"1.5\" stroke-linecap=\"round\" stroke-linejoin=\"round\"><path d=\"M22.5 11.63V6\" stroke-linejoin=\"miter\" /><path d=\"M22.5 25s4.5-7.5 3-10.5c0 0-1-2.5-3-2.5s-3 2.5-3 2.5c-1.5 3 3 10.5 3 10.5\" fill=\"#000\" stroke-linecap=\"butt\" stroke-linejoin=\"miter\" /><path d=\"M11.5 37c5.5 3.5 15.5 3.5 21 0v-7s9-4.5 6-10.5c-4-6.5-13.5-3.5-16 4V27v-3.5c-3.5-7.5-13-10.5-16-4-3 6 5 10 5 10V37z\" fill=\"#000\" /><path d=\"M20 8h5\" stroke-linejoin=\"miter\" /><path d=\"M32 29.5s8.5-4 6.03-9.65C34.15 14 25 18 22.5 24.5l.01 2.1-.01-2.1C20 18 9.906 14 6.997 19.85c-2.497 5.65 4.853 9 4.853 9M11.5 30c5.5-3 15.5-3 21 0m-21 3.5c5.5-3 15.5-3 21 0m-21 3.5c5.5-3 15.5-3 21 0\" stroke=\"#fff\" /></g></defs><rect x=\"0\" y=\"0\" width=\"390\" height=\"390\" fill=\"#212121\" /><g transform=\"translate(20, 0) scale(0.75, 0.75)\" fill=\"#e5e5e5\" stroke=\"#e5e5e5\"><path d=\"M23.328 10.016q-1.742 0-2.414.398-.672.398-.672 1.36 0 .765.5 1.218.508.445 1.375.445 1.196 0 1.914-.843.727-.852.727-2.258v-.32zm2.867-.594v4.992h-1.437v-1.328q-.492.797-1.227 1.18-.734.375-1.797.375-1.343 0-2.14-.75-.79-.758-.79-2.024 0-1.476.985-2.226.992-.75 2.953-.75h2.016V8.75q0-.992-.656-1.531-.649-.547-1.829-.547-.75 0-1.46.18-.711.18-1.368.539V6.062q.79-.304 1.532-.453.742-.156 1.445-.156 1.898 0 2.836.984.937.985.937 2.985z\" /></g><g transform=\"translate(20, 375) scale(0.75, 0.75)\" fill=\"#e5e5e5\" stroke=\"#e5e5e5\"><path d=\"M23.328 10.016q-1.742 0-2.414.398-.672.398-.672 1.36 0 .765.5 1.218.508.445 1.375.445 1.196 0 1.914-.843.727-.852.727-2.258v-.32zm2.867-.594v4.992h-1.437v-1.328q-.492.797-1.227 1.18-.734.375-1.797.375-1.343 0-2.14-.75-.79-.758-.79-2.024 0-1.476.985-2.226.992-.75 2.953-.75h2.016V8.75q0-.992-.656-1.531-.649-.547-1.829-.547-.75 0-1.46.18-.711.18-1.368.539V6.062q.79-.304 1.532-.453.742-.156 1.445-.156 1.898 0 2.836.984.937.985.937 2.985z\" /></g><g transform=\"translate(65, 0) scale(0.75, 0.75)\" fill=\"#e5e5e5\" stroke=\"#e5e5e5\"><path d=\"M24.922 10.047q0-1.586-.656-2.485-.649-.906-1.79-.906-1.14 0-1.796.906-.649.899-.649 2.485 0 1.586.649 2.492.656.898 1.797.898 1.14 0 1.789-.898.656-.906.656-2.492zm-4.89-3.055q.452-.781 1.14-1.156.695-.383 1.656-.383 1.594 0 2.586 1.266 1 1.265 1 3.328 0 2.062-1 3.328-.992 1.266-2.586 1.266-.96 0-1.656-.375-.688-.383-1.14-1.164v1.312h-1.446V2.258h1.445z\" /></g><g transform=\"translate(65, 375) scale(0.75, 0.75)\" fill=\"#e5e5e5\" stroke=\"#e5e5e5\"><path d=\"M24.922 10.047q0-1.586-.656-2.485-.649-.906-1.79-.906-1.14 0-1.796.906-.649.899-.649 2.485 0 1.586.649 2.492.656.898 1.797.898 1.14 0 1.789-.898.656-.906.656-2.492zm-4.89-3.055q.452-.781 1.14-1.156.695-.383 1.656-.383 1.594 0 2.586 1.266 1 1.265 1 3.328 0 2.062-1 3.328-.992 1.266-2.586 1.266-.96 0-1.656-.375-.688-.383-1.14-1.164v1.312h-1.446V2.258h1.445z\" /></g><g transform=\"translate(110, 0) scale(0.75, 0.75)\" fill=\"#e5e5e5\" stroke=\"#e5e5e5\"><path d=\"M25.96 6v1.344q-.608-.336-1.226-.5-.609-.172-1.234-.172-1.398 0-2.172.89-.773.883-.773 2.485 0 1.601.773 2.492.774.883 2.172.883.625 0 1.234-.164.618-.172 1.227-.508v1.328q-.602.281-1.25.422-.64.14-1.367.14-1.977 0-3.14-1.242-1.165-1.242-1.165-3.351 0-2.14 1.172-3.367 1.18-1.227 3.227-1.227.664 0 1.296.14.633.134 1.227.407z\" /></g><g transform=\"translate(110, 375) scale(0.75, 0.75)\" fill=\"#e5e5e5\" stroke=\"#e5e5e5\"><path d=\"M25.96 6v1.344q-.608-.336-1.226-.5-.609-.172-1.234-.172-1.398 0-2.172.89-.773.883-.773 2.485 0 1.601.773 2.492.774.883 2.172.883.625 0 1.234-.164.618-.172 1.227-.508v1.328q-.602.281-1.25.422-.64.14-1.367.14-1.977 0-3.14-1.242-1.165-1.242-1.165-3.351 0-2.14 1.172-3.367 1.18-1.227 3.227-1.227.664 0 1.296.14.633.134 1.227.407z\" /></g><g transform=\"translate(155, 0) scale(0.75, 0.75)\" fill=\"#e5e5e5\" stroke=\"#e5e5e5\"><path d=\"M24.973 6.992V2.258h1.437v12.156h-1.437v-1.312q-.453.78-1.149 1.164-.687.375-1.656.375-1.586 0-2.586-1.266-.992-1.266-.992-3.328 0-2.063.992-3.328 1-1.266 2.586-1.266.969 0 1.656.383.696.375 1.149 1.156zm-4.899 3.055q0 1.586.649 2.492.656.898 1.797.898 1.14 0 1.796-.898.657-.906.657-2.492 0-1.586-.657-2.485-.656-.906-1.796-.906-1.141 0-1.797.906-.649.899-.649 2.485z\" /></g><g transform=\"translate(155, 375) scale(0.75, 0.75)\" fill=\"#e5e5e5\" stroke=\"#e5e5e5\"><path d=\"M24.973 6.992V2.258h1.437v12.156h-1.437v-1.312q-.453.78-1.149 1.164-.687.375-1.656.375-1.586 0-2.586-1.266-.992-1.266-.992-3.328 0-2.063.992-3.328 1-1.266 2.586-1.266.969 0 1.656.383.696.375 1.149 1.156zm-4.899 3.055q0 1.586.649 2.492.656.898 1.797.898 1.14 0 1.796-.898.657-.906.657-2.492 0-1.586-.657-2.485-.656-.906-1.796-.906-1.141 0-1.797.906-.649.899-.649 2.485z\" /></g><g transform=\"translate(200, 0) scale(0.75, 0.75)\" fill=\"#e5e5e5\" stroke=\"#e5e5e5\"><path d=\"M26.555 9.68v.703h-6.61q.094 1.484.89 2.265.806.774 2.235.774.828 0 1.602-.203.781-.203 1.547-.61v1.36q-.774.328-1.586.5-.813.172-1.649.172-2.093 0-3.32-1.22-1.219-1.218-1.219-3.296 0-2.148 1.157-3.406 1.164-1.266 3.132-1.266 1.766 0 2.79 1.14 1.03 1.134 1.03 3.087zm-1.438-.422q-.015-1.18-.664-1.883-.64-.703-1.703-.703-1.203 0-1.93.68-.718.68-.828 1.914z\" /></g><g transform=\"translate(200, 375) scale(0.75, 0.75)\" fill=\"#e5e5e5\" stroke=\"#e5e5e5\"><path d=\"M26.555 9.68v.703h-6.61q.094 1.484.89 2.265.806.774 2.235.774.828 0 1.602-.203.781-.203 1.547-.61v1.36q-.774.328-1.586.5-.813.172-1.649.172-2.093 0-3.32-1.22-1.219-1.218-1.219-3.296 0-2.148 1.157-3.406 1.164-1.266 3.132-1.266 1.766 0 2.79 1.14 1.03 1.134 1.03 3.087zm-1.438-.422q-.015-1.18-.664-1.883-.64-.703-1.703-.703-1.203 0-1.93.68-.718.68-.828 1.914z\" /></g><g transform=\"translate(245, 0) scale(0.75, 0.75)\" fill=\"#e5e5e5\" stroke=\"#e5e5e5\"><path d=\"M25.285 2.258v1.195H23.91q-.773 0-1.078.313-.297.312-.297 1.125v.773h2.367v1.117h-2.367v7.633H21.09V6.781h-1.375V5.664h1.375v-.61q0-1.46.68-2.124.68-.672 2.156-.672z\" /></g><g transform=\"translate(245, 375) scale(0.75, 0.75)\" fill=\"#e5e5e5\" stroke=\"#e5e5e5\"><path d=\"M25.285 2.258v1.195H23.91q-.773 0-1.078.313-.297.312-.297 1.125v.773h2.367v1.117h-2.367v7.633H21.09V6.781h-1.375V5.664h1.375v-.61q0-1.46.68-2.124.68-.672 2.156-.672z\" /></g><g transform=\"translate(290, 0) scale(0.75, 0.75)\" fill=\"#e5e5e5\" stroke=\"#e5e5e5\"><path d=\"M24.973 9.937q0-1.562-.649-2.421-.64-.86-1.804-.86-1.157 0-1.805.86-.64.859-.64 2.421 0 1.555.64 2.415.648.859 1.805.859 1.164 0 1.804-.86.649-.859.649-2.414zm1.437 3.391q0 2.234-.992 3.32-.992 1.094-3.04 1.094-.757 0-1.429-.117-.672-.11-1.304-.344v-1.398q.632.344 1.25.508.617.164 1.257.164 1.414 0 2.118-.743.703-.734.703-2.226v-.711q-.446.773-1.141 1.156-.695.383-1.664.383-1.61 0-2.594-1.227-.984-1.226-.984-3.25 0-2.03.984-3.257.985-1.227 2.594-1.227.969 0 1.664.383t1.14 1.156V5.664h1.438z\" /></g><g transform=\"translate(290, 375) scale(0.75, 0.75)\" fill=\"#e5e5e5\" stroke=\"#e5e5e5\"><path d=\"M24.973 9.937q0-1.562-.649-2.421-.64-.86-1.804-.86-1.157 0-1.805.86-.64.859-.64 2.421 0 1.555.64 2.415.648.859 1.805.859 1.164 0 1.804-.86.649-.859.649-2.414zm1.437 3.391q0 2.234-.992 3.32-.992 1.094-3.04 1.094-.757 0-1.429-.117-.672-.11-1.304-.344v-1.398q.632.344 1.25.508.617.164 1.257.164 1.414 0 2.118-.743.703-.734.703-2.226v-.711q-.446.773-1.141 1.156-.695.383-1.664.383-1.61 0-2.594-1.227-.984-1.226-.984-3.25 0-2.03.984-3.257.985-1.227 2.594-1.227.969 0 1.664.383t1.14 1.156V5.664h1.438z\" /></g><g transform=\"translate(335, 0) scale(0.75, 0.75)\" fill=\"#e5e5e5\" stroke=\"#e5e5e5\"><path d=\"M26.164 9.133v5.281h-1.437V9.18q0-1.243-.485-1.86-.484-.617-1.453-.617-1.164 0-1.836.742-.672.742-.672 2.024v4.945h-1.445V2.258h1.445v4.765q.516-.789 1.211-1.18.703-.39 1.617-.39 1.508 0 2.282.938.773.93.773 2.742z\" /></g><g transform=\"translate(335, 375) scale(0.75, 0.75)\" fill=\"#e5e5e5\" stroke=\"#e5e5e5\"><path d=\"M26.164 9.133v5.281h-1.437V9.18q0-1.243-.485-1.86-.484-.617-1.453-.617-1.164 0-1.836.742-.672.742-.672 2.024v4.945h-1.445V2.258h1.445v4.765q.516-.789 1.211-1.18.703-.39 1.617-.39 1.508 0 2.282.938.773.93.773 2.742z\" /></g><g transform=\"translate(0, 335) scale(0.75, 0.75)\" fill=\"#e5e5e5\" stroke=\"#e5e5e5\"><path d=\"M6.754 26.996h2.578v-8.898l-2.805.562v-1.437l2.79-.563h1.578v10.336h2.578v1.328h-6.72z\" /></g><g transform=\"translate(375, 335) scale(0.75, 0.75)\" fill=\"#e5e5e5\" stroke=\"#e5e5e5\"><path d=\"M6.754 26.996h2.578v-8.898l-2.805.562v-1.437l2.79-.563h1.578v10.336h2.578v1.328h-6.72z\" /></g><g transform=\"translate(0, 290) scale(0.75, 0.75)\" fill=\"#e5e5e5\" stroke=\"#e5e5e5\"><path d=\"M8.195 26.996h5.508v1.328H6.297v-1.328q.898-.93 2.445-2.492 1.555-1.57 1.953-2.024.758-.851 1.055-1.437.305-.594.305-1.164 0-.93-.657-1.516-.648-.586-1.695-.586-.742 0-1.57.258-.82.258-1.758.781v-1.593q.953-.383 1.781-.578.828-.196 1.516-.196 1.812 0 2.89.906 1.079.907 1.079 2.422 0 .72-.274 1.368-.265.64-.976 1.515-.196.227-1.243 1.313-1.046 1.078-2.953 3.023z\" /></g><g transform=\"translate(375, 290) scale(0.75, 0.75)\" fill=\"#e5e5e5\" stroke=\"#e5e5e5\"><path d=\"M8.195 26.996h5.508v1.328H6.297v-1.328q.898-.93 2.445-2.492 1.555-1.57 1.953-2.024.758-.851 1.055-1.437.305-.594.305-1.164 0-.93-.657-1.516-.648-.586-1.695-.586-.742 0-1.57.258-.82.258-1.758.781v-1.593q.953-.383 1.781-.578.828-.196 1.516-.196 1.812 0 2.89.906 1.079.907 1.079 2.422 0 .72-.274 1.368-.265.64-.976 1.515-.196.227-1.243 1.313-1.046 1.078-2.953 3.023z\" /></g><g transform=\"translate(0, 245) scale(0.75, 0.75)\" fill=\"#e5e5e5\" stroke=\"#e5e5e5\"><path d=\"M11.434 22.035q1.132.242 1.765 1.008.64.766.64 1.89 0 1.727-1.187 2.672-1.187.946-3.375.946-.734 0-1.515-.149-.774-.14-1.602-.43V26.45q.656.383 1.438.578.78.196 1.632.196 1.485 0 2.258-.586.782-.586.782-1.703 0-1.032-.727-1.61-.719-.586-2.008-.586h-1.36v-1.297h1.423q1.164 0 1.78-.46.618-.47.618-1.344 0-.899-.64-1.375-.633-.485-1.82-.485-.65 0-1.391.141-.743.14-1.633.437V16.95q.898-.25 1.68-.375.788-.125 1.484-.125 1.797 0 2.844.82 1.046.813 1.046 2.204 0 .968-.554 1.64-.555.664-1.578.922z\" /></g><g transform=\"translate(375, 245) scale(0.75, 0.75)\" fill=\"#e5e5e5\" stroke=\"#e5e5e5\"><path d=\"M11.434 22.035q1.132.242 1.765 1.008.64.766.64 1.89 0 1.727-1.187 2.672-1.187.946-3.375.946-.734 0-1.515-.149-.774-.14-1.602-.43V26.45q.656.383 1.438.578.78.196 1.632.196 1.485 0 2.258-.586.782-.586.782-1.703 0-1.032-.727-1.61-.719-.586-2.008-.586h-1.36v-1.297h1.423q1.164 0 1.78-.46.618-.47.618-1.344 0-.899-.64-1.375-.633-.485-1.82-.485-.65 0-1.391.141-.743.14-1.633.437V16.95q.898-.25 1.68-.375.788-.125 1.484-.125 1.797 0 2.844.82 1.046.813 1.046 2.204 0 .968-.554 1.64-.555.664-1.578.922z\" /></g><g transform=\"translate(0, 200) scale(0.75, 0.75)\" fill=\"#e5e5e5\" stroke=\"#e5e5e5\"><path d=\"M11.016 18.035L7.03 24.262h3.985zm-.414-1.375h1.984v7.602h1.664v1.312h-1.664v2.75h-1.57v-2.75H5.75v-1.523z\" /></g><g transform=\"translate(375, 200) scale(0.75, 0.75)\" fill=\"#e5e5e5\" stroke=\"#e5e5e5\"><path d=\"M11.016 18.035L7.03 24.262h3.985zm-.414-1.375h1.984v7.602h1.664v1.312h-1.664v2.75h-1.57v-2.75H5.75v-1.523z\" /></g><g transform=\"translate(0, 155) scale(0.75, 0.75)\" fill=\"#e5e5e5\" stroke=\"#e5e5e5\"><path d=\"M6.719 16.66h6.195v1.328h-4.75v2.86q.344-.118.688-.172.343-.063.687-.063 1.953 0 3.094 1.07 1.14 1.07 1.14 2.899 0 1.883-1.171 2.93-1.172 1.039-3.305 1.039-.735 0-1.5-.125-.758-.125-1.57-.375v-1.586q.703.383 1.453.57.75.188 1.586.188 1.351 0 2.14-.711.79-.711.79-1.93 0-1.219-.79-1.93-.789-.71-2.14-.71-.633 0-1.266.14-.625.14-1.281.438z\" /></g><g transform=\"translate(375, 155) scale(0.75, 0.75)\" fill=\"#e5e5e5\" stroke=\"#e5e5e5\"><path d=\"M6.719 16.66h6.195v1.328h-4.75v2.86q.344-.118.688-.172.343-.063.687-.063 1.953 0 3.094 1.07 1.14 1.07 1.14 2.899 0 1.883-1.171 2.93-1.172 1.039-3.305 1.039-.735 0-1.5-.125-.758-.125-1.57-.375v-1.586q.703.383 1.453.57.75.188 1.586.188 1.351 0 2.14-.711.79-.711.79-1.93 0-1.219-.79-1.93-.789-.71-2.14-.71-.633 0-1.266.14-.625.14-1.281.438z\" /></g><g transform=\"translate(0, 110) scale(0.75, 0.75)\" fill=\"#e5e5e5\" stroke=\"#e5e5e5\"><path d=\"M10.137 21.863q-1.063 0-1.688.727-.617.726-.617 1.992 0 1.258.617 1.992.625.727 1.688.727 1.062 0 1.68-.727.624-.734.624-1.992 0-1.266-.625-1.992-.617-.727-1.68-.727zm3.133-4.945v1.437q-.594-.28-1.204-.43-.601-.148-1.195-.148-1.562 0-2.39 1.055-.82 1.055-.938 3.188.46-.68 1.156-1.04.696-.367 1.531-.367 1.758 0 2.774 1.07 1.023 1.063 1.023 2.899 0 1.797-1.062 2.883-1.063 1.086-2.828 1.086-2.024 0-3.094-1.547-1.07-1.555-1.07-4.5 0-2.766 1.312-4.406 1.313-1.649 3.524-1.649.593 0 1.195.117.61.118 1.266.352z\" /></g><g transform=\"translate(375, 110) scale(0.75, 0.75)\" fill=\"#e5e5e5\" stroke=\"#e5e5e5\"><path d=\"M10.137 21.863q-1.063 0-1.688.727-.617.726-.617 1.992 0 1.258.617 1.992.625.727 1.688.727 1.062 0 1.68-.727.624-.734.624-1.992 0-1.266-.625-1.992-.617-.727-1.68-.727zm3.133-4.945v1.437q-.594-.28-1.204-.43-.601-.148-1.195-.148-1.562 0-2.39 1.055-.82 1.055-.938 3.188.46-.68 1.156-1.04.696-.367 1.531-.367 1.758 0 2.774 1.07 1.023 1.063 1.023 2.899 0 1.797-1.062 2.883-1.063 1.086-2.828 1.086-2.024 0-3.094-1.547-1.07-1.555-1.07-4.5 0-2.766 1.312-4.406 1.313-1.649 3.524-1.649.593 0 1.195.117.61.118 1.266.352z\" /></g><g transform=\"translate(0, 65) scale(0.75, 0.75)\" fill=\"#e5e5e5\" stroke=\"#e5e5e5\"><path d=\"M6.25 16.66h7.5v.672L9.516 28.324H7.867l3.985-10.336H6.25z\" /></g><g transform=\"translate(375, 65) scale(0.75, 0.75)\" fill=\"#e5e5e5\" stroke=\"#e5e5e5\"><path d=\"M6.25 16.66h7.5v.672L9.516 28.324H7.867l3.985-10.336H6.25z\" /></g><g transform=\"translate(0, 20) scale(0.75, 0.75)\" fill=\"#e5e5e5\" stroke=\"#e5e5e5\"><path d=\"M10 22.785q-1.125 0-1.773.602-.641.601-.641 1.656t.64 1.656q.649.602 1.774.602t1.773-.602q.649-.61.649-1.656 0-1.055-.649-1.656-.64-.602-1.773-.602zm-1.578-.672q-1.016-.25-1.586-.945-.563-.695-.563-1.695 0-1.399.993-2.211 1-.813 2.734-.813 1.742 0 2.734.813.993.812.993 2.21 0 1-.57 1.696-.563.695-1.571.945 1.14.266 1.773 1.04.641.773.641 1.89 0 1.695-1.04 2.602-1.03.906-2.96.906t-2.969-.906Q6 26.738 6 25.043q0-1.117.64-1.89.641-.774 1.782-1.04zm-.578-2.492q0 .906.562 1.414.57.508 1.594.508 1.016 0 1.586-.508.578-.508.578-1.414 0-.906-.578-1.414-.57-.508-1.586-.508-1.023 0-1.594.508-.562.508-.562 1.414z\" /></g><g transform=\"translate(375, 20) scale(0.75, 0.75)\" fill=\"#e5e5e5\" stroke=\"#e5e5e5\"><path d=\"M10 22.785q-1.125 0-1.773.602-.641.601-.641 1.656t.64 1.656q.649.602 1.774.602t1.773-.602q.649-.61.649-1.656 0-1.055-.649-1.656-.64-.602-1.773-.602zm-1.578-.672q-1.016-.25-1.586-.945-.563-.695-.563-1.695 0-1.399.993-2.211 1-.813 2.734-.813 1.742 0 2.734.813.993.812.993 2.21 0 1-.57 1.696-.563.695-1.571.945 1.14.266 1.773 1.04.641.773.641 1.89 0 1.695-1.04 2.602-1.03.906-2.96.906t-2.969-.906Q6 26.738 6 25.043q0-1.117.64-1.89.641-.774 1.782-1.04zm-.578-2.492q0 .906.562 1.414.57.508 1.594.508 1.016 0 1.586-.508.578-.508.578-1.414 0-.906-.578-1.414-.57-.508-1.586-.508-1.023 0-1.594.508-.562.508-.562 1.414z\" /></g><rect x=\"15\" y=\"330\" width=\"45\" height=\"45\" class=\"square dark a1\" stroke=\"none\" fill=\"#d18b47\" /><rect x=\"60\" y=\"330\" width=\"45\" height=\"45\" class=\"square light b1\" stroke=\"none\" fill=\"#ffce9e\" /><rect x=\"105\" y=\"330\" width=\"45\" height=\"45\" class=\"square dark c1\" stroke=\"none\" fill=\"#d18b47\" /><rect x=\"150\" y=\"330\" width=\"45\" height=\"45\" class=\"square light d1\" stroke=\"none\" fill=\"#ffce9e\" /><rect x=\"195\" y=\"330\" width=\"45\" height=\"45\" class=\"square dark e1\" stroke=\"none\" fill=\"#d18b47\" /><rect x=\"240\" y=\"330\" width=\"45\" height=\"45\" class=\"square light f1\" stroke=\"none\" fill=\"#ffce9e\" /><rect x=\"285\" y=\"330\" width=\"45\" height=\"45\" class=\"square dark g1\" stroke=\"none\" fill=\"#d18b47\" /><rect x=\"330\" y=\"330\" width=\"45\" height=\"45\" class=\"square light h1\" stroke=\"none\" fill=\"#ffce9e\" /><rect x=\"15\" y=\"285\" width=\"45\" height=\"45\" class=\"square light a2\" stroke=\"none\" fill=\"#ffce9e\" /><rect x=\"60\" y=\"285\" width=\"45\" height=\"45\" class=\"square dark b2\" stroke=\"none\" fill=\"#d18b47\" /><rect x=\"105\" y=\"285\" width=\"45\" height=\"45\" class=\"square light c2\" stroke=\"none\" fill=\"#ffce9e\" /><rect x=\"150\" y=\"285\" width=\"45\" height=\"45\" class=\"square dark d2\" stroke=\"none\" fill=\"#d18b47\" /><rect x=\"195\" y=\"285\" width=\"45\" height=\"45\" class=\"square light e2\" stroke=\"none\" fill=\"#ffce9e\" /><rect x=\"240\" y=\"285\" width=\"45\" height=\"45\" class=\"square dark f2\" stroke=\"none\" fill=\"#d18b47\" /><rect x=\"285\" y=\"285\" width=\"45\" height=\"45\" class=\"square light g2\" stroke=\"none\" fill=\"#ffce9e\" /><rect x=\"330\" y=\"285\" width=\"45\" height=\"45\" class=\"square dark h2\" stroke=\"none\" fill=\"#d18b47\" /><rect x=\"15\" y=\"240\" width=\"45\" height=\"45\" class=\"square dark a3\" stroke=\"none\" fill=\"#d18b47\" /><rect x=\"60\" y=\"240\" width=\"45\" height=\"45\" class=\"square light b3\" stroke=\"none\" fill=\"#ffce9e\" /><rect x=\"105\" y=\"240\" width=\"45\" height=\"45\" class=\"square dark c3\" stroke=\"none\" fill=\"#d18b47\" /><rect x=\"150\" y=\"240\" width=\"45\" height=\"45\" class=\"square light d3\" stroke=\"none\" fill=\"#ffce9e\" /><rect x=\"195\" y=\"240\" width=\"45\" height=\"45\" class=\"square dark e3\" stroke=\"none\" fill=\"#d18b47\" /><rect x=\"240\" y=\"240\" width=\"45\" height=\"45\" class=\"square light f3\" stroke=\"none\" fill=\"#ffce9e\" /><rect x=\"285\" y=\"240\" width=\"45\" height=\"45\" class=\"square dark g3\" stroke=\"none\" fill=\"#d18b47\" /><rect x=\"330\" y=\"240\" width=\"45\" height=\"45\" class=\"square light h3\" stroke=\"none\" fill=\"#ffce9e\" /><rect x=\"15\" y=\"195\" width=\"45\" height=\"45\" class=\"square light a4\" stroke=\"none\" fill=\"#ffce9e\" /><rect x=\"60\" y=\"195\" width=\"45\" height=\"45\" class=\"square dark b4\" stroke=\"none\" fill=\"#d18b47\" /><rect x=\"105\" y=\"195\" width=\"45\" height=\"45\" class=\"square light c4\" stroke=\"none\" fill=\"#ffce9e\" /><rect x=\"150\" y=\"195\" width=\"45\" height=\"45\" class=\"square dark d4\" stroke=\"none\" fill=\"#d18b47\" /><rect x=\"195\" y=\"195\" width=\"45\" height=\"45\" class=\"square light e4\" stroke=\"none\" fill=\"#ffce9e\" /><rect x=\"240\" y=\"195\" width=\"45\" height=\"45\" class=\"square dark f4\" stroke=\"none\" fill=\"#d18b47\" /><rect x=\"285\" y=\"195\" width=\"45\" height=\"45\" class=\"square light g4\" stroke=\"none\" fill=\"#ffce9e\" /><rect x=\"330\" y=\"195\" width=\"45\" height=\"45\" class=\"square dark h4\" stroke=\"none\" fill=\"#d18b47\" /><rect x=\"15\" y=\"150\" width=\"45\" height=\"45\" class=\"square dark a5\" stroke=\"none\" fill=\"#d18b47\" /><rect x=\"60\" y=\"150\" width=\"45\" height=\"45\" class=\"square light b5\" stroke=\"none\" fill=\"#ffce9e\" /><rect x=\"105\" y=\"150\" width=\"45\" height=\"45\" class=\"square dark c5\" stroke=\"none\" fill=\"#d18b47\" /><rect x=\"150\" y=\"150\" width=\"45\" height=\"45\" class=\"square light d5\" stroke=\"none\" fill=\"#ffce9e\" /><rect x=\"195\" y=\"150\" width=\"45\" height=\"45\" class=\"square dark e5\" stroke=\"none\" fill=\"#d18b47\" /><rect x=\"240\" y=\"150\" width=\"45\" height=\"45\" class=\"square light f5\" stroke=\"none\" fill=\"#ffce9e\" /><rect x=\"285\" y=\"150\" width=\"45\" height=\"45\" class=\"square dark g5\" stroke=\"none\" fill=\"#d18b47\" /><rect x=\"330\" y=\"150\" width=\"45\" height=\"45\" class=\"square light h5\" stroke=\"none\" fill=\"#ffce9e\" /><rect x=\"15\" y=\"105\" width=\"45\" height=\"45\" class=\"square light a6\" stroke=\"none\" fill=\"#ffce9e\" /><rect x=\"60\" y=\"105\" width=\"45\" height=\"45\" class=\"square dark b6\" stroke=\"none\" fill=\"#d18b47\" /><rect x=\"105\" y=\"105\" width=\"45\" height=\"45\" class=\"square light c6\" stroke=\"none\" fill=\"#ffce9e\" /><rect x=\"150\" y=\"105\" width=\"45\" height=\"45\" class=\"square dark d6\" stroke=\"none\" fill=\"#d18b47\" /><rect x=\"195\" y=\"105\" width=\"45\" height=\"45\" class=\"square light e6\" stroke=\"none\" fill=\"#ffce9e\" /><rect x=\"240\" y=\"105\" width=\"45\" height=\"45\" class=\"square dark f6\" stroke=\"none\" fill=\"#d18b47\" /><rect x=\"285\" y=\"105\" width=\"45\" height=\"45\" class=\"square light g6\" stroke=\"none\" fill=\"#ffce9e\" /><rect x=\"330\" y=\"105\" width=\"45\" height=\"45\" class=\"square dark h6\" stroke=\"none\" fill=\"#d18b47\" /><rect x=\"15\" y=\"60\" width=\"45\" height=\"45\" class=\"square dark a7\" stroke=\"none\" fill=\"#d18b47\" /><rect x=\"60\" y=\"60\" width=\"45\" height=\"45\" class=\"square light b7\" stroke=\"none\" fill=\"#ffce9e\" /><rect x=\"105\" y=\"60\" width=\"45\" height=\"45\" class=\"square dark c7\" stroke=\"none\" fill=\"#d18b47\" /><rect x=\"150\" y=\"60\" width=\"45\" height=\"45\" class=\"square light d7\" stroke=\"none\" fill=\"#ffce9e\" /><rect x=\"195\" y=\"60\" width=\"45\" height=\"45\" class=\"square dark e7\" stroke=\"none\" fill=\"#d18b47\" /><rect x=\"240\" y=\"60\" width=\"45\" height=\"45\" class=\"square light f7\" stroke=\"none\" fill=\"#ffce9e\" /><rect x=\"285\" y=\"60\" width=\"45\" height=\"45\" class=\"square dark g7\" stroke=\"none\" fill=\"#d18b47\" /><rect x=\"330\" y=\"60\" width=\"45\" height=\"45\" class=\"square light h7\" stroke=\"none\" fill=\"#ffce9e\" /><rect x=\"15\" y=\"15\" width=\"45\" height=\"45\" class=\"square light a8\" stroke=\"none\" fill=\"#ffce9e\" /><rect x=\"60\" y=\"15\" width=\"45\" height=\"45\" class=\"square dark b8\" stroke=\"none\" fill=\"#d18b47\" /><rect x=\"105\" y=\"15\" width=\"45\" height=\"45\" class=\"square light c8\" stroke=\"none\" fill=\"#ffce9e\" /><rect x=\"150\" y=\"15\" width=\"45\" height=\"45\" class=\"square dark d8\" stroke=\"none\" fill=\"#d18b47\" /><rect x=\"195\" y=\"15\" width=\"45\" height=\"45\" class=\"square light e8\" stroke=\"none\" fill=\"#ffce9e\" /><rect x=\"240\" y=\"15\" width=\"45\" height=\"45\" class=\"square dark f8\" stroke=\"none\" fill=\"#d18b47\" /><rect x=\"285\" y=\"15\" width=\"45\" height=\"45\" class=\"square light g8\" stroke=\"none\" fill=\"#ffce9e\" /><rect x=\"330\" y=\"15\" width=\"45\" height=\"45\" class=\"square dark h8\" stroke=\"none\" fill=\"#d18b47\" /><use href=\"#white-rook\" xlink:href=\"#white-rook\" transform=\"translate(15, 330)\" /><use href=\"#white-knight\" xlink:href=\"#white-knight\" transform=\"translate(60, 330)\" /><use href=\"#white-bishop\" xlink:href=\"#white-bishop\" transform=\"translate(105, 330)\" /><use href=\"#white-queen\" xlink:href=\"#white-queen\" transform=\"translate(150, 330)\" /><use href=\"#white-king\" xlink:href=\"#white-king\" transform=\"translate(195, 330)\" /><use href=\"#white-bishop\" xlink:href=\"#white-bishop\" transform=\"translate(240, 330)\" /><use href=\"#white-knight\" xlink:href=\"#white-knight\" transform=\"translate(285, 330)\" /><use href=\"#white-rook\" xlink:href=\"#white-rook\" transform=\"translate(330, 330)\" /><use href=\"#white-pawn\" xlink:href=\"#white-pawn\" transform=\"translate(15, 285)\" /><use href=\"#white-pawn\" xlink:href=\"#white-pawn\" transform=\"translate(60, 285)\" /><use href=\"#white-pawn\" xlink:href=\"#white-pawn\" transform=\"translate(105, 285)\" /><use href=\"#white-pawn\" xlink:href=\"#white-pawn\" transform=\"translate(150, 285)\" /><use href=\"#white-pawn\" xlink:href=\"#white-pawn\" transform=\"translate(195, 285)\" /><use href=\"#white-pawn\" xlink:href=\"#white-pawn\" transform=\"translate(240, 285)\" /><use href=\"#white-pawn\" xlink:href=\"#white-pawn\" transform=\"translate(285, 285)\" /><use href=\"#white-pawn\" xlink:href=\"#white-pawn\" transform=\"translate(330, 285)\" /><use href=\"#black-pawn\" xlink:href=\"#black-pawn\" transform=\"translate(15, 60)\" /><use href=\"#black-pawn\" xlink:href=\"#black-pawn\" transform=\"translate(60, 60)\" /><use href=\"#black-pawn\" xlink:href=\"#black-pawn\" transform=\"translate(105, 60)\" /><use href=\"#black-pawn\" xlink:href=\"#black-pawn\" transform=\"translate(150, 60)\" /><use href=\"#black-pawn\" xlink:href=\"#black-pawn\" transform=\"translate(195, 60)\" /><use href=\"#black-pawn\" xlink:href=\"#black-pawn\" transform=\"translate(240, 60)\" /><use href=\"#black-pawn\" xlink:href=\"#black-pawn\" transform=\"translate(285, 60)\" /><use href=\"#black-pawn\" xlink:href=\"#black-pawn\" transform=\"translate(330, 60)\" /><use href=\"#black-rook\" xlink:href=\"#black-rook\" transform=\"translate(15, 15)\" /><use href=\"#black-knight\" xlink:href=\"#black-knight\" transform=\"translate(60, 15)\" /><use href=\"#black-bishop\" xlink:href=\"#black-bishop\" transform=\"translate(105, 15)\" /><use href=\"#black-queen\" xlink:href=\"#black-queen\" transform=\"translate(150, 15)\" /><use href=\"#black-king\" xlink:href=\"#black-king\" transform=\"translate(195, 15)\" /><use href=\"#black-bishop\" xlink:href=\"#black-bishop\" transform=\"translate(240, 15)\" /><use href=\"#black-knight\" xlink:href=\"#black-knight\" transform=\"translate(285, 15)\" /><use href=\"#black-rook\" xlink:href=\"#black-rook\" transform=\"translate(330, 15)\" /></svg>"
     },
     "metadata": {},
     "output_type": "display_data"
    },
    {
     "name": "stdout",
     "text": "White has played: d2d4\nBlack has played: d7d5\nWhite has played: c2c4\nBlack has played: c7c6\nWhite has played: g1f3\nBlack has played: g8f6\nWhite has played: e2e3\nBlack has played: c8f5\nWhite has played: b1c3\nBlack has played: e7e6\nWhite has played: f3h4\nBlack has played: f5e4\nWhite has played: f2f3\nBlack has played: e4g6\nWhite has played: d1b3\nBlack has played: d8b6\nWhite has played: h4g6\nBlack has played: h7g6\nWhite has played: c1d2\nBlack has played: b8d7\nWhite has played: e1c1\nBlack has played: f8d6\nWhite has played: h2h3\n",
     "output_type": "stream"
    },
    {
     "data": {
      "text/plain": "Board('r3k2r/pp1n1pp1/1qpbpnp1/3p4/2PP4/1QN1PP1P/PP1B2P1/2KR1B1R b kq - 0 12')",
      "image/svg+xml": "<svg xmlns=\"http://www.w3.org/2000/svg\" xmlns:xlink=\"http://www.w3.org/1999/xlink\" version=\"1.2\" baseProfile=\"tiny\" viewBox=\"0 0 390 390\" width=\"390\" height=\"390\"><defs><g id=\"white-pawn\" class=\"white pawn\"><path d=\"M22.5 9c-2.21 0-4 1.79-4 4 0 .89.29 1.71.78 2.38C17.33 16.5 16 18.59 16 21c0 2.03.94 3.84 2.41 5.03-3 1.06-7.41 5.55-7.41 13.47h23c0-7.92-4.41-12.41-7.41-13.47 1.47-1.19 2.41-3 2.41-5.03 0-2.41-1.33-4.5-3.28-5.62.49-.67.78-1.49.78-2.38 0-2.21-1.79-4-4-4z\" fill=\"#fff\" stroke=\"#000\" stroke-width=\"1.5\" stroke-linecap=\"round\" /></g><g id=\"white-knight\" class=\"white knight\" fill=\"none\" fill-rule=\"evenodd\" stroke=\"#000\" stroke-width=\"1.5\" stroke-linecap=\"round\" stroke-linejoin=\"round\"><path d=\"M 22,10 C 32.5,11 38.5,18 38,39 L 15,39 C 15,30 25,32.5 23,18\" style=\"fill:#ffffff; stroke:#000000;\" /><path d=\"M 24,18 C 24.38,20.91 18.45,25.37 16,27 C 13,29 13.18,31.34 11,31 C 9.958,30.06 12.41,27.96 11,28 C 10,28 11.19,29.23 10,30 C 9,30 5.997,31 6,26 C 6,24 12,14 12,14 C 12,14 13.89,12.1 14,10.5 C 13.27,9.506 13.5,8.5 13.5,7.5 C 14.5,6.5 16.5,10 16.5,10 L 18.5,10 C 18.5,10 19.28,8.008 21,7 C 22,7 22,10 22,10\" style=\"fill:#ffffff; stroke:#000000;\" /><path d=\"M 9.5 25.5 A 0.5 0.5 0 1 1 8.5,25.5 A 0.5 0.5 0 1 1 9.5 25.5 z\" style=\"fill:#000000; stroke:#000000;\" /><path d=\"M 15 15.5 A 0.5 1.5 0 1 1 14,15.5 A 0.5 1.5 0 1 1 15 15.5 z\" transform=\"matrix(0.866,0.5,-0.5,0.866,9.693,-5.173)\" style=\"fill:#000000; stroke:#000000;\" /></g><g id=\"white-bishop\" class=\"white bishop\" fill=\"none\" fill-rule=\"evenodd\" stroke=\"#000\" stroke-width=\"1.5\" stroke-linecap=\"round\" stroke-linejoin=\"round\"><g fill=\"#fff\" stroke-linecap=\"butt\"><path d=\"M9 36c3.39-.97 10.11.43 13.5-2 3.39 2.43 10.11 1.03 13.5 2 0 0 1.65.54 3 2-.68.97-1.65.99-3 .5-3.39-.97-10.11.46-13.5-1-3.39 1.46-10.11.03-13.5 1-1.354.49-2.323.47-3-.5 1.354-1.94 3-2 3-2zM15 32c2.5 2.5 12.5 2.5 15 0 .5-1.5 0-2 0-2 0-2.5-2.5-4-2.5-4 5.5-1.5 6-11.5-5-15.5-11 4-10.5 14-5 15.5 0 0-2.5 1.5-2.5 4 0 0-.5.5 0 2zM25 8a2.5 2.5 0 1 1-5 0 2.5 2.5 0 1 1 5 0z\" /></g><path d=\"M17.5 26h10M15 30h15m-7.5-14.5v5M20 18h5\" stroke-linejoin=\"miter\" /></g><g id=\"white-rook\" class=\"white rook\" fill=\"#fff\" fill-rule=\"evenodd\" stroke=\"#000\" stroke-width=\"1.5\" stroke-linecap=\"round\" stroke-linejoin=\"round\"><path d=\"M9 39h27v-3H9v3zM12 36v-4h21v4H12zM11 14V9h4v2h5V9h5v2h5V9h4v5\" stroke-linecap=\"butt\" /><path d=\"M34 14l-3 3H14l-3-3\" /><path d=\"M31 17v12.5H14V17\" stroke-linecap=\"butt\" stroke-linejoin=\"miter\" /><path d=\"M31 29.5l1.5 2.5h-20l1.5-2.5\" /><path d=\"M11 14h23\" fill=\"none\" stroke-linejoin=\"miter\" /></g><g id=\"white-queen\" class=\"white queen\" fill=\"#fff\" fill-rule=\"evenodd\" stroke=\"#000\" stroke-width=\"1.5\" stroke-linecap=\"round\" stroke-linejoin=\"round\"><path d=\"M8 12a2 2 0 1 1-4 0 2 2 0 1 1 4 0zM24.5 7.5a2 2 0 1 1-4 0 2 2 0 1 1 4 0zM41 12a2 2 0 1 1-4 0 2 2 0 1 1 4 0zM16 8.5a2 2 0 1 1-4 0 2 2 0 1 1 4 0zM33 9a2 2 0 1 1-4 0 2 2 0 1 1 4 0z\" /><path d=\"M9 26c8.5-1.5 21-1.5 27 0l2-12-7 11V11l-5.5 13.5-3-15-3 15-5.5-14V25L7 14l2 12zM9 26c0 2 1.5 2 2.5 4 1 1.5 1 1 .5 3.5-1.5 1-1.5 2.5-1.5 2.5-1.5 1.5.5 2.5.5 2.5 6.5 1 16.5 1 23 0 0 0 1.5-1 0-2.5 0 0 .5-1.5-1-2.5-.5-2.5-.5-2 .5-3.5 1-2 2.5-2 2.5-4-8.5-1.5-18.5-1.5-27 0z\" stroke-linecap=\"butt\" /><path d=\"M11.5 30c3.5-1 18.5-1 22 0M12 33.5c6-1 15-1 21 0\" fill=\"none\" /></g><g id=\"white-king\" class=\"white king\" fill=\"none\" fill-rule=\"evenodd\" stroke=\"#000\" stroke-width=\"1.5\" stroke-linecap=\"round\" stroke-linejoin=\"round\"><path d=\"M22.5 11.63V6M20 8h5\" stroke-linejoin=\"miter\" /><path d=\"M22.5 25s4.5-7.5 3-10.5c0 0-1-2.5-3-2.5s-3 2.5-3 2.5c-1.5 3 3 10.5 3 10.5\" fill=\"#fff\" stroke-linecap=\"butt\" stroke-linejoin=\"miter\" /><path d=\"M11.5 37c5.5 3.5 15.5 3.5 21 0v-7s9-4.5 6-10.5c-4-6.5-13.5-3.5-16 4V27v-3.5c-3.5-7.5-13-10.5-16-4-3 6 5 10 5 10V37z\" fill=\"#fff\" /><path d=\"M11.5 30c5.5-3 15.5-3 21 0m-21 3.5c5.5-3 15.5-3 21 0m-21 3.5c5.5-3 15.5-3 21 0\" /></g><g id=\"black-pawn\" class=\"black pawn\"><path d=\"M22.5 9c-2.21 0-4 1.79-4 4 0 .89.29 1.71.78 2.38C17.33 16.5 16 18.59 16 21c0 2.03.94 3.84 2.41 5.03-3 1.06-7.41 5.55-7.41 13.47h23c0-7.92-4.41-12.41-7.41-13.47 1.47-1.19 2.41-3 2.41-5.03 0-2.41-1.33-4.5-3.28-5.62.49-.67.78-1.49.78-2.38 0-2.21-1.79-4-4-4z\" stroke=\"#000\" stroke-width=\"1.5\" stroke-linecap=\"round\" /></g><g id=\"black-knight\" class=\"black knight\" fill=\"none\" fill-rule=\"evenodd\" stroke=\"#000\" stroke-width=\"1.5\" stroke-linecap=\"round\" stroke-linejoin=\"round\"><path d=\"M 22,10 C 32.5,11 38.5,18 38,39 L 15,39 C 15,30 25,32.5 23,18\" style=\"fill:#000000; stroke:#000000;\" /><path d=\"M 24,18 C 24.38,20.91 18.45,25.37 16,27 C 13,29 13.18,31.34 11,31 C 9.958,30.06 12.41,27.96 11,28 C 10,28 11.19,29.23 10,30 C 9,30 5.997,31 6,26 C 6,24 12,14 12,14 C 12,14 13.89,12.1 14,10.5 C 13.27,9.506 13.5,8.5 13.5,7.5 C 14.5,6.5 16.5,10 16.5,10 L 18.5,10 C 18.5,10 19.28,8.008 21,7 C 22,7 22,10 22,10\" style=\"fill:#000000; stroke:#000000;\" /><path d=\"M 9.5 25.5 A 0.5 0.5 0 1 1 8.5,25.5 A 0.5 0.5 0 1 1 9.5 25.5 z\" style=\"fill:#ececec; stroke:#ececec;\" /><path d=\"M 15 15.5 A 0.5 1.5 0 1 1 14,15.5 A 0.5 1.5 0 1 1 15 15.5 z\" transform=\"matrix(0.866,0.5,-0.5,0.866,9.693,-5.173)\" style=\"fill:#ececec; stroke:#ececec;\" /><path d=\"M 24.55,10.4 L 24.1,11.85 L 24.6,12 C 27.75,13 30.25,14.49 32.5,18.75 C 34.75,23.01 35.75,29.06 35.25,39 L 35.2,39.5 L 37.45,39.5 L 37.5,39 C 38,28.94 36.62,22.15 34.25,17.66 C 31.88,13.17 28.46,11.02 25.06,10.5 L 24.55,10.4 z \" style=\"fill:#ececec; stroke:none;\" /></g><g id=\"black-bishop\" class=\"black bishop\" fill=\"none\" fill-rule=\"evenodd\" stroke=\"#000\" stroke-width=\"1.5\" stroke-linecap=\"round\" stroke-linejoin=\"round\"><path d=\"M9 36c3.39-.97 10.11.43 13.5-2 3.39 2.43 10.11 1.03 13.5 2 0 0 1.65.54 3 2-.68.97-1.65.99-3 .5-3.39-.97-10.11.46-13.5-1-3.39 1.46-10.11.03-13.5 1-1.354.49-2.323.47-3-.5 1.354-1.94 3-2 3-2zm6-4c2.5 2.5 12.5 2.5 15 0 .5-1.5 0-2 0-2 0-2.5-2.5-4-2.5-4 5.5-1.5 6-11.5-5-15.5-11 4-10.5 14-5 15.5 0 0-2.5 1.5-2.5 4 0 0-.5.5 0 2zM25 8a2.5 2.5 0 1 1-5 0 2.5 2.5 0 1 1 5 0z\" fill=\"#000\" stroke-linecap=\"butt\" /><path d=\"M17.5 26h10M15 30h15m-7.5-14.5v5M20 18h5\" stroke=\"#fff\" stroke-linejoin=\"miter\" /></g><g id=\"black-rook\" class=\"black rook\" fill=\"#000\" fill-rule=\"evenodd\" stroke=\"#000\" stroke-width=\"1.5\" stroke-linecap=\"round\" stroke-linejoin=\"round\"><path d=\"M9 39h27v-3H9v3zM12.5 32l1.5-2.5h17l1.5 2.5h-20zM12 36v-4h21v4H12z\" stroke-linecap=\"butt\" /><path d=\"M14 29.5v-13h17v13H14z\" stroke-linecap=\"butt\" stroke-linejoin=\"miter\" /><path d=\"M14 16.5L11 14h23l-3 2.5H14zM11 14V9h4v2h5V9h5v2h5V9h4v5H11z\" stroke-linecap=\"butt\" /><path d=\"M12 35.5h21M13 31.5h19M14 29.5h17M14 16.5h17M11 14h23\" fill=\"none\" stroke=\"#fff\" stroke-width=\"1\" stroke-linejoin=\"miter\" /></g><g id=\"black-queen\" class=\"black queen\" fill=\"#000\" fill-rule=\"evenodd\" stroke=\"#000\" stroke-width=\"1.5\" stroke-linecap=\"round\" stroke-linejoin=\"round\"><g fill=\"#000\" stroke=\"none\"><circle cx=\"6\" cy=\"12\" r=\"2.75\" /><circle cx=\"14\" cy=\"9\" r=\"2.75\" /><circle cx=\"22.5\" cy=\"8\" r=\"2.75\" /><circle cx=\"31\" cy=\"9\" r=\"2.75\" /><circle cx=\"39\" cy=\"12\" r=\"2.75\" /></g><path d=\"M9 26c8.5-1.5 21-1.5 27 0l2.5-12.5L31 25l-.3-14.1-5.2 13.6-3-14.5-3 14.5-5.2-13.6L14 25 6.5 13.5 9 26zM9 26c0 2 1.5 2 2.5 4 1 1.5 1 1 .5 3.5-1.5 1-1.5 2.5-1.5 2.5-1.5 1.5.5 2.5.5 2.5 6.5 1 16.5 1 23 0 0 0 1.5-1 0-2.5 0 0 .5-1.5-1-2.5-.5-2.5-.5-2 .5-3.5 1-2 2.5-2 2.5-4-8.5-1.5-18.5-1.5-27 0z\" stroke-linecap=\"butt\" /><path d=\"M11 38.5a35 35 1 0 0 23 0\" fill=\"none\" stroke-linecap=\"butt\" /><path d=\"M11 29a35 35 1 0 1 23 0M12.5 31.5h20M11.5 34.5a35 35 1 0 0 22 0M10.5 37.5a35 35 1 0 0 24 0\" fill=\"none\" stroke=\"#fff\" /></g><g id=\"black-king\" class=\"black king\" fill=\"none\" fill-rule=\"evenodd\" stroke=\"#000\" stroke-width=\"1.5\" stroke-linecap=\"round\" stroke-linejoin=\"round\"><path d=\"M22.5 11.63V6\" stroke-linejoin=\"miter\" /><path d=\"M22.5 25s4.5-7.5 3-10.5c0 0-1-2.5-3-2.5s-3 2.5-3 2.5c-1.5 3 3 10.5 3 10.5\" fill=\"#000\" stroke-linecap=\"butt\" stroke-linejoin=\"miter\" /><path d=\"M11.5 37c5.5 3.5 15.5 3.5 21 0v-7s9-4.5 6-10.5c-4-6.5-13.5-3.5-16 4V27v-3.5c-3.5-7.5-13-10.5-16-4-3 6 5 10 5 10V37z\" fill=\"#000\" /><path d=\"M20 8h5\" stroke-linejoin=\"miter\" /><path d=\"M32 29.5s8.5-4 6.03-9.65C34.15 14 25 18 22.5 24.5l.01 2.1-.01-2.1C20 18 9.906 14 6.997 19.85c-2.497 5.65 4.853 9 4.853 9M11.5 30c5.5-3 15.5-3 21 0m-21 3.5c5.5-3 15.5-3 21 0m-21 3.5c5.5-3 15.5-3 21 0\" stroke=\"#fff\" /></g></defs><rect x=\"0\" y=\"0\" width=\"390\" height=\"390\" fill=\"#212121\" /><g transform=\"translate(20, 0) scale(0.75, 0.75)\" fill=\"#e5e5e5\" stroke=\"#e5e5e5\"><path d=\"M23.328 10.016q-1.742 0-2.414.398-.672.398-.672 1.36 0 .765.5 1.218.508.445 1.375.445 1.196 0 1.914-.843.727-.852.727-2.258v-.32zm2.867-.594v4.992h-1.437v-1.328q-.492.797-1.227 1.18-.734.375-1.797.375-1.343 0-2.14-.75-.79-.758-.79-2.024 0-1.476.985-2.226.992-.75 2.953-.75h2.016V8.75q0-.992-.656-1.531-.649-.547-1.829-.547-.75 0-1.46.18-.711.18-1.368.539V6.062q.79-.304 1.532-.453.742-.156 1.445-.156 1.898 0 2.836.984.937.985.937 2.985z\" /></g><g transform=\"translate(20, 375) scale(0.75, 0.75)\" fill=\"#e5e5e5\" stroke=\"#e5e5e5\"><path d=\"M23.328 10.016q-1.742 0-2.414.398-.672.398-.672 1.36 0 .765.5 1.218.508.445 1.375.445 1.196 0 1.914-.843.727-.852.727-2.258v-.32zm2.867-.594v4.992h-1.437v-1.328q-.492.797-1.227 1.18-.734.375-1.797.375-1.343 0-2.14-.75-.79-.758-.79-2.024 0-1.476.985-2.226.992-.75 2.953-.75h2.016V8.75q0-.992-.656-1.531-.649-.547-1.829-.547-.75 0-1.46.18-.711.18-1.368.539V6.062q.79-.304 1.532-.453.742-.156 1.445-.156 1.898 0 2.836.984.937.985.937 2.985z\" /></g><g transform=\"translate(65, 0) scale(0.75, 0.75)\" fill=\"#e5e5e5\" stroke=\"#e5e5e5\"><path d=\"M24.922 10.047q0-1.586-.656-2.485-.649-.906-1.79-.906-1.14 0-1.796.906-.649.899-.649 2.485 0 1.586.649 2.492.656.898 1.797.898 1.14 0 1.789-.898.656-.906.656-2.492zm-4.89-3.055q.452-.781 1.14-1.156.695-.383 1.656-.383 1.594 0 2.586 1.266 1 1.265 1 3.328 0 2.062-1 3.328-.992 1.266-2.586 1.266-.96 0-1.656-.375-.688-.383-1.14-1.164v1.312h-1.446V2.258h1.445z\" /></g><g transform=\"translate(65, 375) scale(0.75, 0.75)\" fill=\"#e5e5e5\" stroke=\"#e5e5e5\"><path d=\"M24.922 10.047q0-1.586-.656-2.485-.649-.906-1.79-.906-1.14 0-1.796.906-.649.899-.649 2.485 0 1.586.649 2.492.656.898 1.797.898 1.14 0 1.789-.898.656-.906.656-2.492zm-4.89-3.055q.452-.781 1.14-1.156.695-.383 1.656-.383 1.594 0 2.586 1.266 1 1.265 1 3.328 0 2.062-1 3.328-.992 1.266-2.586 1.266-.96 0-1.656-.375-.688-.383-1.14-1.164v1.312h-1.446V2.258h1.445z\" /></g><g transform=\"translate(110, 0) scale(0.75, 0.75)\" fill=\"#e5e5e5\" stroke=\"#e5e5e5\"><path d=\"M25.96 6v1.344q-.608-.336-1.226-.5-.609-.172-1.234-.172-1.398 0-2.172.89-.773.883-.773 2.485 0 1.601.773 2.492.774.883 2.172.883.625 0 1.234-.164.618-.172 1.227-.508v1.328q-.602.281-1.25.422-.64.14-1.367.14-1.977 0-3.14-1.242-1.165-1.242-1.165-3.351 0-2.14 1.172-3.367 1.18-1.227 3.227-1.227.664 0 1.296.14.633.134 1.227.407z\" /></g><g transform=\"translate(110, 375) scale(0.75, 0.75)\" fill=\"#e5e5e5\" stroke=\"#e5e5e5\"><path d=\"M25.96 6v1.344q-.608-.336-1.226-.5-.609-.172-1.234-.172-1.398 0-2.172.89-.773.883-.773 2.485 0 1.601.773 2.492.774.883 2.172.883.625 0 1.234-.164.618-.172 1.227-.508v1.328q-.602.281-1.25.422-.64.14-1.367.14-1.977 0-3.14-1.242-1.165-1.242-1.165-3.351 0-2.14 1.172-3.367 1.18-1.227 3.227-1.227.664 0 1.296.14.633.134 1.227.407z\" /></g><g transform=\"translate(155, 0) scale(0.75, 0.75)\" fill=\"#e5e5e5\" stroke=\"#e5e5e5\"><path d=\"M24.973 6.992V2.258h1.437v12.156h-1.437v-1.312q-.453.78-1.149 1.164-.687.375-1.656.375-1.586 0-2.586-1.266-.992-1.266-.992-3.328 0-2.063.992-3.328 1-1.266 2.586-1.266.969 0 1.656.383.696.375 1.149 1.156zm-4.899 3.055q0 1.586.649 2.492.656.898 1.797.898 1.14 0 1.796-.898.657-.906.657-2.492 0-1.586-.657-2.485-.656-.906-1.796-.906-1.141 0-1.797.906-.649.899-.649 2.485z\" /></g><g transform=\"translate(155, 375) scale(0.75, 0.75)\" fill=\"#e5e5e5\" stroke=\"#e5e5e5\"><path d=\"M24.973 6.992V2.258h1.437v12.156h-1.437v-1.312q-.453.78-1.149 1.164-.687.375-1.656.375-1.586 0-2.586-1.266-.992-1.266-.992-3.328 0-2.063.992-3.328 1-1.266 2.586-1.266.969 0 1.656.383.696.375 1.149 1.156zm-4.899 3.055q0 1.586.649 2.492.656.898 1.797.898 1.14 0 1.796-.898.657-.906.657-2.492 0-1.586-.657-2.485-.656-.906-1.796-.906-1.141 0-1.797.906-.649.899-.649 2.485z\" /></g><g transform=\"translate(200, 0) scale(0.75, 0.75)\" fill=\"#e5e5e5\" stroke=\"#e5e5e5\"><path d=\"M26.555 9.68v.703h-6.61q.094 1.484.89 2.265.806.774 2.235.774.828 0 1.602-.203.781-.203 1.547-.61v1.36q-.774.328-1.586.5-.813.172-1.649.172-2.093 0-3.32-1.22-1.219-1.218-1.219-3.296 0-2.148 1.157-3.406 1.164-1.266 3.132-1.266 1.766 0 2.79 1.14 1.03 1.134 1.03 3.087zm-1.438-.422q-.015-1.18-.664-1.883-.64-.703-1.703-.703-1.203 0-1.93.68-.718.68-.828 1.914z\" /></g><g transform=\"translate(200, 375) scale(0.75, 0.75)\" fill=\"#e5e5e5\" stroke=\"#e5e5e5\"><path d=\"M26.555 9.68v.703h-6.61q.094 1.484.89 2.265.806.774 2.235.774.828 0 1.602-.203.781-.203 1.547-.61v1.36q-.774.328-1.586.5-.813.172-1.649.172-2.093 0-3.32-1.22-1.219-1.218-1.219-3.296 0-2.148 1.157-3.406 1.164-1.266 3.132-1.266 1.766 0 2.79 1.14 1.03 1.134 1.03 3.087zm-1.438-.422q-.015-1.18-.664-1.883-.64-.703-1.703-.703-1.203 0-1.93.68-.718.68-.828 1.914z\" /></g><g transform=\"translate(245, 0) scale(0.75, 0.75)\" fill=\"#e5e5e5\" stroke=\"#e5e5e5\"><path d=\"M25.285 2.258v1.195H23.91q-.773 0-1.078.313-.297.312-.297 1.125v.773h2.367v1.117h-2.367v7.633H21.09V6.781h-1.375V5.664h1.375v-.61q0-1.46.68-2.124.68-.672 2.156-.672z\" /></g><g transform=\"translate(245, 375) scale(0.75, 0.75)\" fill=\"#e5e5e5\" stroke=\"#e5e5e5\"><path d=\"M25.285 2.258v1.195H23.91q-.773 0-1.078.313-.297.312-.297 1.125v.773h2.367v1.117h-2.367v7.633H21.09V6.781h-1.375V5.664h1.375v-.61q0-1.46.68-2.124.68-.672 2.156-.672z\" /></g><g transform=\"translate(290, 0) scale(0.75, 0.75)\" fill=\"#e5e5e5\" stroke=\"#e5e5e5\"><path d=\"M24.973 9.937q0-1.562-.649-2.421-.64-.86-1.804-.86-1.157 0-1.805.86-.64.859-.64 2.421 0 1.555.64 2.415.648.859 1.805.859 1.164 0 1.804-.86.649-.859.649-2.414zm1.437 3.391q0 2.234-.992 3.32-.992 1.094-3.04 1.094-.757 0-1.429-.117-.672-.11-1.304-.344v-1.398q.632.344 1.25.508.617.164 1.257.164 1.414 0 2.118-.743.703-.734.703-2.226v-.711q-.446.773-1.141 1.156-.695.383-1.664.383-1.61 0-2.594-1.227-.984-1.226-.984-3.25 0-2.03.984-3.257.985-1.227 2.594-1.227.969 0 1.664.383t1.14 1.156V5.664h1.438z\" /></g><g transform=\"translate(290, 375) scale(0.75, 0.75)\" fill=\"#e5e5e5\" stroke=\"#e5e5e5\"><path d=\"M24.973 9.937q0-1.562-.649-2.421-.64-.86-1.804-.86-1.157 0-1.805.86-.64.859-.64 2.421 0 1.555.64 2.415.648.859 1.805.859 1.164 0 1.804-.86.649-.859.649-2.414zm1.437 3.391q0 2.234-.992 3.32-.992 1.094-3.04 1.094-.757 0-1.429-.117-.672-.11-1.304-.344v-1.398q.632.344 1.25.508.617.164 1.257.164 1.414 0 2.118-.743.703-.734.703-2.226v-.711q-.446.773-1.141 1.156-.695.383-1.664.383-1.61 0-2.594-1.227-.984-1.226-.984-3.25 0-2.03.984-3.257.985-1.227 2.594-1.227.969 0 1.664.383t1.14 1.156V5.664h1.438z\" /></g><g transform=\"translate(335, 0) scale(0.75, 0.75)\" fill=\"#e5e5e5\" stroke=\"#e5e5e5\"><path d=\"M26.164 9.133v5.281h-1.437V9.18q0-1.243-.485-1.86-.484-.617-1.453-.617-1.164 0-1.836.742-.672.742-.672 2.024v4.945h-1.445V2.258h1.445v4.765q.516-.789 1.211-1.18.703-.39 1.617-.39 1.508 0 2.282.938.773.93.773 2.742z\" /></g><g transform=\"translate(335, 375) scale(0.75, 0.75)\" fill=\"#e5e5e5\" stroke=\"#e5e5e5\"><path d=\"M26.164 9.133v5.281h-1.437V9.18q0-1.243-.485-1.86-.484-.617-1.453-.617-1.164 0-1.836.742-.672.742-.672 2.024v4.945h-1.445V2.258h1.445v4.765q.516-.789 1.211-1.18.703-.39 1.617-.39 1.508 0 2.282.938.773.93.773 2.742z\" /></g><g transform=\"translate(0, 335) scale(0.75, 0.75)\" fill=\"#e5e5e5\" stroke=\"#e5e5e5\"><path d=\"M6.754 26.996h2.578v-8.898l-2.805.562v-1.437l2.79-.563h1.578v10.336h2.578v1.328h-6.72z\" /></g><g transform=\"translate(375, 335) scale(0.75, 0.75)\" fill=\"#e5e5e5\" stroke=\"#e5e5e5\"><path d=\"M6.754 26.996h2.578v-8.898l-2.805.562v-1.437l2.79-.563h1.578v10.336h2.578v1.328h-6.72z\" /></g><g transform=\"translate(0, 290) scale(0.75, 0.75)\" fill=\"#e5e5e5\" stroke=\"#e5e5e5\"><path d=\"M8.195 26.996h5.508v1.328H6.297v-1.328q.898-.93 2.445-2.492 1.555-1.57 1.953-2.024.758-.851 1.055-1.437.305-.594.305-1.164 0-.93-.657-1.516-.648-.586-1.695-.586-.742 0-1.57.258-.82.258-1.758.781v-1.593q.953-.383 1.781-.578.828-.196 1.516-.196 1.812 0 2.89.906 1.079.907 1.079 2.422 0 .72-.274 1.368-.265.64-.976 1.515-.196.227-1.243 1.313-1.046 1.078-2.953 3.023z\" /></g><g transform=\"translate(375, 290) scale(0.75, 0.75)\" fill=\"#e5e5e5\" stroke=\"#e5e5e5\"><path d=\"M8.195 26.996h5.508v1.328H6.297v-1.328q.898-.93 2.445-2.492 1.555-1.57 1.953-2.024.758-.851 1.055-1.437.305-.594.305-1.164 0-.93-.657-1.516-.648-.586-1.695-.586-.742 0-1.57.258-.82.258-1.758.781v-1.593q.953-.383 1.781-.578.828-.196 1.516-.196 1.812 0 2.89.906 1.079.907 1.079 2.422 0 .72-.274 1.368-.265.64-.976 1.515-.196.227-1.243 1.313-1.046 1.078-2.953 3.023z\" /></g><g transform=\"translate(0, 245) scale(0.75, 0.75)\" fill=\"#e5e5e5\" stroke=\"#e5e5e5\"><path d=\"M11.434 22.035q1.132.242 1.765 1.008.64.766.64 1.89 0 1.727-1.187 2.672-1.187.946-3.375.946-.734 0-1.515-.149-.774-.14-1.602-.43V26.45q.656.383 1.438.578.78.196 1.632.196 1.485 0 2.258-.586.782-.586.782-1.703 0-1.032-.727-1.61-.719-.586-2.008-.586h-1.36v-1.297h1.423q1.164 0 1.78-.46.618-.47.618-1.344 0-.899-.64-1.375-.633-.485-1.82-.485-.65 0-1.391.141-.743.14-1.633.437V16.95q.898-.25 1.68-.375.788-.125 1.484-.125 1.797 0 2.844.82 1.046.813 1.046 2.204 0 .968-.554 1.64-.555.664-1.578.922z\" /></g><g transform=\"translate(375, 245) scale(0.75, 0.75)\" fill=\"#e5e5e5\" stroke=\"#e5e5e5\"><path d=\"M11.434 22.035q1.132.242 1.765 1.008.64.766.64 1.89 0 1.727-1.187 2.672-1.187.946-3.375.946-.734 0-1.515-.149-.774-.14-1.602-.43V26.45q.656.383 1.438.578.78.196 1.632.196 1.485 0 2.258-.586.782-.586.782-1.703 0-1.032-.727-1.61-.719-.586-2.008-.586h-1.36v-1.297h1.423q1.164 0 1.78-.46.618-.47.618-1.344 0-.899-.64-1.375-.633-.485-1.82-.485-.65 0-1.391.141-.743.14-1.633.437V16.95q.898-.25 1.68-.375.788-.125 1.484-.125 1.797 0 2.844.82 1.046.813 1.046 2.204 0 .968-.554 1.64-.555.664-1.578.922z\" /></g><g transform=\"translate(0, 200) scale(0.75, 0.75)\" fill=\"#e5e5e5\" stroke=\"#e5e5e5\"><path d=\"M11.016 18.035L7.03 24.262h3.985zm-.414-1.375h1.984v7.602h1.664v1.312h-1.664v2.75h-1.57v-2.75H5.75v-1.523z\" /></g><g transform=\"translate(375, 200) scale(0.75, 0.75)\" fill=\"#e5e5e5\" stroke=\"#e5e5e5\"><path d=\"M11.016 18.035L7.03 24.262h3.985zm-.414-1.375h1.984v7.602h1.664v1.312h-1.664v2.75h-1.57v-2.75H5.75v-1.523z\" /></g><g transform=\"translate(0, 155) scale(0.75, 0.75)\" fill=\"#e5e5e5\" stroke=\"#e5e5e5\"><path d=\"M6.719 16.66h6.195v1.328h-4.75v2.86q.344-.118.688-.172.343-.063.687-.063 1.953 0 3.094 1.07 1.14 1.07 1.14 2.899 0 1.883-1.171 2.93-1.172 1.039-3.305 1.039-.735 0-1.5-.125-.758-.125-1.57-.375v-1.586q.703.383 1.453.57.75.188 1.586.188 1.351 0 2.14-.711.79-.711.79-1.93 0-1.219-.79-1.93-.789-.71-2.14-.71-.633 0-1.266.14-.625.14-1.281.438z\" /></g><g transform=\"translate(375, 155) scale(0.75, 0.75)\" fill=\"#e5e5e5\" stroke=\"#e5e5e5\"><path d=\"M6.719 16.66h6.195v1.328h-4.75v2.86q.344-.118.688-.172.343-.063.687-.063 1.953 0 3.094 1.07 1.14 1.07 1.14 2.899 0 1.883-1.171 2.93-1.172 1.039-3.305 1.039-.735 0-1.5-.125-.758-.125-1.57-.375v-1.586q.703.383 1.453.57.75.188 1.586.188 1.351 0 2.14-.711.79-.711.79-1.93 0-1.219-.79-1.93-.789-.71-2.14-.71-.633 0-1.266.14-.625.14-1.281.438z\" /></g><g transform=\"translate(0, 110) scale(0.75, 0.75)\" fill=\"#e5e5e5\" stroke=\"#e5e5e5\"><path d=\"M10.137 21.863q-1.063 0-1.688.727-.617.726-.617 1.992 0 1.258.617 1.992.625.727 1.688.727 1.062 0 1.68-.727.624-.734.624-1.992 0-1.266-.625-1.992-.617-.727-1.68-.727zm3.133-4.945v1.437q-.594-.28-1.204-.43-.601-.148-1.195-.148-1.562 0-2.39 1.055-.82 1.055-.938 3.188.46-.68 1.156-1.04.696-.367 1.531-.367 1.758 0 2.774 1.07 1.023 1.063 1.023 2.899 0 1.797-1.062 2.883-1.063 1.086-2.828 1.086-2.024 0-3.094-1.547-1.07-1.555-1.07-4.5 0-2.766 1.312-4.406 1.313-1.649 3.524-1.649.593 0 1.195.117.61.118 1.266.352z\" /></g><g transform=\"translate(375, 110) scale(0.75, 0.75)\" fill=\"#e5e5e5\" stroke=\"#e5e5e5\"><path d=\"M10.137 21.863q-1.063 0-1.688.727-.617.726-.617 1.992 0 1.258.617 1.992.625.727 1.688.727 1.062 0 1.68-.727.624-.734.624-1.992 0-1.266-.625-1.992-.617-.727-1.68-.727zm3.133-4.945v1.437q-.594-.28-1.204-.43-.601-.148-1.195-.148-1.562 0-2.39 1.055-.82 1.055-.938 3.188.46-.68 1.156-1.04.696-.367 1.531-.367 1.758 0 2.774 1.07 1.023 1.063 1.023 2.899 0 1.797-1.062 2.883-1.063 1.086-2.828 1.086-2.024 0-3.094-1.547-1.07-1.555-1.07-4.5 0-2.766 1.312-4.406 1.313-1.649 3.524-1.649.593 0 1.195.117.61.118 1.266.352z\" /></g><g transform=\"translate(0, 65) scale(0.75, 0.75)\" fill=\"#e5e5e5\" stroke=\"#e5e5e5\"><path d=\"M6.25 16.66h7.5v.672L9.516 28.324H7.867l3.985-10.336H6.25z\" /></g><g transform=\"translate(375, 65) scale(0.75, 0.75)\" fill=\"#e5e5e5\" stroke=\"#e5e5e5\"><path d=\"M6.25 16.66h7.5v.672L9.516 28.324H7.867l3.985-10.336H6.25z\" /></g><g transform=\"translate(0, 20) scale(0.75, 0.75)\" fill=\"#e5e5e5\" stroke=\"#e5e5e5\"><path d=\"M10 22.785q-1.125 0-1.773.602-.641.601-.641 1.656t.64 1.656q.649.602 1.774.602t1.773-.602q.649-.61.649-1.656 0-1.055-.649-1.656-.64-.602-1.773-.602zm-1.578-.672q-1.016-.25-1.586-.945-.563-.695-.563-1.695 0-1.399.993-2.211 1-.813 2.734-.813 1.742 0 2.734.813.993.812.993 2.21 0 1-.57 1.696-.563.695-1.571.945 1.14.266 1.773 1.04.641.773.641 1.89 0 1.695-1.04 2.602-1.03.906-2.96.906t-2.969-.906Q6 26.738 6 25.043q0-1.117.64-1.89.641-.774 1.782-1.04zm-.578-2.492q0 .906.562 1.414.57.508 1.594.508 1.016 0 1.586-.508.578-.508.578-1.414 0-.906-.578-1.414-.57-.508-1.586-.508-1.023 0-1.594.508-.562.508-.562 1.414z\" /></g><g transform=\"translate(375, 20) scale(0.75, 0.75)\" fill=\"#e5e5e5\" stroke=\"#e5e5e5\"><path d=\"M10 22.785q-1.125 0-1.773.602-.641.601-.641 1.656t.64 1.656q.649.602 1.774.602t1.773-.602q.649-.61.649-1.656 0-1.055-.649-1.656-.64-.602-1.773-.602zm-1.578-.672q-1.016-.25-1.586-.945-.563-.695-.563-1.695 0-1.399.993-2.211 1-.813 2.734-.813 1.742 0 2.734.813.993.812.993 2.21 0 1-.57 1.696-.563.695-1.571.945 1.14.266 1.773 1.04.641.773.641 1.89 0 1.695-1.04 2.602-1.03.906-2.96.906t-2.969-.906Q6 26.738 6 25.043q0-1.117.64-1.89.641-.774 1.782-1.04zm-.578-2.492q0 .906.562 1.414.57.508 1.594.508 1.016 0 1.586-.508.578-.508.578-1.414 0-.906-.578-1.414-.57-.508-1.586-.508-1.023 0-1.594.508-.562.508-.562 1.414z\" /></g><rect x=\"15\" y=\"330\" width=\"45\" height=\"45\" class=\"square dark a1\" stroke=\"none\" fill=\"#d18b47\" /><rect x=\"60\" y=\"330\" width=\"45\" height=\"45\" class=\"square light b1\" stroke=\"none\" fill=\"#ffce9e\" /><rect x=\"105\" y=\"330\" width=\"45\" height=\"45\" class=\"square dark c1\" stroke=\"none\" fill=\"#d18b47\" /><rect x=\"150\" y=\"330\" width=\"45\" height=\"45\" class=\"square light d1\" stroke=\"none\" fill=\"#ffce9e\" /><rect x=\"195\" y=\"330\" width=\"45\" height=\"45\" class=\"square dark e1\" stroke=\"none\" fill=\"#d18b47\" /><rect x=\"240\" y=\"330\" width=\"45\" height=\"45\" class=\"square light f1\" stroke=\"none\" fill=\"#ffce9e\" /><rect x=\"285\" y=\"330\" width=\"45\" height=\"45\" class=\"square dark g1\" stroke=\"none\" fill=\"#d18b47\" /><rect x=\"330\" y=\"330\" width=\"45\" height=\"45\" class=\"square light h1\" stroke=\"none\" fill=\"#ffce9e\" /><rect x=\"15\" y=\"285\" width=\"45\" height=\"45\" class=\"square light a2\" stroke=\"none\" fill=\"#ffce9e\" /><rect x=\"60\" y=\"285\" width=\"45\" height=\"45\" class=\"square dark b2\" stroke=\"none\" fill=\"#d18b47\" /><rect x=\"105\" y=\"285\" width=\"45\" height=\"45\" class=\"square light c2\" stroke=\"none\" fill=\"#ffce9e\" /><rect x=\"150\" y=\"285\" width=\"45\" height=\"45\" class=\"square dark d2\" stroke=\"none\" fill=\"#d18b47\" /><rect x=\"195\" y=\"285\" width=\"45\" height=\"45\" class=\"square light e2\" stroke=\"none\" fill=\"#ffce9e\" /><rect x=\"240\" y=\"285\" width=\"45\" height=\"45\" class=\"square dark f2\" stroke=\"none\" fill=\"#d18b47\" /><rect x=\"285\" y=\"285\" width=\"45\" height=\"45\" class=\"square light g2\" stroke=\"none\" fill=\"#ffce9e\" /><rect x=\"330\" y=\"285\" width=\"45\" height=\"45\" class=\"square dark lastmove h2\" stroke=\"none\" fill=\"#aaa23b\" /><rect x=\"15\" y=\"240\" width=\"45\" height=\"45\" class=\"square dark a3\" stroke=\"none\" fill=\"#d18b47\" /><rect x=\"60\" y=\"240\" width=\"45\" height=\"45\" class=\"square light b3\" stroke=\"none\" fill=\"#ffce9e\" /><rect x=\"105\" y=\"240\" width=\"45\" height=\"45\" class=\"square dark c3\" stroke=\"none\" fill=\"#d18b47\" /><rect x=\"150\" y=\"240\" width=\"45\" height=\"45\" class=\"square light d3\" stroke=\"none\" fill=\"#ffce9e\" /><rect x=\"195\" y=\"240\" width=\"45\" height=\"45\" class=\"square dark e3\" stroke=\"none\" fill=\"#d18b47\" /><rect x=\"240\" y=\"240\" width=\"45\" height=\"45\" class=\"square light f3\" stroke=\"none\" fill=\"#ffce9e\" /><rect x=\"285\" y=\"240\" width=\"45\" height=\"45\" class=\"square dark g3\" stroke=\"none\" fill=\"#d18b47\" /><rect x=\"330\" y=\"240\" width=\"45\" height=\"45\" class=\"square light lastmove h3\" stroke=\"none\" fill=\"#cdd16a\" /><rect x=\"15\" y=\"195\" width=\"45\" height=\"45\" class=\"square light a4\" stroke=\"none\" fill=\"#ffce9e\" /><rect x=\"60\" y=\"195\" width=\"45\" height=\"45\" class=\"square dark b4\" stroke=\"none\" fill=\"#d18b47\" /><rect x=\"105\" y=\"195\" width=\"45\" height=\"45\" class=\"square light c4\" stroke=\"none\" fill=\"#ffce9e\" /><rect x=\"150\" y=\"195\" width=\"45\" height=\"45\" class=\"square dark d4\" stroke=\"none\" fill=\"#d18b47\" /><rect x=\"195\" y=\"195\" width=\"45\" height=\"45\" class=\"square light e4\" stroke=\"none\" fill=\"#ffce9e\" /><rect x=\"240\" y=\"195\" width=\"45\" height=\"45\" class=\"square dark f4\" stroke=\"none\" fill=\"#d18b47\" /><rect x=\"285\" y=\"195\" width=\"45\" height=\"45\" class=\"square light g4\" stroke=\"none\" fill=\"#ffce9e\" /><rect x=\"330\" y=\"195\" width=\"45\" height=\"45\" class=\"square dark h4\" stroke=\"none\" fill=\"#d18b47\" /><rect x=\"15\" y=\"150\" width=\"45\" height=\"45\" class=\"square dark a5\" stroke=\"none\" fill=\"#d18b47\" /><rect x=\"60\" y=\"150\" width=\"45\" height=\"45\" class=\"square light b5\" stroke=\"none\" fill=\"#ffce9e\" /><rect x=\"105\" y=\"150\" width=\"45\" height=\"45\" class=\"square dark c5\" stroke=\"none\" fill=\"#d18b47\" /><rect x=\"150\" y=\"150\" width=\"45\" height=\"45\" class=\"square light d5\" stroke=\"none\" fill=\"#ffce9e\" /><rect x=\"195\" y=\"150\" width=\"45\" height=\"45\" class=\"square dark e5\" stroke=\"none\" fill=\"#d18b47\" /><rect x=\"240\" y=\"150\" width=\"45\" height=\"45\" class=\"square light f5\" stroke=\"none\" fill=\"#ffce9e\" /><rect x=\"285\" y=\"150\" width=\"45\" height=\"45\" class=\"square dark g5\" stroke=\"none\" fill=\"#d18b47\" /><rect x=\"330\" y=\"150\" width=\"45\" height=\"45\" class=\"square light h5\" stroke=\"none\" fill=\"#ffce9e\" /><rect x=\"15\" y=\"105\" width=\"45\" height=\"45\" class=\"square light a6\" stroke=\"none\" fill=\"#ffce9e\" /><rect x=\"60\" y=\"105\" width=\"45\" height=\"45\" class=\"square dark b6\" stroke=\"none\" fill=\"#d18b47\" /><rect x=\"105\" y=\"105\" width=\"45\" height=\"45\" class=\"square light c6\" stroke=\"none\" fill=\"#ffce9e\" /><rect x=\"150\" y=\"105\" width=\"45\" height=\"45\" class=\"square dark d6\" stroke=\"none\" fill=\"#d18b47\" /><rect x=\"195\" y=\"105\" width=\"45\" height=\"45\" class=\"square light e6\" stroke=\"none\" fill=\"#ffce9e\" /><rect x=\"240\" y=\"105\" width=\"45\" height=\"45\" class=\"square dark f6\" stroke=\"none\" fill=\"#d18b47\" /><rect x=\"285\" y=\"105\" width=\"45\" height=\"45\" class=\"square light g6\" stroke=\"none\" fill=\"#ffce9e\" /><rect x=\"330\" y=\"105\" width=\"45\" height=\"45\" class=\"square dark h6\" stroke=\"none\" fill=\"#d18b47\" /><rect x=\"15\" y=\"60\" width=\"45\" height=\"45\" class=\"square dark a7\" stroke=\"none\" fill=\"#d18b47\" /><rect x=\"60\" y=\"60\" width=\"45\" height=\"45\" class=\"square light b7\" stroke=\"none\" fill=\"#ffce9e\" /><rect x=\"105\" y=\"60\" width=\"45\" height=\"45\" class=\"square dark c7\" stroke=\"none\" fill=\"#d18b47\" /><rect x=\"150\" y=\"60\" width=\"45\" height=\"45\" class=\"square light d7\" stroke=\"none\" fill=\"#ffce9e\" /><rect x=\"195\" y=\"60\" width=\"45\" height=\"45\" class=\"square dark e7\" stroke=\"none\" fill=\"#d18b47\" /><rect x=\"240\" y=\"60\" width=\"45\" height=\"45\" class=\"square light f7\" stroke=\"none\" fill=\"#ffce9e\" /><rect x=\"285\" y=\"60\" width=\"45\" height=\"45\" class=\"square dark g7\" stroke=\"none\" fill=\"#d18b47\" /><rect x=\"330\" y=\"60\" width=\"45\" height=\"45\" class=\"square light h7\" stroke=\"none\" fill=\"#ffce9e\" /><rect x=\"15\" y=\"15\" width=\"45\" height=\"45\" class=\"square light a8\" stroke=\"none\" fill=\"#ffce9e\" /><rect x=\"60\" y=\"15\" width=\"45\" height=\"45\" class=\"square dark b8\" stroke=\"none\" fill=\"#d18b47\" /><rect x=\"105\" y=\"15\" width=\"45\" height=\"45\" class=\"square light c8\" stroke=\"none\" fill=\"#ffce9e\" /><rect x=\"150\" y=\"15\" width=\"45\" height=\"45\" class=\"square dark d8\" stroke=\"none\" fill=\"#d18b47\" /><rect x=\"195\" y=\"15\" width=\"45\" height=\"45\" class=\"square light e8\" stroke=\"none\" fill=\"#ffce9e\" /><rect x=\"240\" y=\"15\" width=\"45\" height=\"45\" class=\"square dark f8\" stroke=\"none\" fill=\"#d18b47\" /><rect x=\"285\" y=\"15\" width=\"45\" height=\"45\" class=\"square light g8\" stroke=\"none\" fill=\"#ffce9e\" /><rect x=\"330\" y=\"15\" width=\"45\" height=\"45\" class=\"square dark h8\" stroke=\"none\" fill=\"#d18b47\" /><use href=\"#white-king\" xlink:href=\"#white-king\" transform=\"translate(105, 330)\" /><use href=\"#white-rook\" xlink:href=\"#white-rook\" transform=\"translate(150, 330)\" /><use href=\"#white-bishop\" xlink:href=\"#white-bishop\" transform=\"translate(240, 330)\" /><use href=\"#white-rook\" xlink:href=\"#white-rook\" transform=\"translate(330, 330)\" /><use href=\"#white-pawn\" xlink:href=\"#white-pawn\" transform=\"translate(15, 285)\" /><use href=\"#white-pawn\" xlink:href=\"#white-pawn\" transform=\"translate(60, 285)\" /><use href=\"#white-bishop\" xlink:href=\"#white-bishop\" transform=\"translate(150, 285)\" /><use href=\"#white-pawn\" xlink:href=\"#white-pawn\" transform=\"translate(285, 285)\" /><use href=\"#white-queen\" xlink:href=\"#white-queen\" transform=\"translate(60, 240)\" /><use href=\"#white-knight\" xlink:href=\"#white-knight\" transform=\"translate(105, 240)\" /><use href=\"#white-pawn\" xlink:href=\"#white-pawn\" transform=\"translate(195, 240)\" /><use href=\"#white-pawn\" xlink:href=\"#white-pawn\" transform=\"translate(240, 240)\" /><use href=\"#white-pawn\" xlink:href=\"#white-pawn\" transform=\"translate(330, 240)\" /><use href=\"#white-pawn\" xlink:href=\"#white-pawn\" transform=\"translate(105, 195)\" /><use href=\"#white-pawn\" xlink:href=\"#white-pawn\" transform=\"translate(150, 195)\" /><use href=\"#black-pawn\" xlink:href=\"#black-pawn\" transform=\"translate(150, 150)\" /><use href=\"#black-queen\" xlink:href=\"#black-queen\" transform=\"translate(60, 105)\" /><use href=\"#black-pawn\" xlink:href=\"#black-pawn\" transform=\"translate(105, 105)\" /><use href=\"#black-bishop\" xlink:href=\"#black-bishop\" transform=\"translate(150, 105)\" /><use href=\"#black-pawn\" xlink:href=\"#black-pawn\" transform=\"translate(195, 105)\" /><use href=\"#black-knight\" xlink:href=\"#black-knight\" transform=\"translate(240, 105)\" /><use href=\"#black-pawn\" xlink:href=\"#black-pawn\" transform=\"translate(285, 105)\" /><use href=\"#black-pawn\" xlink:href=\"#black-pawn\" transform=\"translate(15, 60)\" /><use href=\"#black-pawn\" xlink:href=\"#black-pawn\" transform=\"translate(60, 60)\" /><use href=\"#black-knight\" xlink:href=\"#black-knight\" transform=\"translate(150, 60)\" /><use href=\"#black-pawn\" xlink:href=\"#black-pawn\" transform=\"translate(240, 60)\" /><use href=\"#black-pawn\" xlink:href=\"#black-pawn\" transform=\"translate(285, 60)\" /><use href=\"#black-rook\" xlink:href=\"#black-rook\" transform=\"translate(15, 15)\" /><use href=\"#black-king\" xlink:href=\"#black-king\" transform=\"translate(195, 15)\" /><use href=\"#black-rook\" xlink:href=\"#black-rook\" transform=\"translate(330, 15)\" /></svg>"
     },
     "metadata": {},
     "output_type": "display_data"
    },
    {
     "name": "stdout",
     "text": "Game has moved on to the midgame.\n",
     "output_type": "stream"
    }
   ]
  },
  {
   "cell_type": "markdown",
   "source": "### Midgame",
   "metadata": {
    "tags": [],
    "is_collapsed": false,
    "cell_id": "00016-bdad7e09-58a4-445e-a137-4b75a79f4f50",
    "deepnote_cell_type": "text-cell-h3"
   }
  },
  {
   "cell_type": "markdown",
   "source": "In the midgame, the engine searches for the best possible move using a negamax algorithm, a variant of the minimax algorithm which relies on the zero-sum property of chess. Instead of computing scores relative to each side, one side wants the score to be positive, while the other wants it to be negative.",
   "metadata": {
    "tags": [],
    "is_collapsed": false,
    "cell_id": "00014-e361f2b8-7f50-4d03-8811-338485e1123d",
    "deepnote_cell_type": "text-cell-p"
   }
  },
  {
   "cell_type": "markdown",
   "source": "There are 2 main ways to make a bot good in the midgame phase - giving it a good valuation heuristic and searching as little as possible useless moves that waste valuable time. One of the ways to do the former is using transposition tables - a hash table that keeps the positions we have searched so far and their valuation. This way, whenever we reach a position that was already searched and put into the transposition table (for example, if both sides moved their knight and then returned it to its previous location), we can take its valuation straight away from the table instead of searching and opening the move's node.",
   "metadata": {
    "tags": [],
    "is_collapsed": false,
    "cell_id": "00019-f796249e-000a-4e5b-bf6f-6a45a5614609",
    "deepnote_cell_type": "text-cell-p"
   }
  },
  {
   "cell_type": "code",
   "metadata": {
    "tags": [],
    "cell_id": "00118-71ad3a0f-5aa4-4468-8b02-f4a182285fff",
    "deepnote_to_be_reexecuted": false,
    "source_hash": "841cb485",
    "execution_start": 1636496159100,
    "execution_millis": 60,
    "deepnote_cell_type": "code"
   },
   "source": "# this code was taken from the python-chess library.\n\nimport typing\nfrom typing import List, Callable\nZOBRIST_RANDOM_ARRAY = [\n    0x9D39247E33776D41, 0x2AF7398005AAA5C7, 0x44DB015024623547, 0x9C15F73E62A76AE2,\n    0x75834465489C0C89, 0x3290AC3A203001BF, 0x0FBBAD1F61042279, 0xE83A908FF2FB60CA,\n    0x0D7E765D58755C10, 0x1A083822CEAFE02D, 0x9605D5F0E25EC3B0, 0xD021FF5CD13A2ED5,\n    0x40BDF15D4A672E32, 0x011355146FD56395, 0x5DB4832046F3D9E5, 0x239F8B2D7FF719CC,\n    0x05D1A1AE85B49AA1, 0x679F848F6E8FC971, 0x7449BBFF801FED0B, 0x7D11CDB1C3B7ADF0,\n    0x82C7709E781EB7CC, 0xF3218F1C9510786C, 0x331478F3AF51BBE6, 0x4BB38DE5E7219443,\n    0xAA649C6EBCFD50FC, 0x8DBD98A352AFD40B, 0x87D2074B81D79217, 0x19F3C751D3E92AE1,\n    0xB4AB30F062B19ABF, 0x7B0500AC42047AC4, 0xC9452CA81A09D85D, 0x24AA6C514DA27500,\n    0x4C9F34427501B447, 0x14A68FD73C910841, 0xA71B9B83461CBD93, 0x03488B95B0F1850F,\n    0x637B2B34FF93C040, 0x09D1BC9A3DD90A94, 0x3575668334A1DD3B, 0x735E2B97A4C45A23,\n    0x18727070F1BD400B, 0x1FCBACD259BF02E7, 0xD310A7C2CE9B6555, 0xBF983FE0FE5D8244,\n    0x9F74D14F7454A824, 0x51EBDC4AB9BA3035, 0x5C82C505DB9AB0FA, 0xFCF7FE8A3430B241,\n    0x3253A729B9BA3DDE, 0x8C74C368081B3075, 0xB9BC6C87167C33E7, 0x7EF48F2B83024E20,\n    0x11D505D4C351BD7F, 0x6568FCA92C76A243, 0x4DE0B0F40F32A7B8, 0x96D693460CC37E5D,\n    0x42E240CB63689F2F, 0x6D2BDCDAE2919661, 0x42880B0236E4D951, 0x5F0F4A5898171BB6,\n    0x39F890F579F92F88, 0x93C5B5F47356388B, 0x63DC359D8D231B78, 0xEC16CA8AEA98AD76,\n    0x5355F900C2A82DC7, 0x07FB9F855A997142, 0x5093417AA8A7ED5E, 0x7BCBC38DA25A7F3C,\n    0x19FC8A768CF4B6D4, 0x637A7780DECFC0D9, 0x8249A47AEE0E41F7, 0x79AD695501E7D1E8,\n    0x14ACBAF4777D5776, 0xF145B6BECCDEA195, 0xDABF2AC8201752FC, 0x24C3C94DF9C8D3F6,\n    0xBB6E2924F03912EA, 0x0CE26C0B95C980D9, 0xA49CD132BFBF7CC4, 0xE99D662AF4243939,\n    0x27E6AD7891165C3F, 0x8535F040B9744FF1, 0x54B3F4FA5F40D873, 0x72B12C32127FED2B,\n    0xEE954D3C7B411F47, 0x9A85AC909A24EAA1, 0x70AC4CD9F04F21F5, 0xF9B89D3E99A075C2,\n    0x87B3E2B2B5C907B1, 0xA366E5B8C54F48B8, 0xAE4A9346CC3F7CF2, 0x1920C04D47267BBD,\n    0x87BF02C6B49E2AE9, 0x092237AC237F3859, 0xFF07F64EF8ED14D0, 0x8DE8DCA9F03CC54E,\n    0x9C1633264DB49C89, 0xB3F22C3D0B0B38ED, 0x390E5FB44D01144B, 0x5BFEA5B4712768E9,\n    0x1E1032911FA78984, 0x9A74ACB964E78CB3, 0x4F80F7A035DAFB04, 0x6304D09A0B3738C4,\n    0x2171E64683023A08, 0x5B9B63EB9CEFF80C, 0x506AACF489889342, 0x1881AFC9A3A701D6,\n    0x6503080440750644, 0xDFD395339CDBF4A7, 0xEF927DBCF00C20F2, 0x7B32F7D1E03680EC,\n    0xB9FD7620E7316243, 0x05A7E8A57DB91B77, 0xB5889C6E15630A75, 0x4A750A09CE9573F7,\n    0xCF464CEC899A2F8A, 0xF538639CE705B824, 0x3C79A0FF5580EF7F, 0xEDE6C87F8477609D,\n    0x799E81F05BC93F31, 0x86536B8CF3428A8C, 0x97D7374C60087B73, 0xA246637CFF328532,\n    0x043FCAE60CC0EBA0, 0x920E449535DD359E, 0x70EB093B15B290CC, 0x73A1921916591CBD,\n    0x56436C9FE1A1AA8D, 0xEFAC4B70633B8F81, 0xBB215798D45DF7AF, 0x45F20042F24F1768,\n    0x930F80F4E8EB7462, 0xFF6712FFCFD75EA1, 0xAE623FD67468AA70, 0xDD2C5BC84BC8D8FC,\n    0x7EED120D54CF2DD9, 0x22FE545401165F1C, 0xC91800E98FB99929, 0x808BD68E6AC10365,\n    0xDEC468145B7605F6, 0x1BEDE3A3AEF53302, 0x43539603D6C55602, 0xAA969B5C691CCB7A,\n    0xA87832D392EFEE56, 0x65942C7B3C7E11AE, 0xDED2D633CAD004F6, 0x21F08570F420E565,\n    0xB415938D7DA94E3C, 0x91B859E59ECB6350, 0x10CFF333E0ED804A, 0x28AED140BE0BB7DD,\n    0xC5CC1D89724FA456, 0x5648F680F11A2741, 0x2D255069F0B7DAB3, 0x9BC5A38EF729ABD4,\n    0xEF2F054308F6A2BC, 0xAF2042F5CC5C2858, 0x480412BAB7F5BE2A, 0xAEF3AF4A563DFE43,\n    0x19AFE59AE451497F, 0x52593803DFF1E840, 0xF4F076E65F2CE6F0, 0x11379625747D5AF3,\n    0xBCE5D2248682C115, 0x9DA4243DE836994F, 0x066F70B33FE09017, 0x4DC4DE189B671A1C,\n    0x51039AB7712457C3, 0xC07A3F80C31FB4B4, 0xB46EE9C5E64A6E7C, 0xB3819A42ABE61C87,\n    0x21A007933A522A20, 0x2DF16F761598AA4F, 0x763C4A1371B368FD, 0xF793C46702E086A0,\n    0xD7288E012AEB8D31, 0xDE336A2A4BC1C44B, 0x0BF692B38D079F23, 0x2C604A7A177326B3,\n    0x4850E73E03EB6064, 0xCFC447F1E53C8E1B, 0xB05CA3F564268D99, 0x9AE182C8BC9474E8,\n    0xA4FC4BD4FC5558CA, 0xE755178D58FC4E76, 0x69B97DB1A4C03DFE, 0xF9B5B7C4ACC67C96,\n    0xFC6A82D64B8655FB, 0x9C684CB6C4D24417, 0x8EC97D2917456ED0, 0x6703DF9D2924E97E,\n    0xC547F57E42A7444E, 0x78E37644E7CAD29E, 0xFE9A44E9362F05FA, 0x08BD35CC38336615,\n    0x9315E5EB3A129ACE, 0x94061B871E04DF75, 0xDF1D9F9D784BA010, 0x3BBA57B68871B59D,\n    0xD2B7ADEEDED1F73F, 0xF7A255D83BC373F8, 0xD7F4F2448C0CEB81, 0xD95BE88CD210FFA7,\n    0x336F52F8FF4728E7, 0xA74049DAC312AC71, 0xA2F61BB6E437FDB5, 0x4F2A5CB07F6A35B3,\n    0x87D380BDA5BF7859, 0x16B9F7E06C453A21, 0x7BA2484C8A0FD54E, 0xF3A678CAD9A2E38C,\n    0x39B0BF7DDE437BA2, 0xFCAF55C1BF8A4424, 0x18FCF680573FA594, 0x4C0563B89F495AC3,\n    0x40E087931A00930D, 0x8CFFA9412EB642C1, 0x68CA39053261169F, 0x7A1EE967D27579E2,\n    0x9D1D60E5076F5B6F, 0x3810E399B6F65BA2, 0x32095B6D4AB5F9B1, 0x35CAB62109DD038A,\n    0xA90B24499FCFAFB1, 0x77A225A07CC2C6BD, 0x513E5E634C70E331, 0x4361C0CA3F692F12,\n    0xD941ACA44B20A45B, 0x528F7C8602C5807B, 0x52AB92BEB9613989, 0x9D1DFA2EFC557F73,\n    0x722FF175F572C348, 0x1D1260A51107FE97, 0x7A249A57EC0C9BA2, 0x04208FE9E8F7F2D6,\n    0x5A110C6058B920A0, 0x0CD9A497658A5698, 0x56FD23C8F9715A4C, 0x284C847B9D887AAE,\n    0x04FEABFBBDB619CB, 0x742E1E651C60BA83, 0x9A9632E65904AD3C, 0x881B82A13B51B9E2,\n    0x506E6744CD974924, 0xB0183DB56FFC6A79, 0x0ED9B915C66ED37E, 0x5E11E86D5873D484,\n    0xF678647E3519AC6E, 0x1B85D488D0F20CC5, 0xDAB9FE6525D89021, 0x0D151D86ADB73615,\n    0xA865A54EDCC0F019, 0x93C42566AEF98FFB, 0x99E7AFEABE000731, 0x48CBFF086DDF285A,\n    0x7F9B6AF1EBF78BAF, 0x58627E1A149BBA21, 0x2CD16E2ABD791E33, 0xD363EFF5F0977996,\n    0x0CE2A38C344A6EED, 0x1A804AADB9CFA741, 0x907F30421D78C5DE, 0x501F65EDB3034D07,\n    0x37624AE5A48FA6E9, 0x957BAF61700CFF4E, 0x3A6C27934E31188A, 0xD49503536ABCA345,\n    0x088E049589C432E0, 0xF943AEE7FEBF21B8, 0x6C3B8E3E336139D3, 0x364F6FFA464EE52E,\n    0xD60F6DCEDC314222, 0x56963B0DCA418FC0, 0x16F50EDF91E513AF, 0xEF1955914B609F93,\n    0x565601C0364E3228, 0xECB53939887E8175, 0xBAC7A9A18531294B, 0xB344C470397BBA52,\n    0x65D34954DAF3CEBD, 0xB4B81B3FA97511E2, 0xB422061193D6F6A7, 0x071582401C38434D,\n    0x7A13F18BBEDC4FF5, 0xBC4097B116C524D2, 0x59B97885E2F2EA28, 0x99170A5DC3115544,\n    0x6F423357E7C6A9F9, 0x325928EE6E6F8794, 0xD0E4366228B03343, 0x565C31F7DE89EA27,\n    0x30F5611484119414, 0xD873DB391292ED4F, 0x7BD94E1D8E17DEBC, 0xC7D9F16864A76E94,\n    0x947AE053EE56E63C, 0xC8C93882F9475F5F, 0x3A9BF55BA91F81CA, 0xD9A11FBB3D9808E4,\n    0x0FD22063EDC29FCA, 0xB3F256D8ACA0B0B9, 0xB03031A8B4516E84, 0x35DD37D5871448AF,\n    0xE9F6082B05542E4E, 0xEBFAFA33D7254B59, 0x9255ABB50D532280, 0xB9AB4CE57F2D34F3,\n    0x693501D628297551, 0xC62C58F97DD949BF, 0xCD454F8F19C5126A, 0xBBE83F4ECC2BDECB,\n    0xDC842B7E2819E230, 0xBA89142E007503B8, 0xA3BC941D0A5061CB, 0xE9F6760E32CD8021,\n    0x09C7E552BC76492F, 0x852F54934DA55CC9, 0x8107FCCF064FCF56, 0x098954D51FFF6580,\n    0x23B70EDB1955C4BF, 0xC330DE426430F69D, 0x4715ED43E8A45C0A, 0xA8D7E4DAB780A08D,\n    0x0572B974F03CE0BB, 0xB57D2E985E1419C7, 0xE8D9ECBE2CF3D73F, 0x2FE4B17170E59750,\n    0x11317BA87905E790, 0x7FBF21EC8A1F45EC, 0x1725CABFCB045B00, 0x964E915CD5E2B207,\n    0x3E2B8BCBF016D66D, 0xBE7444E39328A0AC, 0xF85B2B4FBCDE44B7, 0x49353FEA39BA63B1,\n    0x1DD01AAFCD53486A, 0x1FCA8A92FD719F85, 0xFC7C95D827357AFA, 0x18A6A990C8B35EBD,\n    0xCCCB7005C6B9C28D, 0x3BDBB92C43B17F26, 0xAA70B5B4F89695A2, 0xE94C39A54A98307F,\n    0xB7A0B174CFF6F36E, 0xD4DBA84729AF48AD, 0x2E18BC1AD9704A68, 0x2DE0966DAF2F8B1C,\n    0xB9C11D5B1E43A07E, 0x64972D68DEE33360, 0x94628D38D0C20584, 0xDBC0D2B6AB90A559,\n    0xD2733C4335C6A72F, 0x7E75D99D94A70F4D, 0x6CED1983376FA72B, 0x97FCAACBF030BC24,\n    0x7B77497B32503B12, 0x8547EDDFB81CCB94, 0x79999CDFF70902CB, 0xCFFE1939438E9B24,\n    0x829626E3892D95D7, 0x92FAE24291F2B3F1, 0x63E22C147B9C3403, 0xC678B6D860284A1C,\n    0x5873888850659AE7, 0x0981DCD296A8736D, 0x9F65789A6509A440, 0x9FF38FED72E9052F,\n    0xE479EE5B9930578C, 0xE7F28ECD2D49EECD, 0x56C074A581EA17FE, 0x5544F7D774B14AEF,\n    0x7B3F0195FC6F290F, 0x12153635B2C0CF57, 0x7F5126DBBA5E0CA7, 0x7A76956C3EAFB413,\n    0x3D5774A11D31AB39, 0x8A1B083821F40CB4, 0x7B4A38E32537DF62, 0x950113646D1D6E03,\n    0x4DA8979A0041E8A9, 0x3BC36E078F7515D7, 0x5D0A12F27AD310D1, 0x7F9D1A2E1EBE1327,\n    0xDA3A361B1C5157B1, 0xDCDD7D20903D0C25, 0x36833336D068F707, 0xCE68341F79893389,\n    0xAB9090168DD05F34, 0x43954B3252DC25E5, 0xB438C2B67F98E5E9, 0x10DCD78E3851A492,\n    0xDBC27AB5447822BF, 0x9B3CDB65F82CA382, 0xB67B7896167B4C84, 0xBFCED1B0048EAC50,\n    0xA9119B60369FFEBD, 0x1FFF7AC80904BF45, 0xAC12FB171817EEE7, 0xAF08DA9177DDA93D,\n    0x1B0CAB936E65C744, 0xB559EB1D04E5E932, 0xC37B45B3F8D6F2BA, 0xC3A9DC228CAAC9E9,\n    0xF3B8B6675A6507FF, 0x9FC477DE4ED681DA, 0x67378D8ECCEF96CB, 0x6DD856D94D259236,\n    0xA319CE15B0B4DB31, 0x073973751F12DD5E, 0x8A8E849EB32781A5, 0xE1925C71285279F5,\n    0x74C04BF1790C0EFE, 0x4DDA48153C94938A, 0x9D266D6A1CC0542C, 0x7440FB816508C4FE,\n    0x13328503DF48229F, 0xD6BF7BAEE43CAC40, 0x4838D65F6EF6748F, 0x1E152328F3318DEA,\n    0x8F8419A348F296BF, 0x72C8834A5957B511, 0xD7A023A73260B45C, 0x94EBC8ABCFB56DAE,\n    0x9FC10D0F989993E0, 0xDE68A2355B93CAE6, 0xA44CFE79AE538BBE, 0x9D1D84FCCE371425,\n    0x51D2B1AB2DDFB636, 0x2FD7E4B9E72CD38C, 0x65CA5B96B7552210, 0xDD69A0D8AB3B546D,\n    0x604D51B25FBF70E2, 0x73AA8A564FB7AC9E, 0x1A8C1E992B941148, 0xAAC40A2703D9BEA0,\n    0x764DBEAE7FA4F3A6, 0x1E99B96E70A9BE8B, 0x2C5E9DEB57EF4743, 0x3A938FEE32D29981,\n    0x26E6DB8FFDF5ADFE, 0x469356C504EC9F9D, 0xC8763C5B08D1908C, 0x3F6C6AF859D80055,\n    0x7F7CC39420A3A545, 0x9BFB227EBDF4C5CE, 0x89039D79D6FC5C5C, 0x8FE88B57305E2AB6,\n    0xA09E8C8C35AB96DE, 0xFA7E393983325753, 0xD6B6D0ECC617C699, 0xDFEA21EA9E7557E3,\n    0xB67C1FA481680AF8, 0xCA1E3785A9E724E5, 0x1CFC8BED0D681639, 0xD18D8549D140CAEA,\n    0x4ED0FE7E9DC91335, 0xE4DBF0634473F5D2, 0x1761F93A44D5AEFE, 0x53898E4C3910DA55,\n    0x734DE8181F6EC39A, 0x2680B122BAA28D97, 0x298AF231C85BAFAB, 0x7983EED3740847D5,\n    0x66C1A2A1A60CD889, 0x9E17E49642A3E4C1, 0xEDB454E7BADC0805, 0x50B704CAB602C329,\n    0x4CC317FB9CDDD023, 0x66B4835D9EAFEA22, 0x219B97E26FFC81BD, 0x261E4E4C0A333A9D,\n    0x1FE2CCA76517DB90, 0xD7504DFA8816EDBB, 0xB9571FA04DC089C8, 0x1DDC0325259B27DE,\n    0xCF3F4688801EB9AA, 0xF4F5D05C10CAB243, 0x38B6525C21A42B0E, 0x36F60E2BA4FA6800,\n    0xEB3593803173E0CE, 0x9C4CD6257C5A3603, 0xAF0C317D32ADAA8A, 0x258E5A80C7204C4B,\n    0x8B889D624D44885D, 0xF4D14597E660F855, 0xD4347F66EC8941C3, 0xE699ED85B0DFB40D,\n    0x2472F6207C2D0484, 0xC2A1E7B5B459AEB5, 0xAB4F6451CC1D45EC, 0x63767572AE3D6174,\n    0xA59E0BD101731A28, 0x116D0016CB948F09, 0x2CF9C8CA052F6E9F, 0x0B090A7560A968E3,\n    0xABEEDDB2DDE06FF1, 0x58EFC10B06A2068D, 0xC6E57A78FBD986E0, 0x2EAB8CA63CE802D7,\n    0x14A195640116F336, 0x7C0828DD624EC390, 0xD74BBE77E6116AC7, 0x804456AF10F5FB53,\n    0xEBE9EA2ADF4321C7, 0x03219A39EE587A30, 0x49787FEF17AF9924, 0xA1E9300CD8520548,\n    0x5B45E522E4B1B4EF, 0xB49C3B3995091A36, 0xD4490AD526F14431, 0x12A8F216AF9418C2,\n    0x001F837CC7350524, 0x1877B51E57A764D5, 0xA2853B80F17F58EE, 0x993E1DE72D36D310,\n    0xB3598080CE64A656, 0x252F59CF0D9F04BB, 0xD23C8E176D113600, 0x1BDA0492E7E4586E,\n    0x21E0BD5026C619BF, 0x3B097ADAF088F94E, 0x8D14DEDB30BE846E, 0xF95CFFA23AF5F6F4,\n    0x3871700761B3F743, 0xCA672B91E9E4FA16, 0x64C8E531BFF53B55, 0x241260ED4AD1E87D,\n    0x106C09B972D2E822, 0x7FBA195410E5CA30, 0x7884D9BC6CB569D8, 0x0647DFEDCD894A29,\n    0x63573FF03E224774, 0x4FC8E9560F91B123, 0x1DB956E450275779, 0xB8D91274B9E9D4FB,\n    0xA2EBEE47E2FBFCE1, 0xD9F1F30CCD97FB09, 0xEFED53D75FD64E6B, 0x2E6D02C36017F67F,\n    0xA9AA4D20DB084E9B, 0xB64BE8D8B25396C1, 0x70CB6AF7C2D5BCF0, 0x98F076A4F7A2322E,\n    0xBF84470805E69B5F, 0x94C3251F06F90CF3, 0x3E003E616A6591E9, 0xB925A6CD0421AFF3,\n    0x61BDD1307C66E300, 0xBF8D5108E27E0D48, 0x240AB57A8B888B20, 0xFC87614BAF287E07,\n    0xEF02CDD06FFDB432, 0xA1082C0466DF6C0A, 0x8215E577001332C8, 0xD39BB9C3A48DB6CF,\n    0x2738259634305C14, 0x61CF4F94C97DF93D, 0x1B6BACA2AE4E125B, 0x758F450C88572E0B,\n    0x959F587D507A8359, 0xB063E962E045F54D, 0x60E8ED72C0DFF5D1, 0x7B64978555326F9F,\n    0xFD080D236DA814BA, 0x8C90FD9B083F4558, 0x106F72FE81E2C590, 0x7976033A39F7D952,\n    0xA4EC0132764CA04B, 0x733EA705FAE4FA77, 0xB4D8F77BC3E56167, 0x9E21F4F903B33FD9,\n    0x9D765E419FB69F6D, 0xD30C088BA61EA5EF, 0x5D94337FBFAF7F5B, 0x1A4E4822EB4D7A59,\n    0x6FFE73E81B637FB3, 0xDDF957BC36D8B9CA, 0x64D0E29EEA8838B3, 0x08DD9BDFD96B9F63,\n    0x087E79E5A57D1D13, 0xE328E230E3E2B3FB, 0x1C2559E30F0946BE, 0x720BF5F26F4D2EAA,\n    0xB0774D261CC609DB, 0x443F64EC5A371195, 0x4112CF68649A260E, 0xD813F2FAB7F5C5CA,\n    0x660D3257380841EE, 0x59AC2C7873F910A3, 0xE846963877671A17, 0x93B633ABFA3469F8,\n    0xC0C0F5A60EF4CDCF, 0xCAF21ECD4377B28C, 0x57277707199B8175, 0x506C11B9D90E8B1D,\n    0xD83CC2687A19255F, 0x4A29C6465A314CD1, 0xED2DF21216235097, 0xB5635C95FF7296E2,\n    0x22AF003AB672E811, 0x52E762596BF68235, 0x9AEBA33AC6ECC6B0, 0x944F6DE09134DFB6,\n    0x6C47BEC883A7DE39, 0x6AD047C430A12104, 0xA5B1CFDBA0AB4067, 0x7C45D833AFF07862,\n    0x5092EF950A16DA0B, 0x9338E69C052B8E7B, 0x455A4B4CFE30E3F5, 0x6B02E63195AD0CF8,\n    0x6B17B224BAD6BF27, 0xD1E0CCD25BB9C169, 0xDE0C89A556B9AE70, 0x50065E535A213CF6,\n    0x9C1169FA2777B874, 0x78EDEFD694AF1EED, 0x6DC93D9526A50E68, 0xEE97F453F06791ED,\n    0x32AB0EDB696703D3, 0x3A6853C7E70757A7, 0x31865CED6120F37D, 0x67FEF95D92607890,\n    0x1F2B1D1F15F6DC9C, 0xB69E38A8965C6B65, 0xAA9119FF184CCCF4, 0xF43C732873F24C13,\n    0xFB4A3D794A9A80D2, 0x3550C2321FD6109C, 0x371F77E76BB8417E, 0x6BFA9AAE5EC05779,\n    0xCD04F3FF001A4778, 0xE3273522064480CA, 0x9F91508BFFCFC14A, 0x049A7F41061A9E60,\n    0xFCB6BE43A9F2FE9B, 0x08DE8A1C7797DA9B, 0x8F9887E6078735A1, 0xB5B4071DBFC73A66,\n    0x230E343DFBA08D33, 0x43ED7F5A0FAE657D, 0x3A88A0FBBCB05C63, 0x21874B8B4D2DBC4F,\n    0x1BDEA12E35F6A8C9, 0x53C065C6C8E63528, 0xE34A1D250E7A8D6B, 0xD6B04D3B7651DD7E,\n    0x5E90277E7CB39E2D, 0x2C046F22062DC67D, 0xB10BB459132D0A26, 0x3FA9DDFB67E2F199,\n    0x0E09B88E1914F7AF, 0x10E8B35AF3EEAB37, 0x9EEDECA8E272B933, 0xD4C718BC4AE8AE5F,\n    0x81536D601170FC20, 0x91B534F885818A06, 0xEC8177F83F900978, 0x190E714FADA5156E,\n    0xB592BF39B0364963, 0x89C350C893AE7DC1, 0xAC042E70F8B383F2, 0xB49B52E587A1EE60,\n    0xFB152FE3FF26DA89, 0x3E666E6F69AE2C15, 0x3B544EBE544C19F9, 0xE805A1E290CF2456,\n    0x24B33C9D7ED25117, 0xE74733427B72F0C1, 0x0A804D18B7097475, 0x57E3306D881EDB4F,\n    0x4AE7D6A36EB5DBCB, 0x2D8D5432157064C8, 0xD1E649DE1E7F268B, 0x8A328A1CEDFE552C,\n    0x07A3AEC79624C7DA, 0x84547DDC3E203C94, 0x990A98FD5071D263, 0x1A4FF12616EEFC89,\n    0xF6F7FD1431714200, 0x30C05B1BA332F41C, 0x8D2636B81555A786, 0x46C9FEB55D120902,\n    0xCCEC0A73B49C9921, 0x4E9D2827355FC492, 0x19EBB029435DCB0F, 0x4659D2B743848A2C,\n    0x963EF2C96B33BE31, 0x74F85198B05A2E7D, 0x5A0F544DD2B1FB18, 0x03727073C2E134B1,\n    0xC7F6AA2DE59AEA61, 0x352787BAA0D7C22F, 0x9853EAB63B5E0B35, 0xABBDCDD7ED5C0860,\n    0xCF05DAF5AC8D77B0, 0x49CAD48CEBF4A71E, 0x7A4C10EC2158C4A6, 0xD9E92AA246BF719E,\n    0x13AE978D09FE5557, 0x730499AF921549FF, 0x4E4B705B92903BA4, 0xFF577222C14F0A3A,\n    0x55B6344CF97AAFAE, 0xB862225B055B6960, 0xCAC09AFBDDD2CDB4, 0xDAF8E9829FE96B5F,\n    0xB5FDFC5D3132C498, 0x310CB380DB6F7503, 0xE87FBB46217A360E, 0x2102AE466EBB1148,\n    0xF8549E1A3AA5E00D, 0x07A69AFDCC42261A, 0xC4C118BFE78FEAAE, 0xF9F4892ED96BD438,\n    0x1AF3DBE25D8F45DA, 0xF5B4B0B0D2DEEEB4, 0x962ACEEFA82E1C84, 0x046E3ECAAF453CE9,\n    0xF05D129681949A4C, 0x964781CE734B3C84, 0x9C2ED44081CE5FBD, 0x522E23F3925E319E,\n    0x177E00F9FC32F791, 0x2BC60A63A6F3B3F2, 0x222BBFAE61725606, 0x486289DDCC3D6780,\n    0x7DC7785B8EFDFC80, 0x8AF38731C02BA980, 0x1FAB64EA29A2DDF7, 0xE4D9429322CD065A,\n    0x9DA058C67844F20C, 0x24C0E332B70019B0, 0x233003B5A6CFE6AD, 0xD586BD01C5C217F6,\n    0x5E5637885F29BC2B, 0x7EBA726D8C94094B, 0x0A56A5F0BFE39272, 0xD79476A84EE20D06,\n    0x9E4C1269BAA4BF37, 0x17EFEE45B0DEE640, 0x1D95B0A5FCF90BC6, 0x93CBE0B699C2585D,\n    0x65FA4F227A2B6D79, 0xD5F9E858292504D5, 0xC2B5A03F71471A6F, 0x59300222B4561E00,\n    0xCE2F8642CA0712DC, 0x7CA9723FBB2E8988, 0x2785338347F2BA08, 0xC61BB3A141E50E8C,\n    0x150F361DAB9DEC26, 0x9F6A419D382595F4, 0x64A53DC924FE7AC9, 0x142DE49FFF7A7C3D,\n    0x0C335248857FA9E7, 0x0A9C32D5EAE45305, 0xE6C42178C4BBB92E, 0x71F1CE2490D20B07,\n    0xF1BCC3D275AFE51A, 0xE728E8C83C334074, 0x96FBF83A12884624, 0x81A1549FD6573DA5,\n    0x5FA7867CAF35E149, 0x56986E2EF3ED091B, 0x917F1DD5F8886C61, 0xD20D8C88C8FFE65F,\n    0x31D71DCE64B2C310, 0xF165B587DF898190, 0xA57E6339DD2CF3A0, 0x1EF6E6DBB1961EC9,\n    0x70CC73D90BC26E24, 0xE21A6B35DF0C3AD7, 0x003A93D8B2806962, 0x1C99DED33CB890A1,\n    0xCF3145DE0ADD4289, 0xD0E4427A5514FB72, 0x77C621CC9FB3A483, 0x67A34DAC4356550B,\n    0xF8D626AAAF278509\n]\n\nclass ZobristHasher:\n    def __init__(self, array: List[int]) -> None:\n        assert len(array) >= 781\n        self.array = array\n\n    def hash_board(self, board: chess.BaseBoard) -> int:\n        zobrist_hash = 0\n\n        for pivot, squares in enumerate(board.occupied_co):\n            for square in chess.scan_reversed(squares):\n                piece_index = (typing.cast(chess.PieceType, board.piece_type_at(square)) - 1) * 2 + pivot\n                zobrist_hash ^= self.array[64 * piece_index + square]\n\n        return zobrist_hash\n\n    def hash_castling(self, board: chess.Board) -> int:\n        zobrist_hash = 0\n\n        # Hash in the castling flags.\n        if board.has_kingside_castling_rights(chess.WHITE):\n            zobrist_hash ^= self.array[768]\n        if board.has_queenside_castling_rights(chess.WHITE):\n            zobrist_hash ^= self.array[768 + 1]\n        if board.has_kingside_castling_rights(chess.BLACK):\n            zobrist_hash ^= self.array[768 + 2]\n        if board.has_queenside_castling_rights(chess.BLACK):\n            zobrist_hash ^= self.array[768 + 3]\n\n        return zobrist_hash\n\n    def hash_ep_square(self, board: chess.Board) -> int:\n        # Hash in the en passant file.\n        if board.ep_square:\n            # But only if there's actually a pawn ready to capture it. Legality\n            # of the potential capture is irrelevant.\n            if board.turn == chess.WHITE:\n                ep_mask = chess.shift_down(chess.BB_SQUARES[board.ep_square])\n            else:\n                ep_mask = chess.shift_up(chess.BB_SQUARES[board.ep_square])\n            ep_mask = chess.shift_left(ep_mask) | chess.shift_right(ep_mask)\n\n            if ep_mask & board.pawns & board.occupied_co[board.turn]:\n                return self.array[772 + chess.square_file(board.ep_square)]\n        return 0\n\n    def hash_turn(self, board: chess.Board) -> int:\n        # Hash in the turn.\n        return self.array[780] if board.turn == chess.WHITE else 0\n\n    def __call__(self, board: chess.Board) -> int:\n        return (self.hash_board(board) ^ self.hash_castling(board) ^\n                self.hash_ep_square(board) ^ self.hash_turn(board))\n\n\ndef zobrist_hash(board: chess.Board, *, _hasher: Callable[[chess.Board], int] = ZobristHasher(ZOBRIST_RANDOM_ARRAY)) -> int:\n    \"\"\"\n    Calculates the Zobrist hash of the position.\n    A Zobrist hash is an XOR of pseudo-random values picked from\n    an array. Which values are picked is decided by features of the\n    position, such as piece positions, castling rights and en passant\n    squares.\n    \"\"\"\n    return _hasher.hash_board(board)",
   "execution_count": null,
   "outputs": []
  },
  {
   "cell_type": "markdown",
   "source": "In this part, we handle the heuristic part of the engine in the middle game. Each piece type has a different score, and there are dozens of different systems to score chess pieces. We chose to use the system made by Ronald Friederich, the creater of PeSTO chess engine. In this system, there 2 are sets of values for each piece -  one for the middle game and one for the endgame (not to be confused with our definition of the middle and endgame phases), and that's because some pieces are worth more/less in different phases of the game. The engine decides the phase according to the amount of piece (non pawn) moves made. In addition, we use something called piece values tables, which give a different bonus (positive or negative) according to the position of the piece in the board. For example, a pawn in the last rank, just before promotion, is usually worth more than an isolated pawn in the lower ranks.",
   "metadata": {
    "tags": [],
    "is_collapsed": false,
    "cell_id": "00119-2b03b045-1c12-48e7-a4be-6ea670392fa9",
    "deepnote_cell_type": "text-cell-p"
   }
  },
  {
   "cell_type": "markdown",
   "source": "",
   "metadata": {
    "tags": [],
    "is_collapsed": false,
    "cell_id": "00120-fbce2dca-ea3e-4bb4-808e-aed4b1328d89",
    "deepnote_cell_type": "text-cell-p"
   }
  },
  {
   "cell_type": "code",
   "metadata": {
    "tags": [],
    "cell_id": "00119-cb910508-0e51-4266-acf4-6d1f807277f9",
    "deepnote_to_be_reexecuted": false,
    "source_hash": "3383eb15",
    "execution_start": 1636496159231,
    "execution_millis": 1,
    "deepnote_cell_type": "code"
   },
   "source": "from enum import Enum\nclass PieceType(Enum):\n    PAWN = 0\n    KNIGHT = 1\n    BISHOP = 2\n    ROOK = 3\n    QUEEN = 4 \n    KING = 5\n\nclass Color(Enum):\n    white = 0\n    black = 1\n\nclass Pieces(Enum):\n    WHITE_PAWN = 0\n    BLACK_PAWN = 1\n    WHITE_KNIGHT = 2\n    BLACK_KNIGHT = 3\n    WHITE_BISHOP = 4\n    BLACK_BISHOP = 5\n    WHITE_ROOK = 6\n    BLACK_ROOK = 7\n    WHITE_QUEEN = 8\n    BLACK_QUEEN = 9\n    WHITE_KING = 10\n    BLACK_KING = 11\n    EMPTY = 12\n\n\nmg_value = [ 82, 337, 365, 477, 1025,  0]\neg_value = [ 94, 281, 297, 512,  936,  0]\n\nmg_pawn_table = [\n    0,   0,   0,   0,   0,   0,  0,   0,\n    98, 134,  61,  95,  68, 126, 34, -11,\n    -6,   7,  26,  31,  65,  56, 25, -20,\n    -14,  13,   6,  21,  23,  12, 17, -23,\n    -27,  -2,  -5,  12,  17,   6, 10, -25,\n    -26,  -4,  -4, -10,   3,   3, 33, -12,\n    -35,  -1, -20, -23, -15,  24, 38, -22,\n    0,   0,   0,   0,   0,   0,  0,   0,\n]\n\n\neg_pawn_table = [\n    0,   0,   0,   0,   0,   0,   0,   0,\n    178, 173, 158, 134, 147, 132, 165, 187,\n    94, 100,  85,  67,  56,  53,  82,  84,\n    32,  24,  13,   5,  -2,   4,  17,  17,\n    13,   9,  -3,  -7,  -7,  -8,   3,  -1,\n    4,   7,  -6,   1,   0,  -5,  -1,  -8,\n    13,   8,   8,  10,  13,   0,   2,  -7,\n    0,   0,   0,   0,   0,   0,   0,   0,\n]\n\nmg_knight_table = [\n    -167, -89, -34, -49,  61, -97, -15, -107,\n    -73, -41,  72,  36,  23,  62,   7,  -17,\n    -47,  60,  37,  65,  84, 129,  73,   44,\n    -9,  17,  19,  53,  37,  69,  18,   22,\n    -13,   4,  16,  13,  28,  19,  21,   -8,\n    -23,  -9,  12,  10,  19,  17,  25,  -16,\n    -29, -53, -12,  -3,  -1,  18, -14,  -19,\n    -105, -21, -58, -33, -17, -28, -19,  -23,\n]\n\neg_knight_table = [\n    -58, -38, -13, -28, -31, -27, -63, -99,\n    -25,  -8, -25,  -2,  -9, -25, -24, -52,\n    -24, -20,  10,   9,  -1,  -9, -19, -41,\n    -17,   3,  22,  22,  22,  11,   8, -18,\n    -18,  -6,  16,  25,  16,  17,   4, -18,\n    -23,  -3,  -1,  15,  10,  -3, -20, -22,\n    -42, -20, -10,  -5,  -2, -20, -23, -44,\n    -29, -51, -23, -15, -22, -18, -50, -64,\n]\n\nmg_bishop_table = [\n    -29,   4, -82, -37, -25, -42,   7,  -8,\n    -26,  16, -18, -13,  30,  59,  18, -47,\n    -16,  37,  43,  40,  35,  50,  37,  -2,\n    -4,   5,  19,  50,  37,  37,   7,  -2,\n    -6,  13,  13,  26,  34,  12,  10,   4,\n    0,  15,  15,  15,  14,  27,  18,  10,\n    4,  15,  16,   0,   7,  21,  33,   1,\n    -33,  -3, -14, -21, -13, -12, -39, -21,\n]\n\neg_bishop_table = [\n    -14, -21, -11,  -8, -7,  -9, -17, -24,\n    -8,  -4,   7, -12, -3, -13,  -4, -14,\n    2,  -8,   0,  -1, -2,   6,   0,   4,\n    -3,   9,  12,   9, 14,  10,   3,   2,\n    -6,   3,  13,  19,  7,  10,  -3,  -9,\n    -12,  -3,   8,  10, 13,   3,  -7, -15,\n    -14, -18,  -7,  -1,  4,  -9, -15, -27,\n    -23,  -9, -23,  -5, -9, -16,  -5, -17,\n]\n\nmg_rook_table = [\n    32,  42,  32,  51, 63,  9,  31,  43,\n    27,  32,  58,  62, 80, 67,  26,  44,\n    -5,  19,  26,  36, 17, 45,  61,  16,\n    -24, -11,   7,  26, 24, 35,  -8, -20,\n    -36, -26, -12,  -1,  9, -7,   6, -23,\n    -45, -25, -16, -17,  3,  0,  -5, -33,\n    -44, -16, -20,  -9, -1, 11,  -6, -71,\n    -19, -13,   1,  17, 16,  7, -37, -26,\n]\n\neg_rook_table = [\n    13, 10, 18, 15, 12,  12,   8,   5,\n    11, 13, 13, 11, -3,   3,   8,   3,\n    7,  7,  7,  5,  4,  -3,  -5,  -3,\n    4,  3, 13,  1,  2,   1,  -1,   2,\n    3,  5,  8,  4, -5,  -6,  -8, -11,\n    -4,  0, -5, -1, -7, -12,  -8, -16,\n    -6, -6,  0,  2, -9,  -9, -11,  -3,\n    -9,  2,  3, -1, -5, -13,   4, -20,\n]\n\nmg_queen_table = [\n    -28,   0,  29,  12,  59,  44,  43,  45,\n    -24, -39,  -5,   1, -16,  57,  28,  54,\n    -13, -17,   7,   8,  29,  56,  47,  57,\n    -27, -27, -16, -16,  -1,  17,  -2,   1,\n    -9, -26,  -9, -10,  -2,  -4,   3,  -3,\n    -14,   2, -11,  -2,  -5,   2,  14,   5,\n    -35,  -8,  11,   2,   8,  15,  -3,   1,\n    -1, -18,  -9,  10, -15, -25, -31, -50,\n]\n\neg_queen_table = [\n    -9,  22,  22,  27,  27,  19,  10,  20,\n    -17,  20,  32,  41,  58,  25,  30,   0,\n    -20,   6,   9,  49,  47,  35,  19,   9,\n    3,  22,  24,  45,  57,  40,  57,  36,\n    -18,  28,  19,  47,  31,  34,  39,  23,\n    -16, -27,  15,   6,   9,  17,  10,   5,\n    -22, -23, -30, -16, -16, -23, -36, -32,\n    -33, -28, -22, -43,  -5, -32, -20, -41,\n]\n\nmg_king_table = [\n    -65,  23,  16, -15, -56, -34,   2,  13,\n    29,  -1, -20,  -7,  -8,  -4, -38, -29,\n    -9,  24,   2, -16, -20,   6,  22, -22,\n    -17, -20, -12, -27, -30, -25, -14, -36,\n    -49,  -1, -27, -39, -46, -44, -33, -51,\n    -14, -14, -22, -46, -44, -30, -15, -27,\n    1,   7,  -8, -64, -43, -16,   9,   8,\n    -15,  36,  12, -54,   8, -28,  24,  14,\n]\n\neg_king_table = [\n    -74, -35, -18, -18, -11,  15,   4, -17,\n    -12,  17,  14,  17,  17,  38,  23,  11,\n    10,  17,  23,  15,  20,  45,  44,  13,\n    -8,  22,  24,  27,  26,  33,  26,   3,\n    -18,  -4,  21,  24,  27,  23,   9, -11,\n    -19,  -3,  11,  21,  23,  16,   7,  -9,\n    -27, -11,   4,  13,  14,   4,  -5, -17,\n    -53, -34, -21, -11, -28, -14, -24, -43\n]\n\ngamephase_inc = [0, 0, 1, 1, 1, 1, 2, 2, 4, 4, 0, 0]\n\nmg_tables = [mg_pawn_table, mg_knight_table, mg_bishop_table, mg_rook_table, mg_queen_table, mg_king_table]\neg_tables = [eg_pawn_table, eg_knight_table, eg_bishop_table, eg_rook_table, eg_queen_table, eg_king_table]\n\ndef init_tables():\n    mg_table = [[0 for i in range(64)] for i in range(12)]\n    eg_table = [[0 for i in range (64)] for i in range(12)]\n    colored_piece = Pieces.WHITE_PAWN.value\n    for piece in range(PieceType.KING.value + 1):\n        for square in chess.SQUARES:\n            mg_table[colored_piece][square] = mg_value[piece] + mg_tables[piece][square]\n            eg_table[colored_piece][square] = eg_value[piece] + eg_tables[piece][square]\n            mg_table[colored_piece + 1][square] = mg_value[piece] + mg_tables[piece][-square]\n            mg_table[colored_piece + 1][square] = mg_value[piece] + mg_tables[piece][-square]\n        colored_piece += 2\n    return mg_table, eg_table\n    \n",
   "execution_count": null,
   "outputs": []
  },
  {
   "cell_type": "markdown",
   "source": "Here we handle the calculation of the heuristic and the search of the next moves using the negamax algorithm, while pruning useless moves using alpha-beta pruning. If there are 5 or less pieces left on the board, we use our local syzygy endgame tablebase to determine if the position is won, lost or drawn (futher explanation in the endgame phase section). Else, we use the heuristic written above.",
   "metadata": {
    "tags": [],
    "is_collapsed": false,
    "cell_id": "00122-56a9c394-e82d-4500-a613-58c774c52dd9",
    "deepnote_cell_type": "text-cell-p"
   }
  },
  {
   "cell_type": "code",
   "metadata": {
    "tags": [],
    "cell_id": "00014-6712567e-51c0-4d45-9b37-432368282b74",
    "deepnote_to_be_reexecuted": false,
    "source_hash": "dd17c3af",
    "execution_start": 1636496159272,
    "execution_millis": 0,
    "deepnote_cell_type": "code"
   },
   "source": "import copy\nimport time\nimport chess.syzygy\n\nclass Flag(Enum):\n    EXACT = 0\n    LOWER_BOUND = 1\n    UPPER_BOUND = 2\n\nclass State:\n    def __init__(self, board):\n        self._board = board\n        self._color = board.turn\n        self._score = 0\n\n    def calc_score(self):\n        pieces = list(self._board.piece_map().values())\n        if len(pieces) <= 5: # if there are 5 pieces or less left, then we can probe our local endgame tablebase to check which side is winning\n            tb = chess.syzygy.open_tablebase(\"/work/syzygy\") \n            wdl_score = tb.probe_wdl(self._board)\n            if wdl_score > 0: # if it is an unconditional win, or a win which can be drawn using the 50 move rule (no capture or pawn move in the past 50 moves) then consider the state a win\n                self._score = float('inf') \n            elif wdl_score == -2: # if it is an unconditional loss, then consider the state a loss\n                self._score = float('-inf')\n            else: # if it is a draw of a loss which can be drawn under the 50 move rule\n                self._score = 0\n            tb.close()\n        else:\n            if self._board.is_checkmate():\n                self._score = float(\"-inf\")\n            else:\n                mg_table, eg_table = init_tables()\n                mg = [0, 0]\n                eg = [0, 0]\n                game_phase = 0\n                piece_by_square = self._board.piece_map()\n                for square in piece_by_square:\n                    piece = piece_by_square.get(square)\n                    if piece is not None:\n                        piece_type = piece.piece_type\n                        color = Color.white.value if piece.color else Color.black.value\n                        mg[color] += mg_table[2 * (piece_type - 1) + color][square]\n                        eg[color] += eg_table[2 * (piece_type - 1) + color][square]\n                        game_phase += gamephase_inc[2 * (piece_type - 1) + color]\n\n                side2move = Color.white.value if self._color else Color.black.value\n                mg_score = mg[side2move] - mg[side2move ^ 1]\n                eg_score = eg[side2move] - eg[side2move ^ 1]\n                mg_phase = game_phase\n                \n                if mg_phase > 24:\n                    mg_phase = 24\n                eg_phase = game_phase - mg_phase\n                self._score = (mg_score * mg_phase + eg_score * eg_phase) / 24.0\n\n    def is_terminal(self):\n        return (self._board.outcome() is not None) or self._score == float('inf') or self._score == float('-inf')\n\n    @property\n    def board(self):\n        return self._board\n\n\ndef generate_children(state):\n    children = []\n    legal_moves = list(state._board.legal_moves)\n    for move in legal_moves:\n        child_board = copy.deepcopy(state._board)\n        child_board.push(move)\n        child = State(child_board)\n        child.calc_score()\n        children.append(child)\n    return children\n\ntransposition_table = {}\n\ndef negamax(node, depth, alpha, beta):\n    zob_hash = zobrist_hash(node._board)\n    alpha_orig = alpha\n    if zob_hash in transposition_table:\n        tt_value, tt_depth, tt_flag = transposition_table.get(zob_hash)\n        if tt_depth >= depth:\n            if tt_flag == Flag.EXACT:\n                return (node, tt_value)\n            if tt_flag == Flag.LOWER_BOUND:\n                alpha = max(alpha, tt_value)\n            if tt_flag == Flag.UPPER_BOUND:\n                beta = min(beta, tt_value)\n            if alpha >= beta:\n                return (node, tt_value)\n\n    if node.is_terminal():\n        return (node, node._score)\n    if depth == 0:\n        return (node, node._score)\n    child_nodes = generate_children(node)\n    child_nodes.sort(key=lambda child: child._score, reverse=True)\n    value = float('-inf')\n    opt_state = None\n    for child in child_nodes:\n        new_state, new_val = negamax(child, depth - 1, -beta, -alpha)\n        if (-new_val > value):\n            value = -new_val\n            opt_state = new_state\n        alpha = max(alpha, value)\n        if alpha >= beta:\n            break\n    if value <= alpha_orig:\n        flag = Flag.UPPER_BOUND\n    elif value >= beta:\n        flag = Flag.LOWER_BOUND\n    else:\n        flag = Flag.EXACT\n    transposition_table[zob_hash] = (value, depth, flag)\n    return (opt_state, value)\n\n\n",
   "execution_count": null,
   "outputs": []
  },
  {
   "cell_type": "markdown",
   "source": "The engine decides the next move using the \"get_next_move\" function. When the game is in the middlegame phase, it will use our search function. If the game has reached the endgame phase, it will only use the evaluation function on rare occasions which will be explained later.",
   "metadata": {
    "tags": [],
    "is_collapsed": false,
    "cell_id": "00018-d603fc12-283e-4111-95f0-0f911701b384",
    "deepnote_cell_type": "text-cell-p"
   }
  },
  {
   "cell_type": "code",
   "metadata": {
    "tags": [],
    "cell_id": "00014-866cbe01-f7a9-43c0-9390-e417eef4f3d2",
    "deepnote_to_be_reexecuted": false,
    "source_hash": "843c1922",
    "execution_start": 1636496159273,
    "execution_millis": 1,
    "deepnote_cell_type": "code"
   },
   "source": "def get_next_move(root, depth):\n    if len(root._board.piece_map()) > 7:\n        best_state = negamax(root, depth, float('-inf'), float('inf'))[0]\n        curr_move = root._board.ply()\n        move = best_state._board.move_stack[curr_move]    \n        return move\n    else:\n        return endgame_move(root._board)",
   "execution_count": null,
   "outputs": []
  },
  {
   "cell_type": "markdown",
   "source": "This parts demonstrates the engine's midgame. At first, it plays the opening with itself, and when there is no move left in the opening book, meaning the opening phase is over, the engine moves on to the midgame and plays 3 midgame moves with itself (depth = 3).",
   "metadata": {
    "tags": [],
    "is_collapsed": false,
    "cell_id": "00126-03e40a8f-a743-41b1-9900-684ec2c1edc1",
    "deepnote_cell_type": "text-cell-p"
   }
  },
  {
   "cell_type": "code",
   "metadata": {
    "tags": [],
    "cell_id": "00123-f3b1de1e-be82-470d-a2f5-3e6d7495d1ca",
    "deepnote_to_be_reexecuted": false,
    "source_hash": "4a8511ea",
    "execution_start": 1636496159278,
    "execution_millis": 378234,
    "output_cleared": false,
    "deepnote_output_heights": [
     null,
     392,
     null,
     392
    ],
    "deepnote_cell_type": "code"
   },
   "source": "board = chess.Board()\ncount = 0\nreader = chess.polyglot.open_reader(\"Titans.bin\")\nwhile(True):\n    move_to_make = opening_move(board, reader)\n    if move_to_make is None:\n        break\n    if board.turn:\n        print(\"White has played: \" + move_to_make.uci())\n    else:\n        print(\"Black has played: \" + move_to_make.uci())\n    board.push(move_to_make)\n\ndisplay(board)\nwhile(count < 3):\n    root = State(board)\n    cpu_move = get_next_move(root, 3)\n    board.push(cpu_move)\n    print('White' if not board.turn else 'Black',\"has played:\", cpu_move.uci())\n    root = State(board)\n    cpu_move = get_next_move(root, 3)\n    board.push(cpu_move)\n    print('White' if not board.turn else 'Black',\"has played:\", cpu_move.uci())\n    count += 1\n\ndisplay(board)\n",
   "execution_count": null,
   "outputs": [
    {
     "name": "stdout",
     "text": "White has played: e2e4\nBlack has played: e7e5\nWhite has played: g1f3\nBlack has played: b8c6\nWhite has played: f1b5\nBlack has played: a7a6\nWhite has played: b5a4\nBlack has played: g8f6\nWhite has played: e1g1\nBlack has played: f8e7\nWhite has played: f1e1\nBlack has played: b7b5\nWhite has played: a4b3\nBlack has played: e8g8\nWhite has played: c2c3\nBlack has played: d7d6\nWhite has played: h2h3\nBlack has played: c8b7\nWhite has played: d2d4\nBlack has played: f8e8\nWhite has played: b1d2\nBlack has played: e7f8\nWhite has played: a2a3\nBlack has played: h7h6\nWhite has played: b3c2\nBlack has played: c6b8\nWhite has played: b2b4\nBlack has played: b8d7\nWhite has played: c1b2\nBlack has played: g7g6\nWhite has played: c3c4\nBlack has played: e5d4\nWhite has played: c4b5\nBlack has played: a6b5\nWhite has played: f3d4\nBlack has played: c7c6\nWhite has played: a3a4\nBlack has played: b5a4\nWhite has played: c2a4\nBlack has played: d8b6\nWhite has played: d4c2\nBlack has played: b6c7\nWhite has played: a4b3\n",
     "output_type": "stream"
    },
    {
     "data": {
      "text/plain": "Board('r3rbk1/1bqn1p2/2pp1npp/8/1P2P3/1B5P/1BNN1PP1/R2QR1K1 b - - 4 22')",
      "image/svg+xml": "<svg xmlns=\"http://www.w3.org/2000/svg\" xmlns:xlink=\"http://www.w3.org/1999/xlink\" version=\"1.2\" baseProfile=\"tiny\" viewBox=\"0 0 390 390\" width=\"390\" height=\"390\"><defs><g id=\"white-pawn\" class=\"white pawn\"><path d=\"M22.5 9c-2.21 0-4 1.79-4 4 0 .89.29 1.71.78 2.38C17.33 16.5 16 18.59 16 21c0 2.03.94 3.84 2.41 5.03-3 1.06-7.41 5.55-7.41 13.47h23c0-7.92-4.41-12.41-7.41-13.47 1.47-1.19 2.41-3 2.41-5.03 0-2.41-1.33-4.5-3.28-5.62.49-.67.78-1.49.78-2.38 0-2.21-1.79-4-4-4z\" fill=\"#fff\" stroke=\"#000\" stroke-width=\"1.5\" stroke-linecap=\"round\" /></g><g id=\"white-knight\" class=\"white knight\" fill=\"none\" fill-rule=\"evenodd\" stroke=\"#000\" stroke-width=\"1.5\" stroke-linecap=\"round\" stroke-linejoin=\"round\"><path d=\"M 22,10 C 32.5,11 38.5,18 38,39 L 15,39 C 15,30 25,32.5 23,18\" style=\"fill:#ffffff; stroke:#000000;\" /><path d=\"M 24,18 C 24.38,20.91 18.45,25.37 16,27 C 13,29 13.18,31.34 11,31 C 9.958,30.06 12.41,27.96 11,28 C 10,28 11.19,29.23 10,30 C 9,30 5.997,31 6,26 C 6,24 12,14 12,14 C 12,14 13.89,12.1 14,10.5 C 13.27,9.506 13.5,8.5 13.5,7.5 C 14.5,6.5 16.5,10 16.5,10 L 18.5,10 C 18.5,10 19.28,8.008 21,7 C 22,7 22,10 22,10\" style=\"fill:#ffffff; stroke:#000000;\" /><path d=\"M 9.5 25.5 A 0.5 0.5 0 1 1 8.5,25.5 A 0.5 0.5 0 1 1 9.5 25.5 z\" style=\"fill:#000000; stroke:#000000;\" /><path d=\"M 15 15.5 A 0.5 1.5 0 1 1 14,15.5 A 0.5 1.5 0 1 1 15 15.5 z\" transform=\"matrix(0.866,0.5,-0.5,0.866,9.693,-5.173)\" style=\"fill:#000000; stroke:#000000;\" /></g><g id=\"white-bishop\" class=\"white bishop\" fill=\"none\" fill-rule=\"evenodd\" stroke=\"#000\" stroke-width=\"1.5\" stroke-linecap=\"round\" stroke-linejoin=\"round\"><g fill=\"#fff\" stroke-linecap=\"butt\"><path d=\"M9 36c3.39-.97 10.11.43 13.5-2 3.39 2.43 10.11 1.03 13.5 2 0 0 1.65.54 3 2-.68.97-1.65.99-3 .5-3.39-.97-10.11.46-13.5-1-3.39 1.46-10.11.03-13.5 1-1.354.49-2.323.47-3-.5 1.354-1.94 3-2 3-2zM15 32c2.5 2.5 12.5 2.5 15 0 .5-1.5 0-2 0-2 0-2.5-2.5-4-2.5-4 5.5-1.5 6-11.5-5-15.5-11 4-10.5 14-5 15.5 0 0-2.5 1.5-2.5 4 0 0-.5.5 0 2zM25 8a2.5 2.5 0 1 1-5 0 2.5 2.5 0 1 1 5 0z\" /></g><path d=\"M17.5 26h10M15 30h15m-7.5-14.5v5M20 18h5\" stroke-linejoin=\"miter\" /></g><g id=\"white-rook\" class=\"white rook\" fill=\"#fff\" fill-rule=\"evenodd\" stroke=\"#000\" stroke-width=\"1.5\" stroke-linecap=\"round\" stroke-linejoin=\"round\"><path d=\"M9 39h27v-3H9v3zM12 36v-4h21v4H12zM11 14V9h4v2h5V9h5v2h5V9h4v5\" stroke-linecap=\"butt\" /><path d=\"M34 14l-3 3H14l-3-3\" /><path d=\"M31 17v12.5H14V17\" stroke-linecap=\"butt\" stroke-linejoin=\"miter\" /><path d=\"M31 29.5l1.5 2.5h-20l1.5-2.5\" /><path d=\"M11 14h23\" fill=\"none\" stroke-linejoin=\"miter\" /></g><g id=\"white-queen\" class=\"white queen\" fill=\"#fff\" fill-rule=\"evenodd\" stroke=\"#000\" stroke-width=\"1.5\" stroke-linecap=\"round\" stroke-linejoin=\"round\"><path d=\"M8 12a2 2 0 1 1-4 0 2 2 0 1 1 4 0zM24.5 7.5a2 2 0 1 1-4 0 2 2 0 1 1 4 0zM41 12a2 2 0 1 1-4 0 2 2 0 1 1 4 0zM16 8.5a2 2 0 1 1-4 0 2 2 0 1 1 4 0zM33 9a2 2 0 1 1-4 0 2 2 0 1 1 4 0z\" /><path d=\"M9 26c8.5-1.5 21-1.5 27 0l2-12-7 11V11l-5.5 13.5-3-15-3 15-5.5-14V25L7 14l2 12zM9 26c0 2 1.5 2 2.5 4 1 1.5 1 1 .5 3.5-1.5 1-1.5 2.5-1.5 2.5-1.5 1.5.5 2.5.5 2.5 6.5 1 16.5 1 23 0 0 0 1.5-1 0-2.5 0 0 .5-1.5-1-2.5-.5-2.5-.5-2 .5-3.5 1-2 2.5-2 2.5-4-8.5-1.5-18.5-1.5-27 0z\" stroke-linecap=\"butt\" /><path d=\"M11.5 30c3.5-1 18.5-1 22 0M12 33.5c6-1 15-1 21 0\" fill=\"none\" /></g><g id=\"white-king\" class=\"white king\" fill=\"none\" fill-rule=\"evenodd\" stroke=\"#000\" stroke-width=\"1.5\" stroke-linecap=\"round\" stroke-linejoin=\"round\"><path d=\"M22.5 11.63V6M20 8h5\" stroke-linejoin=\"miter\" /><path d=\"M22.5 25s4.5-7.5 3-10.5c0 0-1-2.5-3-2.5s-3 2.5-3 2.5c-1.5 3 3 10.5 3 10.5\" fill=\"#fff\" stroke-linecap=\"butt\" stroke-linejoin=\"miter\" /><path d=\"M11.5 37c5.5 3.5 15.5 3.5 21 0v-7s9-4.5 6-10.5c-4-6.5-13.5-3.5-16 4V27v-3.5c-3.5-7.5-13-10.5-16-4-3 6 5 10 5 10V37z\" fill=\"#fff\" /><path d=\"M11.5 30c5.5-3 15.5-3 21 0m-21 3.5c5.5-3 15.5-3 21 0m-21 3.5c5.5-3 15.5-3 21 0\" /></g><g id=\"black-pawn\" class=\"black pawn\"><path d=\"M22.5 9c-2.21 0-4 1.79-4 4 0 .89.29 1.71.78 2.38C17.33 16.5 16 18.59 16 21c0 2.03.94 3.84 2.41 5.03-3 1.06-7.41 5.55-7.41 13.47h23c0-7.92-4.41-12.41-7.41-13.47 1.47-1.19 2.41-3 2.41-5.03 0-2.41-1.33-4.5-3.28-5.62.49-.67.78-1.49.78-2.38 0-2.21-1.79-4-4-4z\" stroke=\"#000\" stroke-width=\"1.5\" stroke-linecap=\"round\" /></g><g id=\"black-knight\" class=\"black knight\" fill=\"none\" fill-rule=\"evenodd\" stroke=\"#000\" stroke-width=\"1.5\" stroke-linecap=\"round\" stroke-linejoin=\"round\"><path d=\"M 22,10 C 32.5,11 38.5,18 38,39 L 15,39 C 15,30 25,32.5 23,18\" style=\"fill:#000000; stroke:#000000;\" /><path d=\"M 24,18 C 24.38,20.91 18.45,25.37 16,27 C 13,29 13.18,31.34 11,31 C 9.958,30.06 12.41,27.96 11,28 C 10,28 11.19,29.23 10,30 C 9,30 5.997,31 6,26 C 6,24 12,14 12,14 C 12,14 13.89,12.1 14,10.5 C 13.27,9.506 13.5,8.5 13.5,7.5 C 14.5,6.5 16.5,10 16.5,10 L 18.5,10 C 18.5,10 19.28,8.008 21,7 C 22,7 22,10 22,10\" style=\"fill:#000000; stroke:#000000;\" /><path d=\"M 9.5 25.5 A 0.5 0.5 0 1 1 8.5,25.5 A 0.5 0.5 0 1 1 9.5 25.5 z\" style=\"fill:#ececec; stroke:#ececec;\" /><path d=\"M 15 15.5 A 0.5 1.5 0 1 1 14,15.5 A 0.5 1.5 0 1 1 15 15.5 z\" transform=\"matrix(0.866,0.5,-0.5,0.866,9.693,-5.173)\" style=\"fill:#ececec; stroke:#ececec;\" /><path d=\"M 24.55,10.4 L 24.1,11.85 L 24.6,12 C 27.75,13 30.25,14.49 32.5,18.75 C 34.75,23.01 35.75,29.06 35.25,39 L 35.2,39.5 L 37.45,39.5 L 37.5,39 C 38,28.94 36.62,22.15 34.25,17.66 C 31.88,13.17 28.46,11.02 25.06,10.5 L 24.55,10.4 z \" style=\"fill:#ececec; stroke:none;\" /></g><g id=\"black-bishop\" class=\"black bishop\" fill=\"none\" fill-rule=\"evenodd\" stroke=\"#000\" stroke-width=\"1.5\" stroke-linecap=\"round\" stroke-linejoin=\"round\"><path d=\"M9 36c3.39-.97 10.11.43 13.5-2 3.39 2.43 10.11 1.03 13.5 2 0 0 1.65.54 3 2-.68.97-1.65.99-3 .5-3.39-.97-10.11.46-13.5-1-3.39 1.46-10.11.03-13.5 1-1.354.49-2.323.47-3-.5 1.354-1.94 3-2 3-2zm6-4c2.5 2.5 12.5 2.5 15 0 .5-1.5 0-2 0-2 0-2.5-2.5-4-2.5-4 5.5-1.5 6-11.5-5-15.5-11 4-10.5 14-5 15.5 0 0-2.5 1.5-2.5 4 0 0-.5.5 0 2zM25 8a2.5 2.5 0 1 1-5 0 2.5 2.5 0 1 1 5 0z\" fill=\"#000\" stroke-linecap=\"butt\" /><path d=\"M17.5 26h10M15 30h15m-7.5-14.5v5M20 18h5\" stroke=\"#fff\" stroke-linejoin=\"miter\" /></g><g id=\"black-rook\" class=\"black rook\" fill=\"#000\" fill-rule=\"evenodd\" stroke=\"#000\" stroke-width=\"1.5\" stroke-linecap=\"round\" stroke-linejoin=\"round\"><path d=\"M9 39h27v-3H9v3zM12.5 32l1.5-2.5h17l1.5 2.5h-20zM12 36v-4h21v4H12z\" stroke-linecap=\"butt\" /><path d=\"M14 29.5v-13h17v13H14z\" stroke-linecap=\"butt\" stroke-linejoin=\"miter\" /><path d=\"M14 16.5L11 14h23l-3 2.5H14zM11 14V9h4v2h5V9h5v2h5V9h4v5H11z\" stroke-linecap=\"butt\" /><path d=\"M12 35.5h21M13 31.5h19M14 29.5h17M14 16.5h17M11 14h23\" fill=\"none\" stroke=\"#fff\" stroke-width=\"1\" stroke-linejoin=\"miter\" /></g><g id=\"black-queen\" class=\"black queen\" fill=\"#000\" fill-rule=\"evenodd\" stroke=\"#000\" stroke-width=\"1.5\" stroke-linecap=\"round\" stroke-linejoin=\"round\"><g fill=\"#000\" stroke=\"none\"><circle cx=\"6\" cy=\"12\" r=\"2.75\" /><circle cx=\"14\" cy=\"9\" r=\"2.75\" /><circle cx=\"22.5\" cy=\"8\" r=\"2.75\" /><circle cx=\"31\" cy=\"9\" r=\"2.75\" /><circle cx=\"39\" cy=\"12\" r=\"2.75\" /></g><path d=\"M9 26c8.5-1.5 21-1.5 27 0l2.5-12.5L31 25l-.3-14.1-5.2 13.6-3-14.5-3 14.5-5.2-13.6L14 25 6.5 13.5 9 26zM9 26c0 2 1.5 2 2.5 4 1 1.5 1 1 .5 3.5-1.5 1-1.5 2.5-1.5 2.5-1.5 1.5.5 2.5.5 2.5 6.5 1 16.5 1 23 0 0 0 1.5-1 0-2.5 0 0 .5-1.5-1-2.5-.5-2.5-.5-2 .5-3.5 1-2 2.5-2 2.5-4-8.5-1.5-18.5-1.5-27 0z\" stroke-linecap=\"butt\" /><path d=\"M11 38.5a35 35 1 0 0 23 0\" fill=\"none\" stroke-linecap=\"butt\" /><path d=\"M11 29a35 35 1 0 1 23 0M12.5 31.5h20M11.5 34.5a35 35 1 0 0 22 0M10.5 37.5a35 35 1 0 0 24 0\" fill=\"none\" stroke=\"#fff\" /></g><g id=\"black-king\" class=\"black king\" fill=\"none\" fill-rule=\"evenodd\" stroke=\"#000\" stroke-width=\"1.5\" stroke-linecap=\"round\" stroke-linejoin=\"round\"><path d=\"M22.5 11.63V6\" stroke-linejoin=\"miter\" /><path d=\"M22.5 25s4.5-7.5 3-10.5c0 0-1-2.5-3-2.5s-3 2.5-3 2.5c-1.5 3 3 10.5 3 10.5\" fill=\"#000\" stroke-linecap=\"butt\" stroke-linejoin=\"miter\" /><path d=\"M11.5 37c5.5 3.5 15.5 3.5 21 0v-7s9-4.5 6-10.5c-4-6.5-13.5-3.5-16 4V27v-3.5c-3.5-7.5-13-10.5-16-4-3 6 5 10 5 10V37z\" fill=\"#000\" /><path d=\"M20 8h5\" stroke-linejoin=\"miter\" /><path d=\"M32 29.5s8.5-4 6.03-9.65C34.15 14 25 18 22.5 24.5l.01 2.1-.01-2.1C20 18 9.906 14 6.997 19.85c-2.497 5.65 4.853 9 4.853 9M11.5 30c5.5-3 15.5-3 21 0m-21 3.5c5.5-3 15.5-3 21 0m-21 3.5c5.5-3 15.5-3 21 0\" stroke=\"#fff\" /></g></defs><rect x=\"0\" y=\"0\" width=\"390\" height=\"390\" fill=\"#212121\" /><g transform=\"translate(20, 0) scale(0.75, 0.75)\" fill=\"#e5e5e5\" stroke=\"#e5e5e5\"><path d=\"M23.328 10.016q-1.742 0-2.414.398-.672.398-.672 1.36 0 .765.5 1.218.508.445 1.375.445 1.196 0 1.914-.843.727-.852.727-2.258v-.32zm2.867-.594v4.992h-1.437v-1.328q-.492.797-1.227 1.18-.734.375-1.797.375-1.343 0-2.14-.75-.79-.758-.79-2.024 0-1.476.985-2.226.992-.75 2.953-.75h2.016V8.75q0-.992-.656-1.531-.649-.547-1.829-.547-.75 0-1.46.18-.711.18-1.368.539V6.062q.79-.304 1.532-.453.742-.156 1.445-.156 1.898 0 2.836.984.937.985.937 2.985z\" /></g><g transform=\"translate(20, 375) scale(0.75, 0.75)\" fill=\"#e5e5e5\" stroke=\"#e5e5e5\"><path d=\"M23.328 10.016q-1.742 0-2.414.398-.672.398-.672 1.36 0 .765.5 1.218.508.445 1.375.445 1.196 0 1.914-.843.727-.852.727-2.258v-.32zm2.867-.594v4.992h-1.437v-1.328q-.492.797-1.227 1.18-.734.375-1.797.375-1.343 0-2.14-.75-.79-.758-.79-2.024 0-1.476.985-2.226.992-.75 2.953-.75h2.016V8.75q0-.992-.656-1.531-.649-.547-1.829-.547-.75 0-1.46.18-.711.18-1.368.539V6.062q.79-.304 1.532-.453.742-.156 1.445-.156 1.898 0 2.836.984.937.985.937 2.985z\" /></g><g transform=\"translate(65, 0) scale(0.75, 0.75)\" fill=\"#e5e5e5\" stroke=\"#e5e5e5\"><path d=\"M24.922 10.047q0-1.586-.656-2.485-.649-.906-1.79-.906-1.14 0-1.796.906-.649.899-.649 2.485 0 1.586.649 2.492.656.898 1.797.898 1.14 0 1.789-.898.656-.906.656-2.492zm-4.89-3.055q.452-.781 1.14-1.156.695-.383 1.656-.383 1.594 0 2.586 1.266 1 1.265 1 3.328 0 2.062-1 3.328-.992 1.266-2.586 1.266-.96 0-1.656-.375-.688-.383-1.14-1.164v1.312h-1.446V2.258h1.445z\" /></g><g transform=\"translate(65, 375) scale(0.75, 0.75)\" fill=\"#e5e5e5\" stroke=\"#e5e5e5\"><path d=\"M24.922 10.047q0-1.586-.656-2.485-.649-.906-1.79-.906-1.14 0-1.796.906-.649.899-.649 2.485 0 1.586.649 2.492.656.898 1.797.898 1.14 0 1.789-.898.656-.906.656-2.492zm-4.89-3.055q.452-.781 1.14-1.156.695-.383 1.656-.383 1.594 0 2.586 1.266 1 1.265 1 3.328 0 2.062-1 3.328-.992 1.266-2.586 1.266-.96 0-1.656-.375-.688-.383-1.14-1.164v1.312h-1.446V2.258h1.445z\" /></g><g transform=\"translate(110, 0) scale(0.75, 0.75)\" fill=\"#e5e5e5\" stroke=\"#e5e5e5\"><path d=\"M25.96 6v1.344q-.608-.336-1.226-.5-.609-.172-1.234-.172-1.398 0-2.172.89-.773.883-.773 2.485 0 1.601.773 2.492.774.883 2.172.883.625 0 1.234-.164.618-.172 1.227-.508v1.328q-.602.281-1.25.422-.64.14-1.367.14-1.977 0-3.14-1.242-1.165-1.242-1.165-3.351 0-2.14 1.172-3.367 1.18-1.227 3.227-1.227.664 0 1.296.14.633.134 1.227.407z\" /></g><g transform=\"translate(110, 375) scale(0.75, 0.75)\" fill=\"#e5e5e5\" stroke=\"#e5e5e5\"><path d=\"M25.96 6v1.344q-.608-.336-1.226-.5-.609-.172-1.234-.172-1.398 0-2.172.89-.773.883-.773 2.485 0 1.601.773 2.492.774.883 2.172.883.625 0 1.234-.164.618-.172 1.227-.508v1.328q-.602.281-1.25.422-.64.14-1.367.14-1.977 0-3.14-1.242-1.165-1.242-1.165-3.351 0-2.14 1.172-3.367 1.18-1.227 3.227-1.227.664 0 1.296.14.633.134 1.227.407z\" /></g><g transform=\"translate(155, 0) scale(0.75, 0.75)\" fill=\"#e5e5e5\" stroke=\"#e5e5e5\"><path d=\"M24.973 6.992V2.258h1.437v12.156h-1.437v-1.312q-.453.78-1.149 1.164-.687.375-1.656.375-1.586 0-2.586-1.266-.992-1.266-.992-3.328 0-2.063.992-3.328 1-1.266 2.586-1.266.969 0 1.656.383.696.375 1.149 1.156zm-4.899 3.055q0 1.586.649 2.492.656.898 1.797.898 1.14 0 1.796-.898.657-.906.657-2.492 0-1.586-.657-2.485-.656-.906-1.796-.906-1.141 0-1.797.906-.649.899-.649 2.485z\" /></g><g transform=\"translate(155, 375) scale(0.75, 0.75)\" fill=\"#e5e5e5\" stroke=\"#e5e5e5\"><path d=\"M24.973 6.992V2.258h1.437v12.156h-1.437v-1.312q-.453.78-1.149 1.164-.687.375-1.656.375-1.586 0-2.586-1.266-.992-1.266-.992-3.328 0-2.063.992-3.328 1-1.266 2.586-1.266.969 0 1.656.383.696.375 1.149 1.156zm-4.899 3.055q0 1.586.649 2.492.656.898 1.797.898 1.14 0 1.796-.898.657-.906.657-2.492 0-1.586-.657-2.485-.656-.906-1.796-.906-1.141 0-1.797.906-.649.899-.649 2.485z\" /></g><g transform=\"translate(200, 0) scale(0.75, 0.75)\" fill=\"#e5e5e5\" stroke=\"#e5e5e5\"><path d=\"M26.555 9.68v.703h-6.61q.094 1.484.89 2.265.806.774 2.235.774.828 0 1.602-.203.781-.203 1.547-.61v1.36q-.774.328-1.586.5-.813.172-1.649.172-2.093 0-3.32-1.22-1.219-1.218-1.219-3.296 0-2.148 1.157-3.406 1.164-1.266 3.132-1.266 1.766 0 2.79 1.14 1.03 1.134 1.03 3.087zm-1.438-.422q-.015-1.18-.664-1.883-.64-.703-1.703-.703-1.203 0-1.93.68-.718.68-.828 1.914z\" /></g><g transform=\"translate(200, 375) scale(0.75, 0.75)\" fill=\"#e5e5e5\" stroke=\"#e5e5e5\"><path d=\"M26.555 9.68v.703h-6.61q.094 1.484.89 2.265.806.774 2.235.774.828 0 1.602-.203.781-.203 1.547-.61v1.36q-.774.328-1.586.5-.813.172-1.649.172-2.093 0-3.32-1.22-1.219-1.218-1.219-3.296 0-2.148 1.157-3.406 1.164-1.266 3.132-1.266 1.766 0 2.79 1.14 1.03 1.134 1.03 3.087zm-1.438-.422q-.015-1.18-.664-1.883-.64-.703-1.703-.703-1.203 0-1.93.68-.718.68-.828 1.914z\" /></g><g transform=\"translate(245, 0) scale(0.75, 0.75)\" fill=\"#e5e5e5\" stroke=\"#e5e5e5\"><path d=\"M25.285 2.258v1.195H23.91q-.773 0-1.078.313-.297.312-.297 1.125v.773h2.367v1.117h-2.367v7.633H21.09V6.781h-1.375V5.664h1.375v-.61q0-1.46.68-2.124.68-.672 2.156-.672z\" /></g><g transform=\"translate(245, 375) scale(0.75, 0.75)\" fill=\"#e5e5e5\" stroke=\"#e5e5e5\"><path d=\"M25.285 2.258v1.195H23.91q-.773 0-1.078.313-.297.312-.297 1.125v.773h2.367v1.117h-2.367v7.633H21.09V6.781h-1.375V5.664h1.375v-.61q0-1.46.68-2.124.68-.672 2.156-.672z\" /></g><g transform=\"translate(290, 0) scale(0.75, 0.75)\" fill=\"#e5e5e5\" stroke=\"#e5e5e5\"><path d=\"M24.973 9.937q0-1.562-.649-2.421-.64-.86-1.804-.86-1.157 0-1.805.86-.64.859-.64 2.421 0 1.555.64 2.415.648.859 1.805.859 1.164 0 1.804-.86.649-.859.649-2.414zm1.437 3.391q0 2.234-.992 3.32-.992 1.094-3.04 1.094-.757 0-1.429-.117-.672-.11-1.304-.344v-1.398q.632.344 1.25.508.617.164 1.257.164 1.414 0 2.118-.743.703-.734.703-2.226v-.711q-.446.773-1.141 1.156-.695.383-1.664.383-1.61 0-2.594-1.227-.984-1.226-.984-3.25 0-2.03.984-3.257.985-1.227 2.594-1.227.969 0 1.664.383t1.14 1.156V5.664h1.438z\" /></g><g transform=\"translate(290, 375) scale(0.75, 0.75)\" fill=\"#e5e5e5\" stroke=\"#e5e5e5\"><path d=\"M24.973 9.937q0-1.562-.649-2.421-.64-.86-1.804-.86-1.157 0-1.805.86-.64.859-.64 2.421 0 1.555.64 2.415.648.859 1.805.859 1.164 0 1.804-.86.649-.859.649-2.414zm1.437 3.391q0 2.234-.992 3.32-.992 1.094-3.04 1.094-.757 0-1.429-.117-.672-.11-1.304-.344v-1.398q.632.344 1.25.508.617.164 1.257.164 1.414 0 2.118-.743.703-.734.703-2.226v-.711q-.446.773-1.141 1.156-.695.383-1.664.383-1.61 0-2.594-1.227-.984-1.226-.984-3.25 0-2.03.984-3.257.985-1.227 2.594-1.227.969 0 1.664.383t1.14 1.156V5.664h1.438z\" /></g><g transform=\"translate(335, 0) scale(0.75, 0.75)\" fill=\"#e5e5e5\" stroke=\"#e5e5e5\"><path d=\"M26.164 9.133v5.281h-1.437V9.18q0-1.243-.485-1.86-.484-.617-1.453-.617-1.164 0-1.836.742-.672.742-.672 2.024v4.945h-1.445V2.258h1.445v4.765q.516-.789 1.211-1.18.703-.39 1.617-.39 1.508 0 2.282.938.773.93.773 2.742z\" /></g><g transform=\"translate(335, 375) scale(0.75, 0.75)\" fill=\"#e5e5e5\" stroke=\"#e5e5e5\"><path d=\"M26.164 9.133v5.281h-1.437V9.18q0-1.243-.485-1.86-.484-.617-1.453-.617-1.164 0-1.836.742-.672.742-.672 2.024v4.945h-1.445V2.258h1.445v4.765q.516-.789 1.211-1.18.703-.39 1.617-.39 1.508 0 2.282.938.773.93.773 2.742z\" /></g><g transform=\"translate(0, 335) scale(0.75, 0.75)\" fill=\"#e5e5e5\" stroke=\"#e5e5e5\"><path d=\"M6.754 26.996h2.578v-8.898l-2.805.562v-1.437l2.79-.563h1.578v10.336h2.578v1.328h-6.72z\" /></g><g transform=\"translate(375, 335) scale(0.75, 0.75)\" fill=\"#e5e5e5\" stroke=\"#e5e5e5\"><path d=\"M6.754 26.996h2.578v-8.898l-2.805.562v-1.437l2.79-.563h1.578v10.336h2.578v1.328h-6.72z\" /></g><g transform=\"translate(0, 290) scale(0.75, 0.75)\" fill=\"#e5e5e5\" stroke=\"#e5e5e5\"><path d=\"M8.195 26.996h5.508v1.328H6.297v-1.328q.898-.93 2.445-2.492 1.555-1.57 1.953-2.024.758-.851 1.055-1.437.305-.594.305-1.164 0-.93-.657-1.516-.648-.586-1.695-.586-.742 0-1.57.258-.82.258-1.758.781v-1.593q.953-.383 1.781-.578.828-.196 1.516-.196 1.812 0 2.89.906 1.079.907 1.079 2.422 0 .72-.274 1.368-.265.64-.976 1.515-.196.227-1.243 1.313-1.046 1.078-2.953 3.023z\" /></g><g transform=\"translate(375, 290) scale(0.75, 0.75)\" fill=\"#e5e5e5\" stroke=\"#e5e5e5\"><path d=\"M8.195 26.996h5.508v1.328H6.297v-1.328q.898-.93 2.445-2.492 1.555-1.57 1.953-2.024.758-.851 1.055-1.437.305-.594.305-1.164 0-.93-.657-1.516-.648-.586-1.695-.586-.742 0-1.57.258-.82.258-1.758.781v-1.593q.953-.383 1.781-.578.828-.196 1.516-.196 1.812 0 2.89.906 1.079.907 1.079 2.422 0 .72-.274 1.368-.265.64-.976 1.515-.196.227-1.243 1.313-1.046 1.078-2.953 3.023z\" /></g><g transform=\"translate(0, 245) scale(0.75, 0.75)\" fill=\"#e5e5e5\" stroke=\"#e5e5e5\"><path d=\"M11.434 22.035q1.132.242 1.765 1.008.64.766.64 1.89 0 1.727-1.187 2.672-1.187.946-3.375.946-.734 0-1.515-.149-.774-.14-1.602-.43V26.45q.656.383 1.438.578.78.196 1.632.196 1.485 0 2.258-.586.782-.586.782-1.703 0-1.032-.727-1.61-.719-.586-2.008-.586h-1.36v-1.297h1.423q1.164 0 1.78-.46.618-.47.618-1.344 0-.899-.64-1.375-.633-.485-1.82-.485-.65 0-1.391.141-.743.14-1.633.437V16.95q.898-.25 1.68-.375.788-.125 1.484-.125 1.797 0 2.844.82 1.046.813 1.046 2.204 0 .968-.554 1.64-.555.664-1.578.922z\" /></g><g transform=\"translate(375, 245) scale(0.75, 0.75)\" fill=\"#e5e5e5\" stroke=\"#e5e5e5\"><path d=\"M11.434 22.035q1.132.242 1.765 1.008.64.766.64 1.89 0 1.727-1.187 2.672-1.187.946-3.375.946-.734 0-1.515-.149-.774-.14-1.602-.43V26.45q.656.383 1.438.578.78.196 1.632.196 1.485 0 2.258-.586.782-.586.782-1.703 0-1.032-.727-1.61-.719-.586-2.008-.586h-1.36v-1.297h1.423q1.164 0 1.78-.46.618-.47.618-1.344 0-.899-.64-1.375-.633-.485-1.82-.485-.65 0-1.391.141-.743.14-1.633.437V16.95q.898-.25 1.68-.375.788-.125 1.484-.125 1.797 0 2.844.82 1.046.813 1.046 2.204 0 .968-.554 1.64-.555.664-1.578.922z\" /></g><g transform=\"translate(0, 200) scale(0.75, 0.75)\" fill=\"#e5e5e5\" stroke=\"#e5e5e5\"><path d=\"M11.016 18.035L7.03 24.262h3.985zm-.414-1.375h1.984v7.602h1.664v1.312h-1.664v2.75h-1.57v-2.75H5.75v-1.523z\" /></g><g transform=\"translate(375, 200) scale(0.75, 0.75)\" fill=\"#e5e5e5\" stroke=\"#e5e5e5\"><path d=\"M11.016 18.035L7.03 24.262h3.985zm-.414-1.375h1.984v7.602h1.664v1.312h-1.664v2.75h-1.57v-2.75H5.75v-1.523z\" /></g><g transform=\"translate(0, 155) scale(0.75, 0.75)\" fill=\"#e5e5e5\" stroke=\"#e5e5e5\"><path d=\"M6.719 16.66h6.195v1.328h-4.75v2.86q.344-.118.688-.172.343-.063.687-.063 1.953 0 3.094 1.07 1.14 1.07 1.14 2.899 0 1.883-1.171 2.93-1.172 1.039-3.305 1.039-.735 0-1.5-.125-.758-.125-1.57-.375v-1.586q.703.383 1.453.57.75.188 1.586.188 1.351 0 2.14-.711.79-.711.79-1.93 0-1.219-.79-1.93-.789-.71-2.14-.71-.633 0-1.266.14-.625.14-1.281.438z\" /></g><g transform=\"translate(375, 155) scale(0.75, 0.75)\" fill=\"#e5e5e5\" stroke=\"#e5e5e5\"><path d=\"M6.719 16.66h6.195v1.328h-4.75v2.86q.344-.118.688-.172.343-.063.687-.063 1.953 0 3.094 1.07 1.14 1.07 1.14 2.899 0 1.883-1.171 2.93-1.172 1.039-3.305 1.039-.735 0-1.5-.125-.758-.125-1.57-.375v-1.586q.703.383 1.453.57.75.188 1.586.188 1.351 0 2.14-.711.79-.711.79-1.93 0-1.219-.79-1.93-.789-.71-2.14-.71-.633 0-1.266.14-.625.14-1.281.438z\" /></g><g transform=\"translate(0, 110) scale(0.75, 0.75)\" fill=\"#e5e5e5\" stroke=\"#e5e5e5\"><path d=\"M10.137 21.863q-1.063 0-1.688.727-.617.726-.617 1.992 0 1.258.617 1.992.625.727 1.688.727 1.062 0 1.68-.727.624-.734.624-1.992 0-1.266-.625-1.992-.617-.727-1.68-.727zm3.133-4.945v1.437q-.594-.28-1.204-.43-.601-.148-1.195-.148-1.562 0-2.39 1.055-.82 1.055-.938 3.188.46-.68 1.156-1.04.696-.367 1.531-.367 1.758 0 2.774 1.07 1.023 1.063 1.023 2.899 0 1.797-1.062 2.883-1.063 1.086-2.828 1.086-2.024 0-3.094-1.547-1.07-1.555-1.07-4.5 0-2.766 1.312-4.406 1.313-1.649 3.524-1.649.593 0 1.195.117.61.118 1.266.352z\" /></g><g transform=\"translate(375, 110) scale(0.75, 0.75)\" fill=\"#e5e5e5\" stroke=\"#e5e5e5\"><path d=\"M10.137 21.863q-1.063 0-1.688.727-.617.726-.617 1.992 0 1.258.617 1.992.625.727 1.688.727 1.062 0 1.68-.727.624-.734.624-1.992 0-1.266-.625-1.992-.617-.727-1.68-.727zm3.133-4.945v1.437q-.594-.28-1.204-.43-.601-.148-1.195-.148-1.562 0-2.39 1.055-.82 1.055-.938 3.188.46-.68 1.156-1.04.696-.367 1.531-.367 1.758 0 2.774 1.07 1.023 1.063 1.023 2.899 0 1.797-1.062 2.883-1.063 1.086-2.828 1.086-2.024 0-3.094-1.547-1.07-1.555-1.07-4.5 0-2.766 1.312-4.406 1.313-1.649 3.524-1.649.593 0 1.195.117.61.118 1.266.352z\" /></g><g transform=\"translate(0, 65) scale(0.75, 0.75)\" fill=\"#e5e5e5\" stroke=\"#e5e5e5\"><path d=\"M6.25 16.66h7.5v.672L9.516 28.324H7.867l3.985-10.336H6.25z\" /></g><g transform=\"translate(375, 65) scale(0.75, 0.75)\" fill=\"#e5e5e5\" stroke=\"#e5e5e5\"><path d=\"M6.25 16.66h7.5v.672L9.516 28.324H7.867l3.985-10.336H6.25z\" /></g><g transform=\"translate(0, 20) scale(0.75, 0.75)\" fill=\"#e5e5e5\" stroke=\"#e5e5e5\"><path d=\"M10 22.785q-1.125 0-1.773.602-.641.601-.641 1.656t.64 1.656q.649.602 1.774.602t1.773-.602q.649-.61.649-1.656 0-1.055-.649-1.656-.64-.602-1.773-.602zm-1.578-.672q-1.016-.25-1.586-.945-.563-.695-.563-1.695 0-1.399.993-2.211 1-.813 2.734-.813 1.742 0 2.734.813.993.812.993 2.21 0 1-.57 1.696-.563.695-1.571.945 1.14.266 1.773 1.04.641.773.641 1.89 0 1.695-1.04 2.602-1.03.906-2.96.906t-2.969-.906Q6 26.738 6 25.043q0-1.117.64-1.89.641-.774 1.782-1.04zm-.578-2.492q0 .906.562 1.414.57.508 1.594.508 1.016 0 1.586-.508.578-.508.578-1.414 0-.906-.578-1.414-.57-.508-1.586-.508-1.023 0-1.594.508-.562.508-.562 1.414z\" /></g><g transform=\"translate(375, 20) scale(0.75, 0.75)\" fill=\"#e5e5e5\" stroke=\"#e5e5e5\"><path d=\"M10 22.785q-1.125 0-1.773.602-.641.601-.641 1.656t.64 1.656q.649.602 1.774.602t1.773-.602q.649-.61.649-1.656 0-1.055-.649-1.656-.64-.602-1.773-.602zm-1.578-.672q-1.016-.25-1.586-.945-.563-.695-.563-1.695 0-1.399.993-2.211 1-.813 2.734-.813 1.742 0 2.734.813.993.812.993 2.21 0 1-.57 1.696-.563.695-1.571.945 1.14.266 1.773 1.04.641.773.641 1.89 0 1.695-1.04 2.602-1.03.906-2.96.906t-2.969-.906Q6 26.738 6 25.043q0-1.117.64-1.89.641-.774 1.782-1.04zm-.578-2.492q0 .906.562 1.414.57.508 1.594.508 1.016 0 1.586-.508.578-.508.578-1.414 0-.906-.578-1.414-.57-.508-1.586-.508-1.023 0-1.594.508-.562.508-.562 1.414z\" /></g><rect x=\"15\" y=\"330\" width=\"45\" height=\"45\" class=\"square dark a1\" stroke=\"none\" fill=\"#d18b47\" /><rect x=\"60\" y=\"330\" width=\"45\" height=\"45\" class=\"square light b1\" stroke=\"none\" fill=\"#ffce9e\" /><rect x=\"105\" y=\"330\" width=\"45\" height=\"45\" class=\"square dark c1\" stroke=\"none\" fill=\"#d18b47\" /><rect x=\"150\" y=\"330\" width=\"45\" height=\"45\" class=\"square light d1\" stroke=\"none\" fill=\"#ffce9e\" /><rect x=\"195\" y=\"330\" width=\"45\" height=\"45\" class=\"square dark e1\" stroke=\"none\" fill=\"#d18b47\" /><rect x=\"240\" y=\"330\" width=\"45\" height=\"45\" class=\"square light f1\" stroke=\"none\" fill=\"#ffce9e\" /><rect x=\"285\" y=\"330\" width=\"45\" height=\"45\" class=\"square dark g1\" stroke=\"none\" fill=\"#d18b47\" /><rect x=\"330\" y=\"330\" width=\"45\" height=\"45\" class=\"square light h1\" stroke=\"none\" fill=\"#ffce9e\" /><rect x=\"15\" y=\"285\" width=\"45\" height=\"45\" class=\"square light a2\" stroke=\"none\" fill=\"#ffce9e\" /><rect x=\"60\" y=\"285\" width=\"45\" height=\"45\" class=\"square dark b2\" stroke=\"none\" fill=\"#d18b47\" /><rect x=\"105\" y=\"285\" width=\"45\" height=\"45\" class=\"square light c2\" stroke=\"none\" fill=\"#ffce9e\" /><rect x=\"150\" y=\"285\" width=\"45\" height=\"45\" class=\"square dark d2\" stroke=\"none\" fill=\"#d18b47\" /><rect x=\"195\" y=\"285\" width=\"45\" height=\"45\" class=\"square light e2\" stroke=\"none\" fill=\"#ffce9e\" /><rect x=\"240\" y=\"285\" width=\"45\" height=\"45\" class=\"square dark f2\" stroke=\"none\" fill=\"#d18b47\" /><rect x=\"285\" y=\"285\" width=\"45\" height=\"45\" class=\"square light g2\" stroke=\"none\" fill=\"#ffce9e\" /><rect x=\"330\" y=\"285\" width=\"45\" height=\"45\" class=\"square dark h2\" stroke=\"none\" fill=\"#d18b47\" /><rect x=\"15\" y=\"240\" width=\"45\" height=\"45\" class=\"square dark a3\" stroke=\"none\" fill=\"#d18b47\" /><rect x=\"60\" y=\"240\" width=\"45\" height=\"45\" class=\"square light lastmove b3\" stroke=\"none\" fill=\"#cdd16a\" /><rect x=\"105\" y=\"240\" width=\"45\" height=\"45\" class=\"square dark c3\" stroke=\"none\" fill=\"#d18b47\" /><rect x=\"150\" y=\"240\" width=\"45\" height=\"45\" class=\"square light d3\" stroke=\"none\" fill=\"#ffce9e\" /><rect x=\"195\" y=\"240\" width=\"45\" height=\"45\" class=\"square dark e3\" stroke=\"none\" fill=\"#d18b47\" /><rect x=\"240\" y=\"240\" width=\"45\" height=\"45\" class=\"square light f3\" stroke=\"none\" fill=\"#ffce9e\" /><rect x=\"285\" y=\"240\" width=\"45\" height=\"45\" class=\"square dark g3\" stroke=\"none\" fill=\"#d18b47\" /><rect x=\"330\" y=\"240\" width=\"45\" height=\"45\" class=\"square light h3\" stroke=\"none\" fill=\"#ffce9e\" /><rect x=\"15\" y=\"195\" width=\"45\" height=\"45\" class=\"square light lastmove a4\" stroke=\"none\" fill=\"#cdd16a\" /><rect x=\"60\" y=\"195\" width=\"45\" height=\"45\" class=\"square dark b4\" stroke=\"none\" fill=\"#d18b47\" /><rect x=\"105\" y=\"195\" width=\"45\" height=\"45\" class=\"square light c4\" stroke=\"none\" fill=\"#ffce9e\" /><rect x=\"150\" y=\"195\" width=\"45\" height=\"45\" class=\"square dark d4\" stroke=\"none\" fill=\"#d18b47\" /><rect x=\"195\" y=\"195\" width=\"45\" height=\"45\" class=\"square light e4\" stroke=\"none\" fill=\"#ffce9e\" /><rect x=\"240\" y=\"195\" width=\"45\" height=\"45\" class=\"square dark f4\" stroke=\"none\" fill=\"#d18b47\" /><rect x=\"285\" y=\"195\" width=\"45\" height=\"45\" class=\"square light g4\" stroke=\"none\" fill=\"#ffce9e\" /><rect x=\"330\" y=\"195\" width=\"45\" height=\"45\" class=\"square dark h4\" stroke=\"none\" fill=\"#d18b47\" /><rect x=\"15\" y=\"150\" width=\"45\" height=\"45\" class=\"square dark a5\" stroke=\"none\" fill=\"#d18b47\" /><rect x=\"60\" y=\"150\" width=\"45\" height=\"45\" class=\"square light b5\" stroke=\"none\" fill=\"#ffce9e\" /><rect x=\"105\" y=\"150\" width=\"45\" height=\"45\" class=\"square dark c5\" stroke=\"none\" fill=\"#d18b47\" /><rect x=\"150\" y=\"150\" width=\"45\" height=\"45\" class=\"square light d5\" stroke=\"none\" fill=\"#ffce9e\" /><rect x=\"195\" y=\"150\" width=\"45\" height=\"45\" class=\"square dark e5\" stroke=\"none\" fill=\"#d18b47\" /><rect x=\"240\" y=\"150\" width=\"45\" height=\"45\" class=\"square light f5\" stroke=\"none\" fill=\"#ffce9e\" /><rect x=\"285\" y=\"150\" width=\"45\" height=\"45\" class=\"square dark g5\" stroke=\"none\" fill=\"#d18b47\" /><rect x=\"330\" y=\"150\" width=\"45\" height=\"45\" class=\"square light h5\" stroke=\"none\" fill=\"#ffce9e\" /><rect x=\"15\" y=\"105\" width=\"45\" height=\"45\" class=\"square light a6\" stroke=\"none\" fill=\"#ffce9e\" /><rect x=\"60\" y=\"105\" width=\"45\" height=\"45\" class=\"square dark b6\" stroke=\"none\" fill=\"#d18b47\" /><rect x=\"105\" y=\"105\" width=\"45\" height=\"45\" class=\"square light c6\" stroke=\"none\" fill=\"#ffce9e\" /><rect x=\"150\" y=\"105\" width=\"45\" height=\"45\" class=\"square dark d6\" stroke=\"none\" fill=\"#d18b47\" /><rect x=\"195\" y=\"105\" width=\"45\" height=\"45\" class=\"square light e6\" stroke=\"none\" fill=\"#ffce9e\" /><rect x=\"240\" y=\"105\" width=\"45\" height=\"45\" class=\"square dark f6\" stroke=\"none\" fill=\"#d18b47\" /><rect x=\"285\" y=\"105\" width=\"45\" height=\"45\" class=\"square light g6\" stroke=\"none\" fill=\"#ffce9e\" /><rect x=\"330\" y=\"105\" width=\"45\" height=\"45\" class=\"square dark h6\" stroke=\"none\" fill=\"#d18b47\" /><rect x=\"15\" y=\"60\" width=\"45\" height=\"45\" class=\"square dark a7\" stroke=\"none\" fill=\"#d18b47\" /><rect x=\"60\" y=\"60\" width=\"45\" height=\"45\" class=\"square light b7\" stroke=\"none\" fill=\"#ffce9e\" /><rect x=\"105\" y=\"60\" width=\"45\" height=\"45\" class=\"square dark c7\" stroke=\"none\" fill=\"#d18b47\" /><rect x=\"150\" y=\"60\" width=\"45\" height=\"45\" class=\"square light d7\" stroke=\"none\" fill=\"#ffce9e\" /><rect x=\"195\" y=\"60\" width=\"45\" height=\"45\" class=\"square dark e7\" stroke=\"none\" fill=\"#d18b47\" /><rect x=\"240\" y=\"60\" width=\"45\" height=\"45\" class=\"square light f7\" stroke=\"none\" fill=\"#ffce9e\" /><rect x=\"285\" y=\"60\" width=\"45\" height=\"45\" class=\"square dark g7\" stroke=\"none\" fill=\"#d18b47\" /><rect x=\"330\" y=\"60\" width=\"45\" height=\"45\" class=\"square light h7\" stroke=\"none\" fill=\"#ffce9e\" /><rect x=\"15\" y=\"15\" width=\"45\" height=\"45\" class=\"square light a8\" stroke=\"none\" fill=\"#ffce9e\" /><rect x=\"60\" y=\"15\" width=\"45\" height=\"45\" class=\"square dark b8\" stroke=\"none\" fill=\"#d18b47\" /><rect x=\"105\" y=\"15\" width=\"45\" height=\"45\" class=\"square light c8\" stroke=\"none\" fill=\"#ffce9e\" /><rect x=\"150\" y=\"15\" width=\"45\" height=\"45\" class=\"square dark d8\" stroke=\"none\" fill=\"#d18b47\" /><rect x=\"195\" y=\"15\" width=\"45\" height=\"45\" class=\"square light e8\" stroke=\"none\" fill=\"#ffce9e\" /><rect x=\"240\" y=\"15\" width=\"45\" height=\"45\" class=\"square dark f8\" stroke=\"none\" fill=\"#d18b47\" /><rect x=\"285\" y=\"15\" width=\"45\" height=\"45\" class=\"square light g8\" stroke=\"none\" fill=\"#ffce9e\" /><rect x=\"330\" y=\"15\" width=\"45\" height=\"45\" class=\"square dark h8\" stroke=\"none\" fill=\"#d18b47\" /><use href=\"#white-rook\" xlink:href=\"#white-rook\" transform=\"translate(15, 330)\" /><use href=\"#white-queen\" xlink:href=\"#white-queen\" transform=\"translate(150, 330)\" /><use href=\"#white-rook\" xlink:href=\"#white-rook\" transform=\"translate(195, 330)\" /><use href=\"#white-king\" xlink:href=\"#white-king\" transform=\"translate(285, 330)\" /><use href=\"#white-bishop\" xlink:href=\"#white-bishop\" transform=\"translate(60, 285)\" /><use href=\"#white-knight\" xlink:href=\"#white-knight\" transform=\"translate(105, 285)\" /><use href=\"#white-knight\" xlink:href=\"#white-knight\" transform=\"translate(150, 285)\" /><use href=\"#white-pawn\" xlink:href=\"#white-pawn\" transform=\"translate(240, 285)\" /><use href=\"#white-pawn\" xlink:href=\"#white-pawn\" transform=\"translate(285, 285)\" /><use href=\"#white-bishop\" xlink:href=\"#white-bishop\" transform=\"translate(60, 240)\" /><use href=\"#white-pawn\" xlink:href=\"#white-pawn\" transform=\"translate(330, 240)\" /><use href=\"#white-pawn\" xlink:href=\"#white-pawn\" transform=\"translate(60, 195)\" /><use href=\"#white-pawn\" xlink:href=\"#white-pawn\" transform=\"translate(195, 195)\" /><use href=\"#black-pawn\" xlink:href=\"#black-pawn\" transform=\"translate(105, 105)\" /><use href=\"#black-pawn\" xlink:href=\"#black-pawn\" transform=\"translate(150, 105)\" /><use href=\"#black-knight\" xlink:href=\"#black-knight\" transform=\"translate(240, 105)\" /><use href=\"#black-pawn\" xlink:href=\"#black-pawn\" transform=\"translate(285, 105)\" /><use href=\"#black-pawn\" xlink:href=\"#black-pawn\" transform=\"translate(330, 105)\" /><use href=\"#black-bishop\" xlink:href=\"#black-bishop\" transform=\"translate(60, 60)\" /><use href=\"#black-queen\" xlink:href=\"#black-queen\" transform=\"translate(105, 60)\" /><use href=\"#black-knight\" xlink:href=\"#black-knight\" transform=\"translate(150, 60)\" /><use href=\"#black-pawn\" xlink:href=\"#black-pawn\" transform=\"translate(240, 60)\" /><use href=\"#black-rook\" xlink:href=\"#black-rook\" transform=\"translate(15, 15)\" /><use href=\"#black-rook\" xlink:href=\"#black-rook\" transform=\"translate(195, 15)\" /><use href=\"#black-bishop\" xlink:href=\"#black-bishop\" transform=\"translate(240, 15)\" /><use href=\"#black-king\" xlink:href=\"#black-king\" transform=\"translate(285, 15)\" /></svg>"
     },
     "metadata": {},
     "output_type": "display_data"
    },
    {
     "name": "stdout",
     "text": "Black has played: a8a1\nWhite has played: b2a1\nBlack has played: c7b6\nWhite has played: d2f3\nBlack has played: f6e4\nWhite has played: a1d4\n",
     "output_type": "stream"
    },
    {
     "data": {
      "text/plain": "Board('4rbk1/1b1n1p2/1qpp2pp/8/1P1Bn3/1B3N1P/2N2PP1/3QR1K1 b - - 1 25')",
      "image/svg+xml": "<svg xmlns=\"http://www.w3.org/2000/svg\" xmlns:xlink=\"http://www.w3.org/1999/xlink\" version=\"1.2\" baseProfile=\"tiny\" viewBox=\"0 0 390 390\" width=\"390\" height=\"390\"><defs><g id=\"white-pawn\" class=\"white pawn\"><path d=\"M22.5 9c-2.21 0-4 1.79-4 4 0 .89.29 1.71.78 2.38C17.33 16.5 16 18.59 16 21c0 2.03.94 3.84 2.41 5.03-3 1.06-7.41 5.55-7.41 13.47h23c0-7.92-4.41-12.41-7.41-13.47 1.47-1.19 2.41-3 2.41-5.03 0-2.41-1.33-4.5-3.28-5.62.49-.67.78-1.49.78-2.38 0-2.21-1.79-4-4-4z\" fill=\"#fff\" stroke=\"#000\" stroke-width=\"1.5\" stroke-linecap=\"round\" /></g><g id=\"white-knight\" class=\"white knight\" fill=\"none\" fill-rule=\"evenodd\" stroke=\"#000\" stroke-width=\"1.5\" stroke-linecap=\"round\" stroke-linejoin=\"round\"><path d=\"M 22,10 C 32.5,11 38.5,18 38,39 L 15,39 C 15,30 25,32.5 23,18\" style=\"fill:#ffffff; stroke:#000000;\" /><path d=\"M 24,18 C 24.38,20.91 18.45,25.37 16,27 C 13,29 13.18,31.34 11,31 C 9.958,30.06 12.41,27.96 11,28 C 10,28 11.19,29.23 10,30 C 9,30 5.997,31 6,26 C 6,24 12,14 12,14 C 12,14 13.89,12.1 14,10.5 C 13.27,9.506 13.5,8.5 13.5,7.5 C 14.5,6.5 16.5,10 16.5,10 L 18.5,10 C 18.5,10 19.28,8.008 21,7 C 22,7 22,10 22,10\" style=\"fill:#ffffff; stroke:#000000;\" /><path d=\"M 9.5 25.5 A 0.5 0.5 0 1 1 8.5,25.5 A 0.5 0.5 0 1 1 9.5 25.5 z\" style=\"fill:#000000; stroke:#000000;\" /><path d=\"M 15 15.5 A 0.5 1.5 0 1 1 14,15.5 A 0.5 1.5 0 1 1 15 15.5 z\" transform=\"matrix(0.866,0.5,-0.5,0.866,9.693,-5.173)\" style=\"fill:#000000; stroke:#000000;\" /></g><g id=\"white-bishop\" class=\"white bishop\" fill=\"none\" fill-rule=\"evenodd\" stroke=\"#000\" stroke-width=\"1.5\" stroke-linecap=\"round\" stroke-linejoin=\"round\"><g fill=\"#fff\" stroke-linecap=\"butt\"><path d=\"M9 36c3.39-.97 10.11.43 13.5-2 3.39 2.43 10.11 1.03 13.5 2 0 0 1.65.54 3 2-.68.97-1.65.99-3 .5-3.39-.97-10.11.46-13.5-1-3.39 1.46-10.11.03-13.5 1-1.354.49-2.323.47-3-.5 1.354-1.94 3-2 3-2zM15 32c2.5 2.5 12.5 2.5 15 0 .5-1.5 0-2 0-2 0-2.5-2.5-4-2.5-4 5.5-1.5 6-11.5-5-15.5-11 4-10.5 14-5 15.5 0 0-2.5 1.5-2.5 4 0 0-.5.5 0 2zM25 8a2.5 2.5 0 1 1-5 0 2.5 2.5 0 1 1 5 0z\" /></g><path d=\"M17.5 26h10M15 30h15m-7.5-14.5v5M20 18h5\" stroke-linejoin=\"miter\" /></g><g id=\"white-rook\" class=\"white rook\" fill=\"#fff\" fill-rule=\"evenodd\" stroke=\"#000\" stroke-width=\"1.5\" stroke-linecap=\"round\" stroke-linejoin=\"round\"><path d=\"M9 39h27v-3H9v3zM12 36v-4h21v4H12zM11 14V9h4v2h5V9h5v2h5V9h4v5\" stroke-linecap=\"butt\" /><path d=\"M34 14l-3 3H14l-3-3\" /><path d=\"M31 17v12.5H14V17\" stroke-linecap=\"butt\" stroke-linejoin=\"miter\" /><path d=\"M31 29.5l1.5 2.5h-20l1.5-2.5\" /><path d=\"M11 14h23\" fill=\"none\" stroke-linejoin=\"miter\" /></g><g id=\"white-queen\" class=\"white queen\" fill=\"#fff\" fill-rule=\"evenodd\" stroke=\"#000\" stroke-width=\"1.5\" stroke-linecap=\"round\" stroke-linejoin=\"round\"><path d=\"M8 12a2 2 0 1 1-4 0 2 2 0 1 1 4 0zM24.5 7.5a2 2 0 1 1-4 0 2 2 0 1 1 4 0zM41 12a2 2 0 1 1-4 0 2 2 0 1 1 4 0zM16 8.5a2 2 0 1 1-4 0 2 2 0 1 1 4 0zM33 9a2 2 0 1 1-4 0 2 2 0 1 1 4 0z\" /><path d=\"M9 26c8.5-1.5 21-1.5 27 0l2-12-7 11V11l-5.5 13.5-3-15-3 15-5.5-14V25L7 14l2 12zM9 26c0 2 1.5 2 2.5 4 1 1.5 1 1 .5 3.5-1.5 1-1.5 2.5-1.5 2.5-1.5 1.5.5 2.5.5 2.5 6.5 1 16.5 1 23 0 0 0 1.5-1 0-2.5 0 0 .5-1.5-1-2.5-.5-2.5-.5-2 .5-3.5 1-2 2.5-2 2.5-4-8.5-1.5-18.5-1.5-27 0z\" stroke-linecap=\"butt\" /><path d=\"M11.5 30c3.5-1 18.5-1 22 0M12 33.5c6-1 15-1 21 0\" fill=\"none\" /></g><g id=\"white-king\" class=\"white king\" fill=\"none\" fill-rule=\"evenodd\" stroke=\"#000\" stroke-width=\"1.5\" stroke-linecap=\"round\" stroke-linejoin=\"round\"><path d=\"M22.5 11.63V6M20 8h5\" stroke-linejoin=\"miter\" /><path d=\"M22.5 25s4.5-7.5 3-10.5c0 0-1-2.5-3-2.5s-3 2.5-3 2.5c-1.5 3 3 10.5 3 10.5\" fill=\"#fff\" stroke-linecap=\"butt\" stroke-linejoin=\"miter\" /><path d=\"M11.5 37c5.5 3.5 15.5 3.5 21 0v-7s9-4.5 6-10.5c-4-6.5-13.5-3.5-16 4V27v-3.5c-3.5-7.5-13-10.5-16-4-3 6 5 10 5 10V37z\" fill=\"#fff\" /><path d=\"M11.5 30c5.5-3 15.5-3 21 0m-21 3.5c5.5-3 15.5-3 21 0m-21 3.5c5.5-3 15.5-3 21 0\" /></g><g id=\"black-pawn\" class=\"black pawn\"><path d=\"M22.5 9c-2.21 0-4 1.79-4 4 0 .89.29 1.71.78 2.38C17.33 16.5 16 18.59 16 21c0 2.03.94 3.84 2.41 5.03-3 1.06-7.41 5.55-7.41 13.47h23c0-7.92-4.41-12.41-7.41-13.47 1.47-1.19 2.41-3 2.41-5.03 0-2.41-1.33-4.5-3.28-5.62.49-.67.78-1.49.78-2.38 0-2.21-1.79-4-4-4z\" stroke=\"#000\" stroke-width=\"1.5\" stroke-linecap=\"round\" /></g><g id=\"black-knight\" class=\"black knight\" fill=\"none\" fill-rule=\"evenodd\" stroke=\"#000\" stroke-width=\"1.5\" stroke-linecap=\"round\" stroke-linejoin=\"round\"><path d=\"M 22,10 C 32.5,11 38.5,18 38,39 L 15,39 C 15,30 25,32.5 23,18\" style=\"fill:#000000; stroke:#000000;\" /><path d=\"M 24,18 C 24.38,20.91 18.45,25.37 16,27 C 13,29 13.18,31.34 11,31 C 9.958,30.06 12.41,27.96 11,28 C 10,28 11.19,29.23 10,30 C 9,30 5.997,31 6,26 C 6,24 12,14 12,14 C 12,14 13.89,12.1 14,10.5 C 13.27,9.506 13.5,8.5 13.5,7.5 C 14.5,6.5 16.5,10 16.5,10 L 18.5,10 C 18.5,10 19.28,8.008 21,7 C 22,7 22,10 22,10\" style=\"fill:#000000; stroke:#000000;\" /><path d=\"M 9.5 25.5 A 0.5 0.5 0 1 1 8.5,25.5 A 0.5 0.5 0 1 1 9.5 25.5 z\" style=\"fill:#ececec; stroke:#ececec;\" /><path d=\"M 15 15.5 A 0.5 1.5 0 1 1 14,15.5 A 0.5 1.5 0 1 1 15 15.5 z\" transform=\"matrix(0.866,0.5,-0.5,0.866,9.693,-5.173)\" style=\"fill:#ececec; stroke:#ececec;\" /><path d=\"M 24.55,10.4 L 24.1,11.85 L 24.6,12 C 27.75,13 30.25,14.49 32.5,18.75 C 34.75,23.01 35.75,29.06 35.25,39 L 35.2,39.5 L 37.45,39.5 L 37.5,39 C 38,28.94 36.62,22.15 34.25,17.66 C 31.88,13.17 28.46,11.02 25.06,10.5 L 24.55,10.4 z \" style=\"fill:#ececec; stroke:none;\" /></g><g id=\"black-bishop\" class=\"black bishop\" fill=\"none\" fill-rule=\"evenodd\" stroke=\"#000\" stroke-width=\"1.5\" stroke-linecap=\"round\" stroke-linejoin=\"round\"><path d=\"M9 36c3.39-.97 10.11.43 13.5-2 3.39 2.43 10.11 1.03 13.5 2 0 0 1.65.54 3 2-.68.97-1.65.99-3 .5-3.39-.97-10.11.46-13.5-1-3.39 1.46-10.11.03-13.5 1-1.354.49-2.323.47-3-.5 1.354-1.94 3-2 3-2zm6-4c2.5 2.5 12.5 2.5 15 0 .5-1.5 0-2 0-2 0-2.5-2.5-4-2.5-4 5.5-1.5 6-11.5-5-15.5-11 4-10.5 14-5 15.5 0 0-2.5 1.5-2.5 4 0 0-.5.5 0 2zM25 8a2.5 2.5 0 1 1-5 0 2.5 2.5 0 1 1 5 0z\" fill=\"#000\" stroke-linecap=\"butt\" /><path d=\"M17.5 26h10M15 30h15m-7.5-14.5v5M20 18h5\" stroke=\"#fff\" stroke-linejoin=\"miter\" /></g><g id=\"black-rook\" class=\"black rook\" fill=\"#000\" fill-rule=\"evenodd\" stroke=\"#000\" stroke-width=\"1.5\" stroke-linecap=\"round\" stroke-linejoin=\"round\"><path d=\"M9 39h27v-3H9v3zM12.5 32l1.5-2.5h17l1.5 2.5h-20zM12 36v-4h21v4H12z\" stroke-linecap=\"butt\" /><path d=\"M14 29.5v-13h17v13H14z\" stroke-linecap=\"butt\" stroke-linejoin=\"miter\" /><path d=\"M14 16.5L11 14h23l-3 2.5H14zM11 14V9h4v2h5V9h5v2h5V9h4v5H11z\" stroke-linecap=\"butt\" /><path d=\"M12 35.5h21M13 31.5h19M14 29.5h17M14 16.5h17M11 14h23\" fill=\"none\" stroke=\"#fff\" stroke-width=\"1\" stroke-linejoin=\"miter\" /></g><g id=\"black-queen\" class=\"black queen\" fill=\"#000\" fill-rule=\"evenodd\" stroke=\"#000\" stroke-width=\"1.5\" stroke-linecap=\"round\" stroke-linejoin=\"round\"><g fill=\"#000\" stroke=\"none\"><circle cx=\"6\" cy=\"12\" r=\"2.75\" /><circle cx=\"14\" cy=\"9\" r=\"2.75\" /><circle cx=\"22.5\" cy=\"8\" r=\"2.75\" /><circle cx=\"31\" cy=\"9\" r=\"2.75\" /><circle cx=\"39\" cy=\"12\" r=\"2.75\" /></g><path d=\"M9 26c8.5-1.5 21-1.5 27 0l2.5-12.5L31 25l-.3-14.1-5.2 13.6-3-14.5-3 14.5-5.2-13.6L14 25 6.5 13.5 9 26zM9 26c0 2 1.5 2 2.5 4 1 1.5 1 1 .5 3.5-1.5 1-1.5 2.5-1.5 2.5-1.5 1.5.5 2.5.5 2.5 6.5 1 16.5 1 23 0 0 0 1.5-1 0-2.5 0 0 .5-1.5-1-2.5-.5-2.5-.5-2 .5-3.5 1-2 2.5-2 2.5-4-8.5-1.5-18.5-1.5-27 0z\" stroke-linecap=\"butt\" /><path d=\"M11 38.5a35 35 1 0 0 23 0\" fill=\"none\" stroke-linecap=\"butt\" /><path d=\"M11 29a35 35 1 0 1 23 0M12.5 31.5h20M11.5 34.5a35 35 1 0 0 22 0M10.5 37.5a35 35 1 0 0 24 0\" fill=\"none\" stroke=\"#fff\" /></g><g id=\"black-king\" class=\"black king\" fill=\"none\" fill-rule=\"evenodd\" stroke=\"#000\" stroke-width=\"1.5\" stroke-linecap=\"round\" stroke-linejoin=\"round\"><path d=\"M22.5 11.63V6\" stroke-linejoin=\"miter\" /><path d=\"M22.5 25s4.5-7.5 3-10.5c0 0-1-2.5-3-2.5s-3 2.5-3 2.5c-1.5 3 3 10.5 3 10.5\" fill=\"#000\" stroke-linecap=\"butt\" stroke-linejoin=\"miter\" /><path d=\"M11.5 37c5.5 3.5 15.5 3.5 21 0v-7s9-4.5 6-10.5c-4-6.5-13.5-3.5-16 4V27v-3.5c-3.5-7.5-13-10.5-16-4-3 6 5 10 5 10V37z\" fill=\"#000\" /><path d=\"M20 8h5\" stroke-linejoin=\"miter\" /><path d=\"M32 29.5s8.5-4 6.03-9.65C34.15 14 25 18 22.5 24.5l.01 2.1-.01-2.1C20 18 9.906 14 6.997 19.85c-2.497 5.65 4.853 9 4.853 9M11.5 30c5.5-3 15.5-3 21 0m-21 3.5c5.5-3 15.5-3 21 0m-21 3.5c5.5-3 15.5-3 21 0\" stroke=\"#fff\" /></g></defs><rect x=\"0\" y=\"0\" width=\"390\" height=\"390\" fill=\"#212121\" /><g transform=\"translate(20, 0) scale(0.75, 0.75)\" fill=\"#e5e5e5\" stroke=\"#e5e5e5\"><path d=\"M23.328 10.016q-1.742 0-2.414.398-.672.398-.672 1.36 0 .765.5 1.218.508.445 1.375.445 1.196 0 1.914-.843.727-.852.727-2.258v-.32zm2.867-.594v4.992h-1.437v-1.328q-.492.797-1.227 1.18-.734.375-1.797.375-1.343 0-2.14-.75-.79-.758-.79-2.024 0-1.476.985-2.226.992-.75 2.953-.75h2.016V8.75q0-.992-.656-1.531-.649-.547-1.829-.547-.75 0-1.46.18-.711.18-1.368.539V6.062q.79-.304 1.532-.453.742-.156 1.445-.156 1.898 0 2.836.984.937.985.937 2.985z\" /></g><g transform=\"translate(20, 375) scale(0.75, 0.75)\" fill=\"#e5e5e5\" stroke=\"#e5e5e5\"><path d=\"M23.328 10.016q-1.742 0-2.414.398-.672.398-.672 1.36 0 .765.5 1.218.508.445 1.375.445 1.196 0 1.914-.843.727-.852.727-2.258v-.32zm2.867-.594v4.992h-1.437v-1.328q-.492.797-1.227 1.18-.734.375-1.797.375-1.343 0-2.14-.75-.79-.758-.79-2.024 0-1.476.985-2.226.992-.75 2.953-.75h2.016V8.75q0-.992-.656-1.531-.649-.547-1.829-.547-.75 0-1.46.18-.711.18-1.368.539V6.062q.79-.304 1.532-.453.742-.156 1.445-.156 1.898 0 2.836.984.937.985.937 2.985z\" /></g><g transform=\"translate(65, 0) scale(0.75, 0.75)\" fill=\"#e5e5e5\" stroke=\"#e5e5e5\"><path d=\"M24.922 10.047q0-1.586-.656-2.485-.649-.906-1.79-.906-1.14 0-1.796.906-.649.899-.649 2.485 0 1.586.649 2.492.656.898 1.797.898 1.14 0 1.789-.898.656-.906.656-2.492zm-4.89-3.055q.452-.781 1.14-1.156.695-.383 1.656-.383 1.594 0 2.586 1.266 1 1.265 1 3.328 0 2.062-1 3.328-.992 1.266-2.586 1.266-.96 0-1.656-.375-.688-.383-1.14-1.164v1.312h-1.446V2.258h1.445z\" /></g><g transform=\"translate(65, 375) scale(0.75, 0.75)\" fill=\"#e5e5e5\" stroke=\"#e5e5e5\"><path d=\"M24.922 10.047q0-1.586-.656-2.485-.649-.906-1.79-.906-1.14 0-1.796.906-.649.899-.649 2.485 0 1.586.649 2.492.656.898 1.797.898 1.14 0 1.789-.898.656-.906.656-2.492zm-4.89-3.055q.452-.781 1.14-1.156.695-.383 1.656-.383 1.594 0 2.586 1.266 1 1.265 1 3.328 0 2.062-1 3.328-.992 1.266-2.586 1.266-.96 0-1.656-.375-.688-.383-1.14-1.164v1.312h-1.446V2.258h1.445z\" /></g><g transform=\"translate(110, 0) scale(0.75, 0.75)\" fill=\"#e5e5e5\" stroke=\"#e5e5e5\"><path d=\"M25.96 6v1.344q-.608-.336-1.226-.5-.609-.172-1.234-.172-1.398 0-2.172.89-.773.883-.773 2.485 0 1.601.773 2.492.774.883 2.172.883.625 0 1.234-.164.618-.172 1.227-.508v1.328q-.602.281-1.25.422-.64.14-1.367.14-1.977 0-3.14-1.242-1.165-1.242-1.165-3.351 0-2.14 1.172-3.367 1.18-1.227 3.227-1.227.664 0 1.296.14.633.134 1.227.407z\" /></g><g transform=\"translate(110, 375) scale(0.75, 0.75)\" fill=\"#e5e5e5\" stroke=\"#e5e5e5\"><path d=\"M25.96 6v1.344q-.608-.336-1.226-.5-.609-.172-1.234-.172-1.398 0-2.172.89-.773.883-.773 2.485 0 1.601.773 2.492.774.883 2.172.883.625 0 1.234-.164.618-.172 1.227-.508v1.328q-.602.281-1.25.422-.64.14-1.367.14-1.977 0-3.14-1.242-1.165-1.242-1.165-3.351 0-2.14 1.172-3.367 1.18-1.227 3.227-1.227.664 0 1.296.14.633.134 1.227.407z\" /></g><g transform=\"translate(155, 0) scale(0.75, 0.75)\" fill=\"#e5e5e5\" stroke=\"#e5e5e5\"><path d=\"M24.973 6.992V2.258h1.437v12.156h-1.437v-1.312q-.453.78-1.149 1.164-.687.375-1.656.375-1.586 0-2.586-1.266-.992-1.266-.992-3.328 0-2.063.992-3.328 1-1.266 2.586-1.266.969 0 1.656.383.696.375 1.149 1.156zm-4.899 3.055q0 1.586.649 2.492.656.898 1.797.898 1.14 0 1.796-.898.657-.906.657-2.492 0-1.586-.657-2.485-.656-.906-1.796-.906-1.141 0-1.797.906-.649.899-.649 2.485z\" /></g><g transform=\"translate(155, 375) scale(0.75, 0.75)\" fill=\"#e5e5e5\" stroke=\"#e5e5e5\"><path d=\"M24.973 6.992V2.258h1.437v12.156h-1.437v-1.312q-.453.78-1.149 1.164-.687.375-1.656.375-1.586 0-2.586-1.266-.992-1.266-.992-3.328 0-2.063.992-3.328 1-1.266 2.586-1.266.969 0 1.656.383.696.375 1.149 1.156zm-4.899 3.055q0 1.586.649 2.492.656.898 1.797.898 1.14 0 1.796-.898.657-.906.657-2.492 0-1.586-.657-2.485-.656-.906-1.796-.906-1.141 0-1.797.906-.649.899-.649 2.485z\" /></g><g transform=\"translate(200, 0) scale(0.75, 0.75)\" fill=\"#e5e5e5\" stroke=\"#e5e5e5\"><path d=\"M26.555 9.68v.703h-6.61q.094 1.484.89 2.265.806.774 2.235.774.828 0 1.602-.203.781-.203 1.547-.61v1.36q-.774.328-1.586.5-.813.172-1.649.172-2.093 0-3.32-1.22-1.219-1.218-1.219-3.296 0-2.148 1.157-3.406 1.164-1.266 3.132-1.266 1.766 0 2.79 1.14 1.03 1.134 1.03 3.087zm-1.438-.422q-.015-1.18-.664-1.883-.64-.703-1.703-.703-1.203 0-1.93.68-.718.68-.828 1.914z\" /></g><g transform=\"translate(200, 375) scale(0.75, 0.75)\" fill=\"#e5e5e5\" stroke=\"#e5e5e5\"><path d=\"M26.555 9.68v.703h-6.61q.094 1.484.89 2.265.806.774 2.235.774.828 0 1.602-.203.781-.203 1.547-.61v1.36q-.774.328-1.586.5-.813.172-1.649.172-2.093 0-3.32-1.22-1.219-1.218-1.219-3.296 0-2.148 1.157-3.406 1.164-1.266 3.132-1.266 1.766 0 2.79 1.14 1.03 1.134 1.03 3.087zm-1.438-.422q-.015-1.18-.664-1.883-.64-.703-1.703-.703-1.203 0-1.93.68-.718.68-.828 1.914z\" /></g><g transform=\"translate(245, 0) scale(0.75, 0.75)\" fill=\"#e5e5e5\" stroke=\"#e5e5e5\"><path d=\"M25.285 2.258v1.195H23.91q-.773 0-1.078.313-.297.312-.297 1.125v.773h2.367v1.117h-2.367v7.633H21.09V6.781h-1.375V5.664h1.375v-.61q0-1.46.68-2.124.68-.672 2.156-.672z\" /></g><g transform=\"translate(245, 375) scale(0.75, 0.75)\" fill=\"#e5e5e5\" stroke=\"#e5e5e5\"><path d=\"M25.285 2.258v1.195H23.91q-.773 0-1.078.313-.297.312-.297 1.125v.773h2.367v1.117h-2.367v7.633H21.09V6.781h-1.375V5.664h1.375v-.61q0-1.46.68-2.124.68-.672 2.156-.672z\" /></g><g transform=\"translate(290, 0) scale(0.75, 0.75)\" fill=\"#e5e5e5\" stroke=\"#e5e5e5\"><path d=\"M24.973 9.937q0-1.562-.649-2.421-.64-.86-1.804-.86-1.157 0-1.805.86-.64.859-.64 2.421 0 1.555.64 2.415.648.859 1.805.859 1.164 0 1.804-.86.649-.859.649-2.414zm1.437 3.391q0 2.234-.992 3.32-.992 1.094-3.04 1.094-.757 0-1.429-.117-.672-.11-1.304-.344v-1.398q.632.344 1.25.508.617.164 1.257.164 1.414 0 2.118-.743.703-.734.703-2.226v-.711q-.446.773-1.141 1.156-.695.383-1.664.383-1.61 0-2.594-1.227-.984-1.226-.984-3.25 0-2.03.984-3.257.985-1.227 2.594-1.227.969 0 1.664.383t1.14 1.156V5.664h1.438z\" /></g><g transform=\"translate(290, 375) scale(0.75, 0.75)\" fill=\"#e5e5e5\" stroke=\"#e5e5e5\"><path d=\"M24.973 9.937q0-1.562-.649-2.421-.64-.86-1.804-.86-1.157 0-1.805.86-.64.859-.64 2.421 0 1.555.64 2.415.648.859 1.805.859 1.164 0 1.804-.86.649-.859.649-2.414zm1.437 3.391q0 2.234-.992 3.32-.992 1.094-3.04 1.094-.757 0-1.429-.117-.672-.11-1.304-.344v-1.398q.632.344 1.25.508.617.164 1.257.164 1.414 0 2.118-.743.703-.734.703-2.226v-.711q-.446.773-1.141 1.156-.695.383-1.664.383-1.61 0-2.594-1.227-.984-1.226-.984-3.25 0-2.03.984-3.257.985-1.227 2.594-1.227.969 0 1.664.383t1.14 1.156V5.664h1.438z\" /></g><g transform=\"translate(335, 0) scale(0.75, 0.75)\" fill=\"#e5e5e5\" stroke=\"#e5e5e5\"><path d=\"M26.164 9.133v5.281h-1.437V9.18q0-1.243-.485-1.86-.484-.617-1.453-.617-1.164 0-1.836.742-.672.742-.672 2.024v4.945h-1.445V2.258h1.445v4.765q.516-.789 1.211-1.18.703-.39 1.617-.39 1.508 0 2.282.938.773.93.773 2.742z\" /></g><g transform=\"translate(335, 375) scale(0.75, 0.75)\" fill=\"#e5e5e5\" stroke=\"#e5e5e5\"><path d=\"M26.164 9.133v5.281h-1.437V9.18q0-1.243-.485-1.86-.484-.617-1.453-.617-1.164 0-1.836.742-.672.742-.672 2.024v4.945h-1.445V2.258h1.445v4.765q.516-.789 1.211-1.18.703-.39 1.617-.39 1.508 0 2.282.938.773.93.773 2.742z\" /></g><g transform=\"translate(0, 335) scale(0.75, 0.75)\" fill=\"#e5e5e5\" stroke=\"#e5e5e5\"><path d=\"M6.754 26.996h2.578v-8.898l-2.805.562v-1.437l2.79-.563h1.578v10.336h2.578v1.328h-6.72z\" /></g><g transform=\"translate(375, 335) scale(0.75, 0.75)\" fill=\"#e5e5e5\" stroke=\"#e5e5e5\"><path d=\"M6.754 26.996h2.578v-8.898l-2.805.562v-1.437l2.79-.563h1.578v10.336h2.578v1.328h-6.72z\" /></g><g transform=\"translate(0, 290) scale(0.75, 0.75)\" fill=\"#e5e5e5\" stroke=\"#e5e5e5\"><path d=\"M8.195 26.996h5.508v1.328H6.297v-1.328q.898-.93 2.445-2.492 1.555-1.57 1.953-2.024.758-.851 1.055-1.437.305-.594.305-1.164 0-.93-.657-1.516-.648-.586-1.695-.586-.742 0-1.57.258-.82.258-1.758.781v-1.593q.953-.383 1.781-.578.828-.196 1.516-.196 1.812 0 2.89.906 1.079.907 1.079 2.422 0 .72-.274 1.368-.265.64-.976 1.515-.196.227-1.243 1.313-1.046 1.078-2.953 3.023z\" /></g><g transform=\"translate(375, 290) scale(0.75, 0.75)\" fill=\"#e5e5e5\" stroke=\"#e5e5e5\"><path d=\"M8.195 26.996h5.508v1.328H6.297v-1.328q.898-.93 2.445-2.492 1.555-1.57 1.953-2.024.758-.851 1.055-1.437.305-.594.305-1.164 0-.93-.657-1.516-.648-.586-1.695-.586-.742 0-1.57.258-.82.258-1.758.781v-1.593q.953-.383 1.781-.578.828-.196 1.516-.196 1.812 0 2.89.906 1.079.907 1.079 2.422 0 .72-.274 1.368-.265.64-.976 1.515-.196.227-1.243 1.313-1.046 1.078-2.953 3.023z\" /></g><g transform=\"translate(0, 245) scale(0.75, 0.75)\" fill=\"#e5e5e5\" stroke=\"#e5e5e5\"><path d=\"M11.434 22.035q1.132.242 1.765 1.008.64.766.64 1.89 0 1.727-1.187 2.672-1.187.946-3.375.946-.734 0-1.515-.149-.774-.14-1.602-.43V26.45q.656.383 1.438.578.78.196 1.632.196 1.485 0 2.258-.586.782-.586.782-1.703 0-1.032-.727-1.61-.719-.586-2.008-.586h-1.36v-1.297h1.423q1.164 0 1.78-.46.618-.47.618-1.344 0-.899-.64-1.375-.633-.485-1.82-.485-.65 0-1.391.141-.743.14-1.633.437V16.95q.898-.25 1.68-.375.788-.125 1.484-.125 1.797 0 2.844.82 1.046.813 1.046 2.204 0 .968-.554 1.64-.555.664-1.578.922z\" /></g><g transform=\"translate(375, 245) scale(0.75, 0.75)\" fill=\"#e5e5e5\" stroke=\"#e5e5e5\"><path d=\"M11.434 22.035q1.132.242 1.765 1.008.64.766.64 1.89 0 1.727-1.187 2.672-1.187.946-3.375.946-.734 0-1.515-.149-.774-.14-1.602-.43V26.45q.656.383 1.438.578.78.196 1.632.196 1.485 0 2.258-.586.782-.586.782-1.703 0-1.032-.727-1.61-.719-.586-2.008-.586h-1.36v-1.297h1.423q1.164 0 1.78-.46.618-.47.618-1.344 0-.899-.64-1.375-.633-.485-1.82-.485-.65 0-1.391.141-.743.14-1.633.437V16.95q.898-.25 1.68-.375.788-.125 1.484-.125 1.797 0 2.844.82 1.046.813 1.046 2.204 0 .968-.554 1.64-.555.664-1.578.922z\" /></g><g transform=\"translate(0, 200) scale(0.75, 0.75)\" fill=\"#e5e5e5\" stroke=\"#e5e5e5\"><path d=\"M11.016 18.035L7.03 24.262h3.985zm-.414-1.375h1.984v7.602h1.664v1.312h-1.664v2.75h-1.57v-2.75H5.75v-1.523z\" /></g><g transform=\"translate(375, 200) scale(0.75, 0.75)\" fill=\"#e5e5e5\" stroke=\"#e5e5e5\"><path d=\"M11.016 18.035L7.03 24.262h3.985zm-.414-1.375h1.984v7.602h1.664v1.312h-1.664v2.75h-1.57v-2.75H5.75v-1.523z\" /></g><g transform=\"translate(0, 155) scale(0.75, 0.75)\" fill=\"#e5e5e5\" stroke=\"#e5e5e5\"><path d=\"M6.719 16.66h6.195v1.328h-4.75v2.86q.344-.118.688-.172.343-.063.687-.063 1.953 0 3.094 1.07 1.14 1.07 1.14 2.899 0 1.883-1.171 2.93-1.172 1.039-3.305 1.039-.735 0-1.5-.125-.758-.125-1.57-.375v-1.586q.703.383 1.453.57.75.188 1.586.188 1.351 0 2.14-.711.79-.711.79-1.93 0-1.219-.79-1.93-.789-.71-2.14-.71-.633 0-1.266.14-.625.14-1.281.438z\" /></g><g transform=\"translate(375, 155) scale(0.75, 0.75)\" fill=\"#e5e5e5\" stroke=\"#e5e5e5\"><path d=\"M6.719 16.66h6.195v1.328h-4.75v2.86q.344-.118.688-.172.343-.063.687-.063 1.953 0 3.094 1.07 1.14 1.07 1.14 2.899 0 1.883-1.171 2.93-1.172 1.039-3.305 1.039-.735 0-1.5-.125-.758-.125-1.57-.375v-1.586q.703.383 1.453.57.75.188 1.586.188 1.351 0 2.14-.711.79-.711.79-1.93 0-1.219-.79-1.93-.789-.71-2.14-.71-.633 0-1.266.14-.625.14-1.281.438z\" /></g><g transform=\"translate(0, 110) scale(0.75, 0.75)\" fill=\"#e5e5e5\" stroke=\"#e5e5e5\"><path d=\"M10.137 21.863q-1.063 0-1.688.727-.617.726-.617 1.992 0 1.258.617 1.992.625.727 1.688.727 1.062 0 1.68-.727.624-.734.624-1.992 0-1.266-.625-1.992-.617-.727-1.68-.727zm3.133-4.945v1.437q-.594-.28-1.204-.43-.601-.148-1.195-.148-1.562 0-2.39 1.055-.82 1.055-.938 3.188.46-.68 1.156-1.04.696-.367 1.531-.367 1.758 0 2.774 1.07 1.023 1.063 1.023 2.899 0 1.797-1.062 2.883-1.063 1.086-2.828 1.086-2.024 0-3.094-1.547-1.07-1.555-1.07-4.5 0-2.766 1.312-4.406 1.313-1.649 3.524-1.649.593 0 1.195.117.61.118 1.266.352z\" /></g><g transform=\"translate(375, 110) scale(0.75, 0.75)\" fill=\"#e5e5e5\" stroke=\"#e5e5e5\"><path d=\"M10.137 21.863q-1.063 0-1.688.727-.617.726-.617 1.992 0 1.258.617 1.992.625.727 1.688.727 1.062 0 1.68-.727.624-.734.624-1.992 0-1.266-.625-1.992-.617-.727-1.68-.727zm3.133-4.945v1.437q-.594-.28-1.204-.43-.601-.148-1.195-.148-1.562 0-2.39 1.055-.82 1.055-.938 3.188.46-.68 1.156-1.04.696-.367 1.531-.367 1.758 0 2.774 1.07 1.023 1.063 1.023 2.899 0 1.797-1.062 2.883-1.063 1.086-2.828 1.086-2.024 0-3.094-1.547-1.07-1.555-1.07-4.5 0-2.766 1.312-4.406 1.313-1.649 3.524-1.649.593 0 1.195.117.61.118 1.266.352z\" /></g><g transform=\"translate(0, 65) scale(0.75, 0.75)\" fill=\"#e5e5e5\" stroke=\"#e5e5e5\"><path d=\"M6.25 16.66h7.5v.672L9.516 28.324H7.867l3.985-10.336H6.25z\" /></g><g transform=\"translate(375, 65) scale(0.75, 0.75)\" fill=\"#e5e5e5\" stroke=\"#e5e5e5\"><path d=\"M6.25 16.66h7.5v.672L9.516 28.324H7.867l3.985-10.336H6.25z\" /></g><g transform=\"translate(0, 20) scale(0.75, 0.75)\" fill=\"#e5e5e5\" stroke=\"#e5e5e5\"><path d=\"M10 22.785q-1.125 0-1.773.602-.641.601-.641 1.656t.64 1.656q.649.602 1.774.602t1.773-.602q.649-.61.649-1.656 0-1.055-.649-1.656-.64-.602-1.773-.602zm-1.578-.672q-1.016-.25-1.586-.945-.563-.695-.563-1.695 0-1.399.993-2.211 1-.813 2.734-.813 1.742 0 2.734.813.993.812.993 2.21 0 1-.57 1.696-.563.695-1.571.945 1.14.266 1.773 1.04.641.773.641 1.89 0 1.695-1.04 2.602-1.03.906-2.96.906t-2.969-.906Q6 26.738 6 25.043q0-1.117.64-1.89.641-.774 1.782-1.04zm-.578-2.492q0 .906.562 1.414.57.508 1.594.508 1.016 0 1.586-.508.578-.508.578-1.414 0-.906-.578-1.414-.57-.508-1.586-.508-1.023 0-1.594.508-.562.508-.562 1.414z\" /></g><g transform=\"translate(375, 20) scale(0.75, 0.75)\" fill=\"#e5e5e5\" stroke=\"#e5e5e5\"><path d=\"M10 22.785q-1.125 0-1.773.602-.641.601-.641 1.656t.64 1.656q.649.602 1.774.602t1.773-.602q.649-.61.649-1.656 0-1.055-.649-1.656-.64-.602-1.773-.602zm-1.578-.672q-1.016-.25-1.586-.945-.563-.695-.563-1.695 0-1.399.993-2.211 1-.813 2.734-.813 1.742 0 2.734.813.993.812.993 2.21 0 1-.57 1.696-.563.695-1.571.945 1.14.266 1.773 1.04.641.773.641 1.89 0 1.695-1.04 2.602-1.03.906-2.96.906t-2.969-.906Q6 26.738 6 25.043q0-1.117.64-1.89.641-.774 1.782-1.04zm-.578-2.492q0 .906.562 1.414.57.508 1.594.508 1.016 0 1.586-.508.578-.508.578-1.414 0-.906-.578-1.414-.57-.508-1.586-.508-1.023 0-1.594.508-.562.508-.562 1.414z\" /></g><rect x=\"15\" y=\"330\" width=\"45\" height=\"45\" class=\"square dark lastmove a1\" stroke=\"none\" fill=\"#aaa23b\" /><rect x=\"60\" y=\"330\" width=\"45\" height=\"45\" class=\"square light b1\" stroke=\"none\" fill=\"#ffce9e\" /><rect x=\"105\" y=\"330\" width=\"45\" height=\"45\" class=\"square dark c1\" stroke=\"none\" fill=\"#d18b47\" /><rect x=\"150\" y=\"330\" width=\"45\" height=\"45\" class=\"square light d1\" stroke=\"none\" fill=\"#ffce9e\" /><rect x=\"195\" y=\"330\" width=\"45\" height=\"45\" class=\"square dark e1\" stroke=\"none\" fill=\"#d18b47\" /><rect x=\"240\" y=\"330\" width=\"45\" height=\"45\" class=\"square light f1\" stroke=\"none\" fill=\"#ffce9e\" /><rect x=\"285\" y=\"330\" width=\"45\" height=\"45\" class=\"square dark g1\" stroke=\"none\" fill=\"#d18b47\" /><rect x=\"330\" y=\"330\" width=\"45\" height=\"45\" class=\"square light h1\" stroke=\"none\" fill=\"#ffce9e\" /><rect x=\"15\" y=\"285\" width=\"45\" height=\"45\" class=\"square light a2\" stroke=\"none\" fill=\"#ffce9e\" /><rect x=\"60\" y=\"285\" width=\"45\" height=\"45\" class=\"square dark b2\" stroke=\"none\" fill=\"#d18b47\" /><rect x=\"105\" y=\"285\" width=\"45\" height=\"45\" class=\"square light c2\" stroke=\"none\" fill=\"#ffce9e\" /><rect x=\"150\" y=\"285\" width=\"45\" height=\"45\" class=\"square dark d2\" stroke=\"none\" fill=\"#d18b47\" /><rect x=\"195\" y=\"285\" width=\"45\" height=\"45\" class=\"square light e2\" stroke=\"none\" fill=\"#ffce9e\" /><rect x=\"240\" y=\"285\" width=\"45\" height=\"45\" class=\"square dark f2\" stroke=\"none\" fill=\"#d18b47\" /><rect x=\"285\" y=\"285\" width=\"45\" height=\"45\" class=\"square light g2\" stroke=\"none\" fill=\"#ffce9e\" /><rect x=\"330\" y=\"285\" width=\"45\" height=\"45\" class=\"square dark h2\" stroke=\"none\" fill=\"#d18b47\" /><rect x=\"15\" y=\"240\" width=\"45\" height=\"45\" class=\"square dark a3\" stroke=\"none\" fill=\"#d18b47\" /><rect x=\"60\" y=\"240\" width=\"45\" height=\"45\" class=\"square light b3\" stroke=\"none\" fill=\"#ffce9e\" /><rect x=\"105\" y=\"240\" width=\"45\" height=\"45\" class=\"square dark c3\" stroke=\"none\" fill=\"#d18b47\" /><rect x=\"150\" y=\"240\" width=\"45\" height=\"45\" class=\"square light d3\" stroke=\"none\" fill=\"#ffce9e\" /><rect x=\"195\" y=\"240\" width=\"45\" height=\"45\" class=\"square dark e3\" stroke=\"none\" fill=\"#d18b47\" /><rect x=\"240\" y=\"240\" width=\"45\" height=\"45\" class=\"square light f3\" stroke=\"none\" fill=\"#ffce9e\" /><rect x=\"285\" y=\"240\" width=\"45\" height=\"45\" class=\"square dark g3\" stroke=\"none\" fill=\"#d18b47\" /><rect x=\"330\" y=\"240\" width=\"45\" height=\"45\" class=\"square light h3\" stroke=\"none\" fill=\"#ffce9e\" /><rect x=\"15\" y=\"195\" width=\"45\" height=\"45\" class=\"square light a4\" stroke=\"none\" fill=\"#ffce9e\" /><rect x=\"60\" y=\"195\" width=\"45\" height=\"45\" class=\"square dark b4\" stroke=\"none\" fill=\"#d18b47\" /><rect x=\"105\" y=\"195\" width=\"45\" height=\"45\" class=\"square light c4\" stroke=\"none\" fill=\"#ffce9e\" /><rect x=\"150\" y=\"195\" width=\"45\" height=\"45\" class=\"square dark lastmove d4\" stroke=\"none\" fill=\"#aaa23b\" /><rect x=\"195\" y=\"195\" width=\"45\" height=\"45\" class=\"square light e4\" stroke=\"none\" fill=\"#ffce9e\" /><rect x=\"240\" y=\"195\" width=\"45\" height=\"45\" class=\"square dark f4\" stroke=\"none\" fill=\"#d18b47\" /><rect x=\"285\" y=\"195\" width=\"45\" height=\"45\" class=\"square light g4\" stroke=\"none\" fill=\"#ffce9e\" /><rect x=\"330\" y=\"195\" width=\"45\" height=\"45\" class=\"square dark h4\" stroke=\"none\" fill=\"#d18b47\" /><rect x=\"15\" y=\"150\" width=\"45\" height=\"45\" class=\"square dark a5\" stroke=\"none\" fill=\"#d18b47\" /><rect x=\"60\" y=\"150\" width=\"45\" height=\"45\" class=\"square light b5\" stroke=\"none\" fill=\"#ffce9e\" /><rect x=\"105\" y=\"150\" width=\"45\" height=\"45\" class=\"square dark c5\" stroke=\"none\" fill=\"#d18b47\" /><rect x=\"150\" y=\"150\" width=\"45\" height=\"45\" class=\"square light d5\" stroke=\"none\" fill=\"#ffce9e\" /><rect x=\"195\" y=\"150\" width=\"45\" height=\"45\" class=\"square dark e5\" stroke=\"none\" fill=\"#d18b47\" /><rect x=\"240\" y=\"150\" width=\"45\" height=\"45\" class=\"square light f5\" stroke=\"none\" fill=\"#ffce9e\" /><rect x=\"285\" y=\"150\" width=\"45\" height=\"45\" class=\"square dark g5\" stroke=\"none\" fill=\"#d18b47\" /><rect x=\"330\" y=\"150\" width=\"45\" height=\"45\" class=\"square light h5\" stroke=\"none\" fill=\"#ffce9e\" /><rect x=\"15\" y=\"105\" width=\"45\" height=\"45\" class=\"square light a6\" stroke=\"none\" fill=\"#ffce9e\" /><rect x=\"60\" y=\"105\" width=\"45\" height=\"45\" class=\"square dark b6\" stroke=\"none\" fill=\"#d18b47\" /><rect x=\"105\" y=\"105\" width=\"45\" height=\"45\" class=\"square light c6\" stroke=\"none\" fill=\"#ffce9e\" /><rect x=\"150\" y=\"105\" width=\"45\" height=\"45\" class=\"square dark d6\" stroke=\"none\" fill=\"#d18b47\" /><rect x=\"195\" y=\"105\" width=\"45\" height=\"45\" class=\"square light e6\" stroke=\"none\" fill=\"#ffce9e\" /><rect x=\"240\" y=\"105\" width=\"45\" height=\"45\" class=\"square dark f6\" stroke=\"none\" fill=\"#d18b47\" /><rect x=\"285\" y=\"105\" width=\"45\" height=\"45\" class=\"square light g6\" stroke=\"none\" fill=\"#ffce9e\" /><rect x=\"330\" y=\"105\" width=\"45\" height=\"45\" class=\"square dark h6\" stroke=\"none\" fill=\"#d18b47\" /><rect x=\"15\" y=\"60\" width=\"45\" height=\"45\" class=\"square dark a7\" stroke=\"none\" fill=\"#d18b47\" /><rect x=\"60\" y=\"60\" width=\"45\" height=\"45\" class=\"square light b7\" stroke=\"none\" fill=\"#ffce9e\" /><rect x=\"105\" y=\"60\" width=\"45\" height=\"45\" class=\"square dark c7\" stroke=\"none\" fill=\"#d18b47\" /><rect x=\"150\" y=\"60\" width=\"45\" height=\"45\" class=\"square light d7\" stroke=\"none\" fill=\"#ffce9e\" /><rect x=\"195\" y=\"60\" width=\"45\" height=\"45\" class=\"square dark e7\" stroke=\"none\" fill=\"#d18b47\" /><rect x=\"240\" y=\"60\" width=\"45\" height=\"45\" class=\"square light f7\" stroke=\"none\" fill=\"#ffce9e\" /><rect x=\"285\" y=\"60\" width=\"45\" height=\"45\" class=\"square dark g7\" stroke=\"none\" fill=\"#d18b47\" /><rect x=\"330\" y=\"60\" width=\"45\" height=\"45\" class=\"square light h7\" stroke=\"none\" fill=\"#ffce9e\" /><rect x=\"15\" y=\"15\" width=\"45\" height=\"45\" class=\"square light a8\" stroke=\"none\" fill=\"#ffce9e\" /><rect x=\"60\" y=\"15\" width=\"45\" height=\"45\" class=\"square dark b8\" stroke=\"none\" fill=\"#d18b47\" /><rect x=\"105\" y=\"15\" width=\"45\" height=\"45\" class=\"square light c8\" stroke=\"none\" fill=\"#ffce9e\" /><rect x=\"150\" y=\"15\" width=\"45\" height=\"45\" class=\"square dark d8\" stroke=\"none\" fill=\"#d18b47\" /><rect x=\"195\" y=\"15\" width=\"45\" height=\"45\" class=\"square light e8\" stroke=\"none\" fill=\"#ffce9e\" /><rect x=\"240\" y=\"15\" width=\"45\" height=\"45\" class=\"square dark f8\" stroke=\"none\" fill=\"#d18b47\" /><rect x=\"285\" y=\"15\" width=\"45\" height=\"45\" class=\"square light g8\" stroke=\"none\" fill=\"#ffce9e\" /><rect x=\"330\" y=\"15\" width=\"45\" height=\"45\" class=\"square dark h8\" stroke=\"none\" fill=\"#d18b47\" /><use href=\"#white-queen\" xlink:href=\"#white-queen\" transform=\"translate(150, 330)\" /><use href=\"#white-rook\" xlink:href=\"#white-rook\" transform=\"translate(195, 330)\" /><use href=\"#white-king\" xlink:href=\"#white-king\" transform=\"translate(285, 330)\" /><use href=\"#white-knight\" xlink:href=\"#white-knight\" transform=\"translate(105, 285)\" /><use href=\"#white-pawn\" xlink:href=\"#white-pawn\" transform=\"translate(240, 285)\" /><use href=\"#white-pawn\" xlink:href=\"#white-pawn\" transform=\"translate(285, 285)\" /><use href=\"#white-bishop\" xlink:href=\"#white-bishop\" transform=\"translate(60, 240)\" /><use href=\"#white-knight\" xlink:href=\"#white-knight\" transform=\"translate(240, 240)\" /><use href=\"#white-pawn\" xlink:href=\"#white-pawn\" transform=\"translate(330, 240)\" /><use href=\"#white-pawn\" xlink:href=\"#white-pawn\" transform=\"translate(60, 195)\" /><use href=\"#white-bishop\" xlink:href=\"#white-bishop\" transform=\"translate(150, 195)\" /><use href=\"#black-knight\" xlink:href=\"#black-knight\" transform=\"translate(195, 195)\" /><use href=\"#black-queen\" xlink:href=\"#black-queen\" transform=\"translate(60, 105)\" /><use href=\"#black-pawn\" xlink:href=\"#black-pawn\" transform=\"translate(105, 105)\" /><use href=\"#black-pawn\" xlink:href=\"#black-pawn\" transform=\"translate(150, 105)\" /><use href=\"#black-pawn\" xlink:href=\"#black-pawn\" transform=\"translate(285, 105)\" /><use href=\"#black-pawn\" xlink:href=\"#black-pawn\" transform=\"translate(330, 105)\" /><use href=\"#black-bishop\" xlink:href=\"#black-bishop\" transform=\"translate(60, 60)\" /><use href=\"#black-knight\" xlink:href=\"#black-knight\" transform=\"translate(150, 60)\" /><use href=\"#black-pawn\" xlink:href=\"#black-pawn\" transform=\"translate(240, 60)\" /><use href=\"#black-rook\" xlink:href=\"#black-rook\" transform=\"translate(195, 15)\" /><use href=\"#black-bishop\" xlink:href=\"#black-bishop\" transform=\"translate(240, 15)\" /><use href=\"#black-king\" xlink:href=\"#black-king\" transform=\"translate(285, 15)\" /></svg>"
     },
     "metadata": {},
     "output_type": "display_data"
    }
   ]
  },
  {
   "cell_type": "markdown",
   "source": "### Endgame",
   "metadata": {
    "tags": [],
    "is_collapsed": false,
    "cell_id": "00022-a1b50e89-d504-4025-8161-44d94c9fd1cd",
    "deepnote_cell_type": "text-cell-h3"
   }
  },
  {
   "cell_type": "markdown",
   "source": "The endgame phase of chess is extremely important and it decides how the game is going to end. In modern chess, at a certain point, the endgame is in fact solved and it's possible to get the absolute optimal move in a given position using databases called endgame tablebases. The earliest you can use those tablebases is when there are 7 pieces left. The tablebase that we are using is called Syzygy. In our engine, when that condition is reached, it requests the best move from a tablebase server called lila-tablebase, a server for the popular chess website lichess.org, that is based on the Syzygy tablebase. The Syzygy tablebase is extremely large in size (around 16TB) so downloading it locally is an impossible task for us unfortunately. If any error occurs when we request the best move from the server, our engine will first see how many pieces are left. If there are 6 or 7 pieces left, the engine will use our evalutation function. If there are 5 or fewer, the engine will use our local 5 pieces Syzygy tablebase (which is only 1GB) and find the optimal move.",
   "metadata": {
    "tags": [],
    "is_collapsed": false,
    "cell_id": "00011-91bb7261-edfa-467e-9946-14e39e71181d",
    "deepnote_cell_type": "text-cell-p"
   }
  },
  {
   "cell_type": "code",
   "metadata": {
    "tags": [],
    "deepnote_to_be_reexecuted": false,
    "source_hash": "19db0c1e",
    "execution_start": 1636496537556,
    "execution_millis": 3442,
    "cell_id": "00005-663297eb-2c08-48d3-8d35-1e752e6f7b7c",
    "output_cleared": false,
    "deepnote_cell_type": "code"
   },
   "source": "!pip install requests\nimport requests\nimport chess.syzygy\n\ndef endgame_move(board): #returns the optimal endgame move using syzygy endgame table (7 man board)\n    fen_code = board.fen()\n    link = \"http://tablebase.lichess.ovh/standard?fen=%s\" %fen_code\n    response = requests.get(link)\n    try:\n        return chess.Move.from_uci(str(response.json().get('moves')[0].get('uci')))\n    except:\n        print(\"Error: \", response.status_code)\n        if len(board.piece_map()) > 5:\n            best_state = negamax.negamax(root, depth, float('-inf'), float('inf'))[0]\n            curr_move = root._board.ply()\n            return best_state._board.move_stack[curr_move]  \n        else:\n            return dtz_minimax(board)\n\n\n\ndef dtz_minimax(board): #calculates the best move in a 5 man board using syzygy and minimax\n    root = negamax.State(board)\n    children = negamax.generate_children(root)\n    tb = chess.syzygy.open_tablebase(\"/work/syzygy\") \n    root_dtz = tb.probe_dtz(root._board)\n    children_dtz = [tb.probe_dtz(child._board) for child in children]\n    if tb.probe_dtz(root._board) > 0: \n        best_dtz = float('-inf')\n        best_dtz_index = None\n        for i in range(len(children_dtz)):\n            if children_dtz[i] < 0 and children_dtz[i] > best_dtz:\n                best_dtz_index = i\n                best_dtz = children_dtz[best_dtz_index]\n        best_child = children[best_dtz_index]\n        return best_child._board.peek()\n    elif tb.probe_dtz(root._board) == 0:\n        for i in range(len(children_dtz)):\n            if children_dtz[i] == 0:\n                return children[i]._board.peek()\n    else:\n        best_dtz = max(children_dtz)\n        best_child = children[children_dtz.index(best_dtz)]\n        return best_child._board.peek() \n",
   "execution_count": null,
   "outputs": [
    {
     "name": "stdout",
     "text": "Requirement already satisfied: requests in /shared-libs/python3.9/py/lib/python3.9/site-packages (2.26.0)\nRequirement already satisfied: urllib3<1.27,>=1.21.1 in /shared-libs/python3.9/py/lib/python3.9/site-packages (from requests) (1.26.7)\nRequirement already satisfied: charset-normalizer~=2.0.0 in /shared-libs/python3.9/py/lib/python3.9/site-packages (from requests) (2.0.7)\nRequirement already satisfied: certifi>=2017.4.17 in /shared-libs/python3.9/py/lib/python3.9/site-packages (from requests) (2021.10.8)\nRequirement already satisfied: idna<4,>=2.5 in /shared-libs/python3.9/py-core/lib/python3.9/site-packages (from requests) (3.3)\n\u001b[33mWARNING: You are using pip version 21.2.4; however, version 21.3.1 is available.\nYou should consider upgrading via the '/root/venv/bin/python -m pip install --upgrade pip' command.\u001b[0m\n",
     "output_type": "stream"
    }
   ]
  },
  {
   "cell_type": "markdown",
   "source": "Here is a simple endgame position of queen and rook vs knight and bishop that our engine is able to win easily:",
   "metadata": {
    "tags": [],
    "is_collapsed": false,
    "cell_id": "00018-b7f89420-9818-49a4-9630-30fe9b4a8ecb",
    "deepnote_cell_type": "text-cell-p"
   }
  },
  {
   "cell_type": "code",
   "metadata": {
    "tags": [],
    "cell_id": "00101-fb901501-4006-4604-82a8-badf514a8bea",
    "deepnote_to_be_reexecuted": false,
    "source_hash": "7a4cb2d5",
    "execution_start": 1636496541010,
    "execution_millis": 5527,
    "output_cleared": false,
    "deepnote_output_heights": [
     392,
     null,
     392
    ],
    "deepnote_cell_type": "code"
   },
   "source": "endgame_board = chess.Board()\nfen_code = \"4k3/3b1n2/8/8/8/2Q2R2/4K3/8 w - - 0 1\"\nendgame_board.set_fen(fen_code)\ndisplay(endgame_board)\nwhile(endgame_board.outcome() is None):\n    root = State(endgame_board)\n    next_move = get_next_move(root,2)\n    endgame_board.push(next_move)\n    \n    print('White' if not endgame_board.turn else 'Black',\"has played:\", next_move)\n\ndisplay(endgame_board)",
   "execution_count": null,
   "outputs": [
    {
     "data": {
      "text/plain": "Board('4k3/3b1n2/8/8/8/2Q2R2/4K3/8 w - - 0 1')",
      "image/svg+xml": "<svg xmlns=\"http://www.w3.org/2000/svg\" xmlns:xlink=\"http://www.w3.org/1999/xlink\" version=\"1.2\" baseProfile=\"tiny\" viewBox=\"0 0 390 390\" width=\"390\" height=\"390\"><defs><g id=\"white-rook\" class=\"white rook\" fill=\"#fff\" fill-rule=\"evenodd\" stroke=\"#000\" stroke-width=\"1.5\" stroke-linecap=\"round\" stroke-linejoin=\"round\"><path d=\"M9 39h27v-3H9v3zM12 36v-4h21v4H12zM11 14V9h4v2h5V9h5v2h5V9h4v5\" stroke-linecap=\"butt\" /><path d=\"M34 14l-3 3H14l-3-3\" /><path d=\"M31 17v12.5H14V17\" stroke-linecap=\"butt\" stroke-linejoin=\"miter\" /><path d=\"M31 29.5l1.5 2.5h-20l1.5-2.5\" /><path d=\"M11 14h23\" fill=\"none\" stroke-linejoin=\"miter\" /></g><g id=\"white-queen\" class=\"white queen\" fill=\"#fff\" fill-rule=\"evenodd\" stroke=\"#000\" stroke-width=\"1.5\" stroke-linecap=\"round\" stroke-linejoin=\"round\"><path d=\"M8 12a2 2 0 1 1-4 0 2 2 0 1 1 4 0zM24.5 7.5a2 2 0 1 1-4 0 2 2 0 1 1 4 0zM41 12a2 2 0 1 1-4 0 2 2 0 1 1 4 0zM16 8.5a2 2 0 1 1-4 0 2 2 0 1 1 4 0zM33 9a2 2 0 1 1-4 0 2 2 0 1 1 4 0z\" /><path d=\"M9 26c8.5-1.5 21-1.5 27 0l2-12-7 11V11l-5.5 13.5-3-15-3 15-5.5-14V25L7 14l2 12zM9 26c0 2 1.5 2 2.5 4 1 1.5 1 1 .5 3.5-1.5 1-1.5 2.5-1.5 2.5-1.5 1.5.5 2.5.5 2.5 6.5 1 16.5 1 23 0 0 0 1.5-1 0-2.5 0 0 .5-1.5-1-2.5-.5-2.5-.5-2 .5-3.5 1-2 2.5-2 2.5-4-8.5-1.5-18.5-1.5-27 0z\" stroke-linecap=\"butt\" /><path d=\"M11.5 30c3.5-1 18.5-1 22 0M12 33.5c6-1 15-1 21 0\" fill=\"none\" /></g><g id=\"white-king\" class=\"white king\" fill=\"none\" fill-rule=\"evenodd\" stroke=\"#000\" stroke-width=\"1.5\" stroke-linecap=\"round\" stroke-linejoin=\"round\"><path d=\"M22.5 11.63V6M20 8h5\" stroke-linejoin=\"miter\" /><path d=\"M22.5 25s4.5-7.5 3-10.5c0 0-1-2.5-3-2.5s-3 2.5-3 2.5c-1.5 3 3 10.5 3 10.5\" fill=\"#fff\" stroke-linecap=\"butt\" stroke-linejoin=\"miter\" /><path d=\"M11.5 37c5.5 3.5 15.5 3.5 21 0v-7s9-4.5 6-10.5c-4-6.5-13.5-3.5-16 4V27v-3.5c-3.5-7.5-13-10.5-16-4-3 6 5 10 5 10V37z\" fill=\"#fff\" /><path d=\"M11.5 30c5.5-3 15.5-3 21 0m-21 3.5c5.5-3 15.5-3 21 0m-21 3.5c5.5-3 15.5-3 21 0\" /></g><g id=\"black-knight\" class=\"black knight\" fill=\"none\" fill-rule=\"evenodd\" stroke=\"#000\" stroke-width=\"1.5\" stroke-linecap=\"round\" stroke-linejoin=\"round\"><path d=\"M 22,10 C 32.5,11 38.5,18 38,39 L 15,39 C 15,30 25,32.5 23,18\" style=\"fill:#000000; stroke:#000000;\" /><path d=\"M 24,18 C 24.38,20.91 18.45,25.37 16,27 C 13,29 13.18,31.34 11,31 C 9.958,30.06 12.41,27.96 11,28 C 10,28 11.19,29.23 10,30 C 9,30 5.997,31 6,26 C 6,24 12,14 12,14 C 12,14 13.89,12.1 14,10.5 C 13.27,9.506 13.5,8.5 13.5,7.5 C 14.5,6.5 16.5,10 16.5,10 L 18.5,10 C 18.5,10 19.28,8.008 21,7 C 22,7 22,10 22,10\" style=\"fill:#000000; stroke:#000000;\" /><path d=\"M 9.5 25.5 A 0.5 0.5 0 1 1 8.5,25.5 A 0.5 0.5 0 1 1 9.5 25.5 z\" style=\"fill:#ececec; stroke:#ececec;\" /><path d=\"M 15 15.5 A 0.5 1.5 0 1 1 14,15.5 A 0.5 1.5 0 1 1 15 15.5 z\" transform=\"matrix(0.866,0.5,-0.5,0.866,9.693,-5.173)\" style=\"fill:#ececec; stroke:#ececec;\" /><path d=\"M 24.55,10.4 L 24.1,11.85 L 24.6,12 C 27.75,13 30.25,14.49 32.5,18.75 C 34.75,23.01 35.75,29.06 35.25,39 L 35.2,39.5 L 37.45,39.5 L 37.5,39 C 38,28.94 36.62,22.15 34.25,17.66 C 31.88,13.17 28.46,11.02 25.06,10.5 L 24.55,10.4 z \" style=\"fill:#ececec; stroke:none;\" /></g><g id=\"black-bishop\" class=\"black bishop\" fill=\"none\" fill-rule=\"evenodd\" stroke=\"#000\" stroke-width=\"1.5\" stroke-linecap=\"round\" stroke-linejoin=\"round\"><path d=\"M9 36c3.39-.97 10.11.43 13.5-2 3.39 2.43 10.11 1.03 13.5 2 0 0 1.65.54 3 2-.68.97-1.65.99-3 .5-3.39-.97-10.11.46-13.5-1-3.39 1.46-10.11.03-13.5 1-1.354.49-2.323.47-3-.5 1.354-1.94 3-2 3-2zm6-4c2.5 2.5 12.5 2.5 15 0 .5-1.5 0-2 0-2 0-2.5-2.5-4-2.5-4 5.5-1.5 6-11.5-5-15.5-11 4-10.5 14-5 15.5 0 0-2.5 1.5-2.5 4 0 0-.5.5 0 2zM25 8a2.5 2.5 0 1 1-5 0 2.5 2.5 0 1 1 5 0z\" fill=\"#000\" stroke-linecap=\"butt\" /><path d=\"M17.5 26h10M15 30h15m-7.5-14.5v5M20 18h5\" stroke=\"#fff\" stroke-linejoin=\"miter\" /></g><g id=\"black-king\" class=\"black king\" fill=\"none\" fill-rule=\"evenodd\" stroke=\"#000\" stroke-width=\"1.5\" stroke-linecap=\"round\" stroke-linejoin=\"round\"><path d=\"M22.5 11.63V6\" stroke-linejoin=\"miter\" /><path d=\"M22.5 25s4.5-7.5 3-10.5c0 0-1-2.5-3-2.5s-3 2.5-3 2.5c-1.5 3 3 10.5 3 10.5\" fill=\"#000\" stroke-linecap=\"butt\" stroke-linejoin=\"miter\" /><path d=\"M11.5 37c5.5 3.5 15.5 3.5 21 0v-7s9-4.5 6-10.5c-4-6.5-13.5-3.5-16 4V27v-3.5c-3.5-7.5-13-10.5-16-4-3 6 5 10 5 10V37z\" fill=\"#000\" /><path d=\"M20 8h5\" stroke-linejoin=\"miter\" /><path d=\"M32 29.5s8.5-4 6.03-9.65C34.15 14 25 18 22.5 24.5l.01 2.1-.01-2.1C20 18 9.906 14 6.997 19.85c-2.497 5.65 4.853 9 4.853 9M11.5 30c5.5-3 15.5-3 21 0m-21 3.5c5.5-3 15.5-3 21 0m-21 3.5c5.5-3 15.5-3 21 0\" stroke=\"#fff\" /></g></defs><rect x=\"0\" y=\"0\" width=\"390\" height=\"390\" fill=\"#212121\" /><g transform=\"translate(20, 0) scale(0.75, 0.75)\" fill=\"#e5e5e5\" stroke=\"#e5e5e5\"><path d=\"M23.328 10.016q-1.742 0-2.414.398-.672.398-.672 1.36 0 .765.5 1.218.508.445 1.375.445 1.196 0 1.914-.843.727-.852.727-2.258v-.32zm2.867-.594v4.992h-1.437v-1.328q-.492.797-1.227 1.18-.734.375-1.797.375-1.343 0-2.14-.75-.79-.758-.79-2.024 0-1.476.985-2.226.992-.75 2.953-.75h2.016V8.75q0-.992-.656-1.531-.649-.547-1.829-.547-.75 0-1.46.18-.711.18-1.368.539V6.062q.79-.304 1.532-.453.742-.156 1.445-.156 1.898 0 2.836.984.937.985.937 2.985z\" /></g><g transform=\"translate(20, 375) scale(0.75, 0.75)\" fill=\"#e5e5e5\" stroke=\"#e5e5e5\"><path d=\"M23.328 10.016q-1.742 0-2.414.398-.672.398-.672 1.36 0 .765.5 1.218.508.445 1.375.445 1.196 0 1.914-.843.727-.852.727-2.258v-.32zm2.867-.594v4.992h-1.437v-1.328q-.492.797-1.227 1.18-.734.375-1.797.375-1.343 0-2.14-.75-.79-.758-.79-2.024 0-1.476.985-2.226.992-.75 2.953-.75h2.016V8.75q0-.992-.656-1.531-.649-.547-1.829-.547-.75 0-1.46.18-.711.18-1.368.539V6.062q.79-.304 1.532-.453.742-.156 1.445-.156 1.898 0 2.836.984.937.985.937 2.985z\" /></g><g transform=\"translate(65, 0) scale(0.75, 0.75)\" fill=\"#e5e5e5\" stroke=\"#e5e5e5\"><path d=\"M24.922 10.047q0-1.586-.656-2.485-.649-.906-1.79-.906-1.14 0-1.796.906-.649.899-.649 2.485 0 1.586.649 2.492.656.898 1.797.898 1.14 0 1.789-.898.656-.906.656-2.492zm-4.89-3.055q.452-.781 1.14-1.156.695-.383 1.656-.383 1.594 0 2.586 1.266 1 1.265 1 3.328 0 2.062-1 3.328-.992 1.266-2.586 1.266-.96 0-1.656-.375-.688-.383-1.14-1.164v1.312h-1.446V2.258h1.445z\" /></g><g transform=\"translate(65, 375) scale(0.75, 0.75)\" fill=\"#e5e5e5\" stroke=\"#e5e5e5\"><path d=\"M24.922 10.047q0-1.586-.656-2.485-.649-.906-1.79-.906-1.14 0-1.796.906-.649.899-.649 2.485 0 1.586.649 2.492.656.898 1.797.898 1.14 0 1.789-.898.656-.906.656-2.492zm-4.89-3.055q.452-.781 1.14-1.156.695-.383 1.656-.383 1.594 0 2.586 1.266 1 1.265 1 3.328 0 2.062-1 3.328-.992 1.266-2.586 1.266-.96 0-1.656-.375-.688-.383-1.14-1.164v1.312h-1.446V2.258h1.445z\" /></g><g transform=\"translate(110, 0) scale(0.75, 0.75)\" fill=\"#e5e5e5\" stroke=\"#e5e5e5\"><path d=\"M25.96 6v1.344q-.608-.336-1.226-.5-.609-.172-1.234-.172-1.398 0-2.172.89-.773.883-.773 2.485 0 1.601.773 2.492.774.883 2.172.883.625 0 1.234-.164.618-.172 1.227-.508v1.328q-.602.281-1.25.422-.64.14-1.367.14-1.977 0-3.14-1.242-1.165-1.242-1.165-3.351 0-2.14 1.172-3.367 1.18-1.227 3.227-1.227.664 0 1.296.14.633.134 1.227.407z\" /></g><g transform=\"translate(110, 375) scale(0.75, 0.75)\" fill=\"#e5e5e5\" stroke=\"#e5e5e5\"><path d=\"M25.96 6v1.344q-.608-.336-1.226-.5-.609-.172-1.234-.172-1.398 0-2.172.89-.773.883-.773 2.485 0 1.601.773 2.492.774.883 2.172.883.625 0 1.234-.164.618-.172 1.227-.508v1.328q-.602.281-1.25.422-.64.14-1.367.14-1.977 0-3.14-1.242-1.165-1.242-1.165-3.351 0-2.14 1.172-3.367 1.18-1.227 3.227-1.227.664 0 1.296.14.633.134 1.227.407z\" /></g><g transform=\"translate(155, 0) scale(0.75, 0.75)\" fill=\"#e5e5e5\" stroke=\"#e5e5e5\"><path d=\"M24.973 6.992V2.258h1.437v12.156h-1.437v-1.312q-.453.78-1.149 1.164-.687.375-1.656.375-1.586 0-2.586-1.266-.992-1.266-.992-3.328 0-2.063.992-3.328 1-1.266 2.586-1.266.969 0 1.656.383.696.375 1.149 1.156zm-4.899 3.055q0 1.586.649 2.492.656.898 1.797.898 1.14 0 1.796-.898.657-.906.657-2.492 0-1.586-.657-2.485-.656-.906-1.796-.906-1.141 0-1.797.906-.649.899-.649 2.485z\" /></g><g transform=\"translate(155, 375) scale(0.75, 0.75)\" fill=\"#e5e5e5\" stroke=\"#e5e5e5\"><path d=\"M24.973 6.992V2.258h1.437v12.156h-1.437v-1.312q-.453.78-1.149 1.164-.687.375-1.656.375-1.586 0-2.586-1.266-.992-1.266-.992-3.328 0-2.063.992-3.328 1-1.266 2.586-1.266.969 0 1.656.383.696.375 1.149 1.156zm-4.899 3.055q0 1.586.649 2.492.656.898 1.797.898 1.14 0 1.796-.898.657-.906.657-2.492 0-1.586-.657-2.485-.656-.906-1.796-.906-1.141 0-1.797.906-.649.899-.649 2.485z\" /></g><g transform=\"translate(200, 0) scale(0.75, 0.75)\" fill=\"#e5e5e5\" stroke=\"#e5e5e5\"><path d=\"M26.555 9.68v.703h-6.61q.094 1.484.89 2.265.806.774 2.235.774.828 0 1.602-.203.781-.203 1.547-.61v1.36q-.774.328-1.586.5-.813.172-1.649.172-2.093 0-3.32-1.22-1.219-1.218-1.219-3.296 0-2.148 1.157-3.406 1.164-1.266 3.132-1.266 1.766 0 2.79 1.14 1.03 1.134 1.03 3.087zm-1.438-.422q-.015-1.18-.664-1.883-.64-.703-1.703-.703-1.203 0-1.93.68-.718.68-.828 1.914z\" /></g><g transform=\"translate(200, 375) scale(0.75, 0.75)\" fill=\"#e5e5e5\" stroke=\"#e5e5e5\"><path d=\"M26.555 9.68v.703h-6.61q.094 1.484.89 2.265.806.774 2.235.774.828 0 1.602-.203.781-.203 1.547-.61v1.36q-.774.328-1.586.5-.813.172-1.649.172-2.093 0-3.32-1.22-1.219-1.218-1.219-3.296 0-2.148 1.157-3.406 1.164-1.266 3.132-1.266 1.766 0 2.79 1.14 1.03 1.134 1.03 3.087zm-1.438-.422q-.015-1.18-.664-1.883-.64-.703-1.703-.703-1.203 0-1.93.68-.718.68-.828 1.914z\" /></g><g transform=\"translate(245, 0) scale(0.75, 0.75)\" fill=\"#e5e5e5\" stroke=\"#e5e5e5\"><path d=\"M25.285 2.258v1.195H23.91q-.773 0-1.078.313-.297.312-.297 1.125v.773h2.367v1.117h-2.367v7.633H21.09V6.781h-1.375V5.664h1.375v-.61q0-1.46.68-2.124.68-.672 2.156-.672z\" /></g><g transform=\"translate(245, 375) scale(0.75, 0.75)\" fill=\"#e5e5e5\" stroke=\"#e5e5e5\"><path d=\"M25.285 2.258v1.195H23.91q-.773 0-1.078.313-.297.312-.297 1.125v.773h2.367v1.117h-2.367v7.633H21.09V6.781h-1.375V5.664h1.375v-.61q0-1.46.68-2.124.68-.672 2.156-.672z\" /></g><g transform=\"translate(290, 0) scale(0.75, 0.75)\" fill=\"#e5e5e5\" stroke=\"#e5e5e5\"><path d=\"M24.973 9.937q0-1.562-.649-2.421-.64-.86-1.804-.86-1.157 0-1.805.86-.64.859-.64 2.421 0 1.555.64 2.415.648.859 1.805.859 1.164 0 1.804-.86.649-.859.649-2.414zm1.437 3.391q0 2.234-.992 3.32-.992 1.094-3.04 1.094-.757 0-1.429-.117-.672-.11-1.304-.344v-1.398q.632.344 1.25.508.617.164 1.257.164 1.414 0 2.118-.743.703-.734.703-2.226v-.711q-.446.773-1.141 1.156-.695.383-1.664.383-1.61 0-2.594-1.227-.984-1.226-.984-3.25 0-2.03.984-3.257.985-1.227 2.594-1.227.969 0 1.664.383t1.14 1.156V5.664h1.438z\" /></g><g transform=\"translate(290, 375) scale(0.75, 0.75)\" fill=\"#e5e5e5\" stroke=\"#e5e5e5\"><path d=\"M24.973 9.937q0-1.562-.649-2.421-.64-.86-1.804-.86-1.157 0-1.805.86-.64.859-.64 2.421 0 1.555.64 2.415.648.859 1.805.859 1.164 0 1.804-.86.649-.859.649-2.414zm1.437 3.391q0 2.234-.992 3.32-.992 1.094-3.04 1.094-.757 0-1.429-.117-.672-.11-1.304-.344v-1.398q.632.344 1.25.508.617.164 1.257.164 1.414 0 2.118-.743.703-.734.703-2.226v-.711q-.446.773-1.141 1.156-.695.383-1.664.383-1.61 0-2.594-1.227-.984-1.226-.984-3.25 0-2.03.984-3.257.985-1.227 2.594-1.227.969 0 1.664.383t1.14 1.156V5.664h1.438z\" /></g><g transform=\"translate(335, 0) scale(0.75, 0.75)\" fill=\"#e5e5e5\" stroke=\"#e5e5e5\"><path d=\"M26.164 9.133v5.281h-1.437V9.18q0-1.243-.485-1.86-.484-.617-1.453-.617-1.164 0-1.836.742-.672.742-.672 2.024v4.945h-1.445V2.258h1.445v4.765q.516-.789 1.211-1.18.703-.39 1.617-.39 1.508 0 2.282.938.773.93.773 2.742z\" /></g><g transform=\"translate(335, 375) scale(0.75, 0.75)\" fill=\"#e5e5e5\" stroke=\"#e5e5e5\"><path d=\"M26.164 9.133v5.281h-1.437V9.18q0-1.243-.485-1.86-.484-.617-1.453-.617-1.164 0-1.836.742-.672.742-.672 2.024v4.945h-1.445V2.258h1.445v4.765q.516-.789 1.211-1.18.703-.39 1.617-.39 1.508 0 2.282.938.773.93.773 2.742z\" /></g><g transform=\"translate(0, 335) scale(0.75, 0.75)\" fill=\"#e5e5e5\" stroke=\"#e5e5e5\"><path d=\"M6.754 26.996h2.578v-8.898l-2.805.562v-1.437l2.79-.563h1.578v10.336h2.578v1.328h-6.72z\" /></g><g transform=\"translate(375, 335) scale(0.75, 0.75)\" fill=\"#e5e5e5\" stroke=\"#e5e5e5\"><path d=\"M6.754 26.996h2.578v-8.898l-2.805.562v-1.437l2.79-.563h1.578v10.336h2.578v1.328h-6.72z\" /></g><g transform=\"translate(0, 290) scale(0.75, 0.75)\" fill=\"#e5e5e5\" stroke=\"#e5e5e5\"><path d=\"M8.195 26.996h5.508v1.328H6.297v-1.328q.898-.93 2.445-2.492 1.555-1.57 1.953-2.024.758-.851 1.055-1.437.305-.594.305-1.164 0-.93-.657-1.516-.648-.586-1.695-.586-.742 0-1.57.258-.82.258-1.758.781v-1.593q.953-.383 1.781-.578.828-.196 1.516-.196 1.812 0 2.89.906 1.079.907 1.079 2.422 0 .72-.274 1.368-.265.64-.976 1.515-.196.227-1.243 1.313-1.046 1.078-2.953 3.023z\" /></g><g transform=\"translate(375, 290) scale(0.75, 0.75)\" fill=\"#e5e5e5\" stroke=\"#e5e5e5\"><path d=\"M8.195 26.996h5.508v1.328H6.297v-1.328q.898-.93 2.445-2.492 1.555-1.57 1.953-2.024.758-.851 1.055-1.437.305-.594.305-1.164 0-.93-.657-1.516-.648-.586-1.695-.586-.742 0-1.57.258-.82.258-1.758.781v-1.593q.953-.383 1.781-.578.828-.196 1.516-.196 1.812 0 2.89.906 1.079.907 1.079 2.422 0 .72-.274 1.368-.265.64-.976 1.515-.196.227-1.243 1.313-1.046 1.078-2.953 3.023z\" /></g><g transform=\"translate(0, 245) scale(0.75, 0.75)\" fill=\"#e5e5e5\" stroke=\"#e5e5e5\"><path d=\"M11.434 22.035q1.132.242 1.765 1.008.64.766.64 1.89 0 1.727-1.187 2.672-1.187.946-3.375.946-.734 0-1.515-.149-.774-.14-1.602-.43V26.45q.656.383 1.438.578.78.196 1.632.196 1.485 0 2.258-.586.782-.586.782-1.703 0-1.032-.727-1.61-.719-.586-2.008-.586h-1.36v-1.297h1.423q1.164 0 1.78-.46.618-.47.618-1.344 0-.899-.64-1.375-.633-.485-1.82-.485-.65 0-1.391.141-.743.14-1.633.437V16.95q.898-.25 1.68-.375.788-.125 1.484-.125 1.797 0 2.844.82 1.046.813 1.046 2.204 0 .968-.554 1.64-.555.664-1.578.922z\" /></g><g transform=\"translate(375, 245) scale(0.75, 0.75)\" fill=\"#e5e5e5\" stroke=\"#e5e5e5\"><path d=\"M11.434 22.035q1.132.242 1.765 1.008.64.766.64 1.89 0 1.727-1.187 2.672-1.187.946-3.375.946-.734 0-1.515-.149-.774-.14-1.602-.43V26.45q.656.383 1.438.578.78.196 1.632.196 1.485 0 2.258-.586.782-.586.782-1.703 0-1.032-.727-1.61-.719-.586-2.008-.586h-1.36v-1.297h1.423q1.164 0 1.78-.46.618-.47.618-1.344 0-.899-.64-1.375-.633-.485-1.82-.485-.65 0-1.391.141-.743.14-1.633.437V16.95q.898-.25 1.68-.375.788-.125 1.484-.125 1.797 0 2.844.82 1.046.813 1.046 2.204 0 .968-.554 1.64-.555.664-1.578.922z\" /></g><g transform=\"translate(0, 200) scale(0.75, 0.75)\" fill=\"#e5e5e5\" stroke=\"#e5e5e5\"><path d=\"M11.016 18.035L7.03 24.262h3.985zm-.414-1.375h1.984v7.602h1.664v1.312h-1.664v2.75h-1.57v-2.75H5.75v-1.523z\" /></g><g transform=\"translate(375, 200) scale(0.75, 0.75)\" fill=\"#e5e5e5\" stroke=\"#e5e5e5\"><path d=\"M11.016 18.035L7.03 24.262h3.985zm-.414-1.375h1.984v7.602h1.664v1.312h-1.664v2.75h-1.57v-2.75H5.75v-1.523z\" /></g><g transform=\"translate(0, 155) scale(0.75, 0.75)\" fill=\"#e5e5e5\" stroke=\"#e5e5e5\"><path d=\"M6.719 16.66h6.195v1.328h-4.75v2.86q.344-.118.688-.172.343-.063.687-.063 1.953 0 3.094 1.07 1.14 1.07 1.14 2.899 0 1.883-1.171 2.93-1.172 1.039-3.305 1.039-.735 0-1.5-.125-.758-.125-1.57-.375v-1.586q.703.383 1.453.57.75.188 1.586.188 1.351 0 2.14-.711.79-.711.79-1.93 0-1.219-.79-1.93-.789-.71-2.14-.71-.633 0-1.266.14-.625.14-1.281.438z\" /></g><g transform=\"translate(375, 155) scale(0.75, 0.75)\" fill=\"#e5e5e5\" stroke=\"#e5e5e5\"><path d=\"M6.719 16.66h6.195v1.328h-4.75v2.86q.344-.118.688-.172.343-.063.687-.063 1.953 0 3.094 1.07 1.14 1.07 1.14 2.899 0 1.883-1.171 2.93-1.172 1.039-3.305 1.039-.735 0-1.5-.125-.758-.125-1.57-.375v-1.586q.703.383 1.453.57.75.188 1.586.188 1.351 0 2.14-.711.79-.711.79-1.93 0-1.219-.79-1.93-.789-.71-2.14-.71-.633 0-1.266.14-.625.14-1.281.438z\" /></g><g transform=\"translate(0, 110) scale(0.75, 0.75)\" fill=\"#e5e5e5\" stroke=\"#e5e5e5\"><path d=\"M10.137 21.863q-1.063 0-1.688.727-.617.726-.617 1.992 0 1.258.617 1.992.625.727 1.688.727 1.062 0 1.68-.727.624-.734.624-1.992 0-1.266-.625-1.992-.617-.727-1.68-.727zm3.133-4.945v1.437q-.594-.28-1.204-.43-.601-.148-1.195-.148-1.562 0-2.39 1.055-.82 1.055-.938 3.188.46-.68 1.156-1.04.696-.367 1.531-.367 1.758 0 2.774 1.07 1.023 1.063 1.023 2.899 0 1.797-1.062 2.883-1.063 1.086-2.828 1.086-2.024 0-3.094-1.547-1.07-1.555-1.07-4.5 0-2.766 1.312-4.406 1.313-1.649 3.524-1.649.593 0 1.195.117.61.118 1.266.352z\" /></g><g transform=\"translate(375, 110) scale(0.75, 0.75)\" fill=\"#e5e5e5\" stroke=\"#e5e5e5\"><path d=\"M10.137 21.863q-1.063 0-1.688.727-.617.726-.617 1.992 0 1.258.617 1.992.625.727 1.688.727 1.062 0 1.68-.727.624-.734.624-1.992 0-1.266-.625-1.992-.617-.727-1.68-.727zm3.133-4.945v1.437q-.594-.28-1.204-.43-.601-.148-1.195-.148-1.562 0-2.39 1.055-.82 1.055-.938 3.188.46-.68 1.156-1.04.696-.367 1.531-.367 1.758 0 2.774 1.07 1.023 1.063 1.023 2.899 0 1.797-1.062 2.883-1.063 1.086-2.828 1.086-2.024 0-3.094-1.547-1.07-1.555-1.07-4.5 0-2.766 1.312-4.406 1.313-1.649 3.524-1.649.593 0 1.195.117.61.118 1.266.352z\" /></g><g transform=\"translate(0, 65) scale(0.75, 0.75)\" fill=\"#e5e5e5\" stroke=\"#e5e5e5\"><path d=\"M6.25 16.66h7.5v.672L9.516 28.324H7.867l3.985-10.336H6.25z\" /></g><g transform=\"translate(375, 65) scale(0.75, 0.75)\" fill=\"#e5e5e5\" stroke=\"#e5e5e5\"><path d=\"M6.25 16.66h7.5v.672L9.516 28.324H7.867l3.985-10.336H6.25z\" /></g><g transform=\"translate(0, 20) scale(0.75, 0.75)\" fill=\"#e5e5e5\" stroke=\"#e5e5e5\"><path d=\"M10 22.785q-1.125 0-1.773.602-.641.601-.641 1.656t.64 1.656q.649.602 1.774.602t1.773-.602q.649-.61.649-1.656 0-1.055-.649-1.656-.64-.602-1.773-.602zm-1.578-.672q-1.016-.25-1.586-.945-.563-.695-.563-1.695 0-1.399.993-2.211 1-.813 2.734-.813 1.742 0 2.734.813.993.812.993 2.21 0 1-.57 1.696-.563.695-1.571.945 1.14.266 1.773 1.04.641.773.641 1.89 0 1.695-1.04 2.602-1.03.906-2.96.906t-2.969-.906Q6 26.738 6 25.043q0-1.117.64-1.89.641-.774 1.782-1.04zm-.578-2.492q0 .906.562 1.414.57.508 1.594.508 1.016 0 1.586-.508.578-.508.578-1.414 0-.906-.578-1.414-.57-.508-1.586-.508-1.023 0-1.594.508-.562.508-.562 1.414z\" /></g><g transform=\"translate(375, 20) scale(0.75, 0.75)\" fill=\"#e5e5e5\" stroke=\"#e5e5e5\"><path d=\"M10 22.785q-1.125 0-1.773.602-.641.601-.641 1.656t.64 1.656q.649.602 1.774.602t1.773-.602q.649-.61.649-1.656 0-1.055-.649-1.656-.64-.602-1.773-.602zm-1.578-.672q-1.016-.25-1.586-.945-.563-.695-.563-1.695 0-1.399.993-2.211 1-.813 2.734-.813 1.742 0 2.734.813.993.812.993 2.21 0 1-.57 1.696-.563.695-1.571.945 1.14.266 1.773 1.04.641.773.641 1.89 0 1.695-1.04 2.602-1.03.906-2.96.906t-2.969-.906Q6 26.738 6 25.043q0-1.117.64-1.89.641-.774 1.782-1.04zm-.578-2.492q0 .906.562 1.414.57.508 1.594.508 1.016 0 1.586-.508.578-.508.578-1.414 0-.906-.578-1.414-.57-.508-1.586-.508-1.023 0-1.594.508-.562.508-.562 1.414z\" /></g><rect x=\"15\" y=\"330\" width=\"45\" height=\"45\" class=\"square dark a1\" stroke=\"none\" fill=\"#d18b47\" /><rect x=\"60\" y=\"330\" width=\"45\" height=\"45\" class=\"square light b1\" stroke=\"none\" fill=\"#ffce9e\" /><rect x=\"105\" y=\"330\" width=\"45\" height=\"45\" class=\"square dark c1\" stroke=\"none\" fill=\"#d18b47\" /><rect x=\"150\" y=\"330\" width=\"45\" height=\"45\" class=\"square light d1\" stroke=\"none\" fill=\"#ffce9e\" /><rect x=\"195\" y=\"330\" width=\"45\" height=\"45\" class=\"square dark e1\" stroke=\"none\" fill=\"#d18b47\" /><rect x=\"240\" y=\"330\" width=\"45\" height=\"45\" class=\"square light f1\" stroke=\"none\" fill=\"#ffce9e\" /><rect x=\"285\" y=\"330\" width=\"45\" height=\"45\" class=\"square dark g1\" stroke=\"none\" fill=\"#d18b47\" /><rect x=\"330\" y=\"330\" width=\"45\" height=\"45\" class=\"square light h1\" stroke=\"none\" fill=\"#ffce9e\" /><rect x=\"15\" y=\"285\" width=\"45\" height=\"45\" class=\"square light a2\" stroke=\"none\" fill=\"#ffce9e\" /><rect x=\"60\" y=\"285\" width=\"45\" height=\"45\" class=\"square dark b2\" stroke=\"none\" fill=\"#d18b47\" /><rect x=\"105\" y=\"285\" width=\"45\" height=\"45\" class=\"square light c2\" stroke=\"none\" fill=\"#ffce9e\" /><rect x=\"150\" y=\"285\" width=\"45\" height=\"45\" class=\"square dark d2\" stroke=\"none\" fill=\"#d18b47\" /><rect x=\"195\" y=\"285\" width=\"45\" height=\"45\" class=\"square light e2\" stroke=\"none\" fill=\"#ffce9e\" /><rect x=\"240\" y=\"285\" width=\"45\" height=\"45\" class=\"square dark f2\" stroke=\"none\" fill=\"#d18b47\" /><rect x=\"285\" y=\"285\" width=\"45\" height=\"45\" class=\"square light g2\" stroke=\"none\" fill=\"#ffce9e\" /><rect x=\"330\" y=\"285\" width=\"45\" height=\"45\" class=\"square dark h2\" stroke=\"none\" fill=\"#d18b47\" /><rect x=\"15\" y=\"240\" width=\"45\" height=\"45\" class=\"square dark a3\" stroke=\"none\" fill=\"#d18b47\" /><rect x=\"60\" y=\"240\" width=\"45\" height=\"45\" class=\"square light b3\" stroke=\"none\" fill=\"#ffce9e\" /><rect x=\"105\" y=\"240\" width=\"45\" height=\"45\" class=\"square dark c3\" stroke=\"none\" fill=\"#d18b47\" /><rect x=\"150\" y=\"240\" width=\"45\" height=\"45\" class=\"square light d3\" stroke=\"none\" fill=\"#ffce9e\" /><rect x=\"195\" y=\"240\" width=\"45\" height=\"45\" class=\"square dark e3\" stroke=\"none\" fill=\"#d18b47\" /><rect x=\"240\" y=\"240\" width=\"45\" height=\"45\" class=\"square light f3\" stroke=\"none\" fill=\"#ffce9e\" /><rect x=\"285\" y=\"240\" width=\"45\" height=\"45\" class=\"square dark g3\" stroke=\"none\" fill=\"#d18b47\" /><rect x=\"330\" y=\"240\" width=\"45\" height=\"45\" class=\"square light h3\" stroke=\"none\" fill=\"#ffce9e\" /><rect x=\"15\" y=\"195\" width=\"45\" height=\"45\" class=\"square light a4\" stroke=\"none\" fill=\"#ffce9e\" /><rect x=\"60\" y=\"195\" width=\"45\" height=\"45\" class=\"square dark b4\" stroke=\"none\" fill=\"#d18b47\" /><rect x=\"105\" y=\"195\" width=\"45\" height=\"45\" class=\"square light c4\" stroke=\"none\" fill=\"#ffce9e\" /><rect x=\"150\" y=\"195\" width=\"45\" height=\"45\" class=\"square dark d4\" stroke=\"none\" fill=\"#d18b47\" /><rect x=\"195\" y=\"195\" width=\"45\" height=\"45\" class=\"square light e4\" stroke=\"none\" fill=\"#ffce9e\" /><rect x=\"240\" y=\"195\" width=\"45\" height=\"45\" class=\"square dark f4\" stroke=\"none\" fill=\"#d18b47\" /><rect x=\"285\" y=\"195\" width=\"45\" height=\"45\" class=\"square light g4\" stroke=\"none\" fill=\"#ffce9e\" /><rect x=\"330\" y=\"195\" width=\"45\" height=\"45\" class=\"square dark h4\" stroke=\"none\" fill=\"#d18b47\" /><rect x=\"15\" y=\"150\" width=\"45\" height=\"45\" class=\"square dark a5\" stroke=\"none\" fill=\"#d18b47\" /><rect x=\"60\" y=\"150\" width=\"45\" height=\"45\" class=\"square light b5\" stroke=\"none\" fill=\"#ffce9e\" /><rect x=\"105\" y=\"150\" width=\"45\" height=\"45\" class=\"square dark c5\" stroke=\"none\" fill=\"#d18b47\" /><rect x=\"150\" y=\"150\" width=\"45\" height=\"45\" class=\"square light d5\" stroke=\"none\" fill=\"#ffce9e\" /><rect x=\"195\" y=\"150\" width=\"45\" height=\"45\" class=\"square dark e5\" stroke=\"none\" fill=\"#d18b47\" /><rect x=\"240\" y=\"150\" width=\"45\" height=\"45\" class=\"square light f5\" stroke=\"none\" fill=\"#ffce9e\" /><rect x=\"285\" y=\"150\" width=\"45\" height=\"45\" class=\"square dark g5\" stroke=\"none\" fill=\"#d18b47\" /><rect x=\"330\" y=\"150\" width=\"45\" height=\"45\" class=\"square light h5\" stroke=\"none\" fill=\"#ffce9e\" /><rect x=\"15\" y=\"105\" width=\"45\" height=\"45\" class=\"square light a6\" stroke=\"none\" fill=\"#ffce9e\" /><rect x=\"60\" y=\"105\" width=\"45\" height=\"45\" class=\"square dark b6\" stroke=\"none\" fill=\"#d18b47\" /><rect x=\"105\" y=\"105\" width=\"45\" height=\"45\" class=\"square light c6\" stroke=\"none\" fill=\"#ffce9e\" /><rect x=\"150\" y=\"105\" width=\"45\" height=\"45\" class=\"square dark d6\" stroke=\"none\" fill=\"#d18b47\" /><rect x=\"195\" y=\"105\" width=\"45\" height=\"45\" class=\"square light e6\" stroke=\"none\" fill=\"#ffce9e\" /><rect x=\"240\" y=\"105\" width=\"45\" height=\"45\" class=\"square dark f6\" stroke=\"none\" fill=\"#d18b47\" /><rect x=\"285\" y=\"105\" width=\"45\" height=\"45\" class=\"square light g6\" stroke=\"none\" fill=\"#ffce9e\" /><rect x=\"330\" y=\"105\" width=\"45\" height=\"45\" class=\"square dark h6\" stroke=\"none\" fill=\"#d18b47\" /><rect x=\"15\" y=\"60\" width=\"45\" height=\"45\" class=\"square dark a7\" stroke=\"none\" fill=\"#d18b47\" /><rect x=\"60\" y=\"60\" width=\"45\" height=\"45\" class=\"square light b7\" stroke=\"none\" fill=\"#ffce9e\" /><rect x=\"105\" y=\"60\" width=\"45\" height=\"45\" class=\"square dark c7\" stroke=\"none\" fill=\"#d18b47\" /><rect x=\"150\" y=\"60\" width=\"45\" height=\"45\" class=\"square light d7\" stroke=\"none\" fill=\"#ffce9e\" /><rect x=\"195\" y=\"60\" width=\"45\" height=\"45\" class=\"square dark e7\" stroke=\"none\" fill=\"#d18b47\" /><rect x=\"240\" y=\"60\" width=\"45\" height=\"45\" class=\"square light f7\" stroke=\"none\" fill=\"#ffce9e\" /><rect x=\"285\" y=\"60\" width=\"45\" height=\"45\" class=\"square dark g7\" stroke=\"none\" fill=\"#d18b47\" /><rect x=\"330\" y=\"60\" width=\"45\" height=\"45\" class=\"square light h7\" stroke=\"none\" fill=\"#ffce9e\" /><rect x=\"15\" y=\"15\" width=\"45\" height=\"45\" class=\"square light a8\" stroke=\"none\" fill=\"#ffce9e\" /><rect x=\"60\" y=\"15\" width=\"45\" height=\"45\" class=\"square dark b8\" stroke=\"none\" fill=\"#d18b47\" /><rect x=\"105\" y=\"15\" width=\"45\" height=\"45\" class=\"square light c8\" stroke=\"none\" fill=\"#ffce9e\" /><rect x=\"150\" y=\"15\" width=\"45\" height=\"45\" class=\"square dark d8\" stroke=\"none\" fill=\"#d18b47\" /><rect x=\"195\" y=\"15\" width=\"45\" height=\"45\" class=\"square light e8\" stroke=\"none\" fill=\"#ffce9e\" /><rect x=\"240\" y=\"15\" width=\"45\" height=\"45\" class=\"square dark f8\" stroke=\"none\" fill=\"#d18b47\" /><rect x=\"285\" y=\"15\" width=\"45\" height=\"45\" class=\"square light g8\" stroke=\"none\" fill=\"#ffce9e\" /><rect x=\"330\" y=\"15\" width=\"45\" height=\"45\" class=\"square dark h8\" stroke=\"none\" fill=\"#d18b47\" /><use href=\"#white-king\" xlink:href=\"#white-king\" transform=\"translate(195, 285)\" /><use href=\"#white-queen\" xlink:href=\"#white-queen\" transform=\"translate(105, 240)\" /><use href=\"#white-rook\" xlink:href=\"#white-rook\" transform=\"translate(240, 240)\" /><use href=\"#black-bishop\" xlink:href=\"#black-bishop\" transform=\"translate(150, 60)\" /><use href=\"#black-knight\" xlink:href=\"#black-knight\" transform=\"translate(240, 60)\" /><use href=\"#black-king\" xlink:href=\"#black-king\" transform=\"translate(195, 15)\" /></svg>"
     },
     "metadata": {},
     "output_type": "display_data"
    },
    {
     "name": "stdout",
     "text": "White has played: f3f7\nBlack has played: e8f7\nWhite has played: c3c5\nBlack has played: d7g4\nWhite has played: e2d3\nBlack has played: g4d7\nWhite has played: c5d6\nBlack has played: d7e6\nWhite has played: d3e4\nBlack has played: f7f6\nWhite has played: e4f4\nBlack has played: f6f7\nWhite has played: f4e5\nBlack has played: e6h3\nWhite has played: d6f6\nBlack has played: f7g8\nWhite has played: f6g6\nBlack has played: g8f8\nWhite has played: e5f6\nBlack has played: h3e6\nWhite has played: g6g7\nBlack has played: f8e8\nWhite has played: g7e7\n",
     "output_type": "stream"
    },
    {
     "data": {
      "text/plain": "Board('4k3/4Q3/4bK2/8/8/8/8/8 b - - 21 12')",
      "image/svg+xml": "<svg xmlns=\"http://www.w3.org/2000/svg\" xmlns:xlink=\"http://www.w3.org/1999/xlink\" version=\"1.2\" baseProfile=\"tiny\" viewBox=\"0 0 390 390\" width=\"390\" height=\"390\"><defs><g id=\"white-queen\" class=\"white queen\" fill=\"#fff\" fill-rule=\"evenodd\" stroke=\"#000\" stroke-width=\"1.5\" stroke-linecap=\"round\" stroke-linejoin=\"round\"><path d=\"M8 12a2 2 0 1 1-4 0 2 2 0 1 1 4 0zM24.5 7.5a2 2 0 1 1-4 0 2 2 0 1 1 4 0zM41 12a2 2 0 1 1-4 0 2 2 0 1 1 4 0zM16 8.5a2 2 0 1 1-4 0 2 2 0 1 1 4 0zM33 9a2 2 0 1 1-4 0 2 2 0 1 1 4 0z\" /><path d=\"M9 26c8.5-1.5 21-1.5 27 0l2-12-7 11V11l-5.5 13.5-3-15-3 15-5.5-14V25L7 14l2 12zM9 26c0 2 1.5 2 2.5 4 1 1.5 1 1 .5 3.5-1.5 1-1.5 2.5-1.5 2.5-1.5 1.5.5 2.5.5 2.5 6.5 1 16.5 1 23 0 0 0 1.5-1 0-2.5 0 0 .5-1.5-1-2.5-.5-2.5-.5-2 .5-3.5 1-2 2.5-2 2.5-4-8.5-1.5-18.5-1.5-27 0z\" stroke-linecap=\"butt\" /><path d=\"M11.5 30c3.5-1 18.5-1 22 0M12 33.5c6-1 15-1 21 0\" fill=\"none\" /></g><g id=\"white-king\" class=\"white king\" fill=\"none\" fill-rule=\"evenodd\" stroke=\"#000\" stroke-width=\"1.5\" stroke-linecap=\"round\" stroke-linejoin=\"round\"><path d=\"M22.5 11.63V6M20 8h5\" stroke-linejoin=\"miter\" /><path d=\"M22.5 25s4.5-7.5 3-10.5c0 0-1-2.5-3-2.5s-3 2.5-3 2.5c-1.5 3 3 10.5 3 10.5\" fill=\"#fff\" stroke-linecap=\"butt\" stroke-linejoin=\"miter\" /><path d=\"M11.5 37c5.5 3.5 15.5 3.5 21 0v-7s9-4.5 6-10.5c-4-6.5-13.5-3.5-16 4V27v-3.5c-3.5-7.5-13-10.5-16-4-3 6 5 10 5 10V37z\" fill=\"#fff\" /><path d=\"M11.5 30c5.5-3 15.5-3 21 0m-21 3.5c5.5-3 15.5-3 21 0m-21 3.5c5.5-3 15.5-3 21 0\" /></g><g id=\"black-bishop\" class=\"black bishop\" fill=\"none\" fill-rule=\"evenodd\" stroke=\"#000\" stroke-width=\"1.5\" stroke-linecap=\"round\" stroke-linejoin=\"round\"><path d=\"M9 36c3.39-.97 10.11.43 13.5-2 3.39 2.43 10.11 1.03 13.5 2 0 0 1.65.54 3 2-.68.97-1.65.99-3 .5-3.39-.97-10.11.46-13.5-1-3.39 1.46-10.11.03-13.5 1-1.354.49-2.323.47-3-.5 1.354-1.94 3-2 3-2zm6-4c2.5 2.5 12.5 2.5 15 0 .5-1.5 0-2 0-2 0-2.5-2.5-4-2.5-4 5.5-1.5 6-11.5-5-15.5-11 4-10.5 14-5 15.5 0 0-2.5 1.5-2.5 4 0 0-.5.5 0 2zM25 8a2.5 2.5 0 1 1-5 0 2.5 2.5 0 1 1 5 0z\" fill=\"#000\" stroke-linecap=\"butt\" /><path d=\"M17.5 26h10M15 30h15m-7.5-14.5v5M20 18h5\" stroke=\"#fff\" stroke-linejoin=\"miter\" /></g><g id=\"black-king\" class=\"black king\" fill=\"none\" fill-rule=\"evenodd\" stroke=\"#000\" stroke-width=\"1.5\" stroke-linecap=\"round\" stroke-linejoin=\"round\"><path d=\"M22.5 11.63V6\" stroke-linejoin=\"miter\" /><path d=\"M22.5 25s4.5-7.5 3-10.5c0 0-1-2.5-3-2.5s-3 2.5-3 2.5c-1.5 3 3 10.5 3 10.5\" fill=\"#000\" stroke-linecap=\"butt\" stroke-linejoin=\"miter\" /><path d=\"M11.5 37c5.5 3.5 15.5 3.5 21 0v-7s9-4.5 6-10.5c-4-6.5-13.5-3.5-16 4V27v-3.5c-3.5-7.5-13-10.5-16-4-3 6 5 10 5 10V37z\" fill=\"#000\" /><path d=\"M20 8h5\" stroke-linejoin=\"miter\" /><path d=\"M32 29.5s8.5-4 6.03-9.65C34.15 14 25 18 22.5 24.5l.01 2.1-.01-2.1C20 18 9.906 14 6.997 19.85c-2.497 5.65 4.853 9 4.853 9M11.5 30c5.5-3 15.5-3 21 0m-21 3.5c5.5-3 15.5-3 21 0m-21 3.5c5.5-3 15.5-3 21 0\" stroke=\"#fff\" /></g><radialGradient id=\"check_gradient\" r=\"0.5\"><stop offset=\"0%\" stop-color=\"#ff0000\" stop-opacity=\"1.0\" /><stop offset=\"50%\" stop-color=\"#e70000\" stop-opacity=\"1.0\" /><stop offset=\"100%\" stop-color=\"#9e0000\" stop-opacity=\"0.0\" /></radialGradient></defs><rect x=\"0\" y=\"0\" width=\"390\" height=\"390\" fill=\"#212121\" /><g transform=\"translate(20, 0) scale(0.75, 0.75)\" fill=\"#e5e5e5\" stroke=\"#e5e5e5\"><path d=\"M23.328 10.016q-1.742 0-2.414.398-.672.398-.672 1.36 0 .765.5 1.218.508.445 1.375.445 1.196 0 1.914-.843.727-.852.727-2.258v-.32zm2.867-.594v4.992h-1.437v-1.328q-.492.797-1.227 1.18-.734.375-1.797.375-1.343 0-2.14-.75-.79-.758-.79-2.024 0-1.476.985-2.226.992-.75 2.953-.75h2.016V8.75q0-.992-.656-1.531-.649-.547-1.829-.547-.75 0-1.46.18-.711.18-1.368.539V6.062q.79-.304 1.532-.453.742-.156 1.445-.156 1.898 0 2.836.984.937.985.937 2.985z\" /></g><g transform=\"translate(20, 375) scale(0.75, 0.75)\" fill=\"#e5e5e5\" stroke=\"#e5e5e5\"><path d=\"M23.328 10.016q-1.742 0-2.414.398-.672.398-.672 1.36 0 .765.5 1.218.508.445 1.375.445 1.196 0 1.914-.843.727-.852.727-2.258v-.32zm2.867-.594v4.992h-1.437v-1.328q-.492.797-1.227 1.18-.734.375-1.797.375-1.343 0-2.14-.75-.79-.758-.79-2.024 0-1.476.985-2.226.992-.75 2.953-.75h2.016V8.75q0-.992-.656-1.531-.649-.547-1.829-.547-.75 0-1.46.18-.711.18-1.368.539V6.062q.79-.304 1.532-.453.742-.156 1.445-.156 1.898 0 2.836.984.937.985.937 2.985z\" /></g><g transform=\"translate(65, 0) scale(0.75, 0.75)\" fill=\"#e5e5e5\" stroke=\"#e5e5e5\"><path d=\"M24.922 10.047q0-1.586-.656-2.485-.649-.906-1.79-.906-1.14 0-1.796.906-.649.899-.649 2.485 0 1.586.649 2.492.656.898 1.797.898 1.14 0 1.789-.898.656-.906.656-2.492zm-4.89-3.055q.452-.781 1.14-1.156.695-.383 1.656-.383 1.594 0 2.586 1.266 1 1.265 1 3.328 0 2.062-1 3.328-.992 1.266-2.586 1.266-.96 0-1.656-.375-.688-.383-1.14-1.164v1.312h-1.446V2.258h1.445z\" /></g><g transform=\"translate(65, 375) scale(0.75, 0.75)\" fill=\"#e5e5e5\" stroke=\"#e5e5e5\"><path d=\"M24.922 10.047q0-1.586-.656-2.485-.649-.906-1.79-.906-1.14 0-1.796.906-.649.899-.649 2.485 0 1.586.649 2.492.656.898 1.797.898 1.14 0 1.789-.898.656-.906.656-2.492zm-4.89-3.055q.452-.781 1.14-1.156.695-.383 1.656-.383 1.594 0 2.586 1.266 1 1.265 1 3.328 0 2.062-1 3.328-.992 1.266-2.586 1.266-.96 0-1.656-.375-.688-.383-1.14-1.164v1.312h-1.446V2.258h1.445z\" /></g><g transform=\"translate(110, 0) scale(0.75, 0.75)\" fill=\"#e5e5e5\" stroke=\"#e5e5e5\"><path d=\"M25.96 6v1.344q-.608-.336-1.226-.5-.609-.172-1.234-.172-1.398 0-2.172.89-.773.883-.773 2.485 0 1.601.773 2.492.774.883 2.172.883.625 0 1.234-.164.618-.172 1.227-.508v1.328q-.602.281-1.25.422-.64.14-1.367.14-1.977 0-3.14-1.242-1.165-1.242-1.165-3.351 0-2.14 1.172-3.367 1.18-1.227 3.227-1.227.664 0 1.296.14.633.134 1.227.407z\" /></g><g transform=\"translate(110, 375) scale(0.75, 0.75)\" fill=\"#e5e5e5\" stroke=\"#e5e5e5\"><path d=\"M25.96 6v1.344q-.608-.336-1.226-.5-.609-.172-1.234-.172-1.398 0-2.172.89-.773.883-.773 2.485 0 1.601.773 2.492.774.883 2.172.883.625 0 1.234-.164.618-.172 1.227-.508v1.328q-.602.281-1.25.422-.64.14-1.367.14-1.977 0-3.14-1.242-1.165-1.242-1.165-3.351 0-2.14 1.172-3.367 1.18-1.227 3.227-1.227.664 0 1.296.14.633.134 1.227.407z\" /></g><g transform=\"translate(155, 0) scale(0.75, 0.75)\" fill=\"#e5e5e5\" stroke=\"#e5e5e5\"><path d=\"M24.973 6.992V2.258h1.437v12.156h-1.437v-1.312q-.453.78-1.149 1.164-.687.375-1.656.375-1.586 0-2.586-1.266-.992-1.266-.992-3.328 0-2.063.992-3.328 1-1.266 2.586-1.266.969 0 1.656.383.696.375 1.149 1.156zm-4.899 3.055q0 1.586.649 2.492.656.898 1.797.898 1.14 0 1.796-.898.657-.906.657-2.492 0-1.586-.657-2.485-.656-.906-1.796-.906-1.141 0-1.797.906-.649.899-.649 2.485z\" /></g><g transform=\"translate(155, 375) scale(0.75, 0.75)\" fill=\"#e5e5e5\" stroke=\"#e5e5e5\"><path d=\"M24.973 6.992V2.258h1.437v12.156h-1.437v-1.312q-.453.78-1.149 1.164-.687.375-1.656.375-1.586 0-2.586-1.266-.992-1.266-.992-3.328 0-2.063.992-3.328 1-1.266 2.586-1.266.969 0 1.656.383.696.375 1.149 1.156zm-4.899 3.055q0 1.586.649 2.492.656.898 1.797.898 1.14 0 1.796-.898.657-.906.657-2.492 0-1.586-.657-2.485-.656-.906-1.796-.906-1.141 0-1.797.906-.649.899-.649 2.485z\" /></g><g transform=\"translate(200, 0) scale(0.75, 0.75)\" fill=\"#e5e5e5\" stroke=\"#e5e5e5\"><path d=\"M26.555 9.68v.703h-6.61q.094 1.484.89 2.265.806.774 2.235.774.828 0 1.602-.203.781-.203 1.547-.61v1.36q-.774.328-1.586.5-.813.172-1.649.172-2.093 0-3.32-1.22-1.219-1.218-1.219-3.296 0-2.148 1.157-3.406 1.164-1.266 3.132-1.266 1.766 0 2.79 1.14 1.03 1.134 1.03 3.087zm-1.438-.422q-.015-1.18-.664-1.883-.64-.703-1.703-.703-1.203 0-1.93.68-.718.68-.828 1.914z\" /></g><g transform=\"translate(200, 375) scale(0.75, 0.75)\" fill=\"#e5e5e5\" stroke=\"#e5e5e5\"><path d=\"M26.555 9.68v.703h-6.61q.094 1.484.89 2.265.806.774 2.235.774.828 0 1.602-.203.781-.203 1.547-.61v1.36q-.774.328-1.586.5-.813.172-1.649.172-2.093 0-3.32-1.22-1.219-1.218-1.219-3.296 0-2.148 1.157-3.406 1.164-1.266 3.132-1.266 1.766 0 2.79 1.14 1.03 1.134 1.03 3.087zm-1.438-.422q-.015-1.18-.664-1.883-.64-.703-1.703-.703-1.203 0-1.93.68-.718.68-.828 1.914z\" /></g><g transform=\"translate(245, 0) scale(0.75, 0.75)\" fill=\"#e5e5e5\" stroke=\"#e5e5e5\"><path d=\"M25.285 2.258v1.195H23.91q-.773 0-1.078.313-.297.312-.297 1.125v.773h2.367v1.117h-2.367v7.633H21.09V6.781h-1.375V5.664h1.375v-.61q0-1.46.68-2.124.68-.672 2.156-.672z\" /></g><g transform=\"translate(245, 375) scale(0.75, 0.75)\" fill=\"#e5e5e5\" stroke=\"#e5e5e5\"><path d=\"M25.285 2.258v1.195H23.91q-.773 0-1.078.313-.297.312-.297 1.125v.773h2.367v1.117h-2.367v7.633H21.09V6.781h-1.375V5.664h1.375v-.61q0-1.46.68-2.124.68-.672 2.156-.672z\" /></g><g transform=\"translate(290, 0) scale(0.75, 0.75)\" fill=\"#e5e5e5\" stroke=\"#e5e5e5\"><path d=\"M24.973 9.937q0-1.562-.649-2.421-.64-.86-1.804-.86-1.157 0-1.805.86-.64.859-.64 2.421 0 1.555.64 2.415.648.859 1.805.859 1.164 0 1.804-.86.649-.859.649-2.414zm1.437 3.391q0 2.234-.992 3.32-.992 1.094-3.04 1.094-.757 0-1.429-.117-.672-.11-1.304-.344v-1.398q.632.344 1.25.508.617.164 1.257.164 1.414 0 2.118-.743.703-.734.703-2.226v-.711q-.446.773-1.141 1.156-.695.383-1.664.383-1.61 0-2.594-1.227-.984-1.226-.984-3.25 0-2.03.984-3.257.985-1.227 2.594-1.227.969 0 1.664.383t1.14 1.156V5.664h1.438z\" /></g><g transform=\"translate(290, 375) scale(0.75, 0.75)\" fill=\"#e5e5e5\" stroke=\"#e5e5e5\"><path d=\"M24.973 9.937q0-1.562-.649-2.421-.64-.86-1.804-.86-1.157 0-1.805.86-.64.859-.64 2.421 0 1.555.64 2.415.648.859 1.805.859 1.164 0 1.804-.86.649-.859.649-2.414zm1.437 3.391q0 2.234-.992 3.32-.992 1.094-3.04 1.094-.757 0-1.429-.117-.672-.11-1.304-.344v-1.398q.632.344 1.25.508.617.164 1.257.164 1.414 0 2.118-.743.703-.734.703-2.226v-.711q-.446.773-1.141 1.156-.695.383-1.664.383-1.61 0-2.594-1.227-.984-1.226-.984-3.25 0-2.03.984-3.257.985-1.227 2.594-1.227.969 0 1.664.383t1.14 1.156V5.664h1.438z\" /></g><g transform=\"translate(335, 0) scale(0.75, 0.75)\" fill=\"#e5e5e5\" stroke=\"#e5e5e5\"><path d=\"M26.164 9.133v5.281h-1.437V9.18q0-1.243-.485-1.86-.484-.617-1.453-.617-1.164 0-1.836.742-.672.742-.672 2.024v4.945h-1.445V2.258h1.445v4.765q.516-.789 1.211-1.18.703-.39 1.617-.39 1.508 0 2.282.938.773.93.773 2.742z\" /></g><g transform=\"translate(335, 375) scale(0.75, 0.75)\" fill=\"#e5e5e5\" stroke=\"#e5e5e5\"><path d=\"M26.164 9.133v5.281h-1.437V9.18q0-1.243-.485-1.86-.484-.617-1.453-.617-1.164 0-1.836.742-.672.742-.672 2.024v4.945h-1.445V2.258h1.445v4.765q.516-.789 1.211-1.18.703-.39 1.617-.39 1.508 0 2.282.938.773.93.773 2.742z\" /></g><g transform=\"translate(0, 335) scale(0.75, 0.75)\" fill=\"#e5e5e5\" stroke=\"#e5e5e5\"><path d=\"M6.754 26.996h2.578v-8.898l-2.805.562v-1.437l2.79-.563h1.578v10.336h2.578v1.328h-6.72z\" /></g><g transform=\"translate(375, 335) scale(0.75, 0.75)\" fill=\"#e5e5e5\" stroke=\"#e5e5e5\"><path d=\"M6.754 26.996h2.578v-8.898l-2.805.562v-1.437l2.79-.563h1.578v10.336h2.578v1.328h-6.72z\" /></g><g transform=\"translate(0, 290) scale(0.75, 0.75)\" fill=\"#e5e5e5\" stroke=\"#e5e5e5\"><path d=\"M8.195 26.996h5.508v1.328H6.297v-1.328q.898-.93 2.445-2.492 1.555-1.57 1.953-2.024.758-.851 1.055-1.437.305-.594.305-1.164 0-.93-.657-1.516-.648-.586-1.695-.586-.742 0-1.57.258-.82.258-1.758.781v-1.593q.953-.383 1.781-.578.828-.196 1.516-.196 1.812 0 2.89.906 1.079.907 1.079 2.422 0 .72-.274 1.368-.265.64-.976 1.515-.196.227-1.243 1.313-1.046 1.078-2.953 3.023z\" /></g><g transform=\"translate(375, 290) scale(0.75, 0.75)\" fill=\"#e5e5e5\" stroke=\"#e5e5e5\"><path d=\"M8.195 26.996h5.508v1.328H6.297v-1.328q.898-.93 2.445-2.492 1.555-1.57 1.953-2.024.758-.851 1.055-1.437.305-.594.305-1.164 0-.93-.657-1.516-.648-.586-1.695-.586-.742 0-1.57.258-.82.258-1.758.781v-1.593q.953-.383 1.781-.578.828-.196 1.516-.196 1.812 0 2.89.906 1.079.907 1.079 2.422 0 .72-.274 1.368-.265.64-.976 1.515-.196.227-1.243 1.313-1.046 1.078-2.953 3.023z\" /></g><g transform=\"translate(0, 245) scale(0.75, 0.75)\" fill=\"#e5e5e5\" stroke=\"#e5e5e5\"><path d=\"M11.434 22.035q1.132.242 1.765 1.008.64.766.64 1.89 0 1.727-1.187 2.672-1.187.946-3.375.946-.734 0-1.515-.149-.774-.14-1.602-.43V26.45q.656.383 1.438.578.78.196 1.632.196 1.485 0 2.258-.586.782-.586.782-1.703 0-1.032-.727-1.61-.719-.586-2.008-.586h-1.36v-1.297h1.423q1.164 0 1.78-.46.618-.47.618-1.344 0-.899-.64-1.375-.633-.485-1.82-.485-.65 0-1.391.141-.743.14-1.633.437V16.95q.898-.25 1.68-.375.788-.125 1.484-.125 1.797 0 2.844.82 1.046.813 1.046 2.204 0 .968-.554 1.64-.555.664-1.578.922z\" /></g><g transform=\"translate(375, 245) scale(0.75, 0.75)\" fill=\"#e5e5e5\" stroke=\"#e5e5e5\"><path d=\"M11.434 22.035q1.132.242 1.765 1.008.64.766.64 1.89 0 1.727-1.187 2.672-1.187.946-3.375.946-.734 0-1.515-.149-.774-.14-1.602-.43V26.45q.656.383 1.438.578.78.196 1.632.196 1.485 0 2.258-.586.782-.586.782-1.703 0-1.032-.727-1.61-.719-.586-2.008-.586h-1.36v-1.297h1.423q1.164 0 1.78-.46.618-.47.618-1.344 0-.899-.64-1.375-.633-.485-1.82-.485-.65 0-1.391.141-.743.14-1.633.437V16.95q.898-.25 1.68-.375.788-.125 1.484-.125 1.797 0 2.844.82 1.046.813 1.046 2.204 0 .968-.554 1.64-.555.664-1.578.922z\" /></g><g transform=\"translate(0, 200) scale(0.75, 0.75)\" fill=\"#e5e5e5\" stroke=\"#e5e5e5\"><path d=\"M11.016 18.035L7.03 24.262h3.985zm-.414-1.375h1.984v7.602h1.664v1.312h-1.664v2.75h-1.57v-2.75H5.75v-1.523z\" /></g><g transform=\"translate(375, 200) scale(0.75, 0.75)\" fill=\"#e5e5e5\" stroke=\"#e5e5e5\"><path d=\"M11.016 18.035L7.03 24.262h3.985zm-.414-1.375h1.984v7.602h1.664v1.312h-1.664v2.75h-1.57v-2.75H5.75v-1.523z\" /></g><g transform=\"translate(0, 155) scale(0.75, 0.75)\" fill=\"#e5e5e5\" stroke=\"#e5e5e5\"><path d=\"M6.719 16.66h6.195v1.328h-4.75v2.86q.344-.118.688-.172.343-.063.687-.063 1.953 0 3.094 1.07 1.14 1.07 1.14 2.899 0 1.883-1.171 2.93-1.172 1.039-3.305 1.039-.735 0-1.5-.125-.758-.125-1.57-.375v-1.586q.703.383 1.453.57.75.188 1.586.188 1.351 0 2.14-.711.79-.711.79-1.93 0-1.219-.79-1.93-.789-.71-2.14-.71-.633 0-1.266.14-.625.14-1.281.438z\" /></g><g transform=\"translate(375, 155) scale(0.75, 0.75)\" fill=\"#e5e5e5\" stroke=\"#e5e5e5\"><path d=\"M6.719 16.66h6.195v1.328h-4.75v2.86q.344-.118.688-.172.343-.063.687-.063 1.953 0 3.094 1.07 1.14 1.07 1.14 2.899 0 1.883-1.171 2.93-1.172 1.039-3.305 1.039-.735 0-1.5-.125-.758-.125-1.57-.375v-1.586q.703.383 1.453.57.75.188 1.586.188 1.351 0 2.14-.711.79-.711.79-1.93 0-1.219-.79-1.93-.789-.71-2.14-.71-.633 0-1.266.14-.625.14-1.281.438z\" /></g><g transform=\"translate(0, 110) scale(0.75, 0.75)\" fill=\"#e5e5e5\" stroke=\"#e5e5e5\"><path d=\"M10.137 21.863q-1.063 0-1.688.727-.617.726-.617 1.992 0 1.258.617 1.992.625.727 1.688.727 1.062 0 1.68-.727.624-.734.624-1.992 0-1.266-.625-1.992-.617-.727-1.68-.727zm3.133-4.945v1.437q-.594-.28-1.204-.43-.601-.148-1.195-.148-1.562 0-2.39 1.055-.82 1.055-.938 3.188.46-.68 1.156-1.04.696-.367 1.531-.367 1.758 0 2.774 1.07 1.023 1.063 1.023 2.899 0 1.797-1.062 2.883-1.063 1.086-2.828 1.086-2.024 0-3.094-1.547-1.07-1.555-1.07-4.5 0-2.766 1.312-4.406 1.313-1.649 3.524-1.649.593 0 1.195.117.61.118 1.266.352z\" /></g><g transform=\"translate(375, 110) scale(0.75, 0.75)\" fill=\"#e5e5e5\" stroke=\"#e5e5e5\"><path d=\"M10.137 21.863q-1.063 0-1.688.727-.617.726-.617 1.992 0 1.258.617 1.992.625.727 1.688.727 1.062 0 1.68-.727.624-.734.624-1.992 0-1.266-.625-1.992-.617-.727-1.68-.727zm3.133-4.945v1.437q-.594-.28-1.204-.43-.601-.148-1.195-.148-1.562 0-2.39 1.055-.82 1.055-.938 3.188.46-.68 1.156-1.04.696-.367 1.531-.367 1.758 0 2.774 1.07 1.023 1.063 1.023 2.899 0 1.797-1.062 2.883-1.063 1.086-2.828 1.086-2.024 0-3.094-1.547-1.07-1.555-1.07-4.5 0-2.766 1.312-4.406 1.313-1.649 3.524-1.649.593 0 1.195.117.61.118 1.266.352z\" /></g><g transform=\"translate(0, 65) scale(0.75, 0.75)\" fill=\"#e5e5e5\" stroke=\"#e5e5e5\"><path d=\"M6.25 16.66h7.5v.672L9.516 28.324H7.867l3.985-10.336H6.25z\" /></g><g transform=\"translate(375, 65) scale(0.75, 0.75)\" fill=\"#e5e5e5\" stroke=\"#e5e5e5\"><path d=\"M6.25 16.66h7.5v.672L9.516 28.324H7.867l3.985-10.336H6.25z\" /></g><g transform=\"translate(0, 20) scale(0.75, 0.75)\" fill=\"#e5e5e5\" stroke=\"#e5e5e5\"><path d=\"M10 22.785q-1.125 0-1.773.602-.641.601-.641 1.656t.64 1.656q.649.602 1.774.602t1.773-.602q.649-.61.649-1.656 0-1.055-.649-1.656-.64-.602-1.773-.602zm-1.578-.672q-1.016-.25-1.586-.945-.563-.695-.563-1.695 0-1.399.993-2.211 1-.813 2.734-.813 1.742 0 2.734.813.993.812.993 2.21 0 1-.57 1.696-.563.695-1.571.945 1.14.266 1.773 1.04.641.773.641 1.89 0 1.695-1.04 2.602-1.03.906-2.96.906t-2.969-.906Q6 26.738 6 25.043q0-1.117.64-1.89.641-.774 1.782-1.04zm-.578-2.492q0 .906.562 1.414.57.508 1.594.508 1.016 0 1.586-.508.578-.508.578-1.414 0-.906-.578-1.414-.57-.508-1.586-.508-1.023 0-1.594.508-.562.508-.562 1.414z\" /></g><g transform=\"translate(375, 20) scale(0.75, 0.75)\" fill=\"#e5e5e5\" stroke=\"#e5e5e5\"><path d=\"M10 22.785q-1.125 0-1.773.602-.641.601-.641 1.656t.64 1.656q.649.602 1.774.602t1.773-.602q.649-.61.649-1.656 0-1.055-.649-1.656-.64-.602-1.773-.602zm-1.578-.672q-1.016-.25-1.586-.945-.563-.695-.563-1.695 0-1.399.993-2.211 1-.813 2.734-.813 1.742 0 2.734.813.993.812.993 2.21 0 1-.57 1.696-.563.695-1.571.945 1.14.266 1.773 1.04.641.773.641 1.89 0 1.695-1.04 2.602-1.03.906-2.96.906t-2.969-.906Q6 26.738 6 25.043q0-1.117.64-1.89.641-.774 1.782-1.04zm-.578-2.492q0 .906.562 1.414.57.508 1.594.508 1.016 0 1.586-.508.578-.508.578-1.414 0-.906-.578-1.414-.57-.508-1.586-.508-1.023 0-1.594.508-.562.508-.562 1.414z\" /></g><rect x=\"15\" y=\"330\" width=\"45\" height=\"45\" class=\"square dark a1\" stroke=\"none\" fill=\"#d18b47\" /><rect x=\"60\" y=\"330\" width=\"45\" height=\"45\" class=\"square light b1\" stroke=\"none\" fill=\"#ffce9e\" /><rect x=\"105\" y=\"330\" width=\"45\" height=\"45\" class=\"square dark c1\" stroke=\"none\" fill=\"#d18b47\" /><rect x=\"150\" y=\"330\" width=\"45\" height=\"45\" class=\"square light d1\" stroke=\"none\" fill=\"#ffce9e\" /><rect x=\"195\" y=\"330\" width=\"45\" height=\"45\" class=\"square dark e1\" stroke=\"none\" fill=\"#d18b47\" /><rect x=\"240\" y=\"330\" width=\"45\" height=\"45\" class=\"square light f1\" stroke=\"none\" fill=\"#ffce9e\" /><rect x=\"285\" y=\"330\" width=\"45\" height=\"45\" class=\"square dark g1\" stroke=\"none\" fill=\"#d18b47\" /><rect x=\"330\" y=\"330\" width=\"45\" height=\"45\" class=\"square light h1\" stroke=\"none\" fill=\"#ffce9e\" /><rect x=\"15\" y=\"285\" width=\"45\" height=\"45\" class=\"square light a2\" stroke=\"none\" fill=\"#ffce9e\" /><rect x=\"60\" y=\"285\" width=\"45\" height=\"45\" class=\"square dark b2\" stroke=\"none\" fill=\"#d18b47\" /><rect x=\"105\" y=\"285\" width=\"45\" height=\"45\" class=\"square light c2\" stroke=\"none\" fill=\"#ffce9e\" /><rect x=\"150\" y=\"285\" width=\"45\" height=\"45\" class=\"square dark d2\" stroke=\"none\" fill=\"#d18b47\" /><rect x=\"195\" y=\"285\" width=\"45\" height=\"45\" class=\"square light e2\" stroke=\"none\" fill=\"#ffce9e\" /><rect x=\"240\" y=\"285\" width=\"45\" height=\"45\" class=\"square dark f2\" stroke=\"none\" fill=\"#d18b47\" /><rect x=\"285\" y=\"285\" width=\"45\" height=\"45\" class=\"square light g2\" stroke=\"none\" fill=\"#ffce9e\" /><rect x=\"330\" y=\"285\" width=\"45\" height=\"45\" class=\"square dark h2\" stroke=\"none\" fill=\"#d18b47\" /><rect x=\"15\" y=\"240\" width=\"45\" height=\"45\" class=\"square dark a3\" stroke=\"none\" fill=\"#d18b47\" /><rect x=\"60\" y=\"240\" width=\"45\" height=\"45\" class=\"square light b3\" stroke=\"none\" fill=\"#ffce9e\" /><rect x=\"105\" y=\"240\" width=\"45\" height=\"45\" class=\"square dark c3\" stroke=\"none\" fill=\"#d18b47\" /><rect x=\"150\" y=\"240\" width=\"45\" height=\"45\" class=\"square light d3\" stroke=\"none\" fill=\"#ffce9e\" /><rect x=\"195\" y=\"240\" width=\"45\" height=\"45\" class=\"square dark e3\" stroke=\"none\" fill=\"#d18b47\" /><rect x=\"240\" y=\"240\" width=\"45\" height=\"45\" class=\"square light f3\" stroke=\"none\" fill=\"#ffce9e\" /><rect x=\"285\" y=\"240\" width=\"45\" height=\"45\" class=\"square dark g3\" stroke=\"none\" fill=\"#d18b47\" /><rect x=\"330\" y=\"240\" width=\"45\" height=\"45\" class=\"square light h3\" stroke=\"none\" fill=\"#ffce9e\" /><rect x=\"15\" y=\"195\" width=\"45\" height=\"45\" class=\"square light a4\" stroke=\"none\" fill=\"#ffce9e\" /><rect x=\"60\" y=\"195\" width=\"45\" height=\"45\" class=\"square dark b4\" stroke=\"none\" fill=\"#d18b47\" /><rect x=\"105\" y=\"195\" width=\"45\" height=\"45\" class=\"square light c4\" stroke=\"none\" fill=\"#ffce9e\" /><rect x=\"150\" y=\"195\" width=\"45\" height=\"45\" class=\"square dark d4\" stroke=\"none\" fill=\"#d18b47\" /><rect x=\"195\" y=\"195\" width=\"45\" height=\"45\" class=\"square light e4\" stroke=\"none\" fill=\"#ffce9e\" /><rect x=\"240\" y=\"195\" width=\"45\" height=\"45\" class=\"square dark f4\" stroke=\"none\" fill=\"#d18b47\" /><rect x=\"285\" y=\"195\" width=\"45\" height=\"45\" class=\"square light g4\" stroke=\"none\" fill=\"#ffce9e\" /><rect x=\"330\" y=\"195\" width=\"45\" height=\"45\" class=\"square dark h4\" stroke=\"none\" fill=\"#d18b47\" /><rect x=\"15\" y=\"150\" width=\"45\" height=\"45\" class=\"square dark a5\" stroke=\"none\" fill=\"#d18b47\" /><rect x=\"60\" y=\"150\" width=\"45\" height=\"45\" class=\"square light b5\" stroke=\"none\" fill=\"#ffce9e\" /><rect x=\"105\" y=\"150\" width=\"45\" height=\"45\" class=\"square dark c5\" stroke=\"none\" fill=\"#d18b47\" /><rect x=\"150\" y=\"150\" width=\"45\" height=\"45\" class=\"square light d5\" stroke=\"none\" fill=\"#ffce9e\" /><rect x=\"195\" y=\"150\" width=\"45\" height=\"45\" class=\"square dark e5\" stroke=\"none\" fill=\"#d18b47\" /><rect x=\"240\" y=\"150\" width=\"45\" height=\"45\" class=\"square light f5\" stroke=\"none\" fill=\"#ffce9e\" /><rect x=\"285\" y=\"150\" width=\"45\" height=\"45\" class=\"square dark g5\" stroke=\"none\" fill=\"#d18b47\" /><rect x=\"330\" y=\"150\" width=\"45\" height=\"45\" class=\"square light h5\" stroke=\"none\" fill=\"#ffce9e\" /><rect x=\"15\" y=\"105\" width=\"45\" height=\"45\" class=\"square light a6\" stroke=\"none\" fill=\"#ffce9e\" /><rect x=\"60\" y=\"105\" width=\"45\" height=\"45\" class=\"square dark b6\" stroke=\"none\" fill=\"#d18b47\" /><rect x=\"105\" y=\"105\" width=\"45\" height=\"45\" class=\"square light c6\" stroke=\"none\" fill=\"#ffce9e\" /><rect x=\"150\" y=\"105\" width=\"45\" height=\"45\" class=\"square dark d6\" stroke=\"none\" fill=\"#d18b47\" /><rect x=\"195\" y=\"105\" width=\"45\" height=\"45\" class=\"square light e6\" stroke=\"none\" fill=\"#ffce9e\" /><rect x=\"240\" y=\"105\" width=\"45\" height=\"45\" class=\"square dark f6\" stroke=\"none\" fill=\"#d18b47\" /><rect x=\"285\" y=\"105\" width=\"45\" height=\"45\" class=\"square light g6\" stroke=\"none\" fill=\"#ffce9e\" /><rect x=\"330\" y=\"105\" width=\"45\" height=\"45\" class=\"square dark h6\" stroke=\"none\" fill=\"#d18b47\" /><rect x=\"15\" y=\"60\" width=\"45\" height=\"45\" class=\"square dark a7\" stroke=\"none\" fill=\"#d18b47\" /><rect x=\"60\" y=\"60\" width=\"45\" height=\"45\" class=\"square light b7\" stroke=\"none\" fill=\"#ffce9e\" /><rect x=\"105\" y=\"60\" width=\"45\" height=\"45\" class=\"square dark c7\" stroke=\"none\" fill=\"#d18b47\" /><rect x=\"150\" y=\"60\" width=\"45\" height=\"45\" class=\"square light d7\" stroke=\"none\" fill=\"#ffce9e\" /><rect x=\"195\" y=\"60\" width=\"45\" height=\"45\" class=\"square dark lastmove e7\" stroke=\"none\" fill=\"#aaa23b\" /><rect x=\"240\" y=\"60\" width=\"45\" height=\"45\" class=\"square light f7\" stroke=\"none\" fill=\"#ffce9e\" /><rect x=\"285\" y=\"60\" width=\"45\" height=\"45\" class=\"square dark lastmove g7\" stroke=\"none\" fill=\"#aaa23b\" /><rect x=\"330\" y=\"60\" width=\"45\" height=\"45\" class=\"square light h7\" stroke=\"none\" fill=\"#ffce9e\" /><rect x=\"15\" y=\"15\" width=\"45\" height=\"45\" class=\"square light a8\" stroke=\"none\" fill=\"#ffce9e\" /><rect x=\"60\" y=\"15\" width=\"45\" height=\"45\" class=\"square dark b8\" stroke=\"none\" fill=\"#d18b47\" /><rect x=\"105\" y=\"15\" width=\"45\" height=\"45\" class=\"square light c8\" stroke=\"none\" fill=\"#ffce9e\" /><rect x=\"150\" y=\"15\" width=\"45\" height=\"45\" class=\"square dark d8\" stroke=\"none\" fill=\"#d18b47\" /><rect x=\"195\" y=\"15\" width=\"45\" height=\"45\" class=\"square light e8\" stroke=\"none\" fill=\"#ffce9e\" /><rect x=\"240\" y=\"15\" width=\"45\" height=\"45\" class=\"square dark f8\" stroke=\"none\" fill=\"#d18b47\" /><rect x=\"285\" y=\"15\" width=\"45\" height=\"45\" class=\"square light g8\" stroke=\"none\" fill=\"#ffce9e\" /><rect x=\"330\" y=\"15\" width=\"45\" height=\"45\" class=\"square dark h8\" stroke=\"none\" fill=\"#d18b47\" /><rect x=\"195\" y=\"15\" width=\"45\" height=\"45\" class=\"check\" fill=\"url(#check_gradient)\" /><use href=\"#black-bishop\" xlink:href=\"#black-bishop\" transform=\"translate(195, 105)\" /><use href=\"#white-king\" xlink:href=\"#white-king\" transform=\"translate(240, 105)\" /><use href=\"#white-queen\" xlink:href=\"#white-queen\" transform=\"translate(195, 60)\" /><use href=\"#black-king\" xlink:href=\"#black-king\" transform=\"translate(195, 15)\" /></svg>"
     },
     "metadata": {},
     "output_type": "display_data"
    }
   ]
  },
  {
   "cell_type": "markdown",
   "source": "# Conclusion",
   "metadata": {
    "tags": [],
    "is_collapsed": false,
    "cell_id": "00029-67c19237-db5d-49e5-8496-2b1abdb3c697",
    "deepnote_cell_type": "text-cell-h1"
   }
  },
  {
   "cell_type": "markdown",
   "source": "It has been a lot of fun working on our engine, and we think it's quite decent! However, there are still a LOT of ways to improve it. First of all,  the engine struggles when using depths above 3. It can take up to 6 minutes of calculations of the next move on depth 4! We could improve it by using more pruning techniques to reduce our search space.",
   "metadata": {
    "tags": [],
    "is_collapsed": false,
    "cell_id": "00133-7dea3a72-bd00-4693-b9a6-bed35da2d59a",
    "deepnote_cell_type": "text-cell-p"
   }
  },
  {
   "cell_type": "markdown",
   "source": "Another problem is  the The engine can't explore an infinite amount of moves, it has to have some sort of limitation. Because of that, it has to stop at a certain depth (in our engine, it's 3-4 at the moment). But what if the next move actually worsens the position? The engine won't have any clue about that. This problem is called the horizon effect. A way to counteract this problem is by employing a search technique called quiescence search. This solves this problem by only searching capture moves after reaching the leaf, and making sure that no significant captures can be made to worsen the position dramatically. This makes sure the search stops at \"quiet\" positions where unexpected moves are unlikely to happen. The search can also be pruned to reduce the search space further. We tried to implement it, but we encountered some problems and decided that it wasn't worth it for the time being.",
   "metadata": {
    "tags": [],
    "is_collapsed": false,
    "cell_id": "00134-84d7778a-d961-42c8-ba09-f3812c9a6e18",
    "deepnote_cell_type": "text-cell-p"
   }
  },
  {
   "cell_type": "markdown",
   "source": "Furthermore, We would've liked to be more accurate in our evaluation function by considering the mobility of pieces, an integral concept of the game of chess.",
   "metadata": {
    "tags": [],
    "is_collapsed": false,
    "cell_id": "00135-faf4a479-e09d-4969-ae5e-35b61b7ec2d1",
    "deepnote_cell_type": "text-cell-p"
   }
  },
  {
   "cell_type": "markdown",
   "source": "We've learned a lot about chess from writing this engine, and realized how complex chess engines truly are. We've gained a new insight on chess, which makes us think chess engines of today are even more impressive than we previously thought.",
   "metadata": {
    "tags": [],
    "is_collapsed": false,
    "cell_id": "00136-8d1e7310-af5b-41bf-af4b-d7baa1c900b0",
    "deepnote_cell_type": "text-cell-p"
   }
  },
  {
   "cell_type": "markdown",
   "source": "## Personal reflection",
   "metadata": {
    "tags": [],
    "is_collapsed": false,
    "cell_id": "00130-282b33c0-f23c-413b-b667-1660d07ef450",
    "deepnote_cell_type": "text-cell-h2"
   }
  },
  {
   "cell_type": "markdown",
   "source": "### Shahar",
   "metadata": {
    "tags": [],
    "is_collapsed": false,
    "cell_id": "00131-4e81052d-071c-4812-b412-9098ec356967",
    "deepnote_cell_type": "text-cell-h3"
   }
  },
  {
   "cell_type": "markdown",
   "source": "Chess is one of my favorite games, which I have played for a long, long time. Knowing how interesting and integral chess is in the world of data science and artificial intelligence, I had decided to build a chess engine in this course before the semester even started. Ron and I decided to take this course together, since we knew each other for a while and both of us were interested in learning more about the world of data science. After discussing with each other, Ron agreed to join me on this project. ",
   "metadata": {
    "tags": [],
    "is_collapsed": false,
    "cell_id": "00132-46742590-971f-44c7-8a2c-506dced9dfaf",
    "deepnote_cell_type": "text-cell-p"
   }
  },
  {
   "cell_type": "markdown",
   "source": "Researching and programming something I love that interests me, and learning a variety of new things has been very fun and satisfactory. Even though we faced many challenges, such as deciding what and how to cluster our data, something that took us quite a while and a lot of research, or our long debug sessions of the engine, it still felt good and rewarding to complete a project of this size and seeing it working right infront of you - and even playing against it! ",
   "metadata": {
    "tags": [],
    "is_collapsed": false,
    "cell_id": "00133-4f207a13-7f64-4e16-908e-3e5bb28e3fd1",
    "deepnote_cell_type": "text-cell-p"
   }
  },
  {
   "cell_type": "markdown",
   "source": "I'm very pleased that I decided to take this course, and that I did it alongside Ron, who has been a great partner with whom I worked for so many hours straight using voice chat. My experience with Dr. Idan Alter has been great - he was of great help and a great communicator. Overall. I definitely think this project got me more interested in the world of data science, and I have no doubt it won't be my last project in this field.",
   "metadata": {
    "tags": [],
    "is_collapsed": false,
    "cell_id": "00134-91c2778f-c546-41e7-be7b-d137c905e1de",
    "deepnote_cell_type": "text-cell-p"
   }
  },
  {
   "cell_type": "markdown",
   "source": "### Ron",
   "metadata": {
    "tags": [],
    "is_collapsed": false,
    "cell_id": "00132-cb6f70fa-1c32-40ec-9605-b97adcf266be",
    "deepnote_cell_type": "text-cell-h3"
   }
  },
  {
   "cell_type": "markdown",
   "source": "During the \"chess boom\" of the pandemic, I have started to grow an interest in chess. I was also really interested in the worlds of artificial intelligence and data science. Upon learning Shahar was taking the course alongside me, we decided to be partners for this project. Since we had similar interests, it was  a no-brainer to create a chess engine and have our project centered around chess.",
   "metadata": {
    "tags": [],
    "is_collapsed": false,
    "cell_id": "00134-b97a97bd-649e-4cda-9e29-2f6e230d5a24",
    "deepnote_cell_type": "text-cell-p"
   }
  },
  {
   "cell_type": "markdown",
   "source": "The EDA process was a lot of fun. I had learned alot about the game from the observations we made, and was extremely intruiged by our clustering results. As for the chess engine, I was a bit less stoked for it than the EDA because of my inexperience with Python and my general dislike of it. However I did learn some new algorithmic techniques and got more experience in a language that is undoubtedly important in the worlds of AI and data science.",
   "metadata": {
    "tags": [],
    "is_collapsed": false,
    "cell_id": "00144-9b0868fa-0c5b-448c-8c29-618525458290",
    "deepnote_cell_type": "text-cell-p"
   }
  },
  {
   "cell_type": "markdown",
   "source": "# Useful links",
   "metadata": {
    "tags": [],
    "is_collapsed": false,
    "cell_id": "00127-2e55a5b1-e6be-44aa-aa06-fd8867034c42",
    "deepnote_cell_type": "text-cell-h1"
   }
  },
  {
   "cell_type": "markdown",
   "source": "Chess games from 12 top players - https://www.kaggle.com/liury123/chess-game-from-12-top-players?select=game_data.csv",
   "metadata": {
    "tags": [],
    "is_collapsed": false,
    "cell_id": "00128-ad5efffe-c4aa-4ece-89f9-d6fb69eb67b1",
    "deepnote_cell_type": "text-cell-p"
   }
  },
  {
   "cell_type": "markdown",
   "source": "PGN files for top players - http://www.pgnmentor.com/files.html",
   "metadata": {
    "tags": [],
    "is_collapsed": false,
    "cell_id": "00141-0746db2d-cb8c-4c4b-a9ac-959a4cc251eb",
    "deepnote_cell_type": "text-cell-p"
   }
  },
  {
   "cell_type": "markdown",
   "source": "6 million chess games - https://www.kaggle.com/arevel/chess-games",
   "metadata": {
    "tags": [],
    "is_collapsed": false,
    "cell_id": "00142-a52ab08f-c472-429f-af26-174a5e4e1d45",
    "deepnote_cell_type": "text-cell-p"
   }
  },
  {
   "cell_type": "markdown",
   "source": "<a style='text-decoration:none;line-height:16px;display:flex;color:#5B5B62;padding:10px;justify-content:end;' href='https://deepnote.com?utm_source=created-in-deepnote-cell&projectId=ec101756-a613-4800-9f11-98dbf57dca8c' target=\"_blank\">\n<img alt='Created in deepnote.com' style='display:inline;max-height:16px;margin:0px;margin-right:7.5px;' src='data:image/svg+xml;base64,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' > </img>\nCreated in <span style='font-weight:600;margin-left:4px;'>Deepnote</span></a>",
   "metadata": {
    "tags": [],
    "created_in_deepnote_cell": true,
    "deepnote_cell_type": "markdown"
   }
  }
 ],
 "nbformat": 4,
 "nbformat_minor": 2,
 "metadata": {
  "deepnoteSessionId": "dea8a0f5-35e3-4468-94eb-804ff5fc7baa",
  "kernelspec": {
   "display_name": "Python 3",
   "language": "python",
   "name": "python3"
  },
  "language_info": {
   "codemirror_mode": {
    "name": "ipython",
    "version": 3
   },
   "file_extension": ".py",
   "mimetype": "text/x-python",
   "name": "python",
   "nbconvert_exporter": "python",
   "pygments_lexer": "ipython3",
   "version": "3.7.5"
  },
  "deepnote_execution_queue": [],
  "deepnote_notebook_id": "b3080d91-bd31-41be-bbfd-d7c0f1a135f9",
  "deepnote": {}
 }
}